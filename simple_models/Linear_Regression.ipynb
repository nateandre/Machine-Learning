{
 "cells": [
  {
   "cell_type": "markdown",
   "metadata": {},
   "source": [
    "## This notebook will be focused on using gradient descent to solve simple linear regression and multivariate regression problems\n",
    "\n",
    "Note: This notebook is for educational purposes as using normal equations would be a superior approach to solving the optimization problem for the datasets that I use in this notebook."
   ]
  },
  {
   "cell_type": "code",
   "execution_count": 1,
   "metadata": {},
   "outputs": [],
   "source": [
    "import numpy as np\n",
    "from sklearn.linear_model import LinearRegression  # Used for validation\n",
    "from sklearn import datasets\n",
    "import random\n",
    "import matplotlib.pyplot as plt\n",
    "import pandas as pd\n",
    "import latex\n",
    "\n",
    "%matplotlib inline\n",
    "import warnings\n",
    "warnings.filterwarnings('ignore')"
   ]
  },
  {
   "cell_type": "code",
   "execution_count": 2,
   "metadata": {},
   "outputs": [],
   "source": [
    "import time\n",
    "from sklearn.metrics import mean_squared_error"
   ]
  },
  {
   "cell_type": "markdown",
   "metadata": {},
   "source": [
    "### Initially this notebook will be focused on simple linear regression"
   ]
  },
  {
   "cell_type": "code",
   "execution_count": 3,
   "metadata": {},
   "outputs": [],
   "source": [
    "# Will be using the diabetes dataset with a single predictor.\n",
    "diabetes = datasets.load_diabetes()\n",
    "X = diabetes.data[:, np.newaxis, 2]\n",
    "y = diabetes.target"
   ]
  },
  {
   "cell_type": "code",
   "execution_count": 4,
   "metadata": {},
   "outputs": [
    {
     "name": "stdout",
     "output_type": "stream",
     "text": [
      "R^2: 0.3439237602253803\n",
      "Coefs: [949.43526038]\n",
      "Intercept: 152.1334841628967\n"
     ]
    }
   ],
   "source": [
    "# Using sklearn's linear regression to determine the ideal output of my implementation\n",
    "lr = LinearRegression()\n",
    "lr.fit(X, y)\n",
    "predictedVals = lr.predict(X)\n",
    "\n",
    "print(\"R^2: \" + str(lr.score(X, y)))\n",
    "print(\"Coefs: \" + str(lr.coef_))\n",
    "print(\"Intercept: \" + str(lr.intercept_))"
   ]
  },
  {
   "cell_type": "code",
   "execution_count": 5,
   "metadata": {},
   "outputs": [
    {
     "data": {
      "text/plain": [
       "3890.4565854612724"
      ]
     },
     "execution_count": 5,
     "metadata": {},
     "output_type": "execute_result"
    }
   ],
   "source": [
    "# Mean squared error to compare to in the future\n",
    "mean_squared_error(y, predictedVals)"
   ]
  },
  {
   "cell_type": "code",
   "execution_count": 6,
   "metadata": {},
   "outputs": [
    {
     "data": {
      "image/png": "[encoded data removed]",
      "text/plain": [
       "<Figure size 432x288 with 1 Axes>"
      ]
     },
     "metadata": {},
     "output_type": "display_data"
    }
   ],
   "source": [
    "plt.scatter(X, y)\n",
    "plt.plot(X, predictedVals, color=\"black\")\n",
    "plt.title(\"Diabetes Linear Regression\")\n",
    "plt.xlabel(\"predictor\")\n",
    "plt.ylabel(\"y value\")\n",
    "plt.show()"
   ]
  },
  {
   "cell_type": "markdown",
   "metadata": {},
   "source": [
    "### In order to implement gradient descent, we must have a cost function with incorporates the weight and bias terms\n",
    "\n",
    "I will be experimenting with a numpy based implementation and a for loop implementation and seeing if there is any significant time difference in how long it takes for the functions to run. The numpy implementation is over 10x faster."
   ]
  },
  {
   "cell_type": "markdown",
   "metadata": {},
   "source": [
    "- N: number of observations, (mx<sub>i</sub> + b) is the prediction \n",
    "$$MSE = \\frac{1}{N}\\sum_{i=1}^{n}(y_i - (mx_i + b))^2 $$"
   ]
  },
  {
   "cell_type": "code",
   "execution_count": 7,
   "metadata": {},
   "outputs": [],
   "source": [
    "# Ensuring the shapes of the arrays are correct\n",
    "# Note: if y is of the wrong shape, it messes up future equations which don't rely on for loops\n",
    "y0 = y.shape[0]\n",
    "x0 = X.shape[0]\n",
    "y.shape = (y0,1)\n",
    "X.shape = (x0,1)"
   ]
  },
  {
   "cell_type": "code",
   "execution_count": 8,
   "metadata": {},
   "outputs": [],
   "source": [
    "# Cost function with numpy\n",
    "def get_cost(X, y, weight, bias):\n",
    "    total_error = np.average((y-(X*weight+bias))**2)\n",
    "    # total_error = np.mean((y-(weight*X+bias))**2)\n",
    "    return total_error"
   ]
  },
  {
   "cell_type": "code",
   "execution_count": 9,
   "metadata": {},
   "outputs": [],
   "source": [
    "# Cost function with a for loop\n",
    "def cost_function(X, y, weight, bias):\n",
    "    total = len(X)\n",
    "    total_error = 0.0\n",
    "    for i in range(total):\n",
    "        total_error += (y[i] - (weight*X[i] + bias))**2\n",
    "    return total_error / total"
   ]
  },
  {
   "cell_type": "code",
   "execution_count": 10,
   "metadata": {},
   "outputs": [],
   "source": [
    "# Testing the cost function implementation with random terms\n",
    "weight = 3.1245\n",
    "weight_arr = np.array([weight])\n",
    "weight_arr.shape = (1,1)\n",
    "bias = 0.0134\n",
    "bias_arr = np.array(bias)\n",
    "bias_arr.shape = (1,1)"
   ]
  },
  {
   "cell_type": "code",
   "execution_count": 11,
   "metadata": {},
   "outputs": [
    {
     "name": "stdout",
     "output_type": "stream",
     "text": [
      "Took:  0.00028799999999984394\n"
     ]
    },
    {
     "data": {
      "text/plain": [
       "29057.003865438077"
      ]
     },
     "execution_count": 11,
     "metadata": {},
     "output_type": "execute_result"
    }
   ],
   "source": [
    "start = time.clock()\n",
    "parallel_cost = get_cost(X,y,weight_arr,bias_arr)\n",
    "how_long = time.clock() - start\n",
    "print(\"Took: \", how_long)\n",
    "parallel_cost"
   ]
  },
  {
   "cell_type": "code",
   "execution_count": 12,
   "metadata": {},
   "outputs": [
    {
     "name": "stdout",
     "output_type": "stream",
     "text": [
      "Took:  0.0026760000000001227\n"
     ]
    },
    {
     "data": {
      "text/plain": [
       "array([29057.00386544])"
      ]
     },
     "execution_count": 12,
     "metadata": {},
     "output_type": "execute_result"
    }
   ],
   "source": [
    "start = time.clock()\n",
    "normal_cost = cost_function(X,y,weight,bias)\n",
    "how_long1 = time.clock() - start\n",
    "print(\"Took: \", how_long1)\n",
    "normal_cost"
   ]
  },
  {
   "cell_type": "markdown",
   "metadata": {},
   "source": [
    "### Creating functions to update the weights and bias terms using gradient descent\n",
    "\n",
    "Yet again, I will be comparing two implementations of an update_weight function, one using numpy and the other using a for loop to determine if there is a difference in performance. Within the update_weight for loop function, I will also be using the for loop implementation of mse."
   ]
  },
  {
   "cell_type": "markdown",
   "metadata": {},
   "source": [
    "$$ f(m,b) = \\frac{1}{N}\\sum_{i=1}^{n}(y_i-(mx_i-b))^2$$\n",
    "\n",
    "$$ f^\\prime(m,b) = \\begin{split} & \\frac{df}{dm} = \\bigg[\\frac{1}{N}\\sum-2x_i(y_i-(mx_i+b))\\bigg] \n",
    "\\\\ & \\frac{df}{db} = \\bigg[\\frac{1}{N}\\sum-2(y_i-(mx_i+b))\\bigg] \\end{split} $$"
   ]
  },
  {
   "cell_type": "code",
   "execution_count": 13,
   "metadata": {},
   "outputs": [],
   "source": [
    "# Updating the weights, without any normalization or optimization, using numpy\n",
    "def update_weights(X, y, weight, bias, lr=0.01):\n",
    "    df_dm = (1/len(X)) * np.dot((-2*X).T, (y-(weight*X+bias)))\n",
    "    df_db = np.average(-2*(y-(weight*X+bias)))\n",
    "    weight = weight - (lr*df_dm)\n",
    "    bias = bias - (lr*df_db)\n",
    "    return weight,bias"
   ]
  },
  {
   "cell_type": "code",
   "execution_count": 14,
   "metadata": {},
   "outputs": [],
   "source": [
    "def get_new_weights(X, y, weight, bias, learning_rate=0.01):\n",
    "    weight_deriv = 0\n",
    "    bias_deriv = 0\n",
    "    total = len(X)\n",
    "    for i in range(total):\n",
    "        # -2x(y - (mx + b))\n",
    "        weight_deriv += -2*X[i] * (y[i] - (weight*X[i] + bias))\n",
    "        # -2(y - (mx + b))\n",
    "        bias_deriv += -2*(y[i] - (weight*X[i] + bias))\n",
    "        \n",
    "    weight -= (weight_deriv / total) * learning_rate\n",
    "    bias -= (bias_deriv / total) * learning_rate\n",
    "\n",
    "    return weight, bias"
   ]
  },
  {
   "cell_type": "code",
   "execution_count": 15,
   "metadata": {},
   "outputs": [],
   "source": [
    "# Parameters set for parameter update function testing\n",
    "# The numpy implementation was around 3x faster\n",
    "weight = 10.2345\n",
    "bias = 6.245"
   ]
  },
  {
   "cell_type": "code",
   "execution_count": 16,
   "metadata": {},
   "outputs": [
    {
     "name": "stdout",
     "output_type": "stream",
     "text": [
      "Using Numpy: \n",
      "Weight: [[10.27699777]], Bias: 9.162769683257919\n",
      "Took:  0.00043700000000024275\n"
     ]
    }
   ],
   "source": [
    "start = time.clock()\n",
    "weight1,bias1 = update_weights(X, y, weight, bias)\n",
    "took = time.clock() - start\n",
    "print(\"Using Numpy: \")\n",
    "print(\"Weight: {}, Bias: {}\".format(weight1,bias1))\n",
    "print(\"Took: \", took)"
   ]
  },
  {
   "cell_type": "code",
   "execution_count": 17,
   "metadata": {},
   "outputs": [
    {
     "name": "stdout",
     "output_type": "stream",
     "text": [
      "Using For Loop: \n",
      "Weight: [10.27699777], Bias: [9.16276968]\n",
      "Took:  0.006008999999999709\n"
     ]
    }
   ],
   "source": [
    "start = time.clock()\n",
    "weight2,bias2 = get_new_weights(X, y, weight, bias)\n",
    "took = time.clock() - start\n",
    "print(\"Using For Loop: \")\n",
    "print(\"Weight: {}, Bias: {}\".format(weight2,bias2))\n",
    "print(\"Took: \", took)"
   ]
  },
  {
   "cell_type": "markdown",
   "metadata": {},
   "source": [
    "### Creating a optimization loop which will update the bias and weight parameters \n",
    "\n",
    "I will be writing two training functions, one using the update_weight function that utilizes numpy and another that uses a simple for loop to update bias and weight terms. The numpy implementation is over 100x faster."
   ]
  },
  {
   "cell_type": "code",
   "execution_count": 18,
   "metadata": {},
   "outputs": [],
   "source": [
    "# Initializing weight and bias terms  \n",
    "Weight = 0\n",
    "Bias = 0"
   ]
  },
  {
   "cell_type": "code",
   "execution_count": 19,
   "metadata": {},
   "outputs": [],
   "source": [
    "# Training using the numpy update_weights function\n",
    "def train_numpy(X, y, weight, bias, iters, lr=0.01):\n",
    "    cost = []\n",
    "    for i in range(iters):\n",
    "        weight, bias = update_weights(X, y, weight, bias, lr)\n",
    "        a_cost = get_cost(X, y, weight, bias)\n",
    "        cost.append(a_cost)\n",
    "\n",
    "    return cost, weight, bias"
   ]
  },
  {
   "cell_type": "code",
   "execution_count": 20,
   "metadata": {},
   "outputs": [],
   "source": [
    "# Training using the for loop update_weights function\n",
    "def train_for(X, y, weight, bias, iters, lr=0.01):\n",
    "    cost = []\n",
    "    for i in range(iters):\n",
    "        weight, bias = get_new_weights(X, y, weight, bias, lr)\n",
    "        a_cost = cost_function(X, y, weight, bias)\n",
    "        cost.append(a_cost)\n",
    "        \n",
    "    return cost, weight, bias"
   ]
  },
  {
   "cell_type": "code",
   "execution_count": 21,
   "metadata": {
    "scrolled": true
   },
   "outputs": [
    {
     "name": "stdout",
     "output_type": "stream",
     "text": [
      "Took:  0.5513860000000004\n",
      "Weight: [[909.48122399]], Bias: 152.1334841628966\n",
      "End cost:  3894.0681805389795\n"
     ]
    }
   ],
   "source": [
    "# Not using the forloop made optimization around 3x faster\n",
    "now_time = time.clock()\n",
    "numpy_cost,numpy_weight,numpy_bias = train_numpy(X, y, Weight, Bias, 7000, 0.1)\n",
    "took = time.clock() - now_time\n",
    "print(\"Took: \", took)\n",
    "print(\"Weight: {}, Bias: {}\".format(numpy_weight, numpy_bias))\n",
    "print(\"End cost: \", numpy_cost[-1])"
   ]
  },
  {
   "cell_type": "code",
   "execution_count": 22,
   "metadata": {},
   "outputs": [
    {
     "name": "stdout",
     "output_type": "stream",
     "text": [
      "Took:  47.801306999999994\n",
      "Weight: [909.48122399], Bias: [152.13348416]\n",
      "End cost:  [3894.06818054]\n"
     ]
    }
   ],
   "source": [
    "now_time = time.clock()\n",
    "for_cost,for_weight, for_bias = train_for(X, y, Weight, Bias, 7000, 0.1)\n",
    "took = time.clock() - now_time\n",
    "print(\"Took: \", took)\n",
    "print(\"Weight: {}, Bias: {}\".format(for_weight, for_bias))\n",
    "print(\"End cost: \", for_cost[-1])"
   ]
  },
  {
   "cell_type": "code",
   "execution_count": 23,
   "metadata": {},
   "outputs": [],
   "source": [
    "# For plotting cost against time\n",
    "time_seq = [i for i in range(7000)]"
   ]
  },
  {
   "cell_type": "code",
   "execution_count": 24,
   "metadata": {},
   "outputs": [
    {
     "data": {
      "image/png": "[encoded data removed]",
      "text/plain": [
       "<Figure size 1584x504 with 2 Axes>"
      ]
     },
     "metadata": {},
     "output_type": "display_data"
    }
   ],
   "source": [
    "# Although both implementations have similar end cost, the numpy implementation was over 100x faster\n",
    "plt.figure(figsize=(22,7))\n",
    "plt.subplot(1, 2, 1)\n",
    "plt.plot(time_seq, numpy_cost)\n",
    "plt.title(\"Cost vs Time Using Numpy\")\n",
    "plt.xlabel(\"Step Number\")\n",
    "plt.ylabel(\"Cost\")\n",
    "plt.subplot(1, 2, 2)\n",
    "plt.plot(time_seq, for_cost)\n",
    "plt.title(\"Cost vs Time Using For Loop\")\n",
    "plt.xlabel(\"Step Number\")\n",
    "plt.ylabel(\"Cost\")\n",
    "plt.tight_layout()\n",
    "plt.show()"
   ]
  },
  {
   "cell_type": "markdown",
   "metadata": {},
   "source": [
    "### Now getting the predictions to determine if my model matches the performance of the sklearn linear regression model\n",
    "\n",
    "Overall, the cost function of my simple linear regression model closely matches that of the sklearn model and as such, I believe that my model is just as effective.\n",
    "\n",
    "$$ Prediction = (mx_i + b) $$"
   ]
  },
  {
   "cell_type": "code",
   "execution_count": 25,
   "metadata": {},
   "outputs": [],
   "source": [
    "X_list = list(X)"
   ]
  },
  {
   "cell_type": "code",
   "execution_count": 26,
   "metadata": {},
   "outputs": [],
   "source": [
    "def get_predictions(X, weight, bias):\n",
    "    predictions = []\n",
    "    for i in range(len(X)):\n",
    "        pred = X[i] * weight + bias\n",
    "        predictions.append(pred)\n",
    "    return predictions"
   ]
  },
  {
   "cell_type": "code",
   "execution_count": 27,
   "metadata": {},
   "outputs": [],
   "source": [
    "predictions = get_predictions(X_list, numpy_weight, numpy_bias)\n",
    "predictions_arr = np.array(predictions)"
   ]
  },
  {
   "cell_type": "code",
   "execution_count": 28,
   "metadata": {},
   "outputs": [],
   "source": [
    "# Ensuring predictions is the right shape\n",
    "predictions_arr.shape = (442,1)"
   ]
  },
  {
   "cell_type": "code",
   "execution_count": 29,
   "metadata": {},
   "outputs": [
    {
     "data": {
      "image/png": "[encoded data removed]",
      "text/plain": [
       "<Figure size 432x288 with 1 Axes>"
      ]
     },
     "metadata": {},
     "output_type": "display_data"
    }
   ],
   "source": [
    "plt.scatter(X, y)\n",
    "plt.plot(X, predictions_arr, color=\"black\")\n",
    "plt.title(\"Diabetes Linear Regression\")\n",
    "plt.xlabel(\"predictor\")\n",
    "plt.ylabel(\"y value\")\n",
    "plt.show()"
   ]
  },
  {
   "cell_type": "markdown",
   "metadata": {},
   "source": [
    "## The next section of this notebook will be focused on mulivariate linear regression\n",
    "\n",
    "Similar principles as earlier will be applied to this section of the notebook. Note that given the speed boost we saw earlier from using numpy and matrix algebra, all my new functions will be implementing these concepts."
   ]
  },
  {
   "cell_type": "code",
   "execution_count": 30,
   "metadata": {},
   "outputs": [],
   "source": [
    "# Getting a training set with multiple predictor variables\n",
    "X2 = diabetes.data[:, np.newaxis, 2:5]\n",
    "# Ensuring that the new X data is of the correct shape\n",
    "X2.shape = (442,3)"
   ]
  },
  {
   "cell_type": "code",
   "execution_count": 31,
   "metadata": {},
   "outputs": [
    {
     "name": "stdout",
     "output_type": "stream",
     "text": [
      "R^2: 0.39696922397726697\n",
      "Coefs: [[780.74563174 393.19527108  52.90387802]]\n",
      "Intercept: [152.13348416]\n"
     ]
    }
   ],
   "source": [
    "# Getting a value to compare our model to\n",
    "lr = LinearRegression()\n",
    "lr.fit(X2, y)\n",
    "predictedVals = lr.predict(X2)\n",
    "\n",
    "print(\"R^2: \" + str(lr.score(X2, y)))\n",
    "print(\"Coefs: \" + str(lr.coef_))\n",
    "print(\"Intercept: \" + str(lr.intercept_))"
   ]
  },
  {
   "cell_type": "code",
   "execution_count": 32,
   "metadata": {},
   "outputs": [
    {
     "data": {
      "text/plain": [
       "3575.9030911093523"
      ]
     },
     "execution_count": 32,
     "metadata": {},
     "output_type": "execute_result"
    }
   ],
   "source": [
    "# Mean squared error to compare to in the future\n",
    "mean_squared_error(y, predictedVals)"
   ]
  },
  {
   "cell_type": "code",
   "execution_count": 33,
   "metadata": {},
   "outputs": [],
   "source": [
    "# Setting the new weights for multivariate regression\n",
    "weight2 = np.array([[0], \n",
    "                   [0],\n",
    "                   [0]]) # corresponding with the three variables\n",
    "bias2 = 0"
   ]
  },
  {
   "cell_type": "code",
   "execution_count": 34,
   "metadata": {},
   "outputs": [],
   "source": [
    "# Ensuring shapes are correct\n",
    "assert weight2.shape == (3,1)\n",
    "assert X2.shape == (442,3)\n",
    "assert y.shape == (442,1)"
   ]
  },
  {
   "cell_type": "markdown",
   "metadata": {},
   "source": [
    "### Cost function for multivariate regression\n",
    "$$ MSE = \\frac{1}{2N}\\sum_{i=1}^{n} (y_i - ((W_1x_1 + W_2x_2 + W_3x_3)+b))^2 $$\n",
    "$$ \\begin{split} & f^\\prime(W_1) = -x_1(y-(W_1x_1 + W_2x_2 + W_3x_3+b)) \\\\\n",
    "& f^\\prime(W_2) = -x_2(y-(W_1x_1 + W_2x_2 + W_3x_3+b)) \\\\ \n",
    "& f^\\prime(W_3) = -x_3(y-(W_1x_1 + W_2x_2 + W_3x_3+b)) \\\\\n",
    "& f^\\prime(Bias) = -(y-(W_1x_1 + W_2x_2 + W_3x_3+b) \\end{split} $$"
   ]
  },
  {
   "cell_type": "code",
   "execution_count": 35,
   "metadata": {},
   "outputs": [],
   "source": [
    "# Multivariate Cost function with numpy\n",
    "def get_multi_cost(X, y, weight, bias):\n",
    "    total_error = (1/2) * np.average((y-(np.dot(X,weight)+bias))**2)\n",
    "    return total_error"
   ]
  },
  {
   "cell_type": "code",
   "execution_count": 36,
   "metadata": {},
   "outputs": [
    {
     "data": {
      "text/plain": [
       "14537.240950226244"
      ]
     },
     "execution_count": 36,
     "metadata": {},
     "output_type": "execute_result"
    }
   ],
   "source": [
    "# Testing the cost function\n",
    "acost = get_multi_cost(X2, y, weight2, bias2)\n",
    "acost"
   ]
  },
  {
   "cell_type": "code",
   "execution_count": 37,
   "metadata": {},
   "outputs": [],
   "source": [
    "def update_multi_weights(X, y, weight, bias, lr=0.01):\n",
    "    \"\"\"\n",
    "    weight: shape (1,3)\n",
    "    X: shape(442,3)\n",
    "    y: shape(442,1)\n",
    "    output: shape(3,1)\n",
    "    \"\"\"\n",
    "    df_dm = (1/len(X)) * np.dot((-X.T), (y-(np.dot(X,weight)+bias)))\n",
    "    df_db = np.average(-(y-(np.dot(X,weight)+bias)))\n",
    "    weight = weight - (lr * df_dm)\n",
    "    bias = bias - (lr * df_db)\n",
    "    return weight,bias"
   ]
  },
  {
   "cell_type": "code",
   "execution_count": 38,
   "metadata": {},
   "outputs": [],
   "source": [
    "weight2,bias2 = update_multi_weights(X2,y,weight2,0.1)"
   ]
  },
  {
   "cell_type": "code",
   "execution_count": 39,
   "metadata": {},
   "outputs": [
    {
     "data": {
      "text/plain": [
       "array([[0.02148044],\n",
       "       [0.01617063],\n",
       "       [0.00776594]])"
      ]
     },
     "execution_count": 39,
     "metadata": {},
     "output_type": "execute_result"
    }
   ],
   "source": [
    "assert weight2.shape == (3,1)\n",
    "weight2"
   ]
  },
  {
   "cell_type": "code",
   "execution_count": 40,
   "metadata": {},
   "outputs": [],
   "source": [
    "# Training loop for multivariate regression\n",
    "def train_multi(X, y, weight, bias, iters, lr=0.01):\n",
    "    cost = []\n",
    "    for i in range(iters):\n",
    "        weight,bias = update_multi_weights(X,y,weight,bias,lr)\n",
    "        a_cost = get_multi_cost(X, y, weight,bias)\n",
    "        cost.append(a_cost)\n",
    "\n",
    "    return cost, weight,bias"
   ]
  },
  {
   "cell_type": "code",
   "execution_count": 41,
   "metadata": {},
   "outputs": [],
   "source": [
    "multi_weight = np.array([[0],[0],[0]])\n",
    "multi_bias = 0\n",
    "assert multi_weight.shape == (3,1)"
   ]
  },
  {
   "cell_type": "code",
   "execution_count": 42,
   "metadata": {},
   "outputs": [],
   "source": [
    "cost,multi_weight,multi_bias = train_multi(X2, y, multi_weight, multi_bias, 17000, 0.1)"
   ]
  },
  {
   "cell_type": "code",
   "execution_count": 43,
   "metadata": {},
   "outputs": [],
   "source": [
    "time_multi = [i for i in range(17000)]"
   ]
  },
  {
   "cell_type": "code",
   "execution_count": 44,
   "metadata": {},
   "outputs": [
    {
     "data": {
      "image/png": "[encoded data removed]",
      "text/plain": [
       "<Figure size 432x288 with 1 Axes>"
      ]
     },
     "metadata": {},
     "output_type": "display_data"
    }
   ],
   "source": [
    "plt.plot(time_multi, cost)\n",
    "plt.title(\"Cost vs Time for Multivariate Regression\")\n",
    "plt.xlabel(\"Step Number\")\n",
    "plt.ylabel(\"Cost\")\n",
    "plt.show()"
   ]
  },
  {
   "cell_type": "code",
   "execution_count": 45,
   "metadata": {},
   "outputs": [
    {
     "name": "stdout",
     "output_type": "stream",
     "text": [
      "Final cost: 3577.4637162915665\n",
      "Should be around: 3575.9030911093523\n"
     ]
    }
   ],
   "source": [
    "# These two cost values should be very similar\n",
    "print(\"Final cost:\", cost[-1]*2) # note - multiplied by 2 b/c my cost has an additional 1/2 factor\n",
    "print(\"Should be around:\", mean_squared_error(y, predictedVals))"
   ]
  },
  {
   "cell_type": "code",
   "execution_count": 46,
   "metadata": {},
   "outputs": [
    {
     "data": {
      "text/plain": [
       "array([[754.42023889],\n",
       "       [405.11293856],\n",
       "       [ 67.38031489]])"
      ]
     },
     "execution_count": 46,
     "metadata": {},
     "output_type": "execute_result"
    }
   ],
   "source": [
    "# This is compared to [[780.74563174 393.19527108  52.90387802]]\n",
    "multi_weight"
   ]
  },
  {
   "cell_type": "code",
   "execution_count": 47,
   "metadata": {},
   "outputs": [
    {
     "data": {
      "text/plain": [
       "152.13348416289637"
      ]
     },
     "execution_count": 47,
     "metadata": {},
     "output_type": "execute_result"
    }
   ],
   "source": [
    "# This is compared to [152.13348416]\n",
    "multi_bias"
   ]
  },
  {
   "cell_type": "markdown",
   "metadata": {},
   "source": [
    "### Finally, I will normalize my input data to see if it affects my cost in any way\n",
    "\n",
    "$$ x_i = \\frac{x_i - mean(X)}{max(X)-min(X)} $$"
   ]
  },
  {
   "cell_type": "code",
   "execution_count": 48,
   "metadata": {},
   "outputs": [],
   "source": [
    "def normalize(X):\n",
    "    for feat in X.T:\n",
    "        mean = np.mean(feat)\n",
    "        rang = np.max(feat) - np.min(feat)\n",
    "        feat = (feat - mean) / rang\n",
    "    return X"
   ]
  },
  {
   "cell_type": "code",
   "execution_count": 49,
   "metadata": {},
   "outputs": [
    {
     "name": "stdout",
     "output_type": "stream",
     "text": [
      "Final cost: 3577.4637162915665\n"
     ]
    }
   ],
   "source": [
    "# Getting the cost from using normalized data to see if there is any improvement\n",
    "X2_norm = normalize(X2)\n",
    "multi_bias = 0\n",
    "multi_weight = np.array([[0],[0],[0]])\n",
    "\n",
    "cost,multi_weight,multi_bias = train_multi(X2, y, multi_weight, multi_bias, 17000, 0.1)\n",
    "\n",
    "# There is an insignificant difference from the normalization\n",
    "print(\"Final cost:\",cost[-1]*2)"
   ]
  },
  {
   "cell_type": "code",
   "execution_count": null,
   "metadata": {},
   "outputs": [],
   "source": []
  }
 ],
 "metadata": {
  "kernelspec": {
   "display_name": "Python 3",
   "language": "python",
   "name": "python3"
  },
  "language_info": {
   "codemirror_mode": {
    "name": "ipython",
    "version": 3
   },
   "file_extension": ".py",
   "mimetype": "text/x-python",
   "name": "python",
   "nbconvert_exporter": "python",
   "pygments_lexer": "ipython3",
   "version": "3.6.5"
  }
 },
 "nbformat": 4,
 "nbformat_minor": 2
}
