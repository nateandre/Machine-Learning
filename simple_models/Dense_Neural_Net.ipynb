{
 "cells": [
  {
   "cell_type": "markdown",
   "metadata": {},
   "source": [
    "## In this notebook I will be implementing a dense neural network \n",
    "\n",
    "I will building a simple binary image classification model with a two layer dense neural network with 10 units in each of the hidden layers"
   ]
  },
  {
   "cell_type": "code",
   "execution_count": 1,
   "metadata": {},
   "outputs": [],
   "source": [
    "import numpy as np\n",
    "import matplotlib.pyplot as plt\n",
    "import time\n",
    "import latex\n",
    "import sklearn\n",
    "\n",
    "%matplotlib inline\n",
    "import warnings\n",
    "warnings.filterwarnings('ignore')"
   ]
  },
  {
   "cell_type": "code",
   "execution_count": 2,
   "metadata": {},
   "outputs": [],
   "source": [
    "# Using mnist handwritten digits as data (28 x 28 pixel images)\n",
    "# Note - I will untimately be only using two classes within this dataset\n",
    "from mnist import MNIST\n",
    "mndata = MNIST('../data/dense')\n",
    "\n",
    "images_train, labels_train = mndata.load_training()\n",
    "images_test, labels_test = mndata.load_testing()"
   ]
  },
  {
   "cell_type": "code",
   "execution_count": 3,
   "metadata": {},
   "outputs": [],
   "source": [
    "X_train = np.array(images_train)\n",
    "y_train = np.array(labels_train)\n",
    "X_test = np.array(images_test)\n",
    "y_test = np.array(labels_test)\n",
    "\n",
    "y_train.shape = (60000,1)\n",
    "y_test.shape = (10000,1)"
   ]
  },
  {
   "cell_type": "code",
   "execution_count": 4,
   "metadata": {},
   "outputs": [
    {
     "data": {
      "text/plain": [
       "array([0, 1, 2, 3, 4, 5, 6, 7, 8, 9], dtype=uint8)"
      ]
     },
     "execution_count": 4,
     "metadata": {},
     "output_type": "execute_result"
    }
   ],
   "source": [
    "# Number of unique digits for the overall data set\n",
    "no_uniq = np.unique(y_train)\n",
    "no_uniq"
   ]
  },
  {
   "cell_type": "code",
   "execution_count": 5,
   "metadata": {},
   "outputs": [
    {
     "data": {
      "image/png": "[encoded data removed]",
      "text/plain": [
       "<Figure size 432x288 with 3 Axes>"
      ]
     },
     "metadata": {},
     "output_type": "display_data"
    }
   ],
   "source": [
    "# Examples of 28x28 images\n",
    "example_image1 = np.reshape(np.array(images_train[0]), (28,28))\n",
    "example_image2 = np.reshape(np.array(images_train[1]), (28,28))\n",
    "example_image3 = np.reshape(np.array(images_train[2]), (28,28))\n",
    "f, axarr = plt.subplots(1,3)\n",
    "axarr[0].imshow(example_image1)\n",
    "axarr[1].imshow(example_image2)\n",
    "axarr[2].imshow(example_image3)\n",
    "plt.show()"
   ]
  },
  {
   "cell_type": "code",
   "execution_count": 6,
   "metadata": {},
   "outputs": [
    {
     "name": "stdout",
     "output_type": "stream",
     "text": [
      "Number of training images: 60000\n",
      "Number of testing images: 10000\n",
      "The shape of each number: 784 x 1\n"
     ]
    }
   ],
   "source": [
    "print(\"Number of training images:\", len(images_train))\n",
    "print(\"Number of testing images:\", len(images_test))\n",
    "print(\"The shape of each number: {} x 1\".format(len(images_train[0])))"
   ]
  },
  {
   "cell_type": "markdown",
   "metadata": {},
   "source": [
    "#### Note - As mentioned earlier, I will initially only be keeping two classes"
   ]
  },
  {
   "cell_type": "code",
   "execution_count": 7,
   "metadata": {},
   "outputs": [],
   "source": [
    "# Creating a mask to extract my two classes for training data\n",
    "bool1 = (y_train == 0)\n",
    "bool2 = (y_train == 1)\n",
    "mask = bool1 | bool2\n",
    "assert sum(mask) == (sum(bool1) + sum(bool2))"
   ]
  },
  {
   "cell_type": "code",
   "execution_count": 8,
   "metadata": {},
   "outputs": [],
   "source": [
    "# Creating a mask to extract my two classes for testing data\n",
    "bool3 = (y_test == 0)\n",
    "bool4 = (y_test == 1)\n",
    "mask2 = bool3 | bool4\n",
    "assert sum(mask2) == (sum(bool3) + sum(bool4))"
   ]
  },
  {
   "cell_type": "code",
   "execution_count": 9,
   "metadata": {},
   "outputs": [],
   "source": [
    "# Updating training parameters\n",
    "y_train_small = y_train[mask]\n",
    "y_train_small.shape = (int(sum(mask)),1)\n",
    "x_mask = np.repeat(mask, X_train.shape[1], axis = 1)\n",
    "X_train_small = np.extract(x_mask, X_train)\n",
    "X_train_small.shape = (int(sum(mask)),784)"
   ]
  },
  {
   "cell_type": "code",
   "execution_count": 10,
   "metadata": {},
   "outputs": [],
   "source": [
    "# Updating testing parameters\n",
    "y_test_small = y_test[mask2]\n",
    "y_test_small.shape = (int(sum(mask2)),mask2.shape[1])\n",
    "x_mask2 = np.repeat(mask2, X_test.shape[1], axis = 1)\n",
    "X_test_small = np.extract(x_mask2, X_test)\n",
    "X_test_small.shape = (int(sum(mask2)), 784)"
   ]
  },
  {
   "cell_type": "code",
   "execution_count": 11,
   "metadata": {},
   "outputs": [],
   "source": [
    "# Relu activation function\n",
    "def relu(z):\n",
    "    return np.maximum(0,z)"
   ]
  },
  {
   "cell_type": "code",
   "execution_count": 12,
   "metadata": {},
   "outputs": [],
   "source": [
    "# Returns the sigmoid activation of input \n",
    "def sigmoid(x):\n",
    "    return 1 / (1 + np.exp(-x))"
   ]
  },
  {
   "cell_type": "markdown",
   "metadata": {},
   "source": [
    "Forward propagation and prediction:\n",
    "\n",
    "$$ z^{[1](i)} = W^{[1]}x^{(i)}+b^{[1]} $$\n",
    "$$ a^{[1](i)} = relu(z^{[1](i)}) $$\n",
    "\n",
    "$$ z^{[2](i)} = W^{[2]}a^{[1](i)}+b^{[2]} $$\n",
    "$$ a^{[2](i)} = relu(z^{[2](i)}) $$\n",
    "\n",
    "$$ z^{[3](i)} = W^{[3]}a^{[3](i)}+b^{[3]} $$\n",
    "$$ \\hat{y} = a^{[3](i)} = sigmoid(z^{[3](i)}) $$\n",
    "\n",
    "Given this is a classification problem, I am using log loss:\n",
    "\n",
    "$$ Cost = -\\frac{1}{m}\\sum^{m}_{i=0}\\bigg(y^{(i)}log(a^{[2](i)}) + (1-y^{(i)})log(1-a^{[2](i)})\\bigg) $$"
   ]
  },
  {
   "cell_type": "code",
   "execution_count": 13,
   "metadata": {},
   "outputs": [],
   "source": [
    "h_size = [10,10] # Hidden layer size (2 for this simple NN)\n",
    "x_shape = len(images_train[0])\n",
    "y_shape = 1 # Number of unique values for our binary classification"
   ]
  },
  {
   "cell_type": "code",
   "execution_count": 14,
   "metadata": {},
   "outputs": [],
   "source": [
    "# Model cost function, cross entropy\n",
    "def loss(y,y_hat):\n",
    "    \"\"\"\n",
    "    y: actual values\n",
    "    y_hat: predicted values\n",
    "    \"\"\"\n",
    "    avg = -np.average(y*np.log(y_hat)+(1-y)*np.log(1-y_hat))\n",
    "    return np.squeeze(avg)"
   ]
  },
  {
   "cell_type": "code",
   "execution_count": 15,
   "metadata": {},
   "outputs": [],
   "source": [
    "# Testing my cost function\n",
    "from sklearn.metrics import log_loss\n",
    "test_yhat = np.array([0.5 for i in range(12665)])\n",
    "test_yhat.shape = (12665,1)\n",
    "assert loss(y_train_small,test_yhat) == log_loss(y_train_small,test_yhat)"
   ]
  },
  {
   "cell_type": "markdown",
   "metadata": {},
   "source": [
    "#### Xavier inspired initialization\n",
    "$$ Var(W_i) = \\frac{2}{n_{in}+n_{out}} $$\n",
    "\n",
    "$$ Mean(W_i) = 0 $$\n",
    "\n",
    "Further, n<sub>in</sub> is the number of neurons feeding into these weights"
   ]
  },
  {
   "cell_type": "code",
   "execution_count": 16,
   "metadata": {},
   "outputs": [],
   "source": [
    "# Xavier inspired initialization, returns dic of weights and bias matrices\n",
    "def initialize_params(h_size, x_shape, y_shape):\n",
    "    \"\"\"\n",
    "    h_size: hidden layer shapes, list w/ 2 weights \n",
    "    x_shape: input shape, y_shape: output shape\n",
    "    W1 = x_shape x h_size[0]\n",
    "    b1 = h_size[0] x 1\n",
    "    W2 = h_size[0] x h_size[1]\n",
    "    b2 = h_size[1] x 1\n",
    "    W3 = h_size[1] x y_shape\n",
    "    b3 = y_shape x 1\n",
    "    m x n: #output x #input \n",
    "    \"\"\"\n",
    "    params = {}\n",
    "    params['W1'] = get_weights(h_size[0],x_shape)\n",
    "    params['b1'] = np.zeros((h_size[0],1))\n",
    "    params['W2'] = get_weights(h_size[1],h_size[0])\n",
    "    params['b2'] = np.zeros((h_size[1],1))\n",
    "    params['W3'] = get_weights(y_shape,h_size[1])\n",
    "    params['b3'] = np.zeros((y_shape,1))\n",
    "    return params"
   ]
  },
  {
   "cell_type": "code",
   "execution_count": 17,
   "metadata": {},
   "outputs": [],
   "source": [
    "# Takes in matrix shape and returns initialized weights\n",
    "def get_weights(m, n):\n",
    "    \"\"\"\n",
    "    m: #rows \n",
    "    n: #cols\n",
    "    \"\"\"\n",
    "    stdev = np.sqrt(2 / (m + n))\n",
    "    return np.random.normal(0, stdev, size=(m,n))"
   ]
  },
  {
   "cell_type": "code",
   "execution_count": 18,
   "metadata": {},
   "outputs": [],
   "source": [
    "# Getting initialized parameters for my model\n",
    "params = initialize_params(h_size, x_shape, y_shape)"
   ]
  },
  {
   "cell_type": "code",
   "execution_count": 19,
   "metadata": {},
   "outputs": [
    {
     "name": "stdout",
     "output_type": "stream",
     "text": [
      "W1: (10, 784)\n",
      "b1: (10, 1)\n",
      "W2: (10, 10)\n",
      "b2: (10, 1)\n",
      "W3: (1, 10)\n",
      "b3: (1, 1)\n"
     ]
    }
   ],
   "source": [
    "# Checking my parameter initializations\n",
    "print(\"W1:\",params['W1'].shape)\n",
    "print(\"b1:\",params['b1'].shape)\n",
    "print(\"W2:\",params['W2'].shape)\n",
    "print(\"b2:\",params['b2'].shape)\n",
    "print(\"W3:\",params['W3'].shape)\n",
    "print(\"b3:\",params['b3'].shape)"
   ]
  },
  {
   "cell_type": "code",
   "execution_count": 20,
   "metadata": {},
   "outputs": [],
   "source": [
    "# Reshaping input vectors\n",
    "simple_train_x = X_train_small.T\n",
    "simple_test_x = X_test_small.T\n",
    "simple_train_y = y_train_small.T\n",
    "simple_test_y = y_test_small.T\n",
    "assert simple_test_y.shape == (1, 2115)\n",
    "assert simple_train_y.shape == (1, 12665)\n",
    "assert simple_train_x.shape == (784,12665)\n",
    "assert simple_test_x.shape == (784, 2115)"
   ]
  },
  {
   "cell_type": "code",
   "execution_count": 21,
   "metadata": {},
   "outputs": [],
   "source": [
    "# Handles a single forward propagation pass\n",
    "def forward_prop(X, p):\n",
    "    \"\"\"\n",
    "    params (p): dictionary of parameters (W,b)\n",
    "    X: input data of size (784,m)\n",
    "    cache: holds each layer activations (a) and linear transformation (z)\n",
    "    \"\"\"\n",
    "    Z1 = np.dot(p['W1'],X) + p['b1']\n",
    "    A1 = sigmoid(Z1) #relu(Z1)  \n",
    "    Z2 = np.dot(p['W2'],A1) + p['b2']\n",
    "    A2 = sigmoid(Z2) #relu(Z2)  \n",
    "    Z3 = np.dot(p['W3'],A2) + p['b3']\n",
    "    A3 = sigmoid(Z3)\n",
    "    \n",
    "    cache = {\"Z1\": Z1,\"A1\": A1,\"Z2\": Z2,\"A2\": A2,\"Z3\": Z3, \"A3\": A3}\n",
    "    return A3, cache"
   ]
  },
  {
   "cell_type": "markdown",
   "metadata": {},
   "source": [
    "#### Backward Propagation Notable Equations\n",
    "\n",
    "$$ dZ^{[L]} = A^{[L]} - Y $$\n",
    "\n",
    "$$ dZ^{[l]} = da^{[l]} * g'(z^{[l]}) $$\n",
    "\n",
    "$$ dW^{[l]} = \\frac{\\partial \\mathcal{L} }{\\partial W^{[l]}} = \\frac{1}{m} dZ^{[l]} A^{[l-1] T} $$\n",
    "\n",
    "$$ db^{[l]} = \\frac{\\partial \\mathcal{L} }{\\partial b^{[l]}} = \\frac{1}{m} \\sum_{i = 1}^{m} dZ^{[l](i)} $$\n",
    "\n",
    "$$ dA^{[l-1]} = \\frac{\\partial \\mathcal{L} }{\\partial A^{[l-1]}} = W^{[l] T} dZ^{[l]} $$"
   ]
  },
  {
   "cell_type": "code",
   "execution_count": 22,
   "metadata": {},
   "outputs": [],
   "source": [
    "# The derivative of relu function is 1 if z > 0, and 0 if z <= 0\n",
    "def relu_deriv1(z):\n",
    "    z[z > 0] = 1\n",
    "    z[z <= 0] = 0\n",
    "    return z"
   ]
  },
  {
   "cell_type": "code",
   "execution_count": 23,
   "metadata": {},
   "outputs": [],
   "source": [
    "def relu_deriv(z):\n",
    "    return 1. * (z > 0)"
   ]
  },
  {
   "cell_type": "code",
   "execution_count": 24,
   "metadata": {},
   "outputs": [],
   "source": [
    "# Handles a single backward pass through the neural network\n",
    "def backward_prop(X, y, c, p):\n",
    "    \"\"\"\n",
    "    adam: boolean \n",
    "    cache (c): includes activations (A) and linear transformations (Z)\n",
    "    params (p): includes weights (W) and biases (b)\n",
    "    \"\"\"\n",
    "    m = X.shape[1] # Number of training ex\n",
    "    dZ3 = c['A3'] - y\n",
    "    dW3 = 1/m * np.dot(dZ3,c['A2'].T)\n",
    "    db3 = 1/m * np.sum(dZ3, keepdims=True, axis=1)\n",
    "    \n",
    "    dA2 = np.dot(p['W3'].T, dZ3)\n",
    "    dZ2 = np.multiply(dA2,(1-np.power(c['A2'], 2))) #relu_deriv(c['A2'])\n",
    "    dW2 = 1/m * np.dot(dZ2,c['A1'].T)\n",
    "    db2 = 1/m * np.sum(dZ2, keepdims=True, axis=1)\n",
    "    \n",
    "    dA1 = np.dot(p['W2'].T,dZ2)\n",
    "    dZ1 = np.multiply(dA1,(1-np.power(c['A1'], 2))) # relu_deriv(c['A1'])  \n",
    "    dW1 = 1/m * np.dot(dZ1,X.T)\n",
    "    db1 = 1/m * np.sum(dZ1, keepdims=True, axis=1)\n",
    "    \n",
    "    grads = {\"dW1\":dW1,\"db1\":db1,\"dW2\":dW2,\"db2\":db2,\"dW3\":dW3,\"db3\":db3}\n",
    "    return grads"
   ]
  },
  {
   "cell_type": "code",
   "execution_count": 25,
   "metadata": {},
   "outputs": [],
   "source": [
    "# Updates the parameters based on the grads and learning rate\n",
    "def update_params(p, g,lr):\n",
    "    \"\"\"\n",
    "    params (p): holds old parameters\n",
    "    grads (g): holds old grads\n",
    "    \"\"\"\n",
    "    W1 = p['W1'] - lr*g['dW1']\n",
    "    b1 = p['b1'] - lr*g['db1']\n",
    "    W2 = p['W2'] - lr*g['dW2']\n",
    "    b2 = p['b2'] - lr*g['db2']\n",
    "    W3 = p['W3'] - lr*g['dW3']\n",
    "    b3 = p['b3'] - lr*g['db3']\n",
    "    \n",
    "    params = {\"W1\":W1,\"b1\":b1,\"W2\":W2,\"b2\":b2,\"W3\":W3,\"b3\":b3}\n",
    "    return params"
   ]
  },
  {
   "cell_type": "code",
   "execution_count": 26,
   "metadata": {},
   "outputs": [],
   "source": [
    "# Does a number of steps, calculates cost, learns using gradient descent\n",
    "def nn_model(X,y,n_h=[10,10],num_iter=1000,lr=0.01, print_cost=True, adam=False,B1=0.9,B2=0.999,e=10e-8):\n",
    "    \"\"\"\n",
    "    X: dataset of shape (784,m)\n",
    "    y: labels of shape (1,m)\n",
    "    n_h: list of hidden layer sizes [10,10]\n",
    "    num_iter: number of epochs\n",
    "    print_cost: determines if you want to print cost every 100 training cycles\n",
    "    returns list of costs per epoch and final params\n",
    "    \"\"\"\n",
    "    params = initialize_params(n_h, X.shape[0], y.shape[0]) #initial parameters\n",
    "    costs = [] # Stores cost after each iteration\n",
    "    ap = {\"Vdw1\":0,\"Vdb1\":0,\"Sdw1\":0,\"Sdb1\":0,\n",
    "          \"Vdw2\":0,\"Vdb2\":0,\"Sdw2\":0,\"Sdb2\":0,\n",
    "          \"Vdw3\":0,\"Vdb3\":0,\"Sdw3\":0,\"Sdb3\":0} # Adam parameters\n",
    "    \n",
    "    for i in range(num_iter):\n",
    "        A3,cache = forward_prop(X,params) \n",
    "        acost = loss(y,A3)\n",
    "        costs.append(acost)\n",
    "        if i % 100 == 0 and print_cost:\n",
    "            print(\"Cost at epoch {}: {}\".format(i,acost))\n",
    "        grads = backward_prop(X, y, cache, params)\n",
    "        if adam: # If we are using adam optimization\n",
    "            params,ap = update_params_adam(params, grads, lr, ap, B1, B2, e, i)\n",
    "        else:\n",
    "            params = update_params(params,grads,lr)\n",
    "        \n",
    "    return costs,params "
   ]
  },
  {
   "cell_type": "code",
   "execution_count": 27,
   "metadata": {},
   "outputs": [],
   "source": [
    "# Creates a vector of predictions based on input \n",
    "def predict(X, params):\n",
    "    \"\"\"\n",
    "    Uses learnt parameters \n",
    "    This returns a vector of predictions (as probabilities)\n",
    "    \"\"\"\n",
    "    A3, cache = forward_prop(X,params)\n",
    "    return A3"
   ]
  },
  {
   "cell_type": "code",
   "execution_count": 28,
   "metadata": {
    "scrolled": false
   },
   "outputs": [
    {
     "name": "stdout",
     "output_type": "stream",
     "text": [
      "Cost at epoch 0: 0.7252124447425526\n",
      "Cost at epoch 100: 0.568145294135091\n",
      "Cost at epoch 200: 0.45854988430989907\n",
      "Cost at epoch 300: 0.35071410668415204\n",
      "Cost at epoch 400: 0.2676864999700779\n",
      "Cost at epoch 500: 0.21103913213499992\n",
      "Cost at epoch 600: 0.17187153811848774\n",
      "Cost at epoch 700: 0.1452931168173337\n",
      "Cost at epoch 800: 0.12571895091692942\n",
      "Cost at epoch 900: 0.11181452852594194\n",
      "Cost at epoch 1000: 0.1010710109213214\n",
      "Cost at epoch 1100: 0.09227733612352099\n",
      "Cost at epoch 1200: 0.08530412187461567\n",
      "Cost at epoch 1300: 0.07916853860593473\n",
      "Cost at epoch 1400: 0.07381468214598437\n",
      "Cost at epoch 1500: 0.06982446921024245\n",
      "Cost at epoch 1600: 0.06610348030205106\n",
      "Cost at epoch 1700: 0.06239461957250472\n",
      "Cost at epoch 1800: 0.06008961088145207\n",
      "Cost at epoch 1900: 0.05794235206471129\n",
      "Cost at epoch 2000: 0.05573965664956794\n",
      "Cost at epoch 2100: 0.053540390586709154\n",
      "Cost at epoch 2200: 0.05188380700459439\n",
      "Cost at epoch 2300: 0.04990457538135029\n",
      "Cost at epoch 2400: 0.048269945545061727\n",
      "Cost at epoch 2500: 0.04700982511336832\n",
      "Cost at epoch 2600: 0.04557428761741536\n",
      "Cost at epoch 2700: 0.044324095658422394\n",
      "Cost at epoch 2800: 0.04314407860723778\n",
      "Cost at epoch 2900: 0.04155264524291824\n"
     ]
    }
   ],
   "source": [
    "# Testing out my neural network model - using simple_train_x,simple_test_x,simple_train_y,simple_test_y\n",
    "costs,params = nn_model(simple_train_x,simple_train_y,[10,10],3000,0.03, True)"
   ]
  },
  {
   "cell_type": "code",
   "execution_count": 29,
   "metadata": {},
   "outputs": [
    {
     "data": {
      "image/png": "[encoded data removed]",
      "text/plain": [
       "<Figure size 432x288 with 1 Axes>"
      ]
     },
     "metadata": {},
     "output_type": "display_data"
    }
   ],
   "source": [
    "time = [i for i in range(3000)]\n",
    "plt.plot(time,costs)\n",
    "plt.title(\"Cost Over Time\")\n",
    "plt.xlabel(\"Steps\")\n",
    "plt.ylabel(\"Cost\")\n",
    "plt.show()"
   ]
  },
  {
   "cell_type": "markdown",
   "metadata": {},
   "source": [
    "### Adam optimization\n",
    "I will be using Adam optimization to see if there will be better performance. Note - I am not using corrected values for Vdw,Sdw,Vdb,Sdb.\n",
    "\n",
    "$$ Vdw = B_{1}Vdw + (1-B_1)dW$$\n",
    "$$ Vdb = B_{1}Vdb + (1-B_1)db$$\n",
    "$$ Sdw = B_{2}Sdw + (1-B_2)dW^2$$\n",
    "$$ Sdb = B_{2}Sdb + (1-B_2)db^2$$\n",
    "\n",
    "$$ w = w - \\alpha\\frac{Vdw}{\\sqrt{Sdw} + \\epsilon} $$\n",
    "$$ b = b - \\alpha\\frac{Vdb}{\\sqrt{Sdb} + \\epsilon} $$"
   ]
  },
  {
   "cell_type": "code",
   "execution_count": 30,
   "metadata": {},
   "outputs": [],
   "source": [
    "# Updates params using adam optimization\n",
    "def update_params_adam(p, g, lr,ap, B1, B2, epsilon, i):\n",
    "    \"\"\"\n",
    "    params (p): holds old parameters\n",
    "    grads (g): holds old grads\n",
    "    adam params (ap): includes Vdw,Vdb,Sdw,Sdb\n",
    "    B1: controls momentum portion\n",
    "    B2: controls RMSProp portion\n",
    "    i: the number of iterations\n",
    "    ap: holds updated parameters for parameter updating\n",
    "    \"\"\"\n",
    "    ap = adam_get_new_params(g,ap, B1, B2, i)\n",
    "    W1 = p['W1'] - lr*(ap['Vdw1'] / (np.sqrt(ap['Sdw1']) + epsilon))\n",
    "    b1 = p['b1'] - lr*(ap['Vdb1'] / (np.sqrt(ap['Sdb1']) + epsilon))\n",
    "    W2 = p['W2'] - lr*(ap['Vdw2'] / (np.sqrt(ap['Sdw2']) + epsilon))\n",
    "    b2 = p['b2'] - lr*(ap['Vdb2'] / (np.sqrt(ap['Sdb2']) + epsilon))\n",
    "    W3 = p['W3'] - lr*(ap['Vdw3'] / (np.sqrt(ap['Sdw3']) + epsilon))\n",
    "    b3 = p['b3'] - lr*(ap['Vdb3'] / (np.sqrt(ap['Sdb3']) + epsilon))\n",
    "    \n",
    "    params = {\"W1\":W1,\"b1\":b1,\"W2\":W2,\"b2\":b2,\"W3\":W3,\"b3\":b3}\n",
    "    return params,ap"
   ]
  },
  {
   "cell_type": "code",
   "execution_count": 31,
   "metadata": {},
   "outputs": [],
   "source": [
    "def adam_get_new_params(g,ap, B1, B2, i):\n",
    "    # Momentum portion\n",
    "    Vdw1 = (B1 * ap['Vdw1']) + (1-B1) * g['dW1']\n",
    "    Vdw2 = (B1 * ap['Vdw2']) + (1-B1) * g['dW2']\n",
    "    Vdw3 = (B1 * ap['Vdw3']) + (1-B1) * g['dW3']\n",
    "    Vdb1 = (B1 * ap['Vdb1']) + (1-B1) * g['db1']\n",
    "    Vdb2 = (B1 * ap['Vdb2']) + (1-B1) * g['db2']\n",
    "    Vdb3 = (B1 * ap['Vdb3']) + (1-B1) * g['db3']\n",
    "    # RMSProp portion\n",
    "    Sdw1 = (B2 * ap['Sdw1']) + (1-B2) * (g['dW1']**2)\n",
    "    Sdw2 = (B2 * ap['Sdw2']) + (1-B2) * (g['dW2']**2)\n",
    "    Sdw3 = (B2 * ap['Sdw3']) + (1-B2) * (g['dW3']**2)\n",
    "    Sdb1 = (B2 * ap['Sdb1']) + (1-B2) * (g['db1']**2)\n",
    "    Sdb2 = (B2 * ap['Sdb2']) + (1-B2) * (g['db2']**2)\n",
    "    Sdb3 = (B2 * ap['Sdb3']) + (1-B2) * (g['db3']**2)\n",
    "    \n",
    "    adam_params = {\"Vdw1\":Vdw1,\"Vdb1\":Vdb1,\"Sdw1\":Sdw1,\"Sdb1\":Sdb1,\n",
    "                   \"Vdw2\":Vdw2,\"Vdb2\":Vdb2,\"Sdw2\":Sdw2,\"Sdb2\":Sdb2,\n",
    "                   \"Vdw3\":Vdw3,\"Vdb3\":Vdb3,\"Sdw3\":Sdw3,\"Sdb3\":Sdb3}\n",
    "    return adam_params"
   ]
  },
  {
   "cell_type": "code",
   "execution_count": 32,
   "metadata": {
    "scrolled": true
   },
   "outputs": [
    {
     "name": "stdout",
     "output_type": "stream",
     "text": [
      "Cost at epoch 0: 0.8443682442048944\n",
      "Cost at epoch 100: 0.026193268833820584\n",
      "Cost at epoch 200: 0.018411259414310287\n",
      "Cost at epoch 300: 0.014008222424049636\n",
      "Cost at epoch 400: 0.011195582916823243\n",
      "Cost at epoch 500: 0.009112273452631194\n",
      "Cost at epoch 600: 0.007654349313652913\n",
      "Cost at epoch 700: 0.007144418238638632\n",
      "Cost at epoch 800: 0.006191576712585713\n",
      "Cost at epoch 900: 0.005960177346494054\n"
     ]
    }
   ],
   "source": [
    "# Testing my implementation using adam optimization\n",
    "costs2,params2 = nn_model(simple_train_x,simple_train_y,[10,10],1000,0.01, True, True)"
   ]
  },
  {
   "cell_type": "code",
   "execution_count": 33,
   "metadata": {},
   "outputs": [
    {
     "name": "stdout",
     "output_type": "stream",
     "text": [
      "Cost at epoch 0: 0.6904021343188632\n",
      "Cost at epoch 100: 0.5021123230236083\n",
      "Cost at epoch 200: 0.3833752420462661\n",
      "Cost at epoch 300: 0.3031124125763343\n",
      "Cost at epoch 400: 0.24627716733470484\n",
      "Cost at epoch 500: 0.2052666667691193\n",
      "Cost at epoch 600: 0.17559872378608615\n",
      "Cost at epoch 700: 0.15492217350687013\n",
      "Cost at epoch 800: 0.13828609928079574\n",
      "Cost at epoch 900: 0.1260559816023987\n"
     ]
    }
   ],
   "source": [
    "# Normal model for comparison\n",
    "costs3,params3 = nn_model(simple_train_x,simple_train_y,[10,10],1000,0.03, True)"
   ]
  },
  {
   "cell_type": "code",
   "execution_count": 34,
   "metadata": {},
   "outputs": [
    {
     "data": {
      "image/png": "[encoded data removed]",
      "text/plain": [
       "<Figure size 432x288 with 1 Axes>"
      ]
     },
     "metadata": {},
     "output_type": "display_data"
    }
   ],
   "source": [
    "# The model with adam optimization does significantly better\n",
    "time2 = [i for i in range(1000)]\n",
    "plt.plot(time2,costs2,color=\"blue\",label=\"adam\")\n",
    "plt.plot(time2,costs3,color=\"red\",label=\"normal\")\n",
    "plt.legend()\n",
    "plt.title(\"Cost Over Time\")\n",
    "plt.xlabel(\"Steps\")\n",
    "plt.ylabel(\"Cost\")\n",
    "plt.show()"
   ]
  },
  {
   "cell_type": "code",
   "execution_count": null,
   "metadata": {},
   "outputs": [],
   "source": []
  }
 ],
 "metadata": {
  "kernelspec": {
   "display_name": "Python 3",
   "language": "python",
   "name": "python3"
  },
  "language_info": {
   "codemirror_mode": {
    "name": "ipython",
    "version": 3
   },
   "file_extension": ".py",
   "mimetype": "text/x-python",
   "name": "python",
   "nbconvert_exporter": "python",
   "pygments_lexer": "ipython3",
   "version": "3.6.5"
  }
 },
 "nbformat": 4,
 "nbformat_minor": 2
}
