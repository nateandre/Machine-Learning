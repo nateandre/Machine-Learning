{
 "cells": [
  {
   "cell_type": "markdown",
   "metadata": {},
   "source": [
    "## Simple naive bayes classification model\n",
    "\n",
    "I will be creating a very simple naive bayes classification model which relies on a guassian distribution for the likelihood function. In this case, the classes are equally likely, thus there is a uniform prior distribution, which can essentially be ignored as the posterior distribution will be based on the likelihood almost entirely. Note also that there is actually no need to scale the likelihood x prior in order as we don't technically need a valid posterior distribution.\n",
    "\n",
    "$$ P(y|x) = \\frac{p(x|y)p(y)}{p(x)} = p(x_1|y)*p(x_2|y)*...*p(x_d|y)*p(y) $$\n",
    "\n",
    "In this example there will be 3 classes and 4 different features."
   ]
  },
  {
   "cell_type": "code",
   "execution_count": 1,
   "metadata": {},
   "outputs": [],
   "source": [
    "import matplotlib.pyplot as plt\n",
    "import numpy as np\n",
    "from sklearn import datasets\n",
    "from sklearn.metrics import accuracy_score\n",
    "import latex\n",
    "import random\n",
    "\n",
    "%matplotlib inline\n",
    "import warnings\n",
    "warnings.filterwarnings('ignore')"
   ]
  },
  {
   "cell_type": "code",
   "execution_count": 2,
   "metadata": {},
   "outputs": [
    {
     "name": "stdout",
     "output_type": "stream",
     "text": [
      "(150, 4)\n"
     ]
    }
   ],
   "source": [
    "iris = datasets.load_iris()\n",
    "X = iris.data[:,:4]  # 4x features\n",
    "y = iris.target\n",
    "print(X.shape)"
   ]
  },
  {
   "cell_type": "code",
   "execution_count": 3,
   "metadata": {},
   "outputs": [
    {
     "name": "stdout",
     "output_type": "stream",
     "text": [
      "(120, 4)\n",
      "(120,)\n"
     ]
    }
   ],
   "source": [
    "# removing 10 examples from each class to act as a hold out set for performance testing\n",
    "# training data will be used to find the sigma and x_bar for distributions\n",
    "X_hold = np.array(list(X[40:50,:]) + list(X[90:100,:]) + list(X[140:150,:]))\n",
    "y_hold = list(y[40:50]) + list(y[90:100]) + list(y[140:150])\n",
    "\n",
    "X_train = np.array(list(X[0:40,:]) + list(X[50:90,:]) + list(X[100:140,:]))\n",
    "y_train = list(y[0:40]) + list(y[50:90]) + list(y[100:140])\n",
    "\n",
    "y_train = np.array(y_train)\n",
    "y_hold = np.array(y_hold)\n",
    "\n",
    "print(X_train.shape)\n",
    "print(y_train.shape)"
   ]
  },
  {
   "cell_type": "code",
   "execution_count": 4,
   "metadata": {},
   "outputs": [
    {
     "data": {
      "image/png": "[encoded data removed]",
      "text/plain": [
       "<Figure size 432x288 with 1 Axes>"
      ]
     },
     "metadata": {},
     "output_type": "display_data"
    },
    {
     "data": {
      "image/png": "[encoded data removed]",
      "text/plain": [
       "<Figure size 432x288 with 1 Axes>"
      ]
     },
     "metadata": {},
     "output_type": "display_data"
    },
    {
     "data": {
      "image/png": "[encoded data removed]",
      "text/plain": [
       "<Figure size 432x288 with 1 Axes>"
      ]
     },
     "metadata": {},
     "output_type": "display_data"
    },
    {
     "data": {
      "image/png": "[encoded data removed]",
      "text/plain": [
       "<Figure size 432x288 with 1 Axes>"
      ]
     },
     "metadata": {},
     "output_type": "display_data"
    }
   ],
   "source": [
    "# examining the distributions for each class for each feature\n",
    "# most of these distributions per class per feature seem relatively normal\n",
    "for i in range(4):\n",
    "    plt.hist(X[:,i][y==0],color=\"green\",alpha=0.5)\n",
    "    plt.hist(X[:,i][y==2],color=\"orange\",alpha=0.5)\n",
    "    plt.hist(X[:,i][y==1],color=\"blue\",alpha=0.5)\n",
    "    plt.title(\"feature {}\".format(str(i+1)))\n",
    "    plt.xlabel(\"value\")\n",
    "    plt.ylabel(\"count\")\n",
    "    plt.show()"
   ]
  },
  {
   "cell_type": "markdown",
   "metadata": {},
   "source": [
    "### Modeling the likelihood distribution"
   ]
  },
  {
   "cell_type": "code",
   "execution_count": 5,
   "metadata": {},
   "outputs": [],
   "source": [
    "# Using a gaussian distribution for the likelihood, sigma and x_bar are estimates based on sample data\n",
    "# returns the likelihood of an observed value theta given a distribution based on observed sample\n",
    "def likelihood(theta,x_bar,sigma,n=1):\n",
    "    return np.exp((-(1/(2*(sigma**2)/n))) * (x_bar-theta)**2)"
   ]
  },
  {
   "cell_type": "code",
   "execution_count": 6,
   "metadata": {},
   "outputs": [],
   "source": [
    "# creating a dictionary which holds sample sigma and x_bar for all classes and all features\n",
    "data = {}\n",
    "for class_no in [0,1,2]:\n",
    "    for feature in [0,1,2,3]:\n",
    "        key = \"{}_{}\".format(class_no,feature)\n",
    "        x_bar = np.average(X_train[:,feature][y_train == class_no])\n",
    "        sigma = np.std(X_train[:,feature][y_train == class_no])\n",
    "        data[key] = {\"x_bar\":x_bar,\"sigma\":sigma}"
   ]
  },
  {
   "cell_type": "code",
   "execution_count": 7,
   "metadata": {},
   "outputs": [
    {
     "name": "stdout",
     "output_type": "stream",
     "text": [
      "dict_keys(['0_0', '0_1', '0_2', '0_3', '1_0', '1_1', '1_2', '1_3', '2_0', '2_1', '2_2', '2_3'])\n"
     ]
    }
   ],
   "source": [
    "# printing out the unique keys in dict\n",
    "print(data.keys())"
   ]
  },
  {
   "cell_type": "code",
   "execution_count": 8,
   "metadata": {},
   "outputs": [],
   "source": [
    "# model that takes in a examples and computes the probability for all three classes and performs argmax\n",
    "def get_pred(data,ex):\n",
    "    \"\"\"\n",
    "    data: dictionary holding sigmas and x_bars\n",
    "    ex: example, input shape:(,4)\n",
    "    \"\"\"\n",
    "    class_0_prob = get_prob(data,\"0\",ex)\n",
    "    class_1_prob = get_prob(data,\"1\",ex)\n",
    "    class_2_prob = get_prob(data,\"2\",ex)\n",
    "    \n",
    "    return np.argmax(np.array([class_0_prob,class_1_prob,class_2_prob]))"
   ]
  },
  {
   "cell_type": "code",
   "execution_count": 9,
   "metadata": {},
   "outputs": [],
   "source": [
    "# returns the total likelihood probability over all features for a given class\n",
    "def get_prob(data,class_no,ex):\n",
    "    final_prob = 1\n",
    "    for feature in [0,1,2,3]:\n",
    "        key = class_no + \"_\" + str(feature)\n",
    "        theta = ex[feature]\n",
    "        a_prob = likelihood(theta,data[key][\"x_bar\"],data[key][\"sigma\"])\n",
    "        final_prob = final_prob * a_prob\n",
    "        \n",
    "    return final_prob"
   ]
  },
  {
   "cell_type": "markdown",
   "metadata": {},
   "source": [
    "### Testing naive bayes model performance"
   ]
  },
  {
   "cell_type": "code",
   "execution_count": 10,
   "metadata": {},
   "outputs": [],
   "source": [
    "# predictions on hold out set\n",
    "holdout_pred = [get_pred(data,X_hold[i,:]) for i in range(X_hold.shape[0])]"
   ]
  },
  {
   "cell_type": "code",
   "execution_count": 11,
   "metadata": {},
   "outputs": [
    {
     "name": "stdout",
     "output_type": "stream",
     "text": [
      "accuracy is: 1.0\n"
     ]
    }
   ],
   "source": [
    "print(\"accuracy is:\",accuracy_score(y_hold,holdout_pred))"
   ]
  }
 ],
 "metadata": {
  "kernelspec": {
   "display_name": "Python 3",
   "language": "python",
   "name": "python3"
  },
  "language_info": {
   "codemirror_mode": {
    "name": "ipython",
    "version": 3
   },
   "file_extension": ".py",
   "mimetype": "text/x-python",
   "name": "python",
   "nbconvert_exporter": "python",
   "pygments_lexer": "ipython3",
   "version": "3.6.5"
  }
 },
 "nbformat": 4,
 "nbformat_minor": 2
}
