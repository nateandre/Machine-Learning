{
 "cells": [
  {
   "cell_type": "markdown",
   "metadata": {},
   "source": [
    "## This notebook is aimed at solving classification problems using logistic regression with gradient descent"
   ]
  },
  {
   "cell_type": "code",
   "execution_count": 1,
   "metadata": {},
   "outputs": [],
   "source": [
    "from sklearn.metrics import log_loss\n",
    "from sklearn.linear_model import LogisticRegression\n",
    "from sklearn import datasets\n",
    "iris = datasets.load_iris()\n",
    "import matplotlib.pyplot as plt\n",
    "import numpy as np\n",
    "from sklearn.metrics import accuracy_score\n",
    "\n",
    "%matplotlib inline\n",
    "import warnings\n",
    "warnings.filterwarnings('ignore')"
   ]
  },
  {
   "cell_type": "markdown",
   "metadata": {},
   "source": [
    "### This section will be for binary logistic regression"
   ]
  },
  {
   "cell_type": "code",
   "execution_count": 2,
   "metadata": {},
   "outputs": [],
   "source": [
    "# Using two classes for logistic regression\n",
    "X = iris.data[:, :2][0:100]\n",
    "y = iris.target[0:100]\n",
    "y_c = iris.target[0:100]\n",
    "y.shape = (100,1)\n",
    "\n",
    "assert y.shape == (100,1)\n",
    "assert X.shape == (100,2)\n",
    "assert y_c.shape == (100,)"
   ]
  },
  {
   "cell_type": "code",
   "execution_count": 3,
   "metadata": {
    "scrolled": true
   },
   "outputs": [
    {
     "data": {
      "image/png": "[encoded data removed]",
      "text/plain": [
       "<Figure size 432x288 with 1 Axes>"
      ]
     },
     "metadata": {},
     "output_type": "display_data"
    }
   ],
   "source": [
    "# This data seems to be linerly separable\n",
    "plt.scatter(X[:,0][0:50], X[:,1][0:50], c=\"blue\", label=\"Setosa\")\n",
    "plt.scatter(X[:,0][50:100], X[:,1][50:100], c=\"orange\", label=\"Versicolour\")\n",
    "plt.xlabel(\"Variable 1\")\n",
    "plt.ylabel(\"Variable 2\")\n",
    "plt.title(\"Flower Type\")\n",
    "plt.legend()\n",
    "plt.show()"
   ]
  },
  {
   "cell_type": "markdown",
   "metadata": {},
   "source": [
    "### Sigmoid activation function\n",
    "\n",
    "$$ h_\\theta(x) = \\frac{1}{1+e^{-x}} $$"
   ]
  },
  {
   "cell_type": "code",
   "execution_count": 4,
   "metadata": {},
   "outputs": [],
   "source": [
    "# Returns the sigmoid activation of input \n",
    "def sigmoid(x):\n",
    "    return 1 / (1 + np.exp(-x))"
   ]
  },
  {
   "cell_type": "markdown",
   "metadata": {},
   "source": [
    "### Logistic regression cost function (log loss)\n",
    "\n",
    "$$ J(\\theta) = - \\frac{1}{m}\\sum_{i=1}^{m}y^{(i)}log(h_\\theta(x^{(i)}))+\n",
    "(1-y^{(i)})log(1-h_\\theta(x^{(i)})$$\n",
    "$$ note: h_\\theta(x^{(i)}) = \\frac{1}{1+e^{-(bias+X\\theta.T)}}$$"
   ]
  },
  {
   "cell_type": "code",
   "execution_count": 5,
   "metadata": {},
   "outputs": [],
   "source": [
    "# Log loss for logistic regression\n",
    "def get_cost(X,y,weight,bias):\n",
    "    return -np.average(y*np.log(sigmoid(bias+np.dot(X,weight.T)))+(1-y)*np.log(1-(sigmoid(bias+np.dot(X,weight.T)))))"
   ]
  },
  {
   "cell_type": "code",
   "execution_count": 6,
   "metadata": {},
   "outputs": [],
   "source": [
    "# Testing cost function\n",
    "weight = np.array([[0],[0]])\n",
    "weight.shape = (1,2)\n",
    "bias = 1\n",
    "\n",
    "assert weight.shape == (1,2)"
   ]
  },
  {
   "cell_type": "code",
   "execution_count": 7,
   "metadata": {},
   "outputs": [],
   "source": [
    "# Ensuring our cost function is working properly using sklearn implementation\n",
    "assert get_cost(X,y,weight,bias) == log_loss(y,sigmoid(bias+np.dot(X,weight.T)))"
   ]
  },
  {
   "cell_type": "markdown",
   "metadata": {},
   "source": [
    "### Updating weight and bias terms\n",
    "\n",
    "$$ \\begin{split} & f^\\prime(W) = \\frac{1}{m}\\big[h_\\theta(x^{(i)})-y^{(i)})x_j^{(i)}\\big] \\\\ \n",
    "& f^\\prime(Bias) = \\frac{1}{m}\\big[h_\\theta(x^{(i)})-y^{(i)})\\big] \\end{split} $$"
   ]
  },
  {
   "cell_type": "code",
   "execution_count": 8,
   "metadata": {},
   "outputs": [],
   "source": [
    "# Updates the weights and bias terms based on gradient descent\n",
    "def update_param(X,y,weight,bias,lr=0.01):\n",
    "    \"\"\"\n",
    "    X.shape = (100,2)\n",
    "    y.shape = (100,1)\n",
    "    weight.shape = (1,2)\n",
    "    \"\"\"\n",
    "    df_dm = (1/len(X)) * np.dot((sigmoid(np.dot(X,weight.T))-y).T,X)    \n",
    "    df_db = np.average(sigmoid(np.dot(X,weight.T))-y)\n",
    "    weight = weight - (lr * df_dm)\n",
    "    bias = bias - (lr * df_db)\n",
    "    return weight,bias"
   ]
  },
  {
   "cell_type": "code",
   "execution_count": 9,
   "metadata": {},
   "outputs": [],
   "source": [
    "def train_model(X,y,weight,bias,iters,lr=0.01):\n",
    "    costs = []\n",
    "    for i in range(iters):\n",
    "        weight,bias = update_param(X,y,weight,bias,lr)\n",
    "        cost = get_cost(X,y,weight,bias)\n",
    "        costs.append(cost)\n",
    "        \n",
    "    return weight,bias,costs"
   ]
  },
  {
   "cell_type": "code",
   "execution_count": 10,
   "metadata": {},
   "outputs": [],
   "source": [
    "# Returns the prediction for any given X variable\n",
    "def predictions(X,weight,bias):\n",
    "    \"\"\"\n",
    "    X.shape = (100,2)\n",
    "    weight = (1,2)\n",
    "    \"\"\"\n",
    "    return sigmoid(bias + np.dot(X,weight.T))"
   ]
  },
  {
   "cell_type": "code",
   "execution_count": 11,
   "metadata": {},
   "outputs": [],
   "source": [
    "# Parameters for testing out my logistic regression model\n",
    "model_weights = np.array([[0],[0]])\n",
    "model_weights.shape = (1,2)\n",
    "model_bias = 0\n",
    "\n",
    "assert model_weights.shape == (1,2)"
   ]
  },
  {
   "cell_type": "code",
   "execution_count": 12,
   "metadata": {},
   "outputs": [],
   "source": [
    "# Trying out the logistic regression model\n",
    "ret_weight,ret_bias,ret_costs = train_model(X,y,model_weights,model_bias,15000,0.01)"
   ]
  },
  {
   "cell_type": "code",
   "execution_count": 13,
   "metadata": {},
   "outputs": [],
   "source": [
    "time_multi = [i for i in range(15000)]"
   ]
  },
  {
   "cell_type": "code",
   "execution_count": 14,
   "metadata": {},
   "outputs": [
    {
     "data": {
      "image/png": "[encoded data removed]",
      "text/plain": [
       "<Figure size 432x288 with 1 Axes>"
      ]
     },
     "metadata": {},
     "output_type": "display_data"
    }
   ],
   "source": [
    "# Graphing my cost function\n",
    "plt.plot(time_multi, ret_costs)\n",
    "plt.title(\"Cost vs Time Logistic Regression\")\n",
    "plt.xlabel(\"Step Number\")\n",
    "plt.ylabel(\"Cost\")\n",
    "plt.show()"
   ]
  },
  {
   "cell_type": "code",
   "execution_count": 15,
   "metadata": {},
   "outputs": [
    {
     "data": {
      "text/plain": [
       "(100, 1)"
      ]
     },
     "execution_count": 15,
     "metadata": {},
     "output_type": "execute_result"
    }
   ],
   "source": [
    "# Getting predicted values\n",
    "pred = predictions(X,ret_weight,ret_bias)\n",
    "pred_2 = predictions(X,ret_weight,ret_bias)\n",
    "pred.shape"
   ]
  },
  {
   "cell_type": "code",
   "execution_count": 16,
   "metadata": {},
   "outputs": [],
   "source": [
    "# Turning predictions into binary classifications\n",
    "pred[pred >= 0.5] = 1\n",
    "pred[pred < 0.5] = 0"
   ]
  },
  {
   "cell_type": "markdown",
   "metadata": {},
   "source": [
    "#### Overall my model performed very similar to the sklearn model"
   ]
  },
  {
   "cell_type": "code",
   "execution_count": 17,
   "metadata": {
    "scrolled": true
   },
   "outputs": [
    {
     "name": "stdout",
     "output_type": "stream",
     "text": [
      "Accuracy: 0.97\n",
      "Weights: [[ 3.41611769 -5.98443028]]\n",
      "Bias: -0.9809741352997097\n",
      "Final cost: 0.10876641233564883\n"
     ]
    }
   ],
   "source": [
    "# Comparing my coefficients and score to sklearn coefficients\n",
    "accuracy = accuracy_score(y,pred)\n",
    "print(\"Accuracy:\", accuracy)\n",
    "print(\"Weights:\", ret_weight)\n",
    "print(\"Bias:\", ret_bias)\n",
    "print(\"Final cost:\", ret_costs[-1])"
   ]
  },
  {
   "cell_type": "code",
   "execution_count": 18,
   "metadata": {},
   "outputs": [
    {
     "name": "stdout",
     "output_type": "stream",
     "text": [
      "Accuracy: 0.99\n",
      "Coefs: [[ 2.21657376 -3.69152337]]\n",
      "Intercept: [-0.59901124]\n",
      "Final cost: 0.15306505302429574\n"
     ]
    }
   ],
   "source": [
    "# Using sklearn's logistic regression to determine the ideal params\n",
    "lr = LogisticRegression()\n",
    "lr.fit(X, y)\n",
    "predictedVals = lr.predict(X)\n",
    "predictedProb = lr.predict_proba(X)\n",
    "\n",
    "print(\"Accuracy: \" + str(lr.score(X, y)))\n",
    "print(\"Coefs: \" + str(lr.coef_))\n",
    "print(\"Intercept: \" + str(lr.intercept_))\n",
    "print(\"Final cost:\", log_loss(y, predictedProb))"
   ]
  },
  {
   "cell_type": "markdown",
   "metadata": {},
   "source": [
    "### I will attempt to use regularization to see if my model improves (lambda will be my regularization term)\n",
    "\n",
    "This involves updating the derivative term for weights:\n",
    "\n",
    "$$ f^\\prime(W) = \\frac{1}{m}\\big[h_\\theta(x^{(i)})-y^{(i)})x_j^{(i)} \\big] + \\frac{\\lambda}{m}\\theta_j $$ \n",
    "$$ \\theta_j := \\theta_j(1-\\alpha\\frac{\\lambda}{m}) - \\alpha\\frac{1}{m}\\big[h_\\theta(x^{(i)})-y^{(i)})x_j^{(i)} \\big]$$\n",
    "\n",
    "This also involves updating the cost function to include regularization:\n",
    "\n",
    "$$ J(\\theta) = - \\frac{1}{m}\\sum_{i=1}^{m}y^{(i)}log(h_\\theta(x^{(i)}))+\n",
    "(1-y^{(i)})log(1-h_\\theta(x^{(i)}) + \\frac{\\lambda}{2m}\\sum_{j=1}^{n}\\theta_j^2$$"
   ]
  },
  {
   "cell_type": "code",
   "execution_count": 19,
   "metadata": {},
   "outputs": [],
   "source": [
    "# Log loss for logistic regression\n",
    "def get_cost_reg(X,y,weight,bias,lmbda):\n",
    "    inner = (y*np.log(sigmoid(bias+np.dot(X,weight.T)))+(1-y)*np.log(1-(sigmoid(bias+np.dot(X,weight.T)))))\n",
    "    return -np.average(inner+((lmbda/(2*len(X))*np.sum(weight**2))))"
   ]
  },
  {
   "cell_type": "code",
   "execution_count": 20,
   "metadata": {},
   "outputs": [],
   "source": [
    "# Updates the weights and bias terms based on gradient descent\n",
    "def update_param_reg(X,y,weight,bias,lr,lmbda):\n",
    "    \"\"\"\n",
    "    X.shape = (100,2)\n",
    "    y.shape = (100,1)\n",
    "    weight.shape = (1,2)\n",
    "    \"\"\"\n",
    "    df_dm = (1/len(X)) * np.dot((sigmoid(np.dot(X,weight.T))-y).T,X) #may need a negative\n",
    "    df_db = np.average(sigmoid(np.dot(X,weight.T))-y)\n",
    "    weight = weight * (1-lr*(lmbda/len(X))) - (lr * df_dm)\n",
    "    bias = bias - (lr * df_db)\n",
    "    return weight,bias"
   ]
  },
  {
   "cell_type": "code",
   "execution_count": 21,
   "metadata": {},
   "outputs": [],
   "source": [
    "def train_model_reg(X,y,weight,bias,iters,lmbda,lr=0.01):\n",
    "    costs = []\n",
    "    for i in range(iters):\n",
    "        weight,bias = update_param_reg(X,y,weight,bias,lr,lmbda)\n",
    "        cost = get_cost_reg(X,y,weight,bias,lmbda)\n",
    "        costs.append(cost)\n",
    "        \n",
    "    return weight,bias,costs"
   ]
  },
  {
   "cell_type": "code",
   "execution_count": 22,
   "metadata": {},
   "outputs": [],
   "source": [
    "# Initializing params to test my regularized model\n",
    "reg_weight = np.array([[0,0]])\n",
    "reg_bias = 0\n",
    "assert reg_weight.shape == (1,2)"
   ]
  },
  {
   "cell_type": "code",
   "execution_count": 23,
   "metadata": {},
   "outputs": [
    {
     "name": "stdout",
     "output_type": "stream",
     "text": [
      "lambda value:0.1, end cost: 0.11042435898469016\n",
      "lambda value:0.5, end cost: 0.0976078377598351\n",
      "lambda value:1, end cost: 0.10851937681536368\n",
      "lambda value:3, end cost: 0.20778001817220307\n",
      "lambda value:5, end cost: 0.29857256585117115\n"
     ]
    }
   ],
   "source": [
    "lmbdas = [0.1,0.5,1,3,5]\n",
    "end_costs = []\n",
    "for lmbda in lmbdas:\n",
    "    _,_,reg_costs = train_model_reg(X,y,reg_weight,reg_bias,10000,lmbda,0.01)\n",
    "    end_costs.append(reg_costs[-1])\n",
    "    print(\"lambda value:{}, end cost: {}\".format(lmbda,reg_costs[-1]))"
   ]
  },
  {
   "cell_type": "code",
   "execution_count": 24,
   "metadata": {},
   "outputs": [],
   "source": [
    "reg_weight = np.array([[0,0]])\n",
    "reg_bias = 0\n",
    "assert reg_weight.shape == (1,2)"
   ]
  },
  {
   "cell_type": "code",
   "execution_count": 25,
   "metadata": {},
   "outputs": [],
   "source": [
    "# It seems the lambda value of 0.5 worked the best so I will test the accuracy of that model\n",
    "# Note that the new final cost value is smaller than my model without regularization\n",
    "reg_weight,reg_bias,reg_costs = train_model_reg(X,y,reg_weight,reg_bias,13000,0.5,0.01)"
   ]
  },
  {
   "cell_type": "code",
   "execution_count": 26,
   "metadata": {},
   "outputs": [
    {
     "name": "stdout",
     "output_type": "stream",
     "text": [
      "Accuracy: 0.94\n"
     ]
    }
   ],
   "source": [
    "# Checking the accuracy score of my new model\n",
    "\"\"\" Although the cost is lower, the accuracy is lower. This is not surprising given that increasing regularization\n",
    "    ultimately is meant to reduce overfitting and I havn't done any train test split and thus overfitting on the \n",
    "    training data in this case would lead to a higher accuracy score. \n",
    "\"\"\"\n",
    "reg_pred = predictions(X,reg_weight,reg_bias)\n",
    "reg_pred[reg_pred >= 0.5] = 1\n",
    "reg_pred[reg_pred < 0.5] = 0\n",
    "accuracy = accuracy_score(y,reg_pred)\n",
    "print(\"Accuracy:\", accuracy)"
   ]
  },
  {
   "cell_type": "code",
   "execution_count": 27,
   "metadata": {},
   "outputs": [
    {
     "data": {
      "image/png": "[encoded data removed]",
      "text/plain": [
       "<Figure size 432x288 with 1 Axes>"
      ]
     },
     "metadata": {},
     "output_type": "display_data"
    }
   ],
   "source": [
    "time_multi = [i for i in range(13000)]\n",
    "# Graphing my cost function\n",
    "plt.plot(time_multi, reg_costs)\n",
    "plt.title(\"Cost vs Time Logistic Regression, Regularized\")\n",
    "plt.xlabel(\"Step Number\")\n",
    "plt.ylabel(\"Cost\")\n",
    "plt.show()"
   ]
  },
  {
   "cell_type": "code",
   "execution_count": null,
   "metadata": {},
   "outputs": [],
   "source": []
  }
 ],
 "metadata": {
  "kernelspec": {
   "display_name": "Python 3",
   "language": "python",
   "name": "python3"
  },
  "language_info": {
   "codemirror_mode": {
    "name": "ipython",
    "version": 3
   },
   "file_extension": ".py",
   "mimetype": "text/x-python",
   "name": "python",
   "nbconvert_exporter": "python",
   "pygments_lexer": "ipython3",
   "version": "3.6.5"
  }
 },
 "nbformat": 4,
 "nbformat_minor": 2
}
