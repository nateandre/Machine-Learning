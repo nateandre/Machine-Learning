{
 "cells": [
  {
   "cell_type": "markdown",
   "metadata": {},
   "source": [
    "## Saliency maps using backpropagation"
   ]
  },
  {
   "cell_type": "code",
   "execution_count": 1,
   "metadata": {},
   "outputs": [],
   "source": [
    "import tensorflow as tf\n",
    "from tensorflow.keras.layers import Input,Dense,Reshape,Activation\n",
    "from tensorflow.keras.optimizers import Adam\n",
    "from tensorflow.keras.models import Model,Sequential\n",
    "from tensorflow.keras.losses import SparseCategoricalCrossentropy\n",
    "import numpy as np\n",
    "import matplotlib.pyplot as plt\n",
    "\n",
    "import warnings\n",
    "warnings.filterwarnings('ignore')"
   ]
  },
  {
   "cell_type": "code",
   "execution_count": 2,
   "metadata": {},
   "outputs": [
    {
     "data": {
      "text/plain": [
       "((24600, 784), (24600,))"
      ]
     },
     "execution_count": 2,
     "metadata": {},
     "output_type": "execute_result"
    }
   ],
   "source": [
    "(x_train, y_train),(x_test, y_test) = tf.keras.datasets.mnist.load_data()\n",
    "x_train = x_train.astype('float32')\n",
    "y_train = y_train.astype('float32')\n",
    "x_train = x_train[y_train <= 3] # using numbers 0,..,3\n",
    "y_train = y_train[y_train <= 3]\n",
    "x_train = np.expand_dims(x_train,axis=-1)\n",
    "x_train,y_train = x_train[:24600],y_train[:24600]\n",
    "x_train = np.reshape(x_train,(24600,-1))\n",
    "x_train.shape,y_train.shape"
   ]
  },
  {
   "cell_type": "code",
   "execution_count": 3,
   "metadata": {},
   "outputs": [],
   "source": [
    "x_train = x_train/255 # scaling the images"
   ]
  },
  {
   "cell_type": "code",
   "execution_count": null,
   "metadata": {},
   "outputs": [],
   "source": []
  },
  {
   "cell_type": "code",
   "execution_count": 4,
   "metadata": {},
   "outputs": [],
   "source": [
    "def get_model():\n",
    "    \"\"\" Simple feed-forward model\n",
    "    \"\"\"\n",
    "    x = Input(shape=(784))\n",
    "    h1 = Dense(100,activation='relu')(x)\n",
    "    h2 = Dense(50,activation='relu')(h1)\n",
    "    o = Dense(4,activation=None)(h2)\n",
    "    \n",
    "    model = Model(inputs=x,outputs=o)\n",
    "    return model"
   ]
  },
  {
   "cell_type": "code",
   "execution_count": 5,
   "metadata": {},
   "outputs": [],
   "source": [
    "@tf.function\n",
    "def train(model,optimizer,x_train_subset,y_train_subset):\n",
    "    with tf.GradientTape() as tape:\n",
    "        o = model(x_train_subset)\n",
    "        loss = SparseCategoricalCrossentropy(from_logits=True)(y_train_subset,o)\n",
    "        \n",
    "    gradients = tape.gradient(loss, model.trainable_variables)\n",
    "    optimizer.apply_gradients(zip(gradients, model.trainable_variables))\n",
    "    return loss"
   ]
  },
  {
   "cell_type": "code",
   "execution_count": 6,
   "metadata": {},
   "outputs": [],
   "source": [
    "model = get_model()"
   ]
  },
  {
   "cell_type": "code",
   "execution_count": null,
   "metadata": {},
   "outputs": [],
   "source": []
  },
  {
   "cell_type": "code",
   "execution_count": 7,
   "metadata": {
    "scrolled": true
   },
   "outputs": [
    {
     "name": "stdout",
     "output_type": "stream",
     "text": [
      "Epoch 1: 0.100432\n",
      "Epoch 2: 0.055741\n",
      "Epoch 3: 0.047627\n",
      "Epoch 4: 0.032283\n",
      "Epoch 5: 0.023064\n"
     ]
    }
   ],
   "source": [
    "batch_size=50\n",
    "epochs=5\n",
    "optimizer = Adam(lr=0.01)\n",
    "\n",
    "for epoch_i in range(epochs):\n",
    "    losses = []\n",
    "    for i in range(0,len(x_train),batch_size):\n",
    "        x_train_subset = x_train[i:i+batch_size]\n",
    "        y_train_subset = y_train[i:i+batch_size]\n",
    "        batch_loss = train(model,optimizer,x_train_subset,y_train_subset)\n",
    "        losses.append(float(batch_loss))\n",
    "        \n",
    "    print(\"Epoch {}: {}\".format(epoch_i+1,round(sum(losses)/len(losses),6)))"
   ]
  },
  {
   "cell_type": "code",
   "execution_count": null,
   "metadata": {},
   "outputs": [],
   "source": []
  },
  {
   "cell_type": "code",
   "execution_count": 8,
   "metadata": {},
   "outputs": [
    {
     "data": {
      "image/png": "[encoded data removed]",
      "text/plain": [
       "<Figure size 432x288 with 2 Axes>"
      ]
     },
     "metadata": {},
     "output_type": "display_data"
    },
    {
     "data": {
      "image/png": "[encoded data removed]",
      "text/plain": [
       "<Figure size 432x288 with 2 Axes>"
      ]
     },
     "metadata": {},
     "output_type": "display_data"
    },
    {
     "data": {
      "image/png": "[encoded data removed]",
      "text/plain": [
       "<Figure size 432x288 with 2 Axes>"
      ]
     },
     "metadata": {},
     "output_type": "display_data"
    },
    {
     "data": {
      "image/png": "[encoded data removed]",
      "text/plain": [
       "<Figure size 432x288 with 2 Axes>"
      ]
     },
     "metadata": {},
     "output_type": "display_data"
    }
   ],
   "source": [
    "for x_i in [0,1,2,4]:\n",
    "    x_ = np.expand_dims(x_train[x_i],axis=0)\n",
    "    x_ = tf.Variable(x_,trainable=True)\n",
    "    with tf.GradientTape() as tape:\n",
    "        tape.watch(x_)\n",
    "        o = model(x_)\n",
    "    gradients = tape.gradient(o,x_).numpy()\n",
    "    \n",
    "    plt.subplot(1,2,1)\n",
    "    plt.imshow(np.reshape(x_train[x_i],(28,28)),cmap=\"gray\")\n",
    "    plt.subplot(1,2,2)\n",
    "    plt.imshow(np.reshape(x_train[x_i]*np.abs(gradients),(28,28)))\n",
    "    plt.show()"
   ]
  },
  {
   "cell_type": "code",
   "execution_count": null,
   "metadata": {},
   "outputs": [],
   "source": []
  }
 ],
 "metadata": {
  "kernelspec": {
   "display_name": "Python 3",
   "language": "python",
   "name": "python3"
  },
  "language_info": {
   "codemirror_mode": {
    "name": "ipython",
    "version": 3
   },
   "file_extension": ".py",
   "mimetype": "text/x-python",
   "name": "python",
   "nbconvert_exporter": "python",
   "pygments_lexer": "ipython3",
   "version": "3.6.5"
  }
 },
 "nbformat": 4,
 "nbformat_minor": 2
}
