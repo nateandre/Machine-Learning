{
 "cells": [
  {
   "cell_type": "markdown",
   "metadata": {},
   "source": [
    "## Prototype Network\n",
    "\n",
    "Based on the paper: <i>Deep Learning for Case-Based Reasoning through Prototypes: A Neural Network that Explains Its Predictions</i>."
   ]
  },
  {
   "cell_type": "code",
   "execution_count": 1,
   "metadata": {},
   "outputs": [],
   "source": [
    "import tensorflow as tf\n",
    "from tensorflow.keras.layers import Input,Dense,Reshape,Dropout,BatchNormalization,Activation,UpSampling2D\n",
    "from tensorflow.keras.layers import BatchNormalization,Conv2D,LeakyReLU,Flatten,Conv2DTranspose,Embedding,RepeatVector\n",
    "from tensorflow.keras.optimizers import Adam\n",
    "from tensorflow.keras.models import Model,Sequential\n",
    "from tensorflow.keras.losses import BinaryCrossentropy,SparseCategoricalCrossentropy,MeanSquaredError\n",
    "import numpy as np\n",
    "import matplotlib.pyplot as plt\n",
    "\n",
    "import warnings\n",
    "warnings.filterwarnings('ignore')"
   ]
  },
  {
   "cell_type": "code",
   "execution_count": 2,
   "metadata": {},
   "outputs": [
    {
     "data": {
      "text/plain": [
       "((24600, 28, 28, 1), (24600,))"
      ]
     },
     "execution_count": 2,
     "metadata": {},
     "output_type": "execute_result"
    }
   ],
   "source": [
    "(x_train, y_train),(x_test, y_test) = tf.keras.datasets.mnist.load_data()\n",
    "x_train = x_train.astype('float32')\n",
    "y_train = y_train.astype('float32')\n",
    "x_train = x_train[y_train <= 3] # using numbers 0,..,3\n",
    "y_train = y_train[y_train <= 3]\n",
    "x_train = np.expand_dims(x_train,axis=-1)\n",
    "x_train,y_train = x_train[:24600],y_train[:24600]\n",
    "x_train.shape,y_train.shape"
   ]
  },
  {
   "cell_type": "code",
   "execution_count": 3,
   "metadata": {},
   "outputs": [],
   "source": [
    "x_train = x_train/255 # scaling the images"
   ]
  },
  {
   "cell_type": "code",
   "execution_count": 4,
   "metadata": {},
   "outputs": [
    {
     "data": {
      "image/png": "[encoded data removed]",
      "text/plain": [
       "<Figure size 432x288 with 4 Axes>"
      ]
     },
     "metadata": {},
     "output_type": "display_data"
    }
   ],
   "source": [
    "plt.subplot(1,4,1)\n",
    "plt.imshow(x_train[0][:,:,0],cmap=\"gray\")\n",
    "plt.subplot(1,4,2)\n",
    "plt.imshow(x_train[1][:,:,0],cmap=\"gray\")\n",
    "plt.subplot(1,4,3)\n",
    "plt.imshow(x_train[2][:,:,0],cmap=\"gray\")\n",
    "plt.subplot(1,4,4)\n",
    "plt.imshow(x_train[4][:,:,0],cmap=\"gray\")\n",
    "plt.show()"
   ]
  },
  {
   "cell_type": "markdown",
   "metadata": {},
   "source": [
    "### Model Implementation"
   ]
  },
  {
   "cell_type": "code",
   "execution_count": 5,
   "metadata": {},
   "outputs": [],
   "source": [
    "def get_encoder():\n",
    "    \"\"\" Encoder model\n",
    "    \"\"\"\n",
    "    x = Input(shape=(28,28,1))\n",
    "    h = Conv2D(filters=32,kernel_size=3,strides=2,padding='same',activation='relu')(x) # 14x14x32\n",
    "    h = Conv2D(filters=16,kernel_size=3,strides=2,padding='valid',activation='relu')(h) # 7x7x16\n",
    "    h = Conv2D(filters=8,kernel_size=3,strides=2,padding='same',activation='sigmoid')(h) # 3x3x8 -> unit hypercube\n",
    "    h = Flatten()(h) # nx72\n",
    "    \n",
    "    model = Model(inputs=x,outputs=h)\n",
    "    return model\n",
    "    \n",
    "def get_decoder():\n",
    "    \"\"\" Decoder model\n",
    "    \"\"\"\n",
    "    x = Input(shape=(72))\n",
    "    h = Reshape((3,3,8))(x)\n",
    "    h = Conv2DTranspose(filters=16,kernel_size=3,strides=2,padding='valid',activation='relu')(h) # 7x7x16\n",
    "    h = Conv2DTranspose(filters=32,kernel_size=3,strides=2,padding='same',activation='relu')(h) # 14x14x32\n",
    "    o = Conv2DTranspose(filters=1,kernel_size=3,strides=2,padding='same',activation='sigmoid')(h) # 28x28x1\n",
    "    \n",
    "    model = Model(inputs=x,outputs=o)\n",
    "    return model"
   ]
  },
  {
   "cell_type": "code",
   "execution_count": 6,
   "metadata": {},
   "outputs": [],
   "source": [
    "def get_prototype_network(encoder,decoder,embedder):\n",
    "    \"\"\" Prototype network\n",
    "    \"\"\"\n",
    "    x = Input(shape=(28,28,1))\n",
    "    e = encoder(x)\n",
    "    d = decoder(e)\n",
    "    emb_input=Input(shape=(8))\n",
    "    prototypes = embedder(emb_input)\n",
    "    \n",
    "    e_rep = RepeatVector(8)(e)\n",
    "    prototype_distances = tf.sqrt(tf.reduce_sum((e_rep-prototypes)**2,axis=-1)) # euclidian dist. between input embedding and each prototype \n",
    "    pred = Dense(4,activation='softmax')(prototype_distances)\n",
    "    \n",
    "    model = Model(inputs=[x,emb_input],outputs=[d,e,prototypes,pred])\n",
    "    return model"
   ]
  },
  {
   "cell_type": "code",
   "execution_count": 7,
   "metadata": {},
   "outputs": [],
   "source": [
    "# embedding layer is used to represent the prototype vectors\n",
    "embedder = Embedding(input_dim=8,output_dim=72,weights=[Activation('sigmoid')(np.random.randn(8,72).astype(\"float32\")).numpy()])\n",
    "encoder = get_encoder()\n",
    "decoder = get_decoder()\n",
    "\n",
    "model = get_prototype_network(encoder,decoder,embedder)"
   ]
  },
  {
   "cell_type": "code",
   "execution_count": 8,
   "metadata": {},
   "outputs": [],
   "source": [
    "def loss_func(y_train_subset,pred,x_train_subset,dec,e,prototypes,proto_lam=0.05,input_lam=0.05,enc_lam=0.05):\n",
    "    \"\"\"\n",
    "    \"\"\"\n",
    "    pred_loss = SparseCategoricalCrossentropy()(y_train_subset,pred)\n",
    "    enc_loss = tf.sqrt(MeanSquaredError()(x_train_subset,dec))\n",
    "    \n",
    "    e_ = tf.expand_dims(e,axis=0)\n",
    "    prototypes_ = tf.expand_dims(prototypes[0,:,:],axis=1)\n",
    "    prototype_input_euclid_dist = tf.sqrt(tf.reduce_sum((tf.subtract(e_,prototypes_))**2,axis=-1)) # n_prototypes x n_inputs\n",
    "    prototype_min_dist = tf.reduce_mean(tf.reduce_min(prototype_input_euclid_dist,axis=1)) # min distance from each prototype to an input\n",
    "    input_min_dist = tf.reduce_mean(tf.reduce_min(prototype_input_euclid_dist,axis=0)) # min distance from each input to a prototype\n",
    "    \n",
    "    loss = pred_loss+(enc_lam*enc_loss)+(proto_lam*prototype_min_dist)+(input_lam*input_min_dist)\n",
    "    return loss"
   ]
  },
  {
   "cell_type": "code",
   "execution_count": 9,
   "metadata": {},
   "outputs": [],
   "source": [
    "@tf.function\n",
    "def train(model,optimizer,x_train_subset,emb_input,y_train_subset):\n",
    "    \"\"\"\n",
    "    \"\"\"\n",
    "    with tf.GradientTape() as tape:\n",
    "        dec,e,prototypes,pred = model([x_train_subset,emb_input])\n",
    "        loss = loss_func(y_train_subset,pred,x_train_subset,dec,e,prototypes)\n",
    "    \n",
    "    gradients = tape.gradient(loss, model.trainable_variables)\n",
    "    optimizer.apply_gradients(zip(gradients, model.trainable_variables))\n",
    "    return loss"
   ]
  },
  {
   "cell_type": "markdown",
   "metadata": {},
   "source": [
    "### Model training"
   ]
  },
  {
   "cell_type": "code",
   "execution_count": 10,
   "metadata": {},
   "outputs": [
    {
     "name": "stdout",
     "output_type": "stream",
     "text": [
      "Epoch 1: 0.636949\n",
      "Epoch 2: 0.224186\n",
      "Epoch 3: 0.15855\n",
      "Epoch 4: 0.134991\n",
      "Epoch 5: 0.121873\n",
      "Epoch 6: 0.112951\n",
      "Epoch 7: 0.105664\n",
      "Epoch 8: 0.100451\n",
      "Epoch 9: 0.095307\n",
      "Epoch 10: 0.088935\n"
     ]
    }
   ],
   "source": [
    "batch_size=200\n",
    "optimizer=Adam(lr=0.01)\n",
    "epochs=10\n",
    "emb_input = np.array([[0,1,2,3,4,5,6,7] for _ in range(batch_size)])\n",
    "\n",
    "for epoch_i in range(epochs):\n",
    "    losses = []\n",
    "    for i in range(0,len(x_train),batch_size):\n",
    "        x_train_subset = x_train[i:i+batch_size]\n",
    "        y_train_subset = y_train[i:i+batch_size]\n",
    "        batch_loss = train(model,optimizer,x_train_subset,emb_input,y_train_subset)\n",
    "        losses.append(float(batch_loss))\n",
    "        \n",
    "    print(\"Epoch {}: {}\".format(epoch_i+1,round(sum(losses)/len(losses),6)))"
   ]
  },
  {
   "cell_type": "code",
   "execution_count": null,
   "metadata": {},
   "outputs": [],
   "source": []
  },
  {
   "cell_type": "code",
   "execution_count": 11,
   "metadata": {},
   "outputs": [],
   "source": [
    "prototype_emb = embedder(np.array([0,1,2,3,4,5,6,7]))\n",
    "d = decoder(prototype_emb)[:,:,:,0]"
   ]
  },
  {
   "cell_type": "code",
   "execution_count": 12,
   "metadata": {},
   "outputs": [
    {
     "data": {
      "image/png": "[encoded data removed]",
      "text/plain": [
       "<Figure size 1008x288 with 8 Axes>"
      ]
     },
     "metadata": {},
     "output_type": "display_data"
    }
   ],
   "source": [
    "plt.figure(figsize=(14,4))\n",
    "for i in range(8):\n",
    "    plt.subplot(1,8,i+1)\n",
    "    plt.imshow(d[i,:,:],cmap=\"gray\")\n",
    "\n",
    "plt.show()"
   ]
  },
  {
   "cell_type": "code",
   "execution_count": null,
   "metadata": {},
   "outputs": [],
   "source": []
  }
 ],
 "metadata": {
  "kernelspec": {
   "display_name": "Python 3",
   "language": "python",
   "name": "python3"
  },
  "language_info": {
   "codemirror_mode": {
    "name": "ipython",
    "version": 3
   },
   "file_extension": ".py",
   "mimetype": "text/x-python",
   "name": "python",
   "nbconvert_exporter": "python",
   "pygments_lexer": "ipython3",
   "version": "3.6.5"
  }
 },
 "nbformat": 4,
 "nbformat_minor": 2
}
