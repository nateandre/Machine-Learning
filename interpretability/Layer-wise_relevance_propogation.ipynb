{
 "cells": [
  {
   "cell_type": "markdown",
   "metadata": {},
   "source": [
    "## Layer-wise Relevance Propogation\n",
    "\n",
    "Based on the papers: <i>On Pixel-Wise Explanations for Non-Linear Classifier Decisions by Layer-Wise Relevance Propagation</i> and <i>Layer-Wise Relevance Propagation for Deep Neural Network Architectures</i>."
   ]
  },
  {
   "cell_type": "markdown",
   "metadata": {},
   "source": [
    "Relevance score for node i in layer l:\n",
    "\n",
    "$$ R_{\\ell}^{i} = \\bigg( \\beta*\\frac{z_{ij}^{+}}{z_{j}^{+}} + (1-\\beta)*\\frac{z_{ij}^{-}}{z_{j}^{-}} \\bigg) R_{\\ell+1}^{j} $$ "
   ]
  },
  {
   "cell_type": "code",
   "execution_count": 1,
   "metadata": {},
   "outputs": [],
   "source": [
    "import tensorflow as tf\n",
    "from tensorflow.keras.layers import Input,Dense,Reshape,Activation\n",
    "from tensorflow.keras.optimizers import Adam\n",
    "from tensorflow.keras.models import Model,Sequential\n",
    "from tensorflow.keras.losses import SparseCategoricalCrossentropy\n",
    "import numpy as np\n",
    "import matplotlib.pyplot as plt\n",
    "\n",
    "import warnings\n",
    "warnings.filterwarnings('ignore')"
   ]
  },
  {
   "cell_type": "code",
   "execution_count": 2,
   "metadata": {},
   "outputs": [
    {
     "data": {
      "text/plain": [
       "((24600, 784), (24600,))"
      ]
     },
     "execution_count": 2,
     "metadata": {},
     "output_type": "execute_result"
    }
   ],
   "source": [
    "(x_train, y_train),(x_test, y_test) = tf.keras.datasets.mnist.load_data()\n",
    "x_train = x_train.astype('float32')\n",
    "y_train = y_train.astype('float32')\n",
    "x_train = x_train[y_train <= 3] # using numbers 0,..,3\n",
    "y_train = y_train[y_train <= 3]\n",
    "x_train = np.expand_dims(x_train,axis=-1)\n",
    "x_train,y_train = x_train[:24600],y_train[:24600]\n",
    "x_train = np.reshape(x_train,(24600,-1))\n",
    "x_train.shape,y_train.shape"
   ]
  },
  {
   "cell_type": "code",
   "execution_count": 3,
   "metadata": {},
   "outputs": [],
   "source": [
    "x_train = x_train/255 # scaling the images"
   ]
  },
  {
   "cell_type": "code",
   "execution_count": null,
   "metadata": {},
   "outputs": [],
   "source": []
  },
  {
   "cell_type": "code",
   "execution_count": 4,
   "metadata": {},
   "outputs": [],
   "source": [
    "def get_model():\n",
    "    \"\"\" Simple feed-forward model\n",
    "    \"\"\"\n",
    "    x = Input(shape=(784))\n",
    "    h1 = Dense(100,activation='relu')(x)\n",
    "    h2 = Dense(50,activation='relu')(h1)\n",
    "    o = Dense(4,activation='softmax')(h2)\n",
    "    \n",
    "    model = Model(inputs=x,outputs=[h1,h2,o])\n",
    "    return model"
   ]
  },
  {
   "cell_type": "code",
   "execution_count": 5,
   "metadata": {},
   "outputs": [],
   "source": [
    "@tf.function\n",
    "def train(model,optimizer,x_train_subset,y_train_subset):\n",
    "    with tf.GradientTape() as tape:\n",
    "        _,_,o = model(x_train_subset)\n",
    "        loss = SparseCategoricalCrossentropy()(y_train_subset,o)\n",
    "        \n",
    "    gradients = tape.gradient(loss, model.trainable_variables)\n",
    "    optimizer.apply_gradients(zip(gradients, model.trainable_variables))\n",
    "    return loss"
   ]
  },
  {
   "cell_type": "code",
   "execution_count": 6,
   "metadata": {},
   "outputs": [],
   "source": [
    "model = get_model()"
   ]
  },
  {
   "cell_type": "code",
   "execution_count": null,
   "metadata": {},
   "outputs": [],
   "source": []
  },
  {
   "cell_type": "code",
   "execution_count": 7,
   "metadata": {},
   "outputs": [
    {
     "name": "stdout",
     "output_type": "stream",
     "text": [
      "Epoch 1: 0.102313\n",
      "Epoch 2: 0.051911\n",
      "Epoch 3: 0.037706\n",
      "Epoch 4: 0.031262\n",
      "Epoch 5: 0.032465\n"
     ]
    }
   ],
   "source": [
    "batch_size=50\n",
    "epochs=5\n",
    "optimizer = Adam(lr=0.01)\n",
    "\n",
    "for epoch_i in range(epochs):\n",
    "    losses = []\n",
    "    for i in range(0,len(x_train),batch_size):\n",
    "        x_train_subset = x_train[i:i+batch_size]\n",
    "        y_train_subset = y_train[i:i+batch_size]\n",
    "        batch_loss = train(model,optimizer,x_train_subset,y_train_subset)\n",
    "        losses.append(float(batch_loss))\n",
    "        \n",
    "    print(\"Epoch {}: {}\".format(epoch_i+1,round(sum(losses)/len(losses),6)))"
   ]
  },
  {
   "cell_type": "code",
   "execution_count": null,
   "metadata": {},
   "outputs": [],
   "source": []
  },
  {
   "cell_type": "code",
   "execution_count": 8,
   "metadata": {},
   "outputs": [],
   "source": [
    "weights = {} # store all weights as numpy arrays\n",
    "for i in range(0,len(model.trainable_variables)//2):\n",
    "    weights[\"w\"+str(i+1)] = model.trainable_variables[i*2].numpy()\n",
    "    weights[\"b\"+str(i+1)] = model.trainable_variables[i*2+1].numpy()"
   ]
  },
  {
   "cell_type": "code",
   "execution_count": 9,
   "metadata": {},
   "outputs": [],
   "source": [
    "def generate_lrp_heatmap(example,weights,beta=0.5):\n",
    "    \"\"\"\n",
    "    \"\"\"\n",
    "    example_to_print = example.reshape(28,28)\n",
    "    example = np.expand_dims(example,axis=0)\n",
    "    \n",
    "    a1,a2,a3 = model(example)\n",
    "    a1,a2,a3 = a1.numpy(),a2.numpy(),a3.numpy()\n",
    "    inputs = {'a0':example,'a1':a1,'a2':a2}\n",
    "    \n",
    "    prev_r = [list(a3[0])] # the relevance of the previous layer\n",
    "\n",
    "    for i in [3,2,1]:\n",
    "        # getting relevance scores for all nodes in layer l, based on layer l+1:\n",
    "        r_scores = [0 for _ in range(inputs['a'+str(i-1)].shape[-1])] # init scores for this layer\n",
    "        prev_r_scores = prev_r[-1]\n",
    "\n",
    "        for r_i in range(len(prev_r_scores)):\n",
    "\n",
    "            z_i = np.squeeze((inputs['a'+str(i-1)]*weights['w'+str(i)][:,r_i]) + weights['b'+str(i)][r_i])\n",
    "            z_plus = np.sum(z_i[z_i>=0])\n",
    "            z_minus = np.sum(z_i[z_i<0])\n",
    "\n",
    "            for j,z in enumerate(z_i):\n",
    "                if z>=0:\n",
    "                    z_score = beta*(z/z_plus)*prev_r_scores[r_i]\n",
    "                else: # z<0\n",
    "                    z_score = (1-beta)*(z/z_minus)*prev_r_scores[r_i]\n",
    "                r_scores[j]+=z_score\n",
    "\n",
    "        r_scores = r_scores/sum(r_scores)\n",
    "        prev_r.append(r_scores)\n",
    "        \n",
    "    heatmap = np.reshape(np.array(r_scores),(28,28))\n",
    "    return example_to_print,heatmap"
   ]
  },
  {
   "cell_type": "code",
   "execution_count": null,
   "metadata": {},
   "outputs": [],
   "source": []
  },
  {
   "cell_type": "code",
   "execution_count": 10,
   "metadata": {},
   "outputs": [
    {
     "data": {
      "image/png": "[encoded data removed]",
      "text/plain": [
       "<Figure size 432x288 with 2 Axes>"
      ]
     },
     "metadata": {},
     "output_type": "display_data"
    },
    {
     "data": {
      "image/png": "[encoded data removed]",
      "text/plain": [
       "<Figure size 432x288 with 2 Axes>"
      ]
     },
     "metadata": {},
     "output_type": "display_data"
    },
    {
     "data": {
      "image/png": "[encoded data removed]",
      "text/plain": [
       "<Figure size 432x288 with 2 Axes>"
      ]
     },
     "metadata": {},
     "output_type": "display_data"
    },
    {
     "data": {
      "image/png": "[encoded data removed]",
      "text/plain": [
       "<Figure size 432x288 with 2 Axes>"
      ]
     },
     "metadata": {},
     "output_type": "display_data"
    }
   ],
   "source": [
    "for i in [0,1,2,4]:\n",
    "    example_to_print,heatmap = generate_lrp_heatmap(x_train[i],weights)\n",
    "    plt.subplot(1,2,1)\n",
    "    plt.imshow(example_to_print,cmap=\"gray\")\n",
    "    plt.subplot(1,2,2)\n",
    "    plt.imshow(heatmap)\n",
    "    plt.show()"
   ]
  },
  {
   "cell_type": "code",
   "execution_count": null,
   "metadata": {},
   "outputs": [],
   "source": []
  }
 ],
 "metadata": {
  "kernelspec": {
   "display_name": "Python 3",
   "language": "python",
   "name": "python3"
  },
  "language_info": {
   "codemirror_mode": {
    "name": "ipython",
    "version": 3
   },
   "file_extension": ".py",
   "mimetype": "text/x-python",
   "name": "python",
   "nbconvert_exporter": "python",
   "pygments_lexer": "ipython3",
   "version": "3.6.5"
  }
 },
 "nbformat": 4,
 "nbformat_minor": 2
}
