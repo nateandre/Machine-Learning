{
 "cells": [
  {
   "cell_type": "markdown",
   "metadata": {},
   "source": [
    "## Virtual adversarial training implementation\n",
    "\n",
    "Based on the papers: <i>Virtual Adversarial Training: A Regularization Method for Supervised and Semi-supervised Learning</i> and <i>Adversarial Training Methods for Semi-supervised Text Classification</i>. \n",
    "\n",
    "The adversarial loss component is defined as follows: \n",
    "\n",
    "$$ KL[p(y|x; \\theta) || p(y|x+r_{adv}; \\theta)] $$\n",
    "\n",
    "$$ r_{adv} = \\epsilon * g/||g||_2 \\space where \\space g = \\nabla_r KL[p(y|x; \\theta) || p(y|x+r; \\theta)] $$\n",
    "\n",
    "In effect we calculated a vector r_adv which increases the loss with respect to the ground truth label y. We then train the model to effectively view this slight peturbation as being nothing more than noise, and so the peturbed input should still be assigned the same label y by the model. Note: due to standard gradient issues with softmax saturation, we utilize softmax with temperature."
   ]
  },
  {
   "cell_type": "code",
   "execution_count": 1,
   "metadata": {},
   "outputs": [],
   "source": [
    "import tensorflow as tf\n",
    "from tensorflow.keras import backend as K\n",
    "from tensorflow.keras.optimizers import Adam\n",
    "from tensorflow.keras.losses import SparseCategoricalCrossentropy,KLDivergence\n",
    "from tensorflow.keras.layers import Input,Dense,Reshape,Activation,Flatten\n",
    "from tensorflow.keras.models import Model\n",
    "import matplotlib.pyplot as plt\n",
    "from collections import defaultdict\n",
    "from matplotlib import image as plt_image\n",
    "from sklearn.metrics import recall_score\n",
    "from sklearn.utils import shuffle\n",
    "import numpy as np\n",
    "import requests\n",
    "import json\n",
    "\n",
    "import warnings\n",
    "warnings.filterwarnings(\"ignore\")"
   ]
  },
  {
   "cell_type": "code",
   "execution_count": 2,
   "metadata": {},
   "outputs": [],
   "source": [
    "def get_data_subset(x,y,n=200):\n",
    "    \"\"\" returns n examples for each unique class in the training set\n",
    "    \"\"\"\n",
    "    data_store = defaultdict(list)\n",
    "    for i,y_i in enumerate(y):\n",
    "        data_store[int(y_i)].append(np.expand_dims(x[i],axis=0))\n",
    "        \n",
    "    x_subset = []\n",
    "    y_subset = []\n",
    "    for unique_y_i in data_store:\n",
    "        y_subset += [unique_y_i for _ in range(n)]\n",
    "        x_subset += data_store[unique_y_i][:n]\n",
    "    \n",
    "    x_subset,y_subset = shuffle(np.vstack(x_subset),np.array(y_subset),random_state=1)\n",
    "    return x_subset,y_subset"
   ]
  },
  {
   "cell_type": "code",
   "execution_count": 3,
   "metadata": {},
   "outputs": [
    {
     "name": "stdout",
     "output_type": "stream",
     "text": [
      "(1000, 28, 28, 1) (1000,) (5139, 28, 28, 1) (5139, 1)\n"
     ]
    }
   ],
   "source": [
    "mnist = tf.keras.datasets.mnist.load_data()\n",
    "x_train,y_train,x_test,y_test = mnist[0][0],mnist[0][1],mnist[1][0],mnist[1][1]\n",
    "x_train,y_train = x_train.astype(\"float32\"),y_train.astype(\"int32\")\n",
    "x_test,y_test = x_test.astype(\"float32\"),y_test.astype(\"int32\")\n",
    "x_train,y_train = x_train[y_train <= 4],y_train[y_train <= 4]\n",
    "x_test,y_test = x_test[y_test <= 4],y_test[y_test <= 4]\n",
    "x_train,y_train = np.expand_dims(x_train,axis=-1),np.expand_dims(y_train,axis=-1)\n",
    "x_test,y_test = np.expand_dims(x_test,axis=-1),np.expand_dims(y_test,axis=-1)\n",
    "x,y = get_data_subset(x_train,y_train)\n",
    "print(x.shape,y.shape,x_test.shape,y_test.shape)"
   ]
  },
  {
   "cell_type": "code",
   "execution_count": 4,
   "metadata": {},
   "outputs": [],
   "source": [
    "def loss_func(y_true,y_pred,temp):\n",
    "    \"\"\" adversarial loss\n",
    "    \"\"\"\n",
    "    y_pred = Activation('softmax')(y_pred/temp)\n",
    "    loss = KLDivergence()(y_true,y_pred)\n",
    "    return loss"
   ]
  },
  {
   "cell_type": "code",
   "execution_count": 5,
   "metadata": {},
   "outputs": [],
   "source": [
    "def get_model(optimizer=Adam(lr=0.001)):\n",
    "    \"\"\" model implementation\n",
    "    \"\"\"\n",
    "    x = Input(shape=(28,28))\n",
    "    x_f = Flatten()(x)\n",
    "    h = Dense(128,activation='relu')(x_f)\n",
    "    out = Dense(5,activation=None)(h)\n",
    "    \n",
    "    model = Model(inputs=x,outputs=out)\n",
    "    return model"
   ]
  },
  {
   "cell_type": "code",
   "execution_count": 6,
   "metadata": {},
   "outputs": [],
   "source": [
    "def run_batch(x_train_subset,y_train_subset,adv_x_train_subset,adv_y_train_subset,model,optimizer,kl_w,temp):\n",
    "    \"\"\" training iteration\n",
    "    \"\"\"\n",
    "    with tf.GradientTape() as tape:\n",
    "        y_train_pred = model(x_train_subset)\n",
    "        cross_entropy_loss = SparseCategoricalCrossentropy(from_logits=True)(y_train_subset,y_train_pred)\n",
    "        \n",
    "        model_pred = model(adv_x_train_subset)\n",
    "        kl_loss = loss_func(adv_y_train_subset,model_pred,temp)\n",
    "        \n",
    "        loss = (1-kl_w)*cross_entropy_loss + kl_w*kl_loss\n",
    "        \n",
    "    gradients = tape.gradient(loss,model.trainable_variables)\n",
    "    optimizer.apply_gradients(zip(gradients,model.trainable_variables))\n",
    "    return loss"
   ]
  },
  {
   "cell_type": "code",
   "execution_count": 7,
   "metadata": {},
   "outputs": [],
   "source": [
    "def get_adversarial_examples(x_train_subset,model,e=100.0,temp=20.0):\n",
    "    \"\"\" returns adversarial examples utilizing virutal method\n",
    "    \"\"\"\n",
    "    x_train_subset = tf.convert_to_tensor(x_train_subset)\n",
    "    r = tf.random.normal(x_train_subset.shape,mean=0.0,stddev=1.0)\n",
    "    model_true = model(x_train_subset) # output distribution of standard input, used as label of KL divergence\n",
    "    model_true = Activation('softmax')(model_true/temp)\n",
    "    \n",
    "    with tf.GradientTape() as tape:\n",
    "        tape.watch(r)\n",
    "        model_pred = model(x_train_subset+r)\n",
    "        loss = loss_func(model_true,model_pred,temp)\n",
    "    gradients = tape.gradient(loss,r)\n",
    "    \n",
    "    r_adv = e*tf.reshape(tf.math.divide_no_nan(tf.reshape(gradients,(len(x_train_subset),28*28)),tf.norm(gradients,axis=[1,2])),(len(x_train_subset),28,28,1))\n",
    "    adv_x_train_subset = x_train_subset+r_adv\n",
    "    adv_y_train_subset = model_true # adversarial label is output distribution of unaltered input\n",
    "    \n",
    "    return adv_x_train_subset,adv_y_train_subset,np.sum(tf.reshape(r_adv,(len(x_train_subset),28*28)),axis=-1)"
   ]
  },
  {
   "cell_type": "code",
   "execution_count": null,
   "metadata": {},
   "outputs": [],
   "source": []
  },
  {
   "cell_type": "code",
   "execution_count": 8,
   "metadata": {},
   "outputs": [
    {
     "name": "stdout",
     "output_type": "stream",
     "text": [
      "0.9732827398326522\n"
     ]
    }
   ],
   "source": [
    "# average model performance utilizing adversarial regularization\n",
    "final_accuracies = []\n",
    "batch_size=50\n",
    "epochs=100\n",
    "\n",
    "for _ in range(10):\n",
    "    model = get_model()\n",
    "    optimizer = Adam(lr=0.001)\n",
    "    \n",
    "    def train_on_batch(x_train_subset,y_train_subset,adv_x_train_subset,adv_y_train_subset,model,optimizer,kl_w=0.5,temp=20.0):\n",
    "        \"\"\" training iteration wrapper\n",
    "        \"\"\"\n",
    "        loss = run_batch(x_train_subset,y_train_subset,adv_x_train_subset,adv_y_train_subset,model,optimizer,kl_w,temp)\n",
    "        return loss\n",
    "    \n",
    "    for epoch_i in range(epochs):\n",
    "        losses = []\n",
    "        accuracies = []\n",
    "        r_zero = 0 # tracks number of \"incorrectly\" generated adversarial examples\n",
    "        r_total = 0\n",
    "        for i in range(0,(len(x)//batch_size)*batch_size,batch_size):\n",
    "            x_train_subset = x[i:i+batch_size]\n",
    "            y_train_subset = y[i:i+batch_size]\n",
    "            adv_x_train_subset,adv_y_train_subset,adv_n = get_adversarial_examples(x_train_subset,model)\n",
    "            r_zero += float(np.sum(adv_n==0))\n",
    "            r_total += len(adv_x_train_subset)\n",
    "            batch_loss = train_on_batch(x_train_subset,y_train_subset,adv_x_train_subset,adv_y_train_subset,model,optimizer)\n",
    "            losses.append(float(batch_loss))\n",
    "            \n",
    "        test_pred = np.argmax(Activation('softmax')(model(x_test).numpy()),axis=-1)\n",
    "        accuracy = recall_score(np.squeeze(y_test),test_pred,average='micro')\n",
    "        accuracies.append(accuracy)\n",
    "        #print(\"Epoch {}; loss:{}, test-acc:{}, adv-perc:{}\".format(epoch_i+1,round(sum(losses)/len(losses),4),accuracy,round(r_zero/r_total,4)))\n",
    "        \n",
    "    final_accuracies.append(max(accuracies))\n",
    "    \n",
    "print(sum(final_accuracies)/len(final_accuracies))"
   ]
  },
  {
   "cell_type": "code",
   "execution_count": null,
   "metadata": {},
   "outputs": [],
   "source": []
  },
  {
   "cell_type": "code",
   "execution_count": 9,
   "metadata": {},
   "outputs": [
    {
     "name": "stdout",
     "output_type": "stream",
     "text": [
      "0.9617435298696243\n"
     ]
    }
   ],
   "source": [
    "# average model performance of standard model\n",
    "final_accuracies = []\n",
    "batch_size=50\n",
    "epochs=100\n",
    "\n",
    "for _ in range(10):\n",
    "    model = get_model()\n",
    "    model.compile(loss=SparseCategoricalCrossentropy(from_logits=True),optimizer=optimizer)\n",
    "    \n",
    "    for epoch_i in range(epochs):\n",
    "        losses = []\n",
    "        accuracies = []\n",
    "        for i in range(0,(len(x)//batch_size)*batch_size,batch_size):\n",
    "            x_train_subset = x[i:i+batch_size]\n",
    "            y_train_subset = y[i:i+batch_size]\n",
    "            batch_loss = model.train_on_batch(x_train_subset,y_train_subset)\n",
    "            losses.append(float(batch_loss))\n",
    "            \n",
    "        test_pred = np.argmax(Activation('softmax')(model(x_test).numpy()),axis=-1)\n",
    "        accuracy = recall_score(np.squeeze(y_test),test_pred,average='micro')\n",
    "        accuracies.append(accuracy)\n",
    "        #print(\"Epoch {}; loss:{}, test-acc:{}\".format(epoch_i+1,round(sum(losses)/len(losses),4),accuracy))\n",
    "        \n",
    "    final_accuracies.append(max(accuracies))\n",
    "    \n",
    "print(sum(final_accuracies)/len(final_accuracies))"
   ]
  },
  {
   "cell_type": "code",
   "execution_count": null,
   "metadata": {},
   "outputs": [],
   "source": []
  },
  {
   "cell_type": "markdown",
   "metadata": {},
   "source": [
    "### Analysis of standard model performance on adversarial examples generated with this method"
   ]
  },
  {
   "cell_type": "code",
   "execution_count": 15,
   "metadata": {},
   "outputs": [],
   "source": [
    "adv_x_test,adv_y_test,_ = get_adversarial_examples(x_test,model)\n",
    "i=70"
   ]
  },
  {
   "cell_type": "code",
   "execution_count": 16,
   "metadata": {},
   "outputs": [
    {
     "data": {
      "text/plain": [
       "<tf.Tensor: shape=(1, 5), dtype=float32, numpy=\n",
       "array([[0.0000000e+00, 0.0000000e+00, 2.4069416e-07, 0.0000000e+00,\n",
       "        9.9999976e-01]], dtype=float32)>"
      ]
     },
     "execution_count": 16,
     "metadata": {},
     "output_type": "execute_result"
    }
   ],
   "source": [
    "Activation('softmax')(model(np.expand_dims(x_test[i],axis=0)))"
   ]
  },
  {
   "cell_type": "code",
   "execution_count": 17,
   "metadata": {},
   "outputs": [
    {
     "data": {
      "image/png": "[encoded data removed]",
      "text/plain": [
       "<Figure size 432x288 with 1 Axes>"
      ]
     },
     "metadata": {},
     "output_type": "display_data"
    }
   ],
   "source": [
    "plt.imshow(np.squeeze(x_test[i]),cmap='gray')\n",
    "plt.show()"
   ]
  },
  {
   "cell_type": "code",
   "execution_count": 18,
   "metadata": {},
   "outputs": [
    {
     "data": {
      "text/plain": [
       "<tf.Tensor: shape=(1, 5), dtype=float32, numpy=\n",
       "array([[0.0000000e+00, 0.0000000e+00, 1.0000000e+00, 0.0000000e+00,\n",
       "        2.3731004e-14]], dtype=float32)>"
      ]
     },
     "execution_count": 18,
     "metadata": {},
     "output_type": "execute_result"
    }
   ],
   "source": [
    "# model misclassifies adversarial example as a 2\n",
    "Activation('softmax')(model(np.expand_dims(adv_x_test[i],axis=0)))"
   ]
  },
  {
   "cell_type": "code",
   "execution_count": 19,
   "metadata": {},
   "outputs": [
    {
     "data": {
      "image/png": "[encoded data removed]",
      "text/plain": [
       "<Figure size 432x288 with 1 Axes>"
      ]
     },
     "metadata": {},
     "output_type": "display_data"
    }
   ],
   "source": [
    "plt.imshow(np.squeeze(adv_x_test[i]),cmap='gray')\n",
    "plt.show()"
   ]
  },
  {
   "cell_type": "code",
   "execution_count": null,
   "metadata": {},
   "outputs": [],
   "source": []
  }
 ],
 "metadata": {
  "kernelspec": {
   "display_name": "Python 3",
   "language": "python",
   "name": "python3"
  },
  "language_info": {
   "codemirror_mode": {
    "name": "ipython",
    "version": 3
   },
   "file_extension": ".py",
   "mimetype": "text/x-python",
   "name": "python",
   "nbconvert_exporter": "python",
   "pygments_lexer": "ipython3",
   "version": "3.6.5"
  }
 },
 "nbformat": 4,
 "nbformat_minor": 2
}
