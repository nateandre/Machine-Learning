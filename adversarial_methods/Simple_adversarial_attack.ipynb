{
 "cells": [
  {
   "cell_type": "markdown",
   "metadata": {},
   "source": [
    "## Simple variation of adversarial attack with MNIST\n",
    "\n",
    "Example of a simple gradient-based adversarial attack, based on this [article](https://medium.com/@ml.at.berkeley/tricking-neural-networks-create-your-own-adversarial-examples-a61eb7620fd8)."
   ]
  },
  {
   "cell_type": "code",
   "execution_count": 1,
   "metadata": {},
   "outputs": [],
   "source": [
    "import tensorflow as tf\n",
    "from tensorflow.keras import backend as K\n",
    "from tensorflow.keras.layers import Input,Dense,Reshape,Activation,Flatten\n",
    "from tensorflow.keras.optimizers import Adam\n",
    "from tensorflow.keras.models import Model,Sequential\n",
    "from tensorflow.keras.losses import SparseCategoricalCrossentropy,MeanSquaredError\n",
    "import numpy as np\n",
    "import matplotlib.pyplot as plt\n",
    "tf.keras.backend.set_floatx('float32')\n",
    "\n",
    "import warnings\n",
    "warnings.filterwarnings('ignore')"
   ]
  },
  {
   "cell_type": "code",
   "execution_count": 2,
   "metadata": {},
   "outputs": [
    {
     "name": "stdout",
     "output_type": "stream",
     "text": [
      "(30500, 28, 28) (30500,)\n"
     ]
    }
   ],
   "source": [
    "(x_train, y_train),(x_test, y_test) = tf.keras.datasets.mnist.load_data()\n",
    "x_train = x_train.astype('float32')\n",
    "y_train = y_train.astype('float32')\n",
    "x = x_train[y_train <= 4][:30500] # using numbers 0...5\n",
    "y = y_train[y_train <= 4][:30500]\n",
    "print(x.shape,y.shape)"
   ]
  },
  {
   "cell_type": "code",
   "execution_count": 3,
   "metadata": {},
   "outputs": [
    {
     "data": {
      "image/png": "[encoded data removed]",
      "text/plain": [
       "<Figure size 432x288 with 4 Axes>"
      ]
     },
     "metadata": {},
     "output_type": "display_data"
    }
   ],
   "source": [
    "plt.subplot(1,4,1)\n",
    "plt.imshow(x[0],cmap=\"gray\")\n",
    "plt.subplot(1,4,2)\n",
    "plt.imshow(x[1],cmap=\"gray\")\n",
    "plt.subplot(1,4,3)\n",
    "plt.imshow(x[2],cmap=\"gray\")\n",
    "plt.subplot(1,4,4)\n",
    "plt.imshow(x[3],cmap=\"gray\")\n",
    "plt.show()"
   ]
  },
  {
   "cell_type": "markdown",
   "metadata": {},
   "source": [
    "### Training the DNN MNIST model"
   ]
  },
  {
   "cell_type": "code",
   "execution_count": 4,
   "metadata": {},
   "outputs": [],
   "source": [
    "def loss_func(y_true,y_pred):\n",
    "    \"\"\" standard loss function\n",
    "    \"\"\"\n",
    "    loss = SparseCategoricalCrossentropy()(y_true,y_pred)\n",
    "    return loss"
   ]
  },
  {
   "cell_type": "code",
   "execution_count": 5,
   "metadata": {},
   "outputs": [],
   "source": [
    "def compile_model(optimizer=Adam(lr=0.001)):\n",
    "    \"\"\" model implementation\n",
    "    \"\"\"\n",
    "    x = Input(shape=(28,28))\n",
    "    x_f = Flatten()(x)\n",
    "    h = Dense(256,activation='relu')(x_f)\n",
    "    out = Dense(5,activation='softmax')(h)\n",
    "    \n",
    "    model = Model(inputs=x,outputs=out)\n",
    "    model.compile(loss=loss_func,optimizer=optimizer)\n",
    "    return model"
   ]
  },
  {
   "cell_type": "code",
   "execution_count": 6,
   "metadata": {},
   "outputs": [],
   "source": [
    "model = compile_model()"
   ]
  },
  {
   "cell_type": "code",
   "execution_count": 7,
   "metadata": {
    "scrolled": true
   },
   "outputs": [
    {
     "name": "stdout",
     "output_type": "stream",
     "text": [
      "Epoch 1: 2.6134243679609934\n",
      "Epoch 2: 0.3061863711021354\n",
      "Epoch 3: 0.18320664083961818\n"
     ]
    }
   ],
   "source": [
    "n_epochs=3\n",
    "batch_size=50\n",
    "for epoch_i in range(n_epochs):\n",
    "    losses = []\n",
    "    for i in range(0,len(x),batch_size):\n",
    "        x_train_subset = x[i:i+batch_size]\n",
    "        y_train_subset = y[i:i+batch_size]\n",
    "        batch_loss = model.train_on_batch(x_train_subset,y_train_subset)\n",
    "        losses.append(float(batch_loss))\n",
    "    print(\"Epoch {}: {}\".format(epoch_i+1,sum(losses)/len(losses)))"
   ]
  },
  {
   "cell_type": "code",
   "execution_count": 8,
   "metadata": {},
   "outputs": [],
   "source": [
    "model.trainable=False # fixing the weights of the model"
   ]
  },
  {
   "cell_type": "code",
   "execution_count": 9,
   "metadata": {},
   "outputs": [
    {
     "name": "stdout",
     "output_type": "stream",
     "text": [
      "prediction: 0\n",
      "label: 0.0\n"
     ]
    }
   ],
   "source": [
    "# sample prediction \n",
    "print(\"prediction:\",np.argmax(model(np.expand_dims(x[0],axis=0))))\n",
    "print(\"label:\",y[0])"
   ]
  },
  {
   "cell_type": "markdown",
   "metadata": {},
   "source": [
    "### Creating adversarial example"
   ]
  },
  {
   "cell_type": "code",
   "execution_count": 10,
   "metadata": {},
   "outputs": [
    {
     "data": {
      "image/png": "[encoded data removed]",
      "text/plain": [
       "<Figure size 432x288 with 1 Axes>"
      ]
     },
     "metadata": {},
     "output_type": "display_data"
    }
   ],
   "source": [
    "gen_x = tf.Variable(tf.random.normal((1,28,28),mean=0.0,stddev=0.05),trainable=True) # instantiation of new image\n",
    "plt.imshow(np.squeeze(gen_x.numpy()),cmap=\"gray\")\n",
    "plt.show()"
   ]
  },
  {
   "cell_type": "code",
   "execution_count": 11,
   "metadata": {
    "scrolled": true
   },
   "outputs": [
    {
     "name": "stdout",
     "output_type": "stream",
     "text": [
      "2651.86328125\n"
     ]
    }
   ],
   "source": [
    "input_x = np.expand_dims(x[0],axis=0) # this is what we want our input to look like\n",
    "lam = 0.5\n",
    "suggested_y = np.ones((1,)).astype(\"float32\")*3 # this is the label we want the model to believe our input is\n",
    "\n",
    "optimizer=Adam(lr=0.01)\n",
    "n_epochs=5000\n",
    "for epoch_i in range(n_epochs):\n",
    "    with tf.GradientTape() as tape:\n",
    "        model_pred = model(gen_x)\n",
    "        model_loss = loss_func(suggested_y,model_pred)\n",
    "        identity_loss = MeanSquaredError()(input_x,gen_x)\n",
    "        loss = model_loss+(lam*identity_loss)\n",
    "    \n",
    "    gradients = tape.gradient(loss,gen_x)\n",
    "    optimizer.apply_gradients(zip([gradients],[gen_x]))\n",
    "\n",
    "print(float(loss))"
   ]
  },
  {
   "cell_type": "code",
   "execution_count": 12,
   "metadata": {},
   "outputs": [
    {
     "data": {
      "image/png": "[encoded data removed]",
      "text/plain": [
       "<Figure size 432x288 with 1 Axes>"
      ]
     },
     "metadata": {},
     "output_type": "display_data"
    }
   ],
   "source": [
    "plt.imshow(np.squeeze(gen_x.numpy()),cmap=\"gray\") # the generated image, clearly a 0\n",
    "plt.show()"
   ]
  },
  {
   "cell_type": "code",
   "execution_count": 13,
   "metadata": {},
   "outputs": [
    {
     "name": "stdout",
     "output_type": "stream",
     "text": [
      "prediction: 3\n"
     ]
    },
    {
     "data": {
      "text/plain": [
       "<tf.Tensor: shape=(1, 5), dtype=float32, numpy=\n",
       "array([[1.7457709e-01, 9.4663097e-11, 8.0041327e-03, 8.1741875e-01,\n",
       "        2.7881361e-10]], dtype=float32)>"
      ]
     },
     "execution_count": 13,
     "metadata": {},
     "output_type": "execute_result"
    }
   ],
   "source": [
    "# tricked the model into thinking this 0 is actually a 3\n",
    "print(\"prediction:\",np.argmax(model(gen_x)))\n",
    "model(gen_x)"
   ]
  },
  {
   "cell_type": "code",
   "execution_count": null,
   "metadata": {},
   "outputs": [],
   "source": []
  },
  {
   "cell_type": "code",
   "execution_count": 14,
   "metadata": {},
   "outputs": [
    {
     "data": {
      "image/png": "[encoded data removed]",
      "text/plain": [
       "<Figure size 432x288 with 1 Axes>"
      ]
     },
     "metadata": {},
     "output_type": "display_data"
    }
   ],
   "source": [
    "plt.imshow(np.squeeze(input_x),cmap=\"gray\")\n",
    "plt.show()"
   ]
  },
  {
   "cell_type": "code",
   "execution_count": 15,
   "metadata": {},
   "outputs": [
    {
     "name": "stdout",
     "output_type": "stream",
     "text": [
      "prediction: 0\n"
     ]
    }
   ],
   "source": [
    "print(\"prediction:\",np.argmax(model(input_x)))"
   ]
  },
  {
   "cell_type": "code",
   "execution_count": null,
   "metadata": {},
   "outputs": [],
   "source": []
  }
 ],
 "metadata": {
  "kernelspec": {
   "display_name": "Python 3",
   "language": "python",
   "name": "python3"
  },
  "language_info": {
   "codemirror_mode": {
    "name": "ipython",
    "version": 3
   },
   "file_extension": ".py",
   "mimetype": "text/x-python",
   "name": "python",
   "nbconvert_exporter": "python",
   "pygments_lexer": "ipython3",
   "version": "3.6.5"
  }
 },
 "nbformat": 4,
 "nbformat_minor": 2
}
