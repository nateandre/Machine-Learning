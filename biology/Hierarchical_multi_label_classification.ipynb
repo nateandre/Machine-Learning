{
 "cells": [
  {
   "cell_type": "markdown",
   "metadata": {},
   "source": [
    "## Implementation of hierarchical multi-label classification networks\n",
    "\n",
    "This is based on the paper: <i>Hierarchical Multi-Label Classification Networks</i>. Data is from: http://www.biomal.ufscar.br/hmc.html."
   ]
  },
  {
   "cell_type": "code",
   "execution_count": 1,
   "metadata": {},
   "outputs": [],
   "source": [
    "import numpy as np\n",
    "import matplotlib.pyplot as plt\n",
    "import pandas as pd\n",
    "import tensorflow as tf\n",
    "from tensorflow.keras.layers import Input,Dense,Dropout,Activation,Flatten,Concatenate\n",
    "from tensorflow.keras.models import Model\n",
    "from tensorflow.keras.optimizers import Adam\n",
    "from tensorflow.keras.losses import BinaryCrossentropy\n",
    "\n",
    "import warnings\n",
    "warnings.filterwarnings(\"ignore\")"
   ]
  },
  {
   "cell_type": "code",
   "execution_count": 2,
   "metadata": {},
   "outputs": [
    {
     "name": "stdout",
     "output_type": "stream",
     "text": [
      "(1628, 77) (1628, 499)\n"
     ]
    }
   ],
   "source": [
    "test_data = pd.read_csv(\"../data/biology/CellCycle_FUN/cellcycle.test.csv\").to_numpy()\n",
    "train_data = pd.read_csv(\"../data/biology/CellCycle_FUN/cellcycle.train.csv\")\n",
    "columns = train_data.columns\n",
    "train_data = train_data.to_numpy()\n",
    "x_train,y_train = train_data[:,:77],train_data[:,77:]\n",
    "x_test,y_test = test_data[:,:77],test_data[:,77:]\n",
    "print(x_train.shape,y_train.shape)"
   ]
  },
  {
   "cell_type": "code",
   "execution_count": 3,
   "metadata": {},
   "outputs": [],
   "source": [
    "def global_step(h,x):\n",
    "    \"\"\" global optimization step\n",
    "    \"\"\"\n",
    "    h = Concatenate()([x,h])\n",
    "    h = Dense(50,activation='relu')(h)\n",
    "    return h"
   ]
  },
  {
   "cell_type": "code",
   "execution_count": 4,
   "metadata": {},
   "outputs": [],
   "source": [
    "def local_step(x,out_h):\n",
    "    \"\"\" local optimization step\n",
    "    \"\"\"\n",
    "    h = Dense(50,activation=\"relu\")(x)\n",
    "    out = Dense(out_h,activation=\"sigmoid\")(h)\n",
    "    return out"
   ]
  },
  {
   "cell_type": "code",
   "execution_count": 5,
   "metadata": {},
   "outputs": [],
   "source": [
    "def hmcn(b1=0.5,b2=0.5,optimizer=Adam(lr=0.0001)):\n",
    "    \"\"\" hierarchical model\n",
    "        -penalizing hierarchical violations not included\n",
    "    \"\"\"\n",
    "    x = Input(77)\n",
    "    \n",
    "    a = Dense(50,activation='relu')(x)\n",
    "    p = local_step(a,18)\n",
    "    \n",
    "    local_outputs = [p]\n",
    "    for out_h in [80,178,142,77,4]: # classes per hierarchy\n",
    "        a = global_step(a,x)\n",
    "        p = local_step(a,out_h)\n",
    "        local_outputs.append(p)\n",
    "    \n",
    "    local_output = Concatenate()(local_outputs)\n",
    "    global_output = Dense(499,activation='sigmoid')(a)\n",
    "    final_output = b1*local_output + b2*global_output\n",
    "    \n",
    "    model = Model(inputs=[x],outputs=[final_output])\n",
    "    model.compile(loss=BinaryCrossentropy(),optimizer=optimizer)\n",
    "    return model"
   ]
  },
  {
   "cell_type": "code",
   "execution_count": 6,
   "metadata": {},
   "outputs": [],
   "source": [
    "model = hmcn()"
   ]
  },
  {
   "cell_type": "code",
   "execution_count": 7,
   "metadata": {},
   "outputs": [
    {
     "name": "stdout",
     "output_type": "stream",
     "text": [
      "epoch 1; train-loss: 0.6652, test-loss: 0.6183\n",
      "epoch 2; train-loss: 0.5362, test-loss: 0.4169\n",
      "epoch 3; train-loss: 0.2617, test-loss: 0.149\n",
      "epoch 4; train-loss: 0.1146, test-loss: 0.0977\n",
      "epoch 5; train-loss: 0.0879, test-loss: 0.085\n",
      "epoch 6; train-loss: 0.08, test-loss: 0.0801\n",
      "epoch 7; train-loss: 0.0764, test-loss: 0.0776\n",
      "epoch 8; train-loss: 0.0743, test-loss: 0.0761\n",
      "epoch 9; train-loss: 0.0731, test-loss: 0.0752\n",
      "epoch 10; train-loss: 0.0722, test-loss: 0.0745\n"
     ]
    }
   ],
   "source": [
    "batch_size=20\n",
    "epochs=10\n",
    "\n",
    "for epoch_i in range(epochs):\n",
    "    losses = []\n",
    "    for i in range(0,len(x_train),batch_size):\n",
    "        x_train_subset = x_train[i:i+batch_size]\n",
    "        y_train_subset = y_train[i:i+batch_size]\n",
    "        batch_loss = model.train_on_batch(x_train_subset,y_train_subset)\n",
    "        losses.append(float(batch_loss))\n",
    "        \n",
    "    test_pred = model(x_test).numpy()\n",
    "    test_loss = float(BinaryCrossentropy()(y_test,test_pred))\n",
    "    print(\"epoch {}; train-loss: {}, test-loss: {}\".format(epoch_i+1,round(sum(losses)/len(losses),4),round(test_loss,4)))"
   ]
  },
  {
   "cell_type": "code",
   "execution_count": null,
   "metadata": {},
   "outputs": [],
   "source": []
  }
 ],
 "metadata": {
  "kernelspec": {
   "display_name": "Python 3",
   "language": "python",
   "name": "python3"
  },
  "language_info": {
   "codemirror_mode": {
    "name": "ipython",
    "version": 3
   },
   "file_extension": ".py",
   "mimetype": "text/x-python",
   "name": "python",
   "nbconvert_exporter": "python",
   "pygments_lexer": "ipython3",
   "version": "3.6.5"
  }
 },
 "nbformat": 4,
 "nbformat_minor": 2
}
