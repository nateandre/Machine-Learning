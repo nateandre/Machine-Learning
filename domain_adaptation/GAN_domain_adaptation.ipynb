{
 "cells": [
  {
   "cell_type": "markdown",
   "metadata": {},
   "source": [
    "# GAN for Domain Adaptation Implementation\n",
    "\n",
    "Based on the paper: <i>Unsupervised Pixel–Level Domain Adaptation with Generative Adversarial Networks</i>, but without the content loss. The PatchGAN discriminator variation is referenced from: <i>Image-to-Image Translation with Conditional Adversarial Networks</i>. The task here is to utilize the standard MNIST data to predict the labels for an alternative MNIST dataset in which each digit has a non-black background. There is a reference implementation [here](https://github.com/eriklindernoren/Keras-GAN/blob/master/pixelda/pixelda.py) and [here](https://github.com/eriklindernoren/PyTorch-GAN/blob/master/implementations/pixelda/pixelda.py)."
   ]
  },
  {
   "cell_type": "code",
   "execution_count": 1,
   "metadata": {},
   "outputs": [],
   "source": [
    "import tensorflow as tf\n",
    "from tensorflow.keras import backend as K\n",
    "from tensorflow.keras.layers import Input,Dense,Reshape,Dropout,BatchNormalization,Activation,UpSampling2D,Embedding\n",
    "from tensorflow.keras.layers import BatchNormalization,Conv2D,LeakyReLU,Flatten,Conv2DTranspose,Concatenate\n",
    "from tensorflow.keras.optimizers import Adam,RMSprop\n",
    "from tensorflow.keras.models import Model,Sequential\n",
    "from tensorflow.keras.losses import BinaryCrossentropy,SparseCategoricalCrossentropy,MeanSquaredError\n",
    "import numpy as np\n",
    "from sklearn.utils import shuffle\n",
    "from sklearn.metrics import accuracy_score,balanced_accuracy_score\n",
    "import matplotlib.pyplot as plt\n",
    "from sklearn.model_selection import train_test_split\n",
    "tf.keras.backend.set_floatx('float32')\n",
    "\n",
    "import warnings\n",
    "warnings.filterwarnings('ignore')"
   ]
  },
  {
   "cell_type": "markdown",
   "metadata": {},
   "source": [
    "## Data Cleaning"
   ]
  },
  {
   "cell_type": "code",
   "execution_count": 2,
   "metadata": {},
   "outputs": [
    {
     "name": "stdout",
     "output_type": "stream",
     "text": [
      "(25600, 28, 28, 1) (25600, 1)\n"
     ]
    }
   ],
   "source": [
    "# MNIST data with background:\n",
    "mnist_w_background_x = np.load(\"../data/mnist/mnist_with_background_x.npy\") # already scaled by 255\n",
    "mnist_w_background_y = np.squeeze(np.load(\"../data/mnist/mnist_with_background_y.npy\"))\n",
    "mnist_w_background_x = mnist_w_background_x[mnist_w_background_y <= 3]\n",
    "mnist_w_background_y = mnist_w_background_y[mnist_w_background_y <= 3]\n",
    "mnist_w_background_x = np.reshape(mnist_w_background_x,(len(mnist_w_background_x),28,28),order=\"F\")\n",
    "mnist_w_background_x = ((mnist_w_background_x*255)-127.5)/127.5 # scaling for tanh activation\n",
    "mnist_w_background_y = np.expand_dims(mnist_w_background_y,axis=-1)\n",
    "mnist_w_background_x = np.expand_dims(mnist_w_background_x,axis=-1)\n",
    "mnist_w_background_x = mnist_w_background_x[:25600]\n",
    "mnist_w_background_y = mnist_w_background_y[:25600]\n",
    "print(mnist_w_background_x.shape,mnist_w_background_y.shape)"
   ]
  },
  {
   "cell_type": "code",
   "execution_count": 3,
   "metadata": {},
   "outputs": [
    {
     "name": "stdout",
     "output_type": "stream",
     "text": [
      "(24750, 28, 28, 1) (24750, 1)\n"
     ]
    }
   ],
   "source": [
    "# Standard MNIST data:\n",
    "(x_train, y_train),(x_test, y_test) = tf.keras.datasets.mnist.load_data()\n",
    "#x_train = np.vstack([x_train,x_test])\n",
    "#y_train = np.concatenate([y_train,y_test])\n",
    "x_train = x_train.astype('float32')\n",
    "y_train = y_train.astype('float32')\n",
    "x_train = x_train[y_train <= 3] # using numbers 0,1,2,3\n",
    "y_train = y_train[y_train <= 3]\n",
    "x_train = (x_train-127.5)/127.5 # scaling the images for tanh activation\n",
    "y_train = y_train.astype(\"int32\")\n",
    "y_train = np.expand_dims(y_train,axis=-1)\n",
    "x_train = np.expand_dims(x_train,axis=-1)\n",
    "x_train = x_train[:24750] #28900]\n",
    "y_train = y_train[:24750] #28900]\n",
    "print(x_train.shape,y_train.shape)"
   ]
  },
  {
   "cell_type": "code",
   "execution_count": 4,
   "metadata": {},
   "outputs": [
    {
     "data": {
      "image/png": "[encoded data removed]",
      "text/plain": [
       "<Figure size 432x288 with 4 Axes>"
      ]
     },
     "metadata": {},
     "output_type": "display_data"
    },
    {
     "data": {
      "image/png": "[encoded data removed]",
      "text/plain": [
       "<Figure size 432x288 with 4 Axes>"
      ]
     },
     "metadata": {},
     "output_type": "display_data"
    }
   ],
   "source": [
    "# Plotting comparisons between the two datasets:\n",
    "plt.subplot(1,4,1)\n",
    "plt.imshow(np.squeeze(x_train[0]),cmap=\"gray\")\n",
    "plt.subplot(1,4,2)\n",
    "plt.imshow(np.squeeze(x_train[1]),cmap=\"gray\")\n",
    "plt.subplot(1,4,3)\n",
    "plt.imshow(np.squeeze(x_train[2]),cmap=\"gray\")\n",
    "plt.subplot(1,4,4)\n",
    "plt.imshow(np.squeeze(x_train[4]),cmap=\"gray\")\n",
    "plt.show()\n",
    "\n",
    "plt.subplot(1,4,1)\n",
    "plt.imshow(np.squeeze(mnist_w_background_x[44]),cmap=\"gray\")\n",
    "plt.subplot(1,4,2)\n",
    "plt.imshow(np.squeeze(mnist_w_background_x[46]),cmap=\"gray\")\n",
    "plt.subplot(1,4,3)\n",
    "plt.imshow(np.squeeze(mnist_w_background_x[47]),cmap=\"gray\")\n",
    "plt.subplot(1,4,4)\n",
    "plt.imshow(np.squeeze(mnist_w_background_x[45]),cmap=\"gray\")\n",
    "plt.show()"
   ]
  },
  {
   "cell_type": "markdown",
   "metadata": {},
   "source": [
    "## Domain Adaptation Model Implementation\n",
    "\n",
    "-discriminator and task_models are trained independently; generator model is trained by being part of a system connected to the discriminator and task_models."
   ]
  },
  {
   "cell_type": "code",
   "execution_count": 5,
   "metadata": {},
   "outputs": [],
   "source": [
    "def generator_residual_block(source_h):\n",
    "    \"\"\" defines the residual block for the generator implementation\n",
    "    \"\"\"\n",
    "    h = Conv2D(filters=64,kernel_size=3,strides=1,padding='same',activation=None)(source_h)\n",
    "    h = BatchNormalization(momentum=0.8)(h)\n",
    "    h = Activation('relu')(h)\n",
    "    h = Conv2D(filters=64,kernel_size=3,strides=1,padding='same',activation=None)(h)\n",
    "    h = BatchNormalization(momentum=0.8)(h)\n",
    "    h = h+source_h\n",
    "    return h"
   ]
  },
  {
   "cell_type": "code",
   "execution_count": 6,
   "metadata": {},
   "outputs": [],
   "source": [
    "def get_generator(noise_dim=100,num_resid_blocks=3):\n",
    "    \"\"\" generator implementation\n",
    "    \"\"\"\n",
    "    z = Input(shape=(noise_dim))\n",
    "    source_image = Input(shape=(28,28,1))\n",
    "    \n",
    "    z_h = Dense(28*28*2,activation=None)(z)\n",
    "    z_h = Reshape((28,28,2))(z_h)\n",
    "\n",
    "    source_h = Concatenate()([z_h,source_image])\n",
    "    source_h = Conv2D(filters=64,kernel_size=3,strides=1,padding='same',activation=None)(source_h)\n",
    "    h = Activation('relu')(source_h)\n",
    "    \n",
    "    for _ in range(num_resid_blocks):\n",
    "        h = generator_residual_block(h)\n",
    "        \n",
    "    h = Conv2D(filters=1,kernel_size=3,strides=1,padding='same',activation=None)(h)\n",
    "    h = Activation('tanh')(h)\n",
    "    \n",
    "    model = Model(inputs=[z,source_image],outputs=h)\n",
    "    return model"
   ]
  },
  {
   "cell_type": "code",
   "execution_count": 7,
   "metadata": {},
   "outputs": [],
   "source": [
    "def discriminator_block(h,n_channels,n_strides,kernel_size=3,padding='same'):\n",
    "    \"\"\" defines the block for the discriminator implementation\n",
    "    \"\"\"\n",
    "    h = Conv2D(filters=n_channels,kernel_size=kernel_size,strides=n_strides,padding=padding,activation=None)(h)\n",
    "    h = BatchNormalization()(h)\n",
    "    h = LeakyReLU(0.2)(h)\n",
    "    return h"
   ]
  },
  {
   "cell_type": "code",
   "execution_count": 8,
   "metadata": {},
   "outputs": [],
   "source": [
    "def get_discriminator():\n",
    "    \"\"\" discriminator implementation\n",
    "    \"\"\"\n",
    "    x = Input(shape=(28,28,1))\n",
    "    h = discriminator_block(x,64,n_strides=1)\n",
    "    h = discriminator_block(h,128,n_strides=2)\n",
    "    h = discriminator_block(h,256,n_strides=2)\n",
    "    h = discriminator_block(h,512,n_strides=2)\n",
    "    h = discriminator_block(h,1024,n_strides=2)\n",
    "    h = Flatten()(h)\n",
    "    h = Dense(1,activation=None)(h)\n",
    "    ##h = Conv2D(filters=1,kernel_size=3,strides=1,padding='same',activation=None)(h) # patchGAN variation\n",
    "    \n",
    "    model = Model(inputs=x,outputs=h)\n",
    "    return model"
   ]
  },
  {
   "cell_type": "code",
   "execution_count": 9,
   "metadata": {},
   "outputs": [],
   "source": [
    "def get_task_model(num_classes=4):\n",
    "    \"\"\" task_model implementation\n",
    "    \"\"\"\n",
    "    x = Input(shape=(28,28,1))\n",
    "    h = Conv2D(filters=32,kernel_size=3,strides=2,padding='same',activation=None)(x)\n",
    "    h = BatchNormalization()(h)\n",
    "    h = LeakyReLU(0.2)(h)\n",
    "    h = Conv2D(filters=64,kernel_size=3,strides=2,padding='same',activation=None)(h)\n",
    "    h = BatchNormalization()(h)\n",
    "    h = LeakyReLU(0.2)(h)\n",
    "    h = Conv2D(filters=128,kernel_size=3,strides=2,padding='same',activation=None)(h)\n",
    "    h = BatchNormalization()(h)\n",
    "    h = LeakyReLU(0.2)(h)\n",
    "    h = Flatten()(h)\n",
    "    h = Dense(num_classes,activation=\"softmax\")(h) # not using logits\n",
    "    \n",
    "    model = Model(inputs=x,outputs=h)\n",
    "    return model"
   ]
  },
  {
   "cell_type": "code",
   "execution_count": 10,
   "metadata": {},
   "outputs": [],
   "source": [
    "def compile_model(model,loss,optimizer):\n",
    "    \"\"\" compiles task and discriminator networks\n",
    "    \"\"\"\n",
    "    c_model = Sequential()\n",
    "    c_model.add(model)\n",
    "    c_model.compile(loss=loss,optimizer=optimizer)\n",
    "    return c_model"
   ]
  },
  {
   "cell_type": "code",
   "execution_count": 11,
   "metadata": {},
   "outputs": [],
   "source": [
    "def compile_adversarial_model(generator,discriminator,task_model,optimizer,noise_dim=100,class_lam=0.9):\n",
    "    \"\"\" compiles model used to train the generator\n",
    "    \"\"\"\n",
    "    z = Input(shape=(noise_dim))\n",
    "    source_image = Input(shape=(28,28,1))\n",
    "    gen = generator([z,source_image])\n",
    "    task_pred = task_model(gen)\n",
    "    class_pred = discriminator(gen)\n",
    "    \n",
    "    model = Model(inputs=[z,source_image],outputs=[task_pred,class_pred])\n",
    "    model.compile(loss=['sparse_categorical_crossentropy','mean_squared_error'],loss_weights=[1-class_lam,class_lam],optimizer=optimizer)\n",
    "    return model"
   ]
  },
  {
   "cell_type": "code",
   "execution_count": 12,
   "metadata": {},
   "outputs": [],
   "source": [
    "discriminator_pre = get_discriminator()\n",
    "task_model_pre = get_task_model(num_classes=4)\n",
    "generator = get_generator()\n",
    "\n",
    "discriminator = compile_model(discriminator_pre,loss=\"mean_squared_error\",optimizer=Adam(lr=0.0002))\n",
    "task_model = compile_model(task_model_pre,loss=\"sparse_categorical_crossentropy\",optimizer=Adam(lr=0.0002))\n",
    "adversarial = compile_adversarial_model(generator,discriminator_pre,task_model_pre,optimizer=Adam(lr=0.0002),class_lam=0.9)"
   ]
  },
  {
   "cell_type": "markdown",
   "metadata": {},
   "source": [
    "### Domain Adaptation Model Training\n",
    "\n",
    "-noise prior used is ~N(0,1)"
   ]
  },
  {
   "cell_type": "code",
   "execution_count": 13,
   "metadata": {},
   "outputs": [],
   "source": [
    "num_epochs=100\n",
    "batch_size=50\n",
    "for epoch_i in range(num_epochs): # number of epochs\n",
    "    all_a_losses = []\n",
    "    all_d_losses = []\n",
    "    all_t_losses = []\n",
    "    print(\"Epoch {}:\".format(epoch_i+1))\n",
    "    \n",
    "    for i in range(0,len(x_train)-batch_size,batch_size):\n",
    "        x_subset = x_train[i:i+batch_size] # from the source distribution\n",
    "        y_subset = y_train[i:i+batch_size]\n",
    "        target_x_subset = mnist_w_background_x[i:i+batch_size]\n",
    "        \n",
    "        # training the discriminator:\n",
    "        z = np.random.normal(0.0,1.0,size=(batch_size,100))\n",
    "        x_gen = generator([z,x_subset])\n",
    "        disc_x = np.vstack((target_x_subset,x_gen))\n",
    "        disc_y = np.vstack([np.ones((batch_size,1)),np.zeros((batch_size,1))]) #1:real, 0:fake\n",
    "        discriminator.trainable=True\n",
    "        d_loss = discriminator.train_on_batch(disc_x,disc_y)\n",
    "        all_d_losses.append(float(d_loss))\n",
    "        \n",
    "        # training the task-model:\n",
    "        ## paper found that training on adapted, along with non-adapted source images improves stability\n",
    "        task_x = np.vstack([x_subset,x_gen])\n",
    "        task_y = np.vstack([y_subset,y_subset])\n",
    "        task_model.trainable=True\n",
    "        t_loss = task_model.train_on_batch(task_x,task_y)\n",
    "        all_t_losses.append(float(t_loss))\n",
    "        \n",
    "        # training the generator:\n",
    "        class_y = np.ones([batch_size,1]) # we switch the labels here to maximize the domain-confusion\n",
    "        task_y = y_subset\n",
    "        z = np.random.normal(0.0,1.0,size=(batch_size,100))\n",
    "        task_model.trainable=False\n",
    "        discriminator.trainable=False\n",
    "        a_loss = adversarial.train_on_batch([z,x_subset],[task_y,class_y])\n",
    "        all_a_losses.append(float(a_loss[0])) # the first index is the weighted sum of both losses\n",
    "        \n",
    "        if i%2000 == 0:\n",
    "            input_subset = x_subset[0:10]\n",
    "            input_subset.shape = (10,28,28)\n",
    "            plt.figure(figsize=(15,4))\n",
    "            for i in range(10): # plotting input images\n",
    "                plt.subplot(1,10,i+1)\n",
    "                plt.imshow(input_subset[i],cmap=\"gray\")\n",
    "            plt.show()\n",
    "            for _ in range(2):\n",
    "                z = np.random.normal(0.0,1.0,size=(10,100))\n",
    "                gen_subset = generator([z,input_subset]).numpy() # output is still scaled\n",
    "                gen_subset.shape = (10,28,28)\n",
    "                plt.figure(figsize=(15,4))\n",
    "                for i in range(10): # plotting generated images\n",
    "                    plt.subplot(1,10,i+1)\n",
    "                    plt.imshow(gen_subset[i],cmap=\"gray\")\n",
    "                plt.show()\n",
    "            print(\"-----------------\")\n",
    "                \n",
    "    a_avg_loss = sum(all_a_losses)/len(all_a_losses)\n",
    "    d_avg_loss = sum(all_d_losses)/len(all_d_losses)\n",
    "    t_avg_loss = sum(all_t_losses)/len(all_t_losses)\n",
    "    print(\"gen. loss:{}; disc. loss:{}; task loss:{}\".format(a_avg_loss,d_avg_loss,t_avg_loss)) \n",
    "    print(\"---------------------------------------------------------------------------------------------------\")\n",
    "    print(\"---------------------------------------------------------------------------------------------------\")\n",
    "    print(\"---------------------------------------------------------------------------------------------------\")"
   ]
  },
  {
   "cell_type": "code",
   "execution_count": 16,
   "metadata": {},
   "outputs": [
    {
     "data": {
      "image/png": "[encoded data removed]",
      "text/plain": [
       "<Figure size 1080x288 with 10 Axes>"
      ]
     },
     "metadata": {},
     "output_type": "display_data"
    },
    {
     "data": {
      "image/png": "[encoded data removed]",
      "text/plain": [
       "<Figure size 1080x288 with 10 Axes>"
      ]
     },
     "metadata": {},
     "output_type": "display_data"
    }
   ],
   "source": [
    "# plotting the output of the generator\n",
    "## note: model still needs some work in order to improve the output\n",
    "input_subset = x_train[0:10]\n",
    "input_subset.shape = (10,28,28)\n",
    "plt.figure(figsize=(15,4))\n",
    "for i in range(10): # plotting input images\n",
    "    plt.subplot(1,10,i+1)\n",
    "    plt.imshow(input_subset[i],cmap=\"gray\")\n",
    "plt.show()\n",
    "\n",
    "z = np.random.normal(0.0,1.0,size=(10,100))\n",
    "gen_subset = generator([z,input_subset]).numpy() # output is still scaled\n",
    "gen_subset.shape = (10,28,28)\n",
    "plt.figure(figsize=(15,4))\n",
    "for i in range(10): # plotting generated images\n",
    "    plt.subplot(1,10,i+1)\n",
    "    plt.imshow(gen_subset[i],cmap=\"gray\")\n",
    "plt.show()"
   ]
  },
  {
   "cell_type": "markdown",
   "metadata": {},
   "source": [
    "### Using adapted images for semi-supervised learning"
   ]
  },
  {
   "cell_type": "code",
   "execution_count": 17,
   "metadata": {},
   "outputs": [
    {
     "name": "stdout",
     "output_type": "stream",
     "text": [
      "(4000, 28, 28, 1) (4000, 1) (4000, 28, 28, 1) (4000, 1)\n"
     ]
    }
   ],
   "source": [
    "# getting the data for this task\n",
    "mnist_background_train_x = [] ## getting 1000 examples for the training/test sets\n",
    "mnist_background_test_x = []\n",
    "mnist_background_train_y = []\n",
    "mnist_background_test_y = []\n",
    "\n",
    "for i in range(0,4):\n",
    "    this_mnist_subset = mnist_w_background_x[np.squeeze(mnist_w_background_y)==i]\n",
    "    mnist_background_train_x.append(this_mnist_subset[0:1000])\n",
    "    mnist_background_test_x.append(this_mnist_subset[1000:2000])\n",
    "    mnist_background_train_y.append(np.array([i for _ in range(1000)]))\n",
    "    mnist_background_test_y.append(np.array([i for _ in range(1000)]))\n",
    "\n",
    "mnist_background_train_x = np.vstack(mnist_background_train_x)\n",
    "mnist_background_test_x = np.vstack(mnist_background_test_x)\n",
    "mnist_background_train_y = np.concatenate(mnist_background_train_y)\n",
    "mnist_background_test_y = np.concatenate(mnist_background_test_y)\n",
    "mnist_background_train_x,mnist_background_train_y = shuffle(mnist_background_train_x,mnist_background_train_y,random_state=0)\n",
    "mnist_background_test_x,mnist_background_test_y = shuffle(mnist_background_test_x,mnist_background_test_y,random_state=1)\n",
    "mnist_background_train_y = np.expand_dims(mnist_background_train_y,axis=-1)\n",
    "mnist_background_test_y = np.expand_dims(mnist_background_test_y,axis=-1)\n",
    "print(mnist_background_train_x.shape,mnist_background_train_y.shape,mnist_background_test_x.shape,mnist_background_test_y.shape)"
   ]
  },
  {
   "cell_type": "code",
   "execution_count": 18,
   "metadata": {},
   "outputs": [],
   "source": [
    "def get_model(optimizer,num_classes=4):\n",
    "    \"\"\" model used in the semi-supervised prediction task\n",
    "    \"\"\"\n",
    "    x = Input(shape=(28,28,1))\n",
    "    h = Conv2D(filters=32,kernel_size=3,strides=2,padding='same',activation=None)(x)\n",
    "    h = BatchNormalization()(h)\n",
    "    h = Activation('relu')(h)\n",
    "    h = Conv2D(filters=64,kernel_size=3,strides=2,padding='same',activation=None)(h)\n",
    "    h = BatchNormalization()(h)\n",
    "    h = Activation('relu')(h)\n",
    "    h = Conv2D(filters=128,kernel_size=3,strides=2,padding='same',activation=None)(h)\n",
    "    h = BatchNormalization()(h)\n",
    "    h = Activation('relu')(h)\n",
    "    h = Flatten()(h)\n",
    "    h = Dense(num_classes,activation=\"softmax\")(h) # not using logits\n",
    "    \n",
    "    model = Model(inputs=x,outputs=h)\n",
    "    model.compile(loss=\"sparse_categorical_crossentropy\",optimizer=optimizer)\n",
    "    return model"
   ]
  },
  {
   "cell_type": "code",
   "execution_count": 19,
   "metadata": {},
   "outputs": [],
   "source": [
    "model = get_model(optimizer=Adam(lr=0.001))"
   ]
  },
  {
   "cell_type": "code",
   "execution_count": 20,
   "metadata": {},
   "outputs": [
    {
     "data": {
      "text/plain": [
       "(24750, 28, 28, 1)"
      ]
     },
     "execution_count": 20,
     "metadata": {},
     "output_type": "execute_result"
    }
   ],
   "source": [
    "# getting all the transformations\n",
    "gen_mnist_x_train = []\n",
    "for i in range(0,len(x_train),50):\n",
    "    gen_subset = generator([np.random.normal(0.0,1.0,size=(50,100)),x_train[i:i+50]])\n",
    "    gen_mnist_x_train.append(gen_subset)\n",
    "gen_mnist_x_train = np.vstack(gen_mnist_x_train)\n",
    "gen_mnist_x_train.shape"
   ]
  },
  {
   "cell_type": "code",
   "execution_count": 21,
   "metadata": {},
   "outputs": [
    {
     "name": "stdout",
     "output_type": "stream",
     "text": [
      "(28750, 28, 28, 1) (28750, 1) (4000, 28, 28, 1) (4000, 1)\n"
     ]
    }
   ],
   "source": [
    "final_x_train = np.vstack([mnist_background_train_x,gen_mnist_x_train])\n",
    "final_y_train = np.vstack([mnist_background_train_y,y_train])\n",
    "final_x_test = mnist_background_test_x\n",
    "final_y_test = mnist_background_test_y\n",
    "print(final_x_train.shape,final_y_train.shape,final_x_test.shape,final_y_test.shape)"
   ]
  },
  {
   "cell_type": "code",
   "execution_count": 22,
   "metadata": {},
   "outputs": [
    {
     "name": "stdout",
     "output_type": "stream",
     "text": [
      "epoch 1; loss:0.1006;\n",
      "-Train; accuracy:0.9775; bal_accuracy:0.9774\n",
      "-Test; accuracy:0.8682; bal_accuracy:0.8682\n",
      "--------------------------------------------------\n",
      "epoch 2; loss:0.0477;\n",
      "-Train; accuracy:0.9879; bal_accuracy:0.9878\n",
      "-Test; accuracy:0.915; bal_accuracy:0.915\n",
      "--------------------------------------------------\n",
      "epoch 3; loss:0.0244;\n",
      "-Train; accuracy:0.9905; bal_accuracy:0.9906\n",
      "-Test; accuracy:0.9128; bal_accuracy:0.9128\n",
      "--------------------------------------------------\n",
      "epoch 4; loss:0.0205;\n",
      "-Train; accuracy:0.9883; bal_accuracy:0.9883\n",
      "-Test; accuracy:0.9088; bal_accuracy:0.9088\n",
      "--------------------------------------------------\n",
      "epoch 5; loss:0.0133;\n",
      "-Train; accuracy:0.99; bal_accuracy:0.9899\n",
      "-Test; accuracy:0.9195; bal_accuracy:0.9195\n",
      "--------------------------------------------------\n",
      "epoch 6; loss:0.0101;\n",
      "-Train; accuracy:0.9906; bal_accuracy:0.9905\n",
      "-Test; accuracy:0.9232; bal_accuracy:0.9232\n",
      "--------------------------------------------------\n",
      "epoch 7; loss:0.0116;\n",
      "-Train; accuracy:0.987; bal_accuracy:0.9868\n",
      "-Test; accuracy:0.911; bal_accuracy:0.911\n",
      "--------------------------------------------------\n",
      "epoch 8; loss:0.0083;\n",
      "-Train; accuracy:0.9944; bal_accuracy:0.9944\n",
      "-Test; accuracy:0.9285; bal_accuracy:0.9285\n",
      "--------------------------------------------------\n",
      "epoch 9; loss:0.0056;\n",
      "-Train; accuracy:0.9884; bal_accuracy:0.9884\n",
      "-Test; accuracy:0.908; bal_accuracy:0.908\n",
      "--------------------------------------------------\n",
      "epoch 10; loss:0.0064;\n",
      "-Train; accuracy:0.9904; bal_accuracy:0.9902\n",
      "-Test; accuracy:0.9062; bal_accuracy:0.9062\n",
      "--------------------------------------------------\n"
     ]
    }
   ],
   "source": [
    "num_epochs=10\n",
    "batch_size=25\n",
    "for epoch_i in range(num_epochs): # number of epochs\n",
    "    epoch_losses = []\n",
    "    for i in range(0,len(final_x_train)-batch_size,batch_size):\n",
    "        x_subset = final_x_train[i:i+batch_size]\n",
    "        y_subset = final_y_train[i:i+batch_size]\n",
    "        batch_loss = model.train_on_batch(x_subset,y_subset)\n",
    "        epoch_losses.append(float(batch_loss))\n",
    "        \n",
    "    print(\"epoch {}; loss:{};\".format(epoch_i+1,round(sum(epoch_losses)/len(epoch_losses),4)))\n",
    "    train_pred = model(final_x_train).numpy()\n",
    "    test_pred = model(final_x_test).numpy()\n",
    "    train_pred,test_pred = np.argmax(train_pred,axis=-1),np.argmax(test_pred,axis=-1)\n",
    "    \n",
    "    train_acc,train_bal_acc = round(accuracy_score(final_y_train,train_pred),4),round(balanced_accuracy_score(final_y_train,train_pred),4)\n",
    "    test_acc,test_bal_acc = round(accuracy_score(final_y_test,test_pred),4),round(balanced_accuracy_score(final_y_test,test_pred),4)\n",
    "    print(\"-Train; accuracy:{}; bal_accuracy:{}\".format(train_acc,train_bal_acc))\n",
    "    print(\"-Test; accuracy:{}; bal_accuracy:{}\".format(test_acc,test_bal_acc))\n",
    "    print(\"--------------------------------------------------\")"
   ]
  },
  {
   "cell_type": "code",
   "execution_count": null,
   "metadata": {},
   "outputs": [],
   "source": []
  }
 ],
 "metadata": {
  "kernelspec": {
   "display_name": "Python 3",
   "language": "python",
   "name": "python3"
  },
  "language_info": {
   "codemirror_mode": {
    "name": "ipython",
    "version": 3
   },
   "file_extension": ".py",
   "mimetype": "text/x-python",
   "name": "python",
   "nbconvert_exporter": "python",
   "pygments_lexer": "ipython3",
   "version": "3.6.5"
  }
 },
 "nbformat": 4,
 "nbformat_minor": 2
}
