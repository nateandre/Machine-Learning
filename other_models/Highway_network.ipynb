{
 "cells": [
  {
   "cell_type": "markdown",
   "metadata": {},
   "source": [
    "## Implementation of Highway Networks\n",
    "\n",
    "This is based on the following paper: <i>Highway Networks</i>. An important implementation note is that when x and H(x,W_h) are not the same shape, a plain layer (without highways) is used to change dimensionality and then continue with the stacking of highway layers. Additionally, the bias terms for the highway block gates are initialized to negative values to promote the \"carry\" behavior."
   ]
  },
  {
   "cell_type": "code",
   "execution_count": 1,
   "metadata": {},
   "outputs": [],
   "source": [
    "import numpy as np\n",
    "import matplotlib.pyplot as plt\n",
    "from sklearn.manifold import TSNE\n",
    "from sklearn.decomposition import PCA\n",
    "import tensorflow as tf\n",
    "import tensorflow_hub as hub\n",
    "from tensorflow.keras import backend as K\n",
    "from tensorflow.keras.layers import Input,Dense,Dropout,Activation\n",
    "from tensorflow.keras.models import Model\n",
    "from tensorflow.keras.optimizers import Adam\n",
    "from tensorflow.keras.losses import BinaryCrossentropy\n",
    "from tensorflow.keras.initializers import Constant\n",
    "from sklearn.model_selection import train_test_split\n",
    "from sklearn.metrics import accuracy_score,balanced_accuracy_score\n",
    "from sklearn.utils import shuffle\n",
    "\n",
    "import warnings\n",
    "warnings.filterwarnings(\"ignore\")"
   ]
  },
  {
   "cell_type": "code",
   "execution_count": 2,
   "metadata": {},
   "outputs": [],
   "source": [
    "## feature extraction using pretrained feature extractor\n",
    "universal_embed = hub.load(\"../other/universal-sentence-encoder_4\")\n",
    "nnlm_embed = hub.load(\"../other/nnlm-en-dim128_2\")"
   ]
  },
  {
   "cell_type": "code",
   "execution_count": 3,
   "metadata": {
    "scrolled": true
   },
   "outputs": [
    {
     "name": "stdout",
     "output_type": "stream",
     "text": [
      "(400000, 640) (400000,)\n"
     ]
    }
   ],
   "source": [
    "## Using Amazon review data\n",
    "\"\"\"\n",
    "all_feats = []\n",
    "all_labels = []\n",
    "with open(\"../data/amazon_reviews/amazon_reviews.txt\") as data_file:\n",
    "    for line in data_file.readlines():\n",
    "        label = line[:10][-1]\n",
    "        string = line[10:].strip().lower()\n",
    "        \n",
    "        if label==\"2\": # positive review\n",
    "            all_labels.append(1)\n",
    "        else: # negative review\n",
    "            all_labels.append(0)\n",
    "        \n",
    "        string = np.expand_dims(np.asarray(string),axis=0)\n",
    "        all_feats.append(np.hstack([universal_embed(string),nnlm_embed(string)]))\n",
    "\n",
    "x = np.vstack(all_feats)\n",
    "y = np.asarray(all_labels).astype(\"int32\")\n",
    "\"\"\"\n",
    "x = np.load(\"../data/amazon_reviews/x.npy\")\n",
    "y = np.load(\"../data/amazon_reviews/y.npy\")\n",
    "print(x.shape,y.shape)"
   ]
  },
  {
   "cell_type": "code",
   "execution_count": 4,
   "metadata": {},
   "outputs": [
    {
     "name": "stdout",
     "output_type": "stream",
     "text": [
      "(380000, 640) (20000, 640) (380000,) (20000,)\n"
     ]
    }
   ],
   "source": [
    "x_train,x_test,y_train,y_test = train_test_split(x,y,test_size=0.05,random_state=2)\n",
    "print(x_train.shape,x_test.shape,y_train.shape,y_test.shape)"
   ]
  },
  {
   "cell_type": "markdown",
   "metadata": {},
   "source": [
    "### Highway Network Model\n",
    "\n",
    "$$ y = H(x,W_h)*T(x,W_t) \\;+\\; x*(1-T(x,W_t)) $$\n",
    "\n",
    "- x: input to the NN layer\n",
    "- H(...): can be thought as the standard non-linear affine transformation (dense layer)\n",
    "- T(...): gating mechanism (sigmoid)"
   ]
  },
  {
   "cell_type": "code",
   "execution_count": 5,
   "metadata": {},
   "outputs": [],
   "source": [
    "def highway_block(x,out_dim):\n",
    "    \"\"\" defines a single highway block\n",
    "    \"\"\"\n",
    "    H_tran = Dense(out_dim,activation=\"relu\")(x)\n",
    "    T_gate = Dense(out_dim,activation=\"sigmoid\",bias_initializer=Constant(value=-2))(x)\n",
    "    output = (T_gate*H_tran)+((1-T_gate)*x)\n",
    "    return output"
   ]
  },
  {
   "cell_type": "code",
   "execution_count": 6,
   "metadata": {},
   "outputs": [],
   "source": [
    "def highway_network(input_dim=640,highway_dim=256,use_highway=True,num_layers=2):\n",
    "    \"\"\" Defines forward pass of highway network\n",
    "    \"\"\"\n",
    "    x = Input(shape=(input_dim))\n",
    "    h = Dense(highway_dim,activation=\"relu\")(x)\n",
    "    for _ in range(num_layers):\n",
    "        if use_highway:\n",
    "            h = highway_block(h,out_dim=highway_dim)\n",
    "        else:\n",
    "            h = Dense(highway_dim,activation=\"relu\")(h) # standard Dense layer\n",
    "    pred = Dense(1,activation=\"sigmoid\")(h)\n",
    "    \n",
    "    model = Model(inputs=[x],outputs=[pred])\n",
    "    return model"
   ]
  },
  {
   "cell_type": "code",
   "execution_count": 7,
   "metadata": {},
   "outputs": [],
   "source": [
    "def loss_function(y_true,y_pred):\n",
    "    \"\"\" binary cross entropy loss\n",
    "    \"\"\"\n",
    "    loss = BinaryCrossentropy()(y_true,y_pred)\n",
    "    return loss"
   ]
  },
  {
   "cell_type": "code",
   "execution_count": 8,
   "metadata": {},
   "outputs": [],
   "source": [
    "@tf.function\n",
    "def train(model,optimizer,x_train_subset,y_train_subset):\n",
    "    with tf.GradientTape() as tape:\n",
    "        y_train_pred = model(x_train_subset)\n",
    "        loss = loss_function(y_train_subset,y_train_pred)\n",
    "    gradients = tape.gradient(loss, model.trainable_variables)\n",
    "    optimizer.apply_gradients(zip(gradients, model.trainable_variables))\n",
    "    return loss"
   ]
  },
  {
   "cell_type": "code",
   "execution_count": 9,
   "metadata": {},
   "outputs": [],
   "source": [
    "model = highway_network(highway_dim=128,use_highway=True,num_layers=5)"
   ]
  },
  {
   "cell_type": "code",
   "execution_count": 10,
   "metadata": {},
   "outputs": [
    {
     "name": "stdout",
     "output_type": "stream",
     "text": [
      "epoch 0; loss:0.2699\n",
      "-Train; accuracy:0.896; bal_accuracy:0.896\n",
      "-Test; accuracy:0.8878; bal_accuracy:0.8879\n",
      "epoch 1; loss:0.2475\n",
      "-Train; accuracy:0.9019; bal_accuracy:0.9019\n",
      "-Test; accuracy:0.8904; bal_accuracy:0.8906\n",
      "epoch 2; loss:0.2363\n",
      "-Train; accuracy:0.9063; bal_accuracy:0.9063\n",
      "-Test; accuracy:0.8935; bal_accuracy:0.8937\n",
      "epoch 3; loss:0.2265\n",
      "-Train; accuracy:0.91; bal_accuracy:0.91\n",
      "-Test; accuracy:0.8943; bal_accuracy:0.8945\n"
     ]
    }
   ],
   "source": [
    "batch_size=25\n",
    "optimizer=Adam(lr=0.001)\n",
    "epochs=4\n",
    "\n",
    "for epoch_i in range(epochs):\n",
    "    losses = []\n",
    "    for i in range(0,len(x_train),batch_size):\n",
    "        x_train_subset = x_train[i:i+batch_size]\n",
    "        y_train_subset = y_train[i:i+batch_size]\n",
    "        batch_loss = train(model,optimizer,x_train_subset,y_train_subset)\n",
    "        losses.append(float(batch_loss))\n",
    "    \n",
    "    print(\"epoch {}; loss:{}\".format(epoch_i,round(sum(losses)/len(losses),4)))\n",
    "    y_train_pred = model(x_train)\n",
    "    y_train_pred = y_train_pred.numpy()\n",
    "    y_train_pred[y_train_pred >= 0.5]=1 ; y_train_pred[y_train_pred < 0.5]=0\n",
    "    \n",
    "    y_test_pred = model(x_test)\n",
    "    y_test_pred = y_test_pred.numpy()\n",
    "    y_test_pred[y_test_pred >= 0.5]=1 ; y_test_pred[y_test_pred < 0.5]=0\n",
    "    \n",
    "    train_acc,train_bal_acc = round(accuracy_score(y_train,y_train_pred),4),round(balanced_accuracy_score(y_train,y_train_pred),4)\n",
    "    test_acc,test_bal_acc = round(accuracy_score(y_test,y_test_pred),4),round(balanced_accuracy_score(y_test,y_test_pred),4)\n",
    "    \n",
    "    print(\"-Train; accuracy:{}; bal_accuracy:{}\".format(train_acc,train_bal_acc))\n",
    "    print(\"-Test; accuracy:{}; bal_accuracy:{}\".format(test_acc,test_bal_acc))"
   ]
  },
  {
   "cell_type": "code",
   "execution_count": null,
   "metadata": {},
   "outputs": [],
   "source": []
  }
 ],
 "metadata": {
  "kernelspec": {
   "display_name": "Python 3",
   "language": "python",
   "name": "python3"
  },
  "language_info": {
   "codemirror_mode": {
    "name": "ipython",
    "version": 3
   },
   "file_extension": ".py",
   "mimetype": "text/x-python",
   "name": "python",
   "nbconvert_exporter": "python",
   "pygments_lexer": "ipython3",
   "version": "3.6.5"
  }
 },
 "nbformat": 4,
 "nbformat_minor": 2
}
