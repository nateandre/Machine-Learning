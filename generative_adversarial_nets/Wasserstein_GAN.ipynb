{
 "cells": [
  {
   "cell_type": "markdown",
   "metadata": {},
   "source": [
    "## Wasserstein GAN Implementation\n",
    "\n",
    "Based on the paper: <i>Wasserstein Generative Adversarial Networks</i>. There are good references [here](https://machinelearningmastery.com/how-to-code-a-wasserstein-generative-adversarial-network-wgan-from-scratch/) and [here](https://machinelearningmastery.com/how-to-implement-wasserstein-loss-for-generative-adversarial-networks/)."
   ]
  },
  {
   "cell_type": "code",
   "execution_count": 1,
   "metadata": {},
   "outputs": [],
   "source": [
    "import tensorflow as tf\n",
    "from tensorflow.keras import backend as K\n",
    "from tensorflow.keras.constraints import Constraint\n",
    "from tensorflow.keras.layers import Input,Dense,Reshape,Dropout,BatchNormalization,Activation,UpSampling2D,Embedding\n",
    "from tensorflow.keras.layers import BatchNormalization,Conv2D,LeakyReLU,Flatten,Conv2DTranspose,Concatenate\n",
    "from tensorflow.keras.optimizers import Adam,RMSprop\n",
    "from tensorflow.keras.models import Model,Sequential\n",
    "from tensorflow.keras.losses import BinaryCrossentropy\n",
    "import numpy as np\n",
    "import matplotlib.pyplot as plt\n",
    "from sklearn.model_selection import train_test_split\n",
    "tf.keras.backend.set_floatx('float32')\n",
    "\n",
    "import warnings\n",
    "warnings.filterwarnings('ignore')"
   ]
  },
  {
   "cell_type": "markdown",
   "metadata": {},
   "source": [
    "### Data Cleaning"
   ]
  },
  {
   "cell_type": "code",
   "execution_count": 2,
   "metadata": {},
   "outputs": [
    {
     "name": "stdout",
     "output_type": "stream",
     "text": [
      "(24750, 28, 28, 1) (24750, 1)\n"
     ]
    }
   ],
   "source": [
    "(x_train, y_train),(x_test, y_test) = tf.keras.datasets.mnist.load_data()\n",
    "x_train = x_train.astype('float32')\n",
    "y_train = y_train.astype('float32')\n",
    "x_train = x_train[y_train <= 3] # using numbers 0,1,2,3\n",
    "y_train = y_train[y_train <= 3]\n",
    "y_train = y_train.astype(\"int32\")\n",
    "y_train = np.expand_dims(y_train,axis=-1)\n",
    "x_train = (x_train-127.5)/127.5 # scaling the images\n",
    "x_train = np.expand_dims(x_train,axis=-1)\n",
    "x_train = x_train[:24750]\n",
    "y_train = y_train[:24750]\n",
    "print(x_train.shape,y_train.shape)"
   ]
  },
  {
   "cell_type": "code",
   "execution_count": 3,
   "metadata": {},
   "outputs": [
    {
     "data": {
      "image/png": "[encoded data removed]",
      "text/plain": [
       "<Figure size 432x288 with 4 Axes>"
      ]
     },
     "metadata": {},
     "output_type": "display_data"
    }
   ],
   "source": [
    "plt.subplot(1,4,1)\n",
    "plt.imshow(np.squeeze(x_train[0]),cmap=\"gray\")\n",
    "plt.subplot(1,4,2)\n",
    "plt.imshow(np.squeeze(x_train[1]),cmap=\"gray\")\n",
    "plt.subplot(1,4,3)\n",
    "plt.imshow(np.squeeze(x_train[2]),cmap=\"gray\")\n",
    "plt.subplot(1,4,4)\n",
    "plt.imshow(np.squeeze(x_train[4]),cmap=\"gray\")\n",
    "plt.show()"
   ]
  },
  {
   "cell_type": "markdown",
   "metadata": {},
   "source": [
    "### Model Implementation\n",
    "\n",
    "Brief description: we want to <b>maximize</b> the critic score for <u>fake</u> images and <b>minimize</b> the critic score for <u>real</u> images; therefore loss_fake-img = <b>-1</b>\\*critic_score while loss_real-img = critic_score (this is intuitive when remembering gradient descent is minimizing -1\\*critic_score_fake-img + critic_score_real-img)."
   ]
  },
  {
   "cell_type": "code",
   "execution_count": 4,
   "metadata": {},
   "outputs": [],
   "source": [
    "def get_generator(noise_dim=100):\n",
    "    \"\"\" generator implementation\n",
    "    \"\"\"\n",
    "    z = Input(shape=(noise_dim))\n",
    "    h = Dense(7*7*256)(z)\n",
    "    h = LeakyReLU(0.2)(h)\n",
    "    h = Reshape((7,7,256))(h)\n",
    "    \n",
    "    h = UpSampling2D()(h)\n",
    "    h = Conv2D(filters=128,kernel_size=4,strides=1,padding='same',activation=None)(h)\n",
    "    h = BatchNormalization()(h)\n",
    "    h = LeakyReLU(0.2)(h)\n",
    "    h = UpSampling2D()(h)\n",
    "    h = Conv2D(filters=128,kernel_size=4,strides=1,padding='same',activation=None)(h)\n",
    "    h = BatchNormalization()(h)\n",
    "    h = LeakyReLU(0.2)(h)\n",
    "    h = Conv2D(filters=1,kernel_size=4,strides=1,padding='same',activation=None)(h)\n",
    "    h = Activation('tanh')(h)\n",
    "    \n",
    "    model = Model(inputs=z,outputs=h)\n",
    "    return model"
   ]
  },
  {
   "cell_type": "code",
   "execution_count": 5,
   "metadata": {},
   "outputs": [],
   "source": [
    "class Clipped(Constraint):\n",
    "    \"\"\" clips weights of the discriminator(critic) to predetermined range\n",
    "    \"\"\"\n",
    "    def __init__(self,clip_value):\n",
    "        self.clip_value = clip_value\n",
    "\n",
    "    def __call__(self, w):        \n",
    "        return K.clip(w,-self.clip_value,self.clip_value)\n",
    "\n",
    "    def get_config(self):\n",
    "        return {'clip_value': self.clip_value}"
   ]
  },
  {
   "cell_type": "code",
   "execution_count": 6,
   "metadata": {},
   "outputs": [],
   "source": [
    "def get_discriminator():\n",
    "    \"\"\" discriminator(critic) implementation\n",
    "    \"\"\"\n",
    "    x = Input(shape=(28,28,1))\n",
    "\n",
    "    h = Conv2D(filters=64,kernel_size=4,strides=2,padding='same',kernel_constraint=Clipped(0.01),activation=None)(x)\n",
    "    h = BatchNormalization()(h)\n",
    "    h = LeakyReLU(0.2)(h)\n",
    "    h = Conv2D(filters=64,kernel_size=4,strides=2,padding='same',kernel_constraint=Clipped(0.01),activation=None)(h)\n",
    "    h = BatchNormalization()(h)\n",
    "    h = LeakyReLU(0.2)(h)\n",
    "    h = Flatten()(h)\n",
    "    h = Dense(1,activation=None)(h) # linear\n",
    "    \n",
    "    model = Model(inputs=x,outputs=h)\n",
    "    return model"
   ]
  },
  {
   "cell_type": "code",
   "execution_count": 7,
   "metadata": {},
   "outputs": [],
   "source": [
    "def wasserstein_loss(y_true,y_pred):\n",
    "    \"\"\" loss implementation\n",
    "    \"\"\"\n",
    "    return K.mean(y_true*y_pred)"
   ]
  },
  {
   "cell_type": "code",
   "execution_count": 8,
   "metadata": {},
   "outputs": [],
   "source": [
    "def discriminator_model(discriminator,optimizer=RMSprop(lr=0.00005)):\n",
    "    \"\"\" compiling discriminator model\n",
    "    \"\"\"\n",
    "    x = Input(shape=(28,28,1))\n",
    "    out = discriminator(x)\n",
    "    \n",
    "    model = Model(inputs=x,outputs=out)\n",
    "    model.compile(loss=wasserstein_loss,optimizer=optimizer)\n",
    "    return model"
   ]
  },
  {
   "cell_type": "code",
   "execution_count": 9,
   "metadata": {},
   "outputs": [],
   "source": [
    "def adversarial_model(generator,discriminator,noise_dim=100,optimizer=RMSprop(lr=0.00005)):\n",
    "    \"\"\" compiling adversarial model - used to train generator\n",
    "    \"\"\"\n",
    "    z = Input(shape=(noise_dim))\n",
    "    gen = generator(z)\n",
    "    out = discriminator(gen)\n",
    "    \n",
    "    model = Model(inputs=z,outputs=out)\n",
    "    model.compile(loss=wasserstein_loss,optimizer=optimizer)\n",
    "    return model"
   ]
  },
  {
   "cell_type": "code",
   "execution_count": 10,
   "metadata": {},
   "outputs": [],
   "source": [
    "d = get_discriminator()\n",
    "generator = get_generator()\n",
    "discriminator = discriminator_model(d)\n",
    "adversarial = adversarial_model(generator,d)"
   ]
  },
  {
   "cell_type": "markdown",
   "metadata": {},
   "source": [
    "### Model Training\n",
    "\n",
    "The noise prior z~N(0,1)"
   ]
  },
  {
   "cell_type": "code",
   "execution_count": 12,
   "metadata": {
    "scrolled": true
   },
   "outputs": [],
   "source": [
    "num_epochs=10\n",
    "batch_size=50\n",
    "n_critic=5\n",
    "\n",
    "for epoch_i in range(num_epochs):\n",
    "    all_a_losses = []\n",
    "    all_d1_losses = []\n",
    "    all_d2_losses = []\n",
    "    print(\"Epoch {}:\".format(epoch_i+1))\n",
    "    \n",
    "    for i in range(0,len(x_train)-batch_size*(n_critic-1),batch_size):\n",
    "        x_subset = x_train[i:i+batch_size*n_critic]\n",
    "        \n",
    "        # training the discriminator:\n",
    "        discriminator.trainable=True\n",
    "        for nc_i in range(n_critic):\n",
    "            z = np.random.normal(0.0,1.0,size=(int(batch_size/2),100))\n",
    "            x_gen = generator(z)\n",
    "            # training disc. w/ real examples\n",
    "            disc_x = x_subset[nc_i*batch_size:nc_i*batch_size+int(batch_size/2)]\n",
    "            disc_y = np.ones((int(batch_size/2),1))\n",
    "            d_loss = discriminator.train_on_batch(disc_x,disc_y)\n",
    "            all_d1_losses.append(float(d_loss))\n",
    "            # training disc. w/ fake examples\n",
    "            disc_x = x_gen\n",
    "            disc_y = -1*np.ones((int(batch_size/2),1))\n",
    "            d_loss = discriminator.train_on_batch(disc_x,disc_y)\n",
    "            all_d2_losses.append(float(d_loss))\n",
    "        \n",
    "        # training the generator:\n",
    "        y = np.ones([batch_size,1]) # we switch the labels here to maximize the domain-confusion\n",
    "        z = np.random.normal(0.0,1.0,size=(batch_size,100))\n",
    "        discriminator.trainable=False\n",
    "        a_loss = adversarial.train_on_batch(z,y)\n",
    "        all_a_losses.append(float(a_loss))\n",
    "        \n",
    "        if i%2000 == 0:\n",
    "            plt.figure(figsize=(15,4))\n",
    "            for i in range(10):\n",
    "                this_noise = np.random.normal(0.0,1.0,size=(1,100))\n",
    "                gen = generator(this_noise).numpy()\n",
    "                gen.shape=(28,28)\n",
    "                plt.subplot(1,10,i+1)\n",
    "                plt.imshow(gen,cmap=\"gray\")\n",
    "            plt.show()\n",
    "            \n",
    "    print(\"gen. loss:{}; disc. 1 loss:{}; disc. 2 loss:{}\".format(sum(all_a_losses)/len(all_a_losses),sum(all_d1_losses)/len(all_d1_losses),sum(all_d2_losses)/len(all_d2_losses)))            \n",
    "    print(\"--------------------------------------------------------------------------------------------------\")\n",
    "    print(\"--------------------------------------------------------------------------------------------------\")\n",
    "    print(\"--------------------------------------------------------------------------------------------------\")"
   ]
  },
  {
   "cell_type": "code",
   "execution_count": null,
   "metadata": {},
   "outputs": [],
   "source": []
  },
  {
   "cell_type": "code",
   "execution_count": 19,
   "metadata": {},
   "outputs": [
    {
     "data": {
      "image/png": "[encoded data removed]",
      "text/plain": [
       "<Figure size 432x288 with 1 Axes>"
      ]
     },
     "metadata": {
      "needs_background": "light"
     },
     "output_type": "display_data"
    }
   ],
   "source": [
    "this_noise = np.random.normal(0.0,1.0,size=(1,100))\n",
    "gen = generator(this_noise).numpy()\n",
    "gen.shape=(28,28)\n",
    "plt.imshow(gen,cmap=\"gray\")\n",
    "plt.show()"
   ]
  },
  {
   "cell_type": "code",
   "execution_count": 20,
   "metadata": {},
   "outputs": [
    {
     "data": {
      "image/png": "[encoded data removed]",
      "text/plain": [
       "<Figure size 432x288 with 1 Axes>"
      ]
     },
     "metadata": {
      "needs_background": "light"
     },
     "output_type": "display_data"
    }
   ],
   "source": []
  },
  {
   "cell_type": "code",
   "execution_count": 22,
   "metadata": {},
   "outputs": [
    {
     "data": {
      "image/png": "[encoded data removed]",
      "text/plain": [
       "<Figure size 432x288 with 1 Axes>"
      ]
     },
     "metadata": {
      "needs_background": "light"
     },
     "output_type": "display_data"
    }
   ],
   "source": []
  },
  {
   "cell_type": "code",
   "execution_count": 24,
   "metadata": {},
   "outputs": [
    {
     "data": {
      "image/png": "[encoded data removed]",
      "text/plain": [
       "<Figure size 432x288 with 1 Axes>"
      ]
     },
     "metadata": {
      "needs_background": "light"
     },
     "output_type": "display_data"
    }
   ],
   "source": []
  },
  {
   "cell_type": "code",
   "execution_count": 39,
   "metadata": {},
   "outputs": [
    {
     "data": {
      "image/png": "[encoded data removed]",
      "text/plain": [
       "<Figure size 432x288 with 1 Axes>"
      ]
     },
     "metadata": {
      "needs_background": "light"
     },
     "output_type": "display_data"
    }
   ],
   "source": []
  },
  {
   "cell_type": "code",
   "execution_count": 41,
   "metadata": {},
   "outputs": [
    {
     "data": {
      "image/png": "[encoded data removed]",
      "text/plain": [
       "<Figure size 432x288 with 1 Axes>"
      ]
     },
     "metadata": {
      "needs_background": "light"
     },
     "output_type": "display_data"
    }
   ],
   "source": []
  },
  {
   "cell_type": "code",
   "execution_count": 45,
   "metadata": {},
   "outputs": [
    {
     "data": {
      "image/png": "[encoded data removed]",
      "text/plain": [
       "<Figure size 432x288 with 1 Axes>"
      ]
     },
     "metadata": {
      "needs_background": "light"
     },
     "output_type": "display_data"
    }
   ],
   "source": []
  },
  {
   "cell_type": "code",
   "execution_count": 48,
   "metadata": {},
   "outputs": [
    {
     "data": {
      "image/png": "[encoded data removed]",
      "text/plain": [
       "<Figure size 432x288 with 1 Axes>"
      ]
     },
     "metadata": {
      "needs_background": "light"
     },
     "output_type": "display_data"
    }
   ],
   "source": []
  },
  {
   "cell_type": "code",
   "execution_count": null,
   "metadata": {},
   "outputs": [],
   "source": []
  }
 ],
 "metadata": {
  "kernelspec": {
   "display_name": "Python 3",
   "language": "python",
   "name": "python3"
  },
  "language_info": {
   "codemirror_mode": {
    "name": "ipython",
    "version": 3
   },
   "file_extension": ".py",
   "mimetype": "text/x-python",
   "name": "python",
   "nbconvert_exporter": "python",
   "pygments_lexer": "ipython3",
   "version": "3.6.5"
  }
 },
 "nbformat": 4,
 "nbformat_minor": 2
}
