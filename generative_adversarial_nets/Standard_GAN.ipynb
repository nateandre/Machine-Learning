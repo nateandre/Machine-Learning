{
 "cells": [
  {
   "cell_type": "markdown",
   "metadata": {},
   "source": [
    "## Standard GAN Implementation\n",
    "\n",
    "Based on the paper <i>Generative Adversarial Nets</i>, with the implementation inspired by the paper <i>Unsupervised Representation Learning With Deep Convolutional Generative Adversarial Networks</i>, but varied as described [here](https://towardsdatascience.com/gan-by-example-using-keras-on-tensorflow-backend-1a6d515a60d0). Using the MNIST dataset for the general generative task, and for using the GAN as an unsupervised feature extractor. Interesting article about the GAN training process [here](https://towardsdatascience.com/10-lessons-i-learned-training-generative-adversarial-networks-gans-for-a-year-c9071159628). There is an important nuance in that when the generator is trained, you want to label the output from the generator as real so that the discriminator assigns a larger error to it (for updating the model parameters), as described [here](https://machinelearningmastery.com/how-to-develop-a-generative-adversarial-network-for-an-mnist-handwritten-digits-from-scratch-in-keras/)."
   ]
  },
  {
   "cell_type": "code",
   "execution_count": 1,
   "metadata": {},
   "outputs": [],
   "source": [
    "import tensorflow as tf\n",
    "from tensorflow.keras import backend as K\n",
    "from tensorflow.keras.layers import Input,Dense,Reshape,Dropout,BatchNormalization,Activation,UpSampling2D\n",
    "from tensorflow.keras.layers import BatchNormalization,Conv2D,LeakyReLU,Flatten,Conv2DTranspose\n",
    "from tensorflow.keras.optimizers import Adam,RMSprop\n",
    "from tensorflow.keras.models import Model,Sequential\n",
    "from tensorflow.keras.losses import BinaryCrossentropy\n",
    "import numpy as np\n",
    "import matplotlib.pyplot as plt\n",
    "from sklearn.model_selection import train_test_split\n",
    "\n",
    "tf.keras.backend.set_floatx('float32')\n",
    "import warnings\n",
    "warnings.filterwarnings('ignore')\n",
    "import sys\n",
    "tf.compat.v1.enable_eager_execution()"
   ]
  },
  {
   "cell_type": "markdown",
   "metadata": {},
   "source": [
    "### Data Cleaning"
   ]
  },
  {
   "cell_type": "code",
   "execution_count": 2,
   "metadata": {},
   "outputs": [
    {
     "data": {
      "text/plain": [
       "((24754, 28, 28), (24754,))"
      ]
     },
     "execution_count": 2,
     "metadata": {},
     "output_type": "execute_result"
    }
   ],
   "source": [
    "(x_train, y_train),(x_test, y_test) = tf.keras.datasets.mnist.load_data()\n",
    "x_train = x_train.astype('float32')\n",
    "y_train = y_train.astype('float32')\n",
    "x_train = x_train[y_train <= 3] # using numbers 0,..,3\n",
    "y_train = y_train[y_train <= 3]\n",
    "x_train.shape,y_train.shape"
   ]
  },
  {
   "cell_type": "code",
   "execution_count": 3,
   "metadata": {},
   "outputs": [
    {
     "data": {
      "image/png": "[encoded data removed]",
      "text/plain": [
       "<Figure size 432x288 with 4 Axes>"
      ]
     },
     "metadata": {},
     "output_type": "display_data"
    }
   ],
   "source": [
    "plt.subplot(1,4,1)\n",
    "plt.imshow(x_train[0],cmap=\"gray\")\n",
    "plt.subplot(1,4,2)\n",
    "plt.imshow(x_train[1],cmap=\"gray\")\n",
    "plt.subplot(1,4,3)\n",
    "plt.imshow(x_train[2],cmap=\"gray\")\n",
    "plt.subplot(1,4,4)\n",
    "plt.imshow(x_train[4],cmap=\"gray\")\n",
    "plt.show()"
   ]
  },
  {
   "cell_type": "code",
   "execution_count": 4,
   "metadata": {},
   "outputs": [],
   "source": [
    "x_train = x_train/255 # scaling the images"
   ]
  },
  {
   "cell_type": "markdown",
   "metadata": {},
   "source": [
    "### Model Implementation"
   ]
  },
  {
   "cell_type": "code",
   "execution_count": 5,
   "metadata": {},
   "outputs": [],
   "source": [
    "def get_generator():\n",
    "    \"\"\" generator implementation\n",
    "    \"\"\"\n",
    "    model = Sequential()\n",
    "    model.add(Input(shape=100))\n",
    "    model.add(Dense(7*7*256))\n",
    "    model.add(BatchNormalization(momentum=0.9))\n",
    "    model.add(Activation('relu'))\n",
    "    model.add(Reshape((7,7,256)))\n",
    "    model.add(Dropout(0.4))\n",
    "    model.add(UpSampling2D())\n",
    "    model.add(Conv2DTranspose(filters=128,kernel_size=5,strides=1,padding='same',activation=None))\n",
    "    model.add(BatchNormalization(momentum=0.9))\n",
    "    model.add(Activation('relu'))\n",
    "    model.add(UpSampling2D())\n",
    "    model.add(Conv2DTranspose(filters=64,kernel_size=5,strides=1,padding='same',activation=None))\n",
    "    model.add(BatchNormalization(momentum=0.9))\n",
    "    model.add(Activation('relu'))\n",
    "    model.add(Conv2DTranspose(filters=32,kernel_size=5,strides=1,padding='same',activation=None))\n",
    "    model.add(BatchNormalization(momentum=0.9))\n",
    "    model.add(Activation('relu'))\n",
    "    model.add(Conv2DTranspose(filters=1,kernel_size=5,strides=1,padding='same',activation=None))\n",
    "    model.add(Activation('sigmoid'))\n",
    "    return model"
   ]
  },
  {
   "cell_type": "code",
   "execution_count": 6,
   "metadata": {},
   "outputs": [],
   "source": [
    "def get_discriminator():\n",
    "    \"\"\" discriminator implementation\n",
    "    \"\"\"\n",
    "    model = Sequential()\n",
    "    model.add(Input(shape=(28,28,1)))\n",
    "    model.add(Conv2D(filters=64,kernel_size=5,strides=2,padding='same',activation=None))\n",
    "    #model.add(BatchNormalization(momentum=0.9))\n",
    "    model.add(LeakyReLU(0.2))\n",
    "    model.add(Dropout(0.4))\n",
    "    model.add(Conv2D(filters=128,kernel_size=5,strides=2,padding='same',activation=None))\n",
    "    #model.add(BatchNormalization(momentum=0.9))\n",
    "    model.add(LeakyReLU(0.2))\n",
    "    model.add(Dropout(0.4))\n",
    "    model.add(Conv2D(filters=256,kernel_size=5,strides=2,padding='same',activation=None))\n",
    "    #model.add(BatchNormalization(momentum=0.9))\n",
    "    model.add(LeakyReLU(0.2))\n",
    "    model.add(Dropout(0.4))\n",
    "    model.add(Conv2D(filters=512,kernel_size=5,strides=1,padding='same',activation=None))\n",
    "    #model.add(BatchNormalization(momentum=0.9))\n",
    "    model.add(LeakyReLU(0.2))\n",
    "    model.add(Dropout(0.4))\n",
    "    model.add(Flatten())\n",
    "    model.add(Dense(1,activation=None))\n",
    "    model.add(Activation('sigmoid'))\n",
    "    return model"
   ]
  },
  {
   "cell_type": "code",
   "execution_count": 7,
   "metadata": {},
   "outputs": [],
   "source": [
    "def discriminator_model(discriminator):\n",
    "    optimizer = Adam(lr=0.0002)\n",
    "    model = Sequential()\n",
    "    model.add(discriminator)\n",
    "    model.compile(loss='binary_crossentropy',optimizer=optimizer)\n",
    "    return model"
   ]
  },
  {
   "cell_type": "code",
   "execution_count": 8,
   "metadata": {},
   "outputs": [],
   "source": [
    "def adversarial_model(generator,discriminator):\n",
    "    optimizer = Adam(lr=0.0001)\n",
    "    model = Sequential()\n",
    "    model.add(generator)\n",
    "    model.add(discriminator)\n",
    "    model.compile(loss='binary_crossentropy',optimizer=optimizer)\n",
    "    return model"
   ]
  },
  {
   "cell_type": "markdown",
   "metadata": {},
   "source": [
    "### Model Training\n",
    "\n",
    "The noise prior z~N(0,1)"
   ]
  },
  {
   "cell_type": "code",
   "execution_count": 9,
   "metadata": {},
   "outputs": [
    {
     "data": {
      "text/plain": [
       "(24700, 28, 28, 1)"
      ]
     },
     "execution_count": 9,
     "metadata": {},
     "output_type": "execute_result"
    }
   ],
   "source": [
    "d = get_discriminator()\n",
    "generator = get_generator()\n",
    "discriminator = discriminator_model(d)\n",
    "adversarial = adversarial_model(generator,d)\n",
    "x_train = np.expand_dims(x_train,axis=-1)\n",
    "x_train = x_train[:24700]\n",
    "x_train.shape"
   ]
  },
  {
   "cell_type": "code",
   "execution_count": 29,
   "metadata": {
    "scrolled": true
   },
   "outputs": [],
   "source": [
    "batch_size=50\n",
    "for _ in range(10): # number of epochs\n",
    "    for i in range(0,len(x_train)-batch_size,batch_size): # looping through batches rather than sampling\n",
    "        x_data = x_train[i:i+batch_size]\n",
    "        z = np.random.normal(0.0,1.0,size=(batch_size,100))\n",
    "        x_gen = generator.predict(z)\n",
    "        x = np.concatenate((x_data,x_gen))\n",
    "        y = np.vstack([np.ones((batch_size,1)),np.zeros((batch_size,1))])\n",
    "        discriminator.trainable=True ## this was a workaround added later to prevent disc. from being updated in adversarial model\n",
    "        d_loss = discriminator.train_on_batch(x,y)\n",
    "        \n",
    "        y = np.ones([batch_size, 1])\n",
    "        z = np.random.normal(0.0,1.0,size=(batch_size,100))\n",
    "        discriminator.trainable=False ## prevents discriminator from being updated when it should only be the generator\n",
    "        a_loss = adversarial.train_on_batch(z,y)\n",
    "        \n",
    "        print(\"gen. loss:{}; disc. loss:{}\".format(a_loss,d_loss))\n",
    "        noise = np.random.normal(0.0,1.0,size=(1,100))\n",
    "        gen = generator.predict(noise)*255\n",
    "        gen.shape = (28,28)\n",
    "        plt.imshow(gen,cmap=\"gray\")\n",
    "        plt.show()"
   ]
  },
  {
   "cell_type": "code",
   "execution_count": 30,
   "metadata": {},
   "outputs": [
    {
     "data": {
      "image/png": "[encoded data removed]",
      "text/plain": [
       "<Figure size 432x288 with 1 Axes>"
      ]
     },
     "metadata": {},
     "output_type": "display_data"
    }
   ],
   "source": [
    "noise = np.random.normal(0.0,1.0,size=(1,100))\n",
    "gen = generator.predict(noise)*255\n",
    "gen.shape = (28,28)\n",
    "plt.imshow(gen,cmap=\"gray\")\n",
    "plt.show()"
   ]
  },
  {
   "cell_type": "code",
   "execution_count": 31,
   "metadata": {},
   "outputs": [
    {
     "data": {
      "image/png": "[encoded data removed]",
      "text/plain": [
       "<Figure size 432x288 with 1 Axes>"
      ]
     },
     "metadata": {},
     "output_type": "display_data"
    }
   ],
   "source": [
    "noise = np.random.normal(0.0,1.0,size=(1,100))\n",
    "gen = generator.predict(noise)*255\n",
    "gen.shape = (28,28)\n",
    "plt.imshow(gen,cmap=\"gray\")\n",
    "plt.show()"
   ]
  },
  {
   "cell_type": "code",
   "execution_count": 33,
   "metadata": {},
   "outputs": [
    {
     "data": {
      "image/png": "[encoded data removed]",
      "text/plain": [
       "<Figure size 432x288 with 1 Axes>"
      ]
     },
     "metadata": {},
     "output_type": "display_data"
    }
   ],
   "source": [
    "noise = np.random.normal(0.0,1.0,size=(1,100))\n",
    "gen = generator.predict(noise)*255\n",
    "gen.shape = (28,28)\n",
    "plt.imshow(gen,cmap=\"gray\")\n",
    "plt.show()"
   ]
  },
  {
   "cell_type": "code",
   "execution_count": 36,
   "metadata": {},
   "outputs": [
    {
     "data": {
      "image/png": "[encoded data removed]",
      "text/plain": [
       "<Figure size 432x288 with 1 Axes>"
      ]
     },
     "metadata": {},
     "output_type": "display_data"
    }
   ],
   "source": [
    "noise = np.random.normal(0.0,1.0,size=(1,100))\n",
    "gen = generator.predict(noise)*255\n",
    "gen.shape = (28,28)\n",
    "plt.imshow(gen,cmap=\"gray\")\n",
    "plt.show()"
   ]
  },
  {
   "cell_type": "code",
   "execution_count": 37,
   "metadata": {},
   "outputs": [
    {
     "data": {
      "image/png": "[encoded data removed]",
      "text/plain": [
       "<Figure size 432x288 with 1 Axes>"
      ]
     },
     "metadata": {},
     "output_type": "display_data"
    }
   ],
   "source": [
    "noise = np.random.normal(0.0,1.0,size=(1,100))\n",
    "gen = generator.predict(noise)*255\n",
    "gen.shape = (28,28)\n",
    "plt.imshow(gen,cmap=\"gray\")\n",
    "plt.show()"
   ]
  },
  {
   "cell_type": "code",
   "execution_count": 38,
   "metadata": {},
   "outputs": [
    {
     "data": {
      "image/png": "[encoded data removed]",
      "text/plain": [
       "<Figure size 432x288 with 1 Axes>"
      ]
     },
     "metadata": {},
     "output_type": "display_data"
    }
   ],
   "source": [
    "noise = np.random.normal(0.0,1.0,size=(1,100))\n",
    "gen = generator.predict(noise)*255\n",
    "gen.shape = (28,28)\n",
    "plt.imshow(gen,cmap=\"gray\")\n",
    "plt.show()"
   ]
  },
  {
   "cell_type": "code",
   "execution_count": 39,
   "metadata": {},
   "outputs": [
    {
     "data": {
      "image/png": "[encoded data removed]",
      "text/plain": [
       "<Figure size 432x288 with 1 Axes>"
      ]
     },
     "metadata": {},
     "output_type": "display_data"
    }
   ],
   "source": [
    "noise = np.random.normal(0.0,1.0,size=(1,100))\n",
    "gen = generator.predict(noise)*255\n",
    "gen.shape = (28,28)\n",
    "plt.imshow(gen,cmap=\"gray\")\n",
    "plt.show()"
   ]
  },
  {
   "cell_type": "code",
   "execution_count": 13,
   "metadata": {},
   "outputs": [
    {
     "data": {
      "image/png": "[encoded data removed]",
      "text/plain": [
       "<Figure size 432x288 with 1 Axes>"
      ]
     },
     "metadata": {},
     "output_type": "display_data"
    }
   ],
   "source": [
    "noise = np.random.normal(0.0,1.0,size=(1,100))\n",
    "gen = generator.predict(noise)*255\n",
    "gen.shape = (28,28)\n",
    "plt.imshow(gen,cmap=\"gray\")\n",
    "plt.show()"
   ]
  },
  {
   "cell_type": "code",
   "execution_count": 15,
   "metadata": {},
   "outputs": [
    {
     "data": {
      "image/png": "[encoded data removed]",
      "text/plain": [
       "<Figure size 432x288 with 1 Axes>"
      ]
     },
     "metadata": {},
     "output_type": "display_data"
    }
   ],
   "source": [
    "noise = np.random.normal(0.0,1.0,size=(1,100))\n",
    "gen = generator.predict(noise)*255\n",
    "gen.shape = (28,28)\n",
    "plt.imshow(gen,cmap=\"gray\")\n",
    "plt.show()"
   ]
  },
  {
   "cell_type": "code",
   "execution_count": 16,
   "metadata": {},
   "outputs": [
    {
     "data": {
      "image/png": "[encoded data removed]",
      "text/plain": [
       "<Figure size 432x288 with 1 Axes>"
      ]
     },
     "metadata": {},
     "output_type": "display_data"
    }
   ],
   "source": [
    "noise = np.random.normal(0.0,1.0,size=(1,100))\n",
    "gen = generator.predict(noise)*255\n",
    "gen.shape = (28,28)\n",
    "plt.imshow(gen,cmap=\"gray\")\n",
    "plt.show()"
   ]
  },
  {
   "cell_type": "code",
   "execution_count": null,
   "metadata": {},
   "outputs": [],
   "source": []
  }
 ],
 "metadata": {
  "kernelspec": {
   "display_name": "Python 3",
   "language": "python",
   "name": "python3"
  },
  "language_info": {
   "codemirror_mode": {
    "name": "ipython",
    "version": 3
   },
   "file_extension": ".py",
   "mimetype": "text/x-python",
   "name": "python",
   "nbconvert_exporter": "python",
   "pygments_lexer": "ipython3",
   "version": "3.6.5"
  }
 },
 "nbformat": 4,
 "nbformat_minor": 2
}
