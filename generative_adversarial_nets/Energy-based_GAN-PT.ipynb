{
 "cells": [
  {
   "cell_type": "markdown",
   "metadata": {},
   "source": [
    "## Energy-based GAN PT Implementation\n",
    "\n",
    "Based on the paper: <i>Energy-based Generative Adversarial Networks</i>. I found that pretraining the discriminator(AE) was paramount for the training to converge. The Pulling-away Term(PT) component is simply an extra loss component for the AE discriminator meant to keep \"the model from producing samples that are clustered in one or only few modes of P_data\"."
   ]
  },
  {
   "cell_type": "code",
   "execution_count": 1,
   "metadata": {},
   "outputs": [],
   "source": [
    "import tensorflow as tf\n",
    "from tensorflow.keras import backend as K\n",
    "from tensorflow.keras.layers import Input,Dense,Reshape,Dropout,BatchNormalization,Activation,UpSampling2D,Embedding\n",
    "from tensorflow.keras.layers import BatchNormalization,Conv2D,LeakyReLU,Flatten,Conv2DTranspose,Concatenate\n",
    "from tensorflow.keras.optimizers import Adam,RMSprop\n",
    "from tensorflow.keras.models import Model,Sequential\n",
    "from tensorflow.keras.losses import BinaryCrossentropy,MSE\n",
    "import numpy as np\n",
    "import matplotlib.pyplot as plt\n",
    "from sklearn.model_selection import train_test_split\n",
    "tf.keras.backend.set_floatx('float32')\n",
    "\n",
    "import warnings\n",
    "warnings.filterwarnings('ignore')"
   ]
  },
  {
   "cell_type": "code",
   "execution_count": 2,
   "metadata": {},
   "outputs": [
    {
     "name": "stdout",
     "output_type": "stream",
     "text": [
      "(24750, 28, 28, 1) (24750, 1)\n"
     ]
    }
   ],
   "source": [
    "(x_train, y_train),(x_test, y_test) = tf.keras.datasets.mnist.load_data()\n",
    "x_train = x_train.astype('float32')\n",
    "y_train = y_train.astype('float32')\n",
    "x_train = x_train[y_train <= 3] # using numbers 0,1,2,3\n",
    "y_train = y_train[y_train <= 3]\n",
    "y_train = y_train.astype(\"int32\")\n",
    "y_train = np.expand_dims(y_train,axis=-1)\n",
    "x_train = (x_train-127.5)/127.5 # scaling the images\n",
    "x_train = np.expand_dims(x_train,axis=-1)\n",
    "x_train = x_train[:24750]\n",
    "y_train = y_train[:24750]\n",
    "print(x_train.shape,y_train.shape)"
   ]
  },
  {
   "cell_type": "code",
   "execution_count": 3,
   "metadata": {},
   "outputs": [
    {
     "data": {
      "image/png": "[encoded data removed]",
      "text/plain": [
       "<Figure size 432x288 with 4 Axes>"
      ]
     },
     "metadata": {
      "needs_background": "light"
     },
     "output_type": "display_data"
    }
   ],
   "source": [
    "plt.subplot(1,4,1)\n",
    "plt.imshow(np.squeeze(x_train[0]),cmap=\"gray\")\n",
    "plt.subplot(1,4,2)\n",
    "plt.imshow(np.squeeze(x_train[1]),cmap=\"gray\")\n",
    "plt.subplot(1,4,3)\n",
    "plt.imshow(np.squeeze(x_train[2]),cmap=\"gray\")\n",
    "plt.subplot(1,4,4)\n",
    "plt.imshow(np.squeeze(x_train[4]),cmap=\"gray\")\n",
    "plt.show()"
   ]
  },
  {
   "cell_type": "markdown",
   "metadata": {},
   "source": [
    "### Model implementation"
   ]
  },
  {
   "cell_type": "code",
   "execution_count": 4,
   "metadata": {},
   "outputs": [],
   "source": [
    "def get_generator(noise_dim=100):\n",
    "    \"\"\" EB generator implementation\n",
    "    \"\"\"\n",
    "    z = Input(shape=(noise_dim))\n",
    "    h = Dense(7*7*256)(z)\n",
    "    h = Reshape((7,7,256))(h)\n",
    "    \n",
    "    h = UpSampling2D()(h)\n",
    "    h = Conv2D(filters=128,kernel_size=4,strides=1,padding='same',activation=None)(h)\n",
    "    h = BatchNormalization(momentum=0.8)(h)\n",
    "    h = LeakyReLU(0.2)(h)\n",
    "    h = UpSampling2D()(h)\n",
    "    h = Conv2D(filters=64,kernel_size=4,strides=1,padding='same',activation=None)(h)\n",
    "    h = BatchNormalization(momentum=0.8)(h)\n",
    "    h = LeakyReLU(0.2)(h)\n",
    "    h = Conv2D(filters=1,kernel_size=3,strides=1,padding='same',activation=None)(h)\n",
    "    h = Activation('tanh')(h)\n",
    "    \n",
    "    model = Model(inputs=z,outputs=h)\n",
    "    return model"
   ]
  },
  {
   "cell_type": "code",
   "execution_count": 5,
   "metadata": {},
   "outputs": [],
   "source": [
    "def get_discriminator():\n",
    "    \"\"\" EB discriminator implementation\n",
    "        -effectively an autoencoder\n",
    "        -returns the encoder output along with decoder output\n",
    "    \"\"\"\n",
    "    x = Input(shape=(28,28,1))\n",
    "    \n",
    "    e = Conv2D(filters=64,kernel_size=3,strides=2,padding='same',activation='relu',kernel_regularizer=None)(x)\n",
    "    e = Conv2D(filters=128,kernel_size=3,strides=1,padding='same',activation='relu',kernel_regularizer=None)(e)\n",
    "    \n",
    "    d = UpSampling2D()(e)\n",
    "    d = Conv2D(filters=64,kernel_size=4,strides=1,padding='same',activation='relu',kernel_regularizer=None)(d)\n",
    "    d = Conv2D(filters=1,kernel_size=4,strides=1,padding='same',activation=None,kernel_regularizer=None)(d)\n",
    "    d = Activation('tanh')(d)\n",
    "    \n",
    "    model = Model(inputs=x,outputs=[d,e])\n",
    "    return model"
   ]
  },
  {
   "cell_type": "code",
   "execution_count": 6,
   "metadata": {},
   "outputs": [],
   "source": [
    "def get_pt_loss(encoder_h):\n",
    "    \"\"\" returns the unscaled PT loss for a given encoder hidden state\n",
    "    \"\"\"\n",
    "    e_flat = Flatten()(encoder_h)\n",
    "    e_flat_dot = K.dot(e_flat,K.transpose(e_flat))\n",
    "    e_norm = tf.expand_dims(tf.norm(e_flat,axis=-1),axis=-1)\n",
    "    e_norm_dot = K.dot(e_norm,K.transpose(e_norm))\n",
    "    e_cos_sim_sum = tf.reduce_sum((e_flat_dot/e_norm_dot))\n",
    "    return e_cos_sim_sum"
   ]
  },
  {
   "cell_type": "code",
   "execution_count": 7,
   "metadata": {},
   "outputs": [],
   "source": [
    "def discriminator_loss(gen,dec_gen,real,dec_real,enc_gen,enc_real,pt_n,margin=10,lam_pt=0.01):\n",
    "    \"\"\" mse loss using margin to maximize reconstruction loss of generated images when compared to real images\n",
    "    args:\n",
    "        gen: generated image from generator\n",
    "        dec_gen: output of decoder from AE when inputting generated image\n",
    "        real: genuine MNIST image\n",
    "        dec_real: output of decoder from AE when inputting real image\n",
    "        enc_gen,enc_real: output of AE encoder\n",
    "        pt_n: used to scale the PT loss contribution\n",
    "    \"\"\"\n",
    "    # getting the decoder loss contribution:\n",
    "    gen,dec_gen = Flatten()(gen),Flatten()(dec_gen)\n",
    "    real,dec_real = Flatten()(real),Flatten()(dec_real)\n",
    "    \n",
    "    gen_mse = MSE(gen,dec_gen)\n",
    "    real_mse = MSE(real,dec_real)\n",
    "    dec_loss = tf.reduce_mean(tf.maximum(real_mse+(margin-gen_mse),0.0))\n",
    "    \n",
    "    # getting the PT loss contribution:\n",
    "    pt_loss_gen = lam_pt*(1/(pt_n*(pt_n)))*get_pt_loss(enc_gen)\n",
    "    pt_loss_real = lam_pt*(1/(pt_n*(pt_n)))*get_pt_loss(enc_real)\n",
    "    pt_loss = (1/2)*(pt_loss_real+pt_loss_gen)\n",
    "\n",
    "    loss = dec_loss+pt_loss\n",
    "    return loss"
   ]
  },
  {
   "cell_type": "code",
   "execution_count": 8,
   "metadata": {},
   "outputs": [],
   "source": [
    "@tf.function\n",
    "def train_discriminator(model,optimizer,gen,real,pt_n,margin=10,lam_pt=0.01):\n",
    "    \"\"\" training step for discriminator network\n",
    "    \"\"\"\n",
    "    with tf.GradientTape() as tape:\n",
    "        dec_gen,enc_gen = model(gen)\n",
    "        dec_real,enc_real = model(real)\n",
    "        loss = discriminator_loss(gen,dec_gen,real,dec_real,enc_gen,enc_real,pt_n=pt_n,margin=margin,lam_pt=lam_pt)\n",
    "    \n",
    "    gradients = tape.gradient(loss, model.trainable_variables)\n",
    "    optimizer.apply_gradients(zip(gradients,model.trainable_variables))\n",
    "    return loss"
   ]
  },
  {
   "cell_type": "code",
   "execution_count": 9,
   "metadata": {},
   "outputs": [],
   "source": [
    "def get_adversarial_model(generator,discriminator,noise_dim=100):\n",
    "    \"\"\" adversarial model implementation - used to train generator\n",
    "    \"\"\"\n",
    "    z = Input(shape=(noise_dim))\n",
    "    gen = generator(z)\n",
    "    dec_gen,_ = discriminator(gen)\n",
    "    \n",
    "    model = Model(inputs=z,outputs=[dec_gen,gen])\n",
    "    return model"
   ]
  },
  {
   "cell_type": "code",
   "execution_count": 10,
   "metadata": {},
   "outputs": [],
   "source": [
    "def adversarial_loss(gen,dec_gen):\n",
    "    \"\"\" mse loss - update generator to minimize reconstruction loss of generated images\n",
    "    \"\"\"\n",
    "    gen,dec_gen = Flatten()(gen),Flatten()(dec_gen)\n",
    "    loss = tf.reduce_mean(MSE(gen,dec_gen))\n",
    "    return loss"
   ]
  },
  {
   "cell_type": "code",
   "execution_count": 11,
   "metadata": {},
   "outputs": [],
   "source": [
    "@tf.function\n",
    "def train_adversarial(model,optimizer,z):\n",
    "    \"\"\" training step for adversarial network\n",
    "    \"\"\"\n",
    "    with tf.GradientTape() as tape:\n",
    "        dec_gen,gen = model(z)\n",
    "        loss = adversarial_loss(gen,dec_gen)\n",
    "    \n",
    "    gradients = tape.gradient(loss, model.trainable_variables)\n",
    "    optimizer.apply_gradients(zip(gradients,model.trainable_variables))\n",
    "    return loss"
   ]
  },
  {
   "cell_type": "code",
   "execution_count": 12,
   "metadata": {},
   "outputs": [],
   "source": [
    "discriminator = get_discriminator()\n",
    "generator = get_generator()\n",
    "adversarial = get_adversarial_model(generator,discriminator)"
   ]
  },
  {
   "cell_type": "code",
   "execution_count": null,
   "metadata": {},
   "outputs": [],
   "source": []
  },
  {
   "cell_type": "code",
   "execution_count": 13,
   "metadata": {},
   "outputs": [],
   "source": [
    "def get_pretrain_discriminator(discriminator,optimizer):\n",
    "    x = Input(shape=(28,28,1))\n",
    "    dec_pred,_ = discriminator(x)\n",
    "    \n",
    "    model = Model(inputs=x,outputs=dec_pred)\n",
    "    model.compile(loss=\"mse\",optimizer=optimizer)\n",
    "    return model"
   ]
  },
  {
   "cell_type": "code",
   "execution_count": 14,
   "metadata": {},
   "outputs": [],
   "source": [
    "pretrain_discriminator = get_pretrain_discriminator(discriminator,optimizer=Adam(lr=0.001))"
   ]
  },
  {
   "cell_type": "code",
   "execution_count": 15,
   "metadata": {
    "scrolled": true
   },
   "outputs": [
    {
     "name": "stdout",
     "output_type": "stream",
     "text": [
      "Epoch 1: 0.00968739121206895\n"
     ]
    }
   ],
   "source": [
    "# training the AE discriminator first\n",
    "num_epochs=1\n",
    "batch_size=50\n",
    "for epoch_i in range(num_epochs): # number of epochs\n",
    "    all_d_losses = []\n",
    "    \n",
    "    for i in range(0,len(x_train),batch_size):\n",
    "        x_subset = x_train[i:i+batch_size]\n",
    "        \n",
    "        # training the discriminator:\n",
    "        z = np.random.normal(0.0,1.0,size=(batch_size,100))\n",
    "        d_loss = pretrain_discriminator.train_on_batch(x_subset,x_subset)\n",
    "        all_d_losses.append(float(d_loss))\n",
    "    print(\"Epoch {}: {}\".format(epoch_i+1,sum(all_d_losses)/len(all_d_losses)))"
   ]
  },
  {
   "cell_type": "markdown",
   "metadata": {},
   "source": [
    "### Model Training\n",
    "\n",
    "The noise prior z~N(0,1)"
   ]
  },
  {
   "cell_type": "code",
   "execution_count": null,
   "metadata": {},
   "outputs": [],
   "source": [
    "disc_optimizer = Adam(lr=0.0002)\n",
    "gen_optimizer = Adam(lr=0.0001)\n",
    "\n",
    "num_epochs=50\n",
    "batch_size=50\n",
    "\n",
    "for epoch_i in range(num_epochs): # number of epochs\n",
    "    all_a_losses = []\n",
    "    all_d_losses = []\n",
    "    print(\"Epoch {}:\".format(epoch_i+1))\n",
    "    \n",
    "    for i in range(0,len(x_train),batch_size):\n",
    "        x_subset = x_train[i:i+batch_size]\n",
    "        \n",
    "        # training the discriminator:\n",
    "        z = np.random.normal(0.0,1.0,size=(batch_size,100))\n",
    "        x_gen = generator(z)\n",
    "        discriminator.trainable=True\n",
    "        \n",
    "        d_loss = train_discriminator(discriminator,disc_optimizer,x_gen[:25],x_subset[:25],pt_n=25)\n",
    "        all_d_losses.append(float(d_loss))\n",
    "        d_loss = train_discriminator(discriminator,disc_optimizer,x_gen[25:],x_subset[25:],pt_n=25)\n",
    "        all_d_losses.append(float(d_loss))\n",
    "            \n",
    "        # training the generator:\n",
    "        z = np.random.normal(0.0,1.0,size=(batch_size,100))\n",
    "        discriminator.trainable=False\n",
    "        a_loss = train_adversarial(adversarial,gen_optimizer,z)\n",
    "        all_a_losses.append(float(a_loss))\n",
    "        \n",
    "        if i%2000 == 0:\n",
    "            plt.figure(figsize=(15,4))\n",
    "            for i in range(10):\n",
    "                this_noise = np.random.normal(0.0,1.0,size=(1,100))\n",
    "                gen = generator(this_noise).numpy()\n",
    "                gen.shape=(28,28)\n",
    "                plt.subplot(1,10,i+1)\n",
    "                plt.imshow(gen,cmap=\"gray\")\n",
    "            plt.show()\n",
    "            \n",
    "    print(\"gen. loss:{}; disc. loss:{}\".format(sum(all_a_losses)/len(all_a_losses),sum(all_d_losses)/len(all_d_losses)))            \n",
    "    print(\"--------------------------------------------------------------------------------------------------\")\n",
    "    print(\"--------------------------------------------------------------------------------------------------\")\n",
    "    print(\"--------------------------------------------------------------------------------------------------\")"
   ]
  },
  {
   "cell_type": "code",
   "execution_count": 18,
   "metadata": {},
   "outputs": [
    {
     "data": {
      "image/png": "[encoded data removed]",
      "text/plain": [
       "<Figure size 432x288 with 1 Axes>"
      ]
     },
     "metadata": {
      "needs_background": "light"
     },
     "output_type": "display_data"
    }
   ],
   "source": [
    "this_noise = np.random.normal(0.0,1.0,size=(1,100))\n",
    "gen = generator(this_noise).numpy()\n",
    "gen.shape=(28,28)\n",
    "plt.imshow(gen,cmap=\"gray\")\n",
    "plt.show()"
   ]
  },
  {
   "cell_type": "code",
   "execution_count": 20,
   "metadata": {},
   "outputs": [
    {
     "data": {
      "image/png": "[encoded data removed]",
      "text/plain": [
       "<Figure size 432x288 with 1 Axes>"
      ]
     },
     "metadata": {
      "needs_background": "light"
     },
     "output_type": "display_data"
    }
   ],
   "source": []
  },
  {
   "cell_type": "code",
   "execution_count": 22,
   "metadata": {},
   "outputs": [
    {
     "data": {
      "image/png": "[encoded data removed]",
      "text/plain": [
       "<Figure size 432x288 with 1 Axes>"
      ]
     },
     "metadata": {
      "needs_background": "light"
     },
     "output_type": "display_data"
    }
   ],
   "source": []
  },
  {
   "cell_type": "code",
   "execution_count": 24,
   "metadata": {},
   "outputs": [
    {
     "data": {
      "image/png": "[encoded data removed]",
      "text/plain": [
       "<Figure size 432x288 with 1 Axes>"
      ]
     },
     "metadata": {
      "needs_background": "light"
     },
     "output_type": "display_data"
    }
   ],
   "source": []
  },
  {
   "cell_type": "code",
   "execution_count": 27,
   "metadata": {},
   "outputs": [
    {
     "data": {
      "image/png": "[encoded data removed]",
      "text/plain": [
       "<Figure size 432x288 with 1 Axes>"
      ]
     },
     "metadata": {
      "needs_background": "light"
     },
     "output_type": "display_data"
    }
   ],
   "source": []
  },
  {
   "cell_type": "code",
   "execution_count": 28,
   "metadata": {},
   "outputs": [
    {
     "data": {
      "image/png": "[encoded data removed]",
      "text/plain": [
       "<Figure size 432x288 with 1 Axes>"
      ]
     },
     "metadata": {
      "needs_background": "light"
     },
     "output_type": "display_data"
    }
   ],
   "source": []
  },
  {
   "cell_type": "code",
   "execution_count": 41,
   "metadata": {},
   "outputs": [
    {
     "data": {
      "image/png": "[encoded data removed]",
      "text/plain": [
       "<Figure size 432x288 with 1 Axes>"
      ]
     },
     "metadata": {
      "needs_background": "light"
     },
     "output_type": "display_data"
    }
   ],
   "source": []
  },
  {
   "cell_type": "code",
   "execution_count": 44,
   "metadata": {},
   "outputs": [
    {
     "data": {
      "image/png": "[encoded data removed]",
      "text/plain": [
       "<Figure size 432x288 with 1 Axes>"
      ]
     },
     "metadata": {
      "needs_background": "light"
     },
     "output_type": "display_data"
    }
   ],
   "source": []
  },
  {
   "cell_type": "code",
   "execution_count": null,
   "metadata": {},
   "outputs": [],
   "source": []
  }
 ],
 "metadata": {
  "kernelspec": {
   "display_name": "Python 3",
   "language": "python",
   "name": "python3"
  },
  "language_info": {
   "codemirror_mode": {
    "name": "ipython",
    "version": 3
   },
   "file_extension": ".py",
   "mimetype": "text/x-python",
   "name": "python",
   "nbconvert_exporter": "python",
   "pygments_lexer": "ipython3",
   "version": "3.6.5"
  }
 },
 "nbformat": 4,
 "nbformat_minor": 4
}
