{
 "cells": [
  {
   "cell_type": "markdown",
   "metadata": {},
   "source": [
    "## Conditional GAN Implementation\n",
    "\n",
    "Based on the paper: <i>Conditional Generative Adversarial Nets</i> and <i>Least Squares Generative Adversarial Networks</i>. There is a good guide [here](https://machinelearningmastery.com/how-to-develop-a-conditional-generative-adversarial-network-from-scratch/)."
   ]
  },
  {
   "cell_type": "code",
   "execution_count": 1,
   "metadata": {},
   "outputs": [],
   "source": [
    "import tensorflow as tf\n",
    "from tensorflow.keras import backend as K\n",
    "from tensorflow.keras.layers import Input,Dense,Reshape,Dropout,BatchNormalization,Activation,UpSampling2D,Embedding\n",
    "from tensorflow.keras.layers import BatchNormalization,Conv2D,LeakyReLU,Flatten,Conv2DTranspose,Concatenate\n",
    "from tensorflow.keras.optimizers import Adam,RMSprop\n",
    "from tensorflow.keras.models import Model,Sequential\n",
    "from tensorflow.keras.losses import BinaryCrossentropy\n",
    "import numpy as np\n",
    "import matplotlib.pyplot as plt\n",
    "from sklearn.model_selection import train_test_split\n",
    "tf.keras.backend.set_floatx('float32')\n",
    "\n",
    "import warnings\n",
    "warnings.filterwarnings('ignore')"
   ]
  },
  {
   "cell_type": "markdown",
   "metadata": {},
   "source": [
    "### Data Cleaning"
   ]
  },
  {
   "cell_type": "code",
   "execution_count": 2,
   "metadata": {},
   "outputs": [
    {
     "name": "stdout",
     "output_type": "stream",
     "text": [
      "(24750, 28, 28, 1) (24750, 1)\n"
     ]
    }
   ],
   "source": [
    "(x_train, y_train),(x_test, y_test) = tf.keras.datasets.mnist.load_data()\n",
    "x_train = x_train.astype('float32')\n",
    "y_train = y_train.astype('float32')\n",
    "x_train = x_train[y_train <= 3] # using numbers 0,1,2,3\n",
    "y_train = y_train[y_train <= 3]\n",
    "y_train = y_train.astype(\"int32\")\n",
    "y_train = np.expand_dims(y_train,axis=-1)\n",
    "#one_hot_y = np.zeros((len(y_train),4)) # getting one_hot encoding for labels\n",
    "#one_hot_y[np.arange(y_train.size),y_train]=1\n",
    "x_train = np.expand_dims(x_train,axis=-1)\n",
    "x_train = x_train[:24750]\n",
    "y_train = y_train[:24750]\n",
    "print(x_train.shape,y_train.shape)"
   ]
  },
  {
   "cell_type": "code",
   "execution_count": 3,
   "metadata": {},
   "outputs": [
    {
     "data": {
      "image/png": "[encoded data removed]",
      "text/plain": [
       "<Figure size 432x288 with 4 Axes>"
      ]
     },
     "metadata": {},
     "output_type": "display_data"
    }
   ],
   "source": [
    "plt.subplot(1,4,1)\n",
    "plt.imshow(np.squeeze(x_train[0]),cmap=\"gray\")\n",
    "plt.subplot(1,4,2)\n",
    "plt.imshow(np.squeeze(x_train[1]),cmap=\"gray\")\n",
    "plt.subplot(1,4,3)\n",
    "plt.imshow(np.squeeze(x_train[2]),cmap=\"gray\")\n",
    "plt.subplot(1,4,4)\n",
    "plt.imshow(np.squeeze(x_train[4]),cmap=\"gray\")\n",
    "plt.show()"
   ]
  },
  {
   "cell_type": "code",
   "execution_count": 4,
   "metadata": {},
   "outputs": [],
   "source": [
    "x_train = x_train/255 # scaling the images"
   ]
  },
  {
   "cell_type": "markdown",
   "metadata": {},
   "source": [
    "### Model Implementation"
   ]
  },
  {
   "cell_type": "code",
   "execution_count": 6,
   "metadata": {},
   "outputs": [],
   "source": [
    "def get_generator(noise_dim=100,class_dim=4):\n",
    "    \"\"\" conditional generator implementation\n",
    "        -class representation is added as an \"extra\" channel to the base of the generated image\n",
    "    \"\"\"\n",
    "    z = Input(shape=(noise_dim))\n",
    "    label = Input(shape=(1))\n",
    "    label_h = Embedding(input_dim=class_dim,output_dim=100)(label)\n",
    "    label_h = Dense(7*7)(label_h)\n",
    "    label_h = Reshape((7,7,1))(label_h)\n",
    "    \n",
    "    h = Dense(7*7*256)(z)\n",
    "    h = BatchNormalization(momentum=0.9)(h)\n",
    "    h = Activation('relu')(h)\n",
    "    h = Reshape((7,7,256))(h)\n",
    "    h = Concatenate()([h,label_h]) # adding the class-representation as an extra channel\n",
    "    h = Dropout(0.4)(h)\n",
    "    \n",
    "    h = Conv2DTranspose(filters=128,kernel_size=5,strides=2,padding='same',activation=None)(h)\n",
    "    h = BatchNormalization(momentum=0.9)(h)\n",
    "    h = Activation('relu')(h)\n",
    "    h = Conv2DTranspose(filters=64,kernel_size=5,strides=2,padding='same',activation=None)(h)\n",
    "    h = BatchNormalization(momentum=0.9)(h)\n",
    "    h = Activation('relu')(h)\n",
    "    h = Conv2DTranspose(filters=32,kernel_size=5,strides=1,padding='same',activation=None)(h)\n",
    "    h = BatchNormalization(momentum=0.9)(h)\n",
    "    h = Activation('relu')(h)\n",
    "    h = Conv2DTranspose(filters=1,kernel_size=5,strides=1,padding='same',activation=None)(h)\n",
    "    h = Activation('sigmoid')(h)\n",
    "    \n",
    "    model = Model(inputs=[z,label],outputs=h)\n",
    "    return model"
   ]
  },
  {
   "cell_type": "code",
   "execution_count": 7,
   "metadata": {},
   "outputs": [],
   "source": [
    "def get_discriminator(class_dim=4):\n",
    "    \"\"\" conditional discriminator implementation\n",
    "        -class representation is added as an \"extra\" channel to the input image\n",
    "    \"\"\"\n",
    "    x = Input(shape=(28,28,1))\n",
    "    label = Input(shape=(1))\n",
    "    label_h = Embedding(input_dim=class_dim,output_dim=100)(label)\n",
    "    label_h = Dense(28*28)(label_h)\n",
    "    label_h = Reshape((28,28,1))(label_h)\n",
    "    \n",
    "    h = Concatenate()([x,label_h]) # adding the class-representation as an extra channel\n",
    "    h = Conv2D(filters=64,kernel_size=5,strides=2,padding='same',activation=None)(h)\n",
    "    h = LeakyReLU(0.2)(h)\n",
    "    h = Dropout(0.4)(h)\n",
    "    h = Conv2D(filters=128,kernel_size=5,strides=2,padding='same',activation=None)(h)\n",
    "    h = LeakyReLU(0.2)(h)\n",
    "    h = Dropout(0.4)(h)\n",
    "    h = Conv2D(filters=256,kernel_size=5,strides=2,padding='same',activation=None)(h)\n",
    "    h = LeakyReLU(0.2)(h)\n",
    "    h = Dropout(0.4)(h)\n",
    "    h = Flatten()(h)\n",
    "    h = Dense(1,activation=None)(h)\n",
    "    \n",
    "    model = Model(inputs=[x,label],outputs=h)\n",
    "    return model"
   ]
  },
  {
   "cell_type": "code",
   "execution_count": 8,
   "metadata": {},
   "outputs": [],
   "source": [
    "def discriminator_model(discriminator,optimizer=Adam(lr=0.0002)):\n",
    "    \"\"\" compiling discriminator model\n",
    "    \"\"\"\n",
    "    x = Input(shape=(28,28,1))\n",
    "    label = Input(shape=(1))\n",
    "    out = discriminator([x,label])\n",
    "    \n",
    "    model = Model(inputs=[x,label],outputs=out)\n",
    "    model.compile(loss='mean_squared_error',optimizer=optimizer)\n",
    "    return model"
   ]
  },
  {
   "cell_type": "code",
   "execution_count": 9,
   "metadata": {},
   "outputs": [],
   "source": [
    "def adversarial_model(generator,discriminator,noise_dim=100,optimizer=Adam(lr=0.0001)):\n",
    "    \"\"\" compiling adversarial model - used to train generator\n",
    "    \"\"\"\n",
    "    z = Input(shape=(noise_dim))\n",
    "    label = Input(shape=(1))\n",
    "    gen = generator([z,label])\n",
    "    out = discriminator([gen,label])\n",
    "    \n",
    "    model = Model(inputs=[z,label],outputs=out)\n",
    "    model.compile(loss='mean_squared_error',optimizer=optimizer)\n",
    "    return model"
   ]
  },
  {
   "cell_type": "markdown",
   "metadata": {},
   "source": [
    "### Model Training\n",
    "\n",
    "The noise prior z~N(0,1)"
   ]
  },
  {
   "cell_type": "code",
   "execution_count": 10,
   "metadata": {},
   "outputs": [],
   "source": [
    "d = get_discriminator()\n",
    "generator = get_generator()\n",
    "discriminator = discriminator_model(d)\n",
    "adversarial = adversarial_model(generator,d)"
   ]
  },
  {
   "cell_type": "code",
   "execution_count": 11,
   "metadata": {},
   "outputs": [],
   "source": [
    "num_epochs=30\n",
    "batch_size=50\n",
    "\n",
    "for epoch_i in range(num_epochs): # number of epochs\n",
    "    all_a_losses = []\n",
    "    all_d_losses = []\n",
    "    print(\"Epoch {}:\".format(epoch_i+1))\n",
    "    \n",
    "    for i in range(0,len(x_train)-batch_size,batch_size): # looping through batches rather than sampling\n",
    "        x_subset = x_train[i:i+batch_size]\n",
    "        y_subset = y_train[i:i+batch_size]\n",
    "        \n",
    "        # training the discriminator:\n",
    "        z = np.random.normal(0.0,1.0,size=(batch_size,100))\n",
    "        x_gen = generator([z,y_subset])\n",
    "        x = np.concatenate((x_subset,x_gen))\n",
    "        y = np.vstack([np.ones((batch_size,1)),np.zeros((batch_size,1))])\n",
    "        discriminator.trainable=True\n",
    "        d_loss = discriminator.train_on_batch([x,np.vstack([y_subset,y_subset])],y)\n",
    "        all_d_losses.append(float(d_loss))\n",
    "        \n",
    "        # training the generator:\n",
    "        y = np.ones([batch_size,1]) # we switch the labels here to maximize the domain-confusion\n",
    "        z = np.random.normal(0.0,1.0,size=(batch_size,100))\n",
    "        discriminator.trainable=False # prevents discriminator from being updated when it should only be the generator\n",
    "        a_loss = adversarial.train_on_batch([z,y_subset],y)\n",
    "        all_a_losses.append(float(a_loss))\n",
    "        \n",
    "        if i%2000 == 0:\n",
    "            for _ in range(4): # making 4 plots\n",
    "                this_noise = np.random.normal(0.0,1.0,size=(1,100))\n",
    "                for i in range(4):\n",
    "                    this_label = np.array([[i]])\n",
    "                    gen = generator([this_noise,this_label])\n",
    "                    gen = gen.numpy()*255\n",
    "                    gen.shape=(28,28)\n",
    "                    plt.subplot(1,4,i+1)\n",
    "                    plt.imshow(gen,cmap=\"gray\")\n",
    "                plt.show()\n",
    "            \n",
    "    print(\"gen. loss:{}; disc. loss:{}\".format(sum(all_a_losses)/len(all_a_losses),sum(all_d_losses)/len(all_d_losses)))            \n",
    "    print(\"--------------------------------------------------------------------------------------------------\")"
   ]
  },
  {
   "cell_type": "code",
   "execution_count": null,
   "metadata": {},
   "outputs": [],
   "source": []
  },
  {
   "cell_type": "code",
   "execution_count": 22,
   "metadata": {},
   "outputs": [
    {
     "data": {
      "image/png": "[encoded data removed]",
      "text/plain": [
       "<Figure size 432x288 with 4 Axes>"
      ]
     },
     "metadata": {},
     "output_type": "display_data"
    }
   ],
   "source": [
    "this_noise = np.random.normal(0.0,1.0,size=(1,100))\n",
    "for i in range(4):\n",
    "    this_label = np.array([[i]])\n",
    "    gen = generator([this_noise,this_label])\n",
    "    gen = gen.numpy()*255\n",
    "    gen.shape=(28,28)\n",
    "    plt.subplot(1,4,i+1)\n",
    "    plt.imshow(gen,cmap=\"gray\")\n",
    "plt.show()"
   ]
  },
  {
   "cell_type": "code",
   "execution_count": 23,
   "metadata": {},
   "outputs": [
    {
     "data": {
      "image/png": "[encoded data removed]",
      "text/plain": [
       "<Figure size 432x288 with 4 Axes>"
      ]
     },
     "metadata": {},
     "output_type": "display_data"
    }
   ],
   "source": []
  },
  {
   "cell_type": "code",
   "execution_count": 26,
   "metadata": {},
   "outputs": [
    {
     "data": {
      "image/png": "[encoded data removed]",
      "text/plain": [
       "<Figure size 432x288 with 4 Axes>"
      ]
     },
     "metadata": {},
     "output_type": "display_data"
    }
   ],
   "source": []
  },
  {
   "cell_type": "code",
   "execution_count": 27,
   "metadata": {},
   "outputs": [
    {
     "data": {
      "image/png": "[encoded data removed]",
      "text/plain": [
       "<Figure size 432x288 with 4 Axes>"
      ]
     },
     "metadata": {},
     "output_type": "display_data"
    }
   ],
   "source": []
  },
  {
   "cell_type": "code",
   "execution_count": 40,
   "metadata": {},
   "outputs": [
    {
     "data": {
      "image/png": "[encoded data removed]",
      "text/plain": [
       "<Figure size 432x288 with 4 Axes>"
      ]
     },
     "metadata": {},
     "output_type": "display_data"
    }
   ],
   "source": []
  },
  {
   "cell_type": "code",
   "execution_count": 43,
   "metadata": {},
   "outputs": [
    {
     "data": {
      "image/png": "[encoded data removed]",
      "text/plain": [
       "<Figure size 432x288 with 4 Axes>"
      ]
     },
     "metadata": {},
     "output_type": "display_data"
    }
   ],
   "source": []
  },
  {
   "cell_type": "code",
   "execution_count": null,
   "metadata": {},
   "outputs": [],
   "source": []
  }
 ],
 "metadata": {
  "kernelspec": {
   "display_name": "Python 3",
   "language": "python",
   "name": "python3"
  },
  "language_info": {
   "codemirror_mode": {
    "name": "ipython",
    "version": 3
   },
   "file_extension": ".py",
   "mimetype": "text/x-python",
   "name": "python",
   "nbconvert_exporter": "python",
   "pygments_lexer": "ipython3",
   "version": "3.6.5"
  }
 },
 "nbformat": 4,
 "nbformat_minor": 2
}
