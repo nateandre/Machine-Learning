{
 "cells": [
  {
   "cell_type": "markdown",
   "metadata": {},
   "source": [
    "## Implementation of Pointer Network for Convex hull\n",
    "\n",
    "Based on the following paper: <i>Pointer Networks</i>. Implemented for the task of convex hull; using teacher-forcing during training. Using the same data that was presented alongside the paper."
   ]
  },
  {
   "cell_type": "code",
   "execution_count": 1,
   "metadata": {},
   "outputs": [],
   "source": [
    "from tensorflow.keras import backend as K\n",
    "from tensorflow.keras.layers import Dense,Bidirectional,LSTM,Input,RepeatVector,Activation,Softmax\n",
    "from tensorflow.keras.models import Model\n",
    "from tensorflow.keras.optimizers import Adam\n",
    "from tensorflow.keras.losses import sparse_categorical_crossentropy\n",
    "import numpy as np\n",
    "import tensorflow as tf\n",
    "import matplotlib.pyplot as plt\n",
    "\n",
    "import warnings\n",
    "warnings.filterwarnings('ignore')"
   ]
  },
  {
   "cell_type": "code",
   "execution_count": 2,
   "metadata": {},
   "outputs": [],
   "source": [
    "tf.compat.v1.enable_eager_execution()"
   ]
  },
  {
   "cell_type": "markdown",
   "metadata": {},
   "source": [
    "### Data Processing\n",
    "\n",
    "Using the same data from the paper - in which the output is ordered based on the ordering of the input (ordering of the output labels was found to be very important for model performance)."
   ]
  },
  {
   "cell_type": "code",
   "execution_count": 3,
   "metadata": {},
   "outputs": [],
   "source": [
    "def load_data(data_dir=\"../data/convex_hull/\",file_no=5,num_data_points=2000):\n",
    "    \"\"\" loads convex hull data\n",
    "    args:\n",
    "        file_no: unique indicator for the type of convex hull dataset to pull from\n",
    "        num_data_points: number of datapoints to pull from file\n",
    "    \"\"\"\n",
    "    fname = \"convex_hull_{}_test.txt\".format(file_no)\n",
    "    num_points = file_no*2\n",
    "    \n",
    "    all_data_points = []\n",
    "    all_delayed_y = []\n",
    "    all_labels = []\n",
    "    with open(data_dir+fname) as data_file:\n",
    "        lines = data_file.readlines()\n",
    "        for i in range(num_data_points):\n",
    "            line = lines[i].strip().split()\n",
    "            data_points = [[float(line[i]),float(line[i+1])] for i in range(0,num_points,2)]\n",
    "            labels = [int(line[i])-1 for i in range(num_points+1,len(line))]\n",
    "            delayed_y = [[0.0,0.0]] # prepend with 2x1 zero vector\n",
    "            delayed_y += [data_points[i] for i in labels[:-1]] # don't include the last prediction as a delayed_input\n",
    "            delayed_y += [[0.0,0.0] for i in range(file_no+1-len(labels))] # padding with 2x1 zero-vectors\n",
    "            labels = labels+[-1 for i in range(file_no+1-len(labels))] # appending -1 to symbolize padding\n",
    "            all_delayed_y.append(delayed_y)\n",
    "            all_data_points.append(data_points)\n",
    "            all_labels.append(labels)\n",
    "    return np.array(all_data_points).astype(\"float32\"),np.array(all_labels).astype(\"int32\"),np.array(all_delayed_y).astype(\"float32\")"
   ]
  },
  {
   "cell_type": "code",
   "execution_count": 4,
   "metadata": {},
   "outputs": [
    {
     "name": "stdout",
     "output_type": "stream",
     "text": [
      "(2000, 5, 2) (2000, 6) (2000, 6, 2) (2000, 10, 2) (2000, 11) (2000, 11, 2)\n",
      "[ 0  9  7  3  6  8  1  0 -1 -1 -1]\n"
     ]
    }
   ],
   "source": [
    "x_5,y_5,delayed_y_5 = load_data(file_no=5,num_data_points=2000)\n",
    "x_10,y_10,delayed_y_10 = load_data(file_no=10,num_data_points=2000)\n",
    "print(x_5.shape,y_5.shape,delayed_y_5.shape,x_10.shape,y_10.shape,delayed_y_10.shape)\n",
    "print(y_10[0])"
   ]
  },
  {
   "cell_type": "code",
   "execution_count": 5,
   "metadata": {},
   "outputs": [
    {
     "data": {
      "image/png": "[encoded data removed]",
      "text/plain": [
       "<Figure size 432x288 with 1 Axes>"
      ]
     },
     "metadata": {},
     "output_type": "display_data"
    }
   ],
   "source": [
    "ex = x_10[0]\n",
    "ey = y_10[0]\n",
    "p_ex = np.array([ex[i] for i in ey if i != -1]) # ordering for the lines\n",
    "p_no_ex = np.array([ex[i] for i in range(0,10) if i not in ey]) # remaining points no in border\n",
    "plt.plot(p_ex[:,0],p_ex[:,1],'-o')\n",
    "plt.scatter(p_no_ex[:,0],p_no_ex[:,1])\n",
    "plt.show()"
   ]
  },
  {
   "cell_type": "code",
   "execution_count": 6,
   "metadata": {},
   "outputs": [
    {
     "name": "stdout",
     "output_type": "stream",
     "text": [
      "[ 0  1  2  4  0 -1]\n",
      "[1 1 1 1 1 0]\n",
      "[0 1 2 4 0 0]\n"
     ]
    }
   ],
   "source": [
    "# given the labels output for the cross-entropy is different lengths, need to mask out labels padding\n",
    "y_5_bool = y_5 != -1\n",
    "y_5_bool = y_5_bool.astype(\"int32\")\n",
    "y_10_bool = y_10 != -1\n",
    "y_10_bool = y_10_bool.astype(\"int32\")\n",
    "print(y_5[0])\n",
    "print(y_5_bool[0])\n",
    "y_5[y_5==-1]=0 # changing the padding to be the 0-th index, which is required by tensorflow cross-entropy loss\n",
    "y_10[y_10==-1]=0\n",
    "print(y_5[0])"
   ]
  },
  {
   "cell_type": "markdown",
   "metadata": {},
   "source": [
    "### Modeling\n",
    "\n",
    "Note: it would probably help to have the model switch away from teacher-forcing after some period of epochs (e.g. using argmax of the attention dist. to get the next input from x)"
   ]
  },
  {
   "cell_type": "code",
   "execution_count": 7,
   "metadata": {},
   "outputs": [],
   "source": [
    "def pointer_network(input_len=10):\n",
    "    \"\"\" Wrapper for the pointer network\n",
    "    \"\"\"\n",
    "    decoder_lstm = LSTM(64,activation=\"tanh\",return_state=True)\n",
    "    w1 = Dense(64,use_bias=False,activation=None)\n",
    "    w2 = Dense(64,use_bias=False,activation=None)\n",
    "    v = Dense(1,use_bias=False,activation=None)\n",
    "    out = pointer_network_forward(decoder_lstm,w1,w2,v,input_len)\n",
    "    return out"
   ]
  },
  {
   "cell_type": "code",
   "execution_count": 8,
   "metadata": {},
   "outputs": [],
   "source": [
    "def pointer_network_forward(decoder_lstm,w1,w2,v,input_len):\n",
    "    \"\"\" Different from the original model in that the decoder is detached from the encoder\n",
    "        Input to the decoder portion is just the prediction from the previous time-step\n",
    "    \"\"\"\n",
    "    x = Input(shape=(None,2))\n",
    "    delayed_y = Input(shape=(input_len+1,2)) # if you reload weights, shape of this Input can be changed\n",
    "    s0 = Input(shape=(64)) # initial state\n",
    "    c0 = Input(shape=(64))\n",
    "    s=s0\n",
    "    c=c0\n",
    "    a = Bidirectional(LSTM(32,activation=\"tanh\",return_sequences=True),merge_mode=\"concat\")(x) # encoding\n",
    "    \n",
    "    outputs = []\n",
    "    for i in range(input_len+1):\n",
    "        decoder_step_input = tf.expand_dims(delayed_y[:,i,:],axis=1)\n",
    "        s,_,c = decoder_lstm(decoder_step_input,initial_state=[s,c]) # s:decoder hidden state, shape:(batch_size,64)\n",
    "        s_rep = RepeatVector(input_len)(s)\n",
    "        u = v(Activation(\"tanh\")(w1(a)+w2(s_rep)))\n",
    "        u = tf.squeeze(u,axis=-1) # logits\n",
    "        ## a = Activation(\"softmax\")(u) # scaled attention\n",
    "        outputs.append(u) # prediction is simply the attention distribution over the input\n",
    "        \n",
    "    outputs = K.permute_dimensions(tf.convert_to_tensor(outputs),(1,0,2))\n",
    "    \n",
    "    model = Model(inputs=[x,delayed_y,s0,c0],outputs=outputs)\n",
    "    return model"
   ]
  },
  {
   "cell_type": "code",
   "execution_count": 9,
   "metadata": {},
   "outputs": [],
   "source": [
    "def loss_function(labels,logits,mask):\n",
    "    \"\"\" Categorical cross-entropy\n",
    "    \"\"\"\n",
    "    #sparse_categorical_crossentropy(y_true=labels,y_pred=logits,from_logits=False)\n",
    "    #tf.nn.sparse_softmax_cross_entropy_with_logits(labels=labels,logits=logits)\n",
    "    return tf.compat.v1.losses.sparse_softmax_cross_entropy(labels=labels,logits=logits,weights=mask)"
   ]
  },
  {
   "cell_type": "code",
   "execution_count": 10,
   "metadata": {},
   "outputs": [],
   "source": [
    "model = pointer_network(5) # initially starting with len=5 data\n",
    "x = x_5\n",
    "y = y_5\n",
    "y_mask = y_5_bool\n",
    "delayed_y = delayed_y_5\n",
    "\n",
    "optimizer=Adam(lr=0.003)"
   ]
  },
  {
   "cell_type": "code",
   "execution_count": 12,
   "metadata": {},
   "outputs": [],
   "source": [
    "model.load_weights(\"model.h5\")"
   ]
  },
  {
   "cell_type": "code",
   "execution_count": 14,
   "metadata": {},
   "outputs": [
    {
     "name": "stdout",
     "output_type": "stream",
     "text": [
      "WARNING:tensorflow:From /Library/Frameworks/Python.framework/Versions/3.6/lib/python3.6/site-packages/tensorflow_core/python/ops/losses/losses_impl.py:121: where (from tensorflow.python.ops.array_ops) is deprecated and will be removed in a future version.\n",
      "Instructions for updating:\n",
      "Use tf.where in 2.0, which has the same broadcast rule as np.where\n",
      "0.3247627253773846\n",
      "0.4333499783202063\n",
      "0.2325992500291595\n",
      "0.4396351092978369\n",
      "0.21368956848790374\n",
      "0.43655793651749814\n",
      "0.20518176531112647\n",
      "0.42873773959618583\n",
      "0.19912522738870186\n",
      "0.42174302249015133\n",
      "0.1938000082781043\n",
      "0.41353416178799884\n",
      "0.18881990241853497\n",
      "0.4054622314398802\n",
      "0.1842686017102833\n",
      "0.39773321830773656\n",
      "0.1811467634537552\n",
      "0.3898669832114932\n",
      "0.17725347378585912\n",
      "0.38199295197861105\n"
     ]
    }
   ],
   "source": [
    "## training the model, switching between the two datasets of different length\n",
    "num_epochs = 20\n",
    "s0 = np.zeros((25,64)).astype(\"float32\")\n",
    "c0 = np.zeros((25,64)).astype(\"float32\")\n",
    "\n",
    "for epoch_i in range(num_epochs):\n",
    "    losses = []\n",
    "    \n",
    "    if epoch_i!=0 and epoch_i%2 == 0: # selecting specific model and data to use for the epoch\n",
    "        model = pointer_network(5)\n",
    "        model.load_weights(\"model.h5\")\n",
    "        x = x_5\n",
    "        y = y_5\n",
    "        y_mask = y_5_bool\n",
    "        delayed_y = delayed_y_5\n",
    "    elif epoch_i%2 != 0:\n",
    "        model = pointer_network(10)\n",
    "        model.load_weights(\"model.h5\")\n",
    "        x = x_10\n",
    "        y = y_10\n",
    "        y_mask = y_10_bool\n",
    "        delayed_y = delayed_y_10\n",
    "        \n",
    "    for i in range(0,len(x_5)-25,25): # batch size of 25\n",
    "        x_subset = x[i:i+25]\n",
    "        y_subset = y[i:i+25]\n",
    "        y_mask_subset = y_mask[i:i+25]\n",
    "        y_delayed = delayed_y[i:i+25]\n",
    "        \n",
    "        with tf.GradientTape() as tape:\n",
    "            prediction_logits = model([x_subset,y_delayed,s0,c0])\n",
    "            loss = loss_function(y_subset,prediction_logits,y_mask_subset)\n",
    "                \n",
    "        losses.append(float(loss))\n",
    "        gradients = tape.gradient(loss, model.trainable_variables)\n",
    "        optimizer.apply_gradients(zip(gradients, model.trainable_variables))\n",
    "        \n",
    "    model.save_weights(\"model.h5\") # save weights on each epoch\n",
    "    print(sum(losses)/len(losses))"
   ]
  },
  {
   "cell_type": "markdown",
   "metadata": {},
   "source": [
    "### Test Time Predictions"
   ]
  },
  {
   "cell_type": "code",
   "execution_count": 7,
   "metadata": {},
   "outputs": [],
   "source": [
    "def pointer_network_testtime(input_len=10):\n",
    "    \"\"\" Wrapper for the test-time pointer network\n",
    "    \"\"\"\n",
    "    decoder_lstm = LSTM(64,activation=\"tanh\",return_state=True)\n",
    "    w1 = Dense(64,use_bias=False,activation=None)\n",
    "    w2 = Dense(64,use_bias=False,activation=None)\n",
    "    v = Dense(1,use_bias=False,activation=None)\n",
    "    out = pointer_network_forward_testtime(decoder_lstm,w1,w2,v,input_len)\n",
    "    return out"
   ]
  },
  {
   "cell_type": "code",
   "execution_count": 8,
   "metadata": {},
   "outputs": [],
   "source": [
    "def pointer_network_forward_testtime(decoder_lstm,w1,w2,v,input_len):\n",
    "    \"\"\" There is no longer a delayed_input (teacher-forcing) and so the model will go one step at a time\n",
    "        Ineffective implementation because the encoding B-RNN is run multiple times\n",
    "    \"\"\"\n",
    "    x = Input(shape=(None,2))\n",
    "    delayed_y = Input(shape=(2)) # current input to the decoder LSTM (output from prev time-step)\n",
    "    s_curr = Input(shape=(64)) # current descoder-lstm state\n",
    "    c_curr = Input(shape=(64))\n",
    "    s=s_curr\n",
    "    c=c_curr\n",
    "    a = Bidirectional(LSTM(32,activation=\"tanh\",return_sequences=True),merge_mode=\"concat\")(x) # encoding\n",
    "    \n",
    "    # single step through the decoder\n",
    "    decoder_step_input = tf.expand_dims(delayed_y,axis=1)\n",
    "    s,_,c = decoder_lstm(decoder_step_input,initial_state=[s,c]) # outputs new s,c states\n",
    "    s_rep = RepeatVector(input_len)(s)\n",
    "    u = v(Activation(\"tanh\")(w1(a)+w2(s_rep)))\n",
    "    u = tf.squeeze(u,axis=-1) # logits\n",
    "    a = Activation(\"softmax\")(u) # scaled attention\n",
    "    \n",
    "    model = Model(inputs=[x,delayed_y,s_curr,c_curr],outputs=[a,s,c])\n",
    "    return model"
   ]
  },
  {
   "cell_type": "code",
   "execution_count": 9,
   "metadata": {},
   "outputs": [],
   "source": [
    "model = pointer_network_testtime(input_len=1)\n",
    "model.load_weights(\"model.h5\")"
   ]
  },
  {
   "cell_type": "code",
   "execution_count": 10,
   "metadata": {},
   "outputs": [],
   "source": [
    "i=1\n",
    "s0 = np.zeros((1,64)).astype(\"float32\") # initializing the parameters/data\n",
    "c0 = np.zeros((1,64)).astype(\"float32\")\n",
    "delayed_y = np.zeros((1,2)).astype(\"float32\")\n",
    "x = np.expand_dims(x_5[i],axis=0)\n",
    "y = y_5[i]"
   ]
  },
  {
   "cell_type": "code",
   "execution_count": 11,
   "metadata": {},
   "outputs": [],
   "source": [
    "all_predictions = []\n",
    "a,s,c = model([x,delayed_y,s0,c0]) # getting the first prediction\n",
    "first_pred = np.argmax(a)\n",
    "delayed_y = np.expand_dims(x[0][first_pred],axis=0) # updated to be the output prediction from the first step\n",
    "all_predictions.append(first_pred)"
   ]
  },
  {
   "cell_type": "code",
   "execution_count": 12,
   "metadata": {},
   "outputs": [],
   "source": [
    "pred=-1\n",
    "# looping to get the remaining predictions\n",
    "while pred != first_pred: # sequence is complete when the first index (prediction) is predicted again\n",
    "    a,s,c = model([x,delayed_y,s.numpy(),c.numpy()]) # getting the first prediction\n",
    "    pred = np.argmax(a)\n",
    "    delayed_y = np.expand_dims(x[0][pred],axis=0)\n",
    "    all_predictions.append(pred)"
   ]
  },
  {
   "cell_type": "code",
   "execution_count": 13,
   "metadata": {},
   "outputs": [
    {
     "name": "stdout",
     "output_type": "stream",
     "text": [
      "[0 1 4 3 2 0]\n",
      "[0, 1, 4, 3, 2, 0]\n"
     ]
    }
   ],
   "source": [
    "print(y)\n",
    "print(all_predictions)"
   ]
  },
  {
   "cell_type": "code",
   "execution_count": null,
   "metadata": {},
   "outputs": [],
   "source": []
  }
 ],
 "metadata": {
  "kernelspec": {
   "display_name": "Python 3",
   "language": "python",
   "name": "python3"
  },
  "language_info": {
   "codemirror_mode": {
    "name": "ipython",
    "version": 3
   },
   "file_extension": ".py",
   "mimetype": "text/x-python",
   "name": "python",
   "nbconvert_exporter": "python",
   "pygments_lexer": "ipython3",
   "version": "3.6.5"
  }
 },
 "nbformat": 4,
 "nbformat_minor": 2
}
