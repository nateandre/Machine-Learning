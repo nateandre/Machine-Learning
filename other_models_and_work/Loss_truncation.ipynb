{
 "cells": [
  {
   "attachments": {},
   "cell_type": "markdown",
   "metadata": {},
   "source": [
    "## Experimenting with loss Truncation\n",
    "\n",
    "Based on the paper: <i>Improved Natural Language Generation via Loss Truncation</i>. In broad strokes, they show that adaptively removing high loss examples is a method to optimize for distinguishability."
   ]
  },
  {
   "cell_type": "code",
   "execution_count": 1,
   "metadata": {},
   "outputs": [],
   "source": [
    "import tensorflow as tf\n",
    "from tensorflow.keras import backend as K\n",
    "from tensorflow.keras.layers import Input,Dense\n",
    "from tensorflow.keras.optimizers import SGD\n",
    "from tensorflow.keras.models import Model\n",
    "from tensorflow.keras.losses import BinaryCrossentropy # log-loss\n",
    "import numpy as np\n",
    "import matplotlib.pyplot as plt\n",
    "tf.keras.backend.set_floatx('float32')\n",
    "\n",
    "import warnings\n",
    "warnings.filterwarnings('ignore')"
   ]
  },
  {
   "cell_type": "code",
   "execution_count": 2,
   "metadata": {},
   "outputs": [],
   "source": [
    "def generate_data(distributions):\n",
    "    \"\"\" generates 1-D data from Gaussian\n",
    "    args:\n",
    "        distributions: list of tuples of type:(mean,stdev,n_examples)\n",
    "    \"\"\"\n",
    "    full_data = []\n",
    "    for dist_tup in distributions:\n",
    "        mu,sigma,n_examples = dist_tup\n",
    "        data_points = np.random.normal(mu,sigma,n_examples)\n",
    "        full_data.append(data_points)\n",
    "        \n",
    "    full_data = np.expand_dims(np.concatenate(full_data).astype(\"float32\"),axis=-1)\n",
    "    return full_data"
   ]
  },
  {
   "cell_type": "code",
   "execution_count": 3,
   "metadata": {},
   "outputs": [
    {
     "name": "stdout",
     "output_type": "stream",
     "text": [
      "(10000, 1) (10000, 1)\n"
     ]
    }
   ],
   "source": [
    "example_data = generate_data([(1,1,7450),(14,1,2550)])\n",
    "experimental_data = generate_data([(1,1,4900),(14,1,2550),(10,1,2550)])\n",
    "print(example_data.shape,experimental_data.shape)"
   ]
  },
  {
   "cell_type": "code",
   "execution_count": 4,
   "metadata": {},
   "outputs": [],
   "source": [
    "def gaussian_likelihood(x_subset,mu,sigma,pi=3.141592):\n",
    "    \"\"\" likelihood function for the gaussian\n",
    "    \"\"\"\n",
    "    return (1/(sigma*tf.sqrt(2*pi)))*tf.exp(-(((x_subset-mu)**2)/(2*(sigma**2))))"
   ]
  },
  {
   "cell_type": "code",
   "execution_count": 5,
   "metadata": {},
   "outputs": [],
   "source": [
    "def fit_gaussian_log_loss(x,n_epochs=20,batch_size=50,optimizer=SGD(0.1),e=1e-15,print_loss=False):\n",
    "    \"\"\" using the input data x, uses log loss to fit single Gaussian\n",
    "    \"\"\"\n",
    "    mu,sigma = tf.Variable(7.0,trainable=True),tf.Variable(1.0,trainable=True) # initialized to standard normal\n",
    "    \n",
    "    np.random.shuffle(x)\n",
    "    for _ in range(n_epochs):\n",
    "        losses = []\n",
    "        for i in range(0,len(x),batch_size):\n",
    "            x_subset = x[i:i+batch_size]\n",
    "            with tf.GradientTape() as tape:\n",
    "                batch_likelihood = gaussian_likelihood(x_subset,mu,sigma)\n",
    "                loss = tf.reduce_mean(-tf.math.log(tf.maximum(batch_likelihood,e))) # log loss, e used for numerical stability\n",
    "            \n",
    "            gradients = tape.gradient(loss,[mu,sigma])\n",
    "            optimizer.apply_gradients(zip(gradients,[mu,sigma]))\n",
    "            losses.append(float(loss))\n",
    "        if print_loss:\n",
    "            print(\"epoch {}: {}\".format(_+1,sum(losses)/len(losses)))\n",
    "    return mu,sigma"
   ]
  },
  {
   "cell_type": "code",
   "execution_count": 6,
   "metadata": {},
   "outputs": [],
   "source": [
    "def fit_gaussian_truncated_loss(x,mu,sigma,c=0.2,n_epochs=20,batch_size=50,optimizer=SGD(0.1),e=1e-15,print_loss=False):\n",
    "    \"\"\" using the input data x and \"hotstarted\" mu & sigma, uses truncated log loss to fit single Gaussian\n",
    "        -len(x)=10000, so 1-c fraction of the data is calculated over the entire input\n",
    "    \"\"\"\n",
    "    \n",
    "    np.random.shuffle(x)\n",
    "    for _ in range(n_epochs):\n",
    "        # calculating 1-c quantile and generating loss mask\n",
    "        likelihoods = (-tf.math.log(tf.maximum(gaussian_likelihood(x,mu,sigma),e))).numpy()\n",
    "        c_quantile = np.quantile(likelihoods,1-c)\n",
    "        x_loss_mask = (likelihoods<c_quantile).astype(\"float32\")\n",
    "        \n",
    "        losses = []\n",
    "        for i in range(0,len(x),batch_size):\n",
    "            x_subset = x[i:i+batch_size]\n",
    "            batch_loss_mask = x_loss_mask[i:i+batch_size]\n",
    "            with tf.GradientTape() as tape:\n",
    "                batch_likelihood = gaussian_likelihood(x_subset,mu,sigma)\n",
    "                loss = tf.reduce_mean(-tf.math.log(tf.maximum(batch_likelihood,e))*batch_loss_mask) # log loss, e used for numerical stability\n",
    "            \n",
    "            gradients = tape.gradient(loss,[mu,sigma])\n",
    "            optimizer.apply_gradients(zip(gradients,[mu,sigma]))\n",
    "            losses.append(float(loss))\n",
    "        if print_loss:\n",
    "            print(\"epoch {}: {}\".format(_+1,sum(losses)/len(losses)))\n",
    "    return mu,sigma"
   ]
  },
  {
   "cell_type": "markdown",
   "metadata": {},
   "source": [
    "### Replicating Figure 1\n",
    "\n",
    "Note: this is not a direct replication as the number of examples for each gaussian vary."
   ]
  },
  {
   "cell_type": "code",
   "execution_count": 7,
   "metadata": {},
   "outputs": [],
   "source": [
    "mu,sigma = fit_gaussian_log_loss(example_data,print_loss=False)\n",
    "log_loss_data = np.random.normal(mu,sigma,10000)\n",
    "mu,sigma = fit_gaussian_truncated_loss(example_data,mu,sigma,print_loss=False)\n",
    "distinguishability_data = np.random.normal(mu,sigma,10000)"
   ]
  },
  {
   "cell_type": "code",
   "execution_count": 8,
   "metadata": {},
   "outputs": [
    {
     "data": {
      "image/png": "[encoded data removed]",
      "text/plain": [
       "<Figure size 1080x288 with 1 Axes>"
      ]
     },
     "metadata": {},
     "output_type": "display_data"
    }
   ],
   "source": [
    "plt.figure(figsize=(15,4))\n",
    "plt.hist(example_data,density=True,bins=100,histtype=\"step\",color=\"darkblue\",linewidth=2,label=\"Reference\")\n",
    "plt.hist(log_loss_data,density=True,bins=100,histtype=\"step\",color=\"orange\",linewidth=2,label=\"Min log-loss\")\n",
    "plt.hist(distinguishability_data,density=True,bins=100,histtype=\"step\",color=\"red\",linewidth=2,label=\"Min distinguishability\")\n",
    "plt.xticks([0,5,10,15])\n",
    "plt.yticks([0.0,0.2])\n",
    "plt.ylim(-0.01,0.3)\n",
    "plt.xlim(-2.9,17.9)\n",
    "plt.legend()\n",
    "plt.show()"
   ]
  },
  {
   "cell_type": "markdown",
   "metadata": {},
   "source": [
    "### Instance in which there is a great deal of noise\n",
    "\n",
    "e.g. there is slightly more noise than non-noise."
   ]
  },
  {
   "cell_type": "code",
   "execution_count": 9,
   "metadata": {},
   "outputs": [],
   "source": [
    "mu,sigma = fit_gaussian_log_loss(experimental_data,print_loss=False)\n",
    "log_loss_data = np.random.normal(mu,sigma,10000)\n",
    "mu,sigma = fit_gaussian_truncated_loss(experimental_data,mu,sigma,print_loss=False)\n",
    "distinguishability_data = np.random.normal(mu,sigma,10000)"
   ]
  },
  {
   "cell_type": "code",
   "execution_count": 10,
   "metadata": {},
   "outputs": [
    {
     "data": {
      "image/png": "[encoded data removed]",
      "text/plain": [
       "<Figure size 1080x288 with 1 Axes>"
      ]
     },
     "metadata": {},
     "output_type": "display_data"
    }
   ],
   "source": [
    "plt.figure(figsize=(15,4))\n",
    "plt.hist(experimental_data,density=True,bins=100,histtype=\"step\",color=\"darkblue\",linewidth=2,label=\"Reference\")\n",
    "plt.hist(log_loss_data,density=True,bins=100,histtype=\"step\",color=\"orange\",linewidth=2,label=\"Min log-loss\")\n",
    "plt.hist(distinguishability_data,density=True,bins=100,histtype=\"step\",color=\"red\",linewidth=2,label=\"Min distinguishability\")\n",
    "plt.xticks([0,5,10,15])\n",
    "plt.yticks([0.0,0.2])\n",
    "plt.ylim(-0.01,0.3)\n",
    "plt.xlim(-2.9,17.9)\n",
    "plt.legend()\n",
    "plt.show()"
   ]
  },
  {
   "cell_type": "code",
   "execution_count": 11,
   "metadata": {},
   "outputs": [
    {
     "data": {
      "text/plain": [
       "(<tf.Variable 'Variable:0' shape=() dtype=float32, numpy=4.6769643>,\n",
       " <tf.Variable 'Variable:0' shape=() dtype=float32, numpy=4.7441816>)"
      ]
     },
     "execution_count": 11,
     "metadata": {},
     "output_type": "execute_result"
    }
   ],
   "source": [
    "mu,sigma"
   ]
  },
  {
   "cell_type": "code",
   "execution_count": null,
   "metadata": {},
   "outputs": [],
   "source": []
  },
  {
   "cell_type": "code",
   "execution_count": 12,
   "metadata": {},
   "outputs": [],
   "source": [
    "experimental_data = generate_data([(1,1,3900),(14,1,3050),(10,1,3050)])"
   ]
  },
  {
   "cell_type": "code",
   "execution_count": 13,
   "metadata": {},
   "outputs": [],
   "source": [
    "mu,sigma = fit_gaussian_log_loss(experimental_data,print_loss=False)\n",
    "log_loss_data = np.random.normal(mu,sigma,10000)\n",
    "mu,sigma = fit_gaussian_truncated_loss(experimental_data,mu,sigma,print_loss=False)\n",
    "distinguishability_data = np.random.normal(mu,sigma,10000)"
   ]
  },
  {
   "cell_type": "code",
   "execution_count": 14,
   "metadata": {},
   "outputs": [
    {
     "data": {
      "image/png": "[encoded data removed]",
      "text/plain": [
       "<Figure size 1080x288 with 1 Axes>"
      ]
     },
     "metadata": {},
     "output_type": "display_data"
    }
   ],
   "source": [
    "plt.figure(figsize=(15,4))\n",
    "plt.hist(experimental_data,density=True,bins=100,histtype=\"step\",color=\"darkblue\",linewidth=2,label=\"Reference\")\n",
    "plt.hist(log_loss_data,density=True,bins=100,histtype=\"step\",color=\"orange\",linewidth=2,label=\"Min log-loss\")\n",
    "plt.hist(distinguishability_data,density=True,bins=100,histtype=\"step\",color=\"red\",linewidth=2,label=\"Min distinguishability\")\n",
    "plt.xticks([0,5,10,15])\n",
    "plt.yticks([0.0,0.2])\n",
    "plt.ylim(-0.01,0.3)\n",
    "plt.xlim(-2.9,17.9)\n",
    "plt.legend()\n",
    "plt.show()"
   ]
  },
  {
   "cell_type": "code",
   "execution_count": 15,
   "metadata": {},
   "outputs": [
    {
     "data": {
      "text/plain": [
       "(<tf.Variable 'Variable:0' shape=() dtype=float32, numpy=9.559979>,\n",
       " <tf.Variable 'Variable:0' shape=() dtype=float32, numpy=4.7951136>)"
      ]
     },
     "execution_count": 15,
     "metadata": {},
     "output_type": "execute_result"
    }
   ],
   "source": [
    "mu,sigma"
   ]
  },
  {
   "cell_type": "code",
   "execution_count": null,
   "metadata": {},
   "outputs": [],
   "source": []
  }
 ],
 "metadata": {
  "kernelspec": {
   "display_name": "Python 3",
   "language": "python",
   "name": "python3"
  },
  "language_info": {
   "codemirror_mode": {
    "name": "ipython",
    "version": 3
   },
   "file_extension": ".py",
   "mimetype": "text/x-python",
   "name": "python",
   "nbconvert_exporter": "python",
   "pygments_lexer": "ipython3",
   "version": "3.6.5"
  }
 },
 "nbformat": 4,
 "nbformat_minor": 2
}
