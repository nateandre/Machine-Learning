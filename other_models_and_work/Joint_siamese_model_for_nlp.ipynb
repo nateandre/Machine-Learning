{
 "cells": [
  {
   "cell_type": "markdown",
   "metadata": {},
   "source": [
    "## Combines a triplet loss with a standard binary cross-entropy loss\n",
    "\n",
    "Similar to the method used in <i>Accurate Sentence Matching with Hybrid Siamese Networks</i>. Task is the predict whether the description of a problem indicates it is a big or small concern."
   ]
  },
  {
   "cell_type": "code",
   "execution_count": 1,
   "metadata": {},
   "outputs": [],
   "source": [
    "import tensorflow as tf\n",
    "import numpy as np\n",
    "import pandas as pd\n",
    "import tensorflow.keras.backend as K\n",
    "from tensorflow.keras.layers import Embedding,LSTM,Bidirectional,Input,Dense,Concatenate,GlobalMaxPool1D,Dropout\n",
    "from tensorflow.keras.models import Model\n",
    "from tensorflow.keras.optimizers import Adam\n",
    "from tensorflow.keras.losses import BinaryCrossentropy\n",
    "from sklearn.metrics import f1_score,accuracy_score,balanced_accuracy_score\n",
    "from sklearn.utils import shuffle\n",
    "import ast\n",
    "import time\n",
    "import random\n",
    "from utils import get_train_test_split,plot_pca"
   ]
  },
  {
   "cell_type": "code",
   "execution_count": 2,
   "metadata": {},
   "outputs": [],
   "source": [
    "cdf = pd.read_csv(\"../data/cleaned_data.csv\")\n",
    "y = cdf['how_big_of_concern_is_problem'].copy(deep=True).tolist()\n",
    "cdf['problem_tokens_int'] = cdf['problem_tokens_int'].apply(lambda list_string: ast.literal_eval(list_string))\n",
    "old_x = cdf['problem_tokens_int'].copy(deep=True).tolist()"
   ]
  },
  {
   "cell_type": "code",
   "execution_count": 3,
   "metadata": {},
   "outputs": [
    {
     "name": "stdout",
     "output_type": "stream",
     "text": [
      "(63046, 40) (63046, 1)\n"
     ]
    }
   ],
   "source": [
    "# updating x based on the padding length\n",
    "padding_length = 40\n",
    "x = []\n",
    "for row in old_x:\n",
    "    x.append((row+[0 for _ in range(padding_length)])[:padding_length])\n",
    "x = np.array(x).astype(\"int32\")\n",
    "y = np.array(y)\n",
    "y = np.expand_dims(y,axis=-1)\n",
    "print(x.shape,y.shape)"
   ]
  },
  {
   "cell_type": "code",
   "execution_count": 4,
   "metadata": {},
   "outputs": [
    {
     "name": "stdout",
     "output_type": "stream",
     "text": [
      "(60000, 40) (60000,) (3046, 40) (3046,)\n"
     ]
    }
   ],
   "source": [
    "x_train,x_test,y_train,y_test = get_train_test_split(x,y)\n",
    "y_train = np.squeeze(y_train,axis=-1)\n",
    "y_test = np.squeeze(y_test,axis=-1)\n",
    "print(x_train.shape,y_train.shape,x_test.shape,y_test.shape)"
   ]
  },
  {
   "cell_type": "code",
   "execution_count": 5,
   "metadata": {},
   "outputs": [
    {
     "name": "stdout",
     "output_type": "stream",
     "text": [
      "(16407, 300)\n"
     ]
    }
   ],
   "source": [
    "# loading in the pretrained word embeddings\n",
    "embedding_matrix = np.load(\"../data/embeddings.npy\")\n",
    "print(embedding_matrix.shape)"
   ]
  },
  {
   "cell_type": "code",
   "execution_count": 6,
   "metadata": {},
   "outputs": [
    {
     "name": "stdout",
     "output_type": "stream",
     "text": [
      "60000\n"
     ]
    }
   ],
   "source": [
    "# getting the indices for all of the examples - used later for sampling the positive and negative examples per anchor\n",
    "indices = np.array([i for i in range(len(y_train))])\n",
    "print(len(indices))"
   ]
  },
  {
   "cell_type": "markdown",
   "metadata": {},
   "source": [
    "### Utils"
   ]
  },
  {
   "cell_type": "code",
   "execution_count": null,
   "metadata": {},
   "outputs": [],
   "source": [
    "from sklearn.decomposition import PCA\n",
    "import matplotlib.pyplot as plt\n",
    "\n",
    "def get_train_test_split(x,y,num_per_class=1523,random_state=5):\n",
    "    \"\"\" returns train_test_split which has an equal number of both classes in the test set\n",
    "        -assumes that there are only two classes\n",
    "        -num_per_class is set so that there are 60k training examples\n",
    "    \"\"\"\n",
    "\n",
    "    if len(y.shape)==2:\n",
    "        y_bool = np.squeeze(y)\n",
    "    else:\n",
    "        y_bool = y\n",
    "\n",
    "    x_0 = x[y_bool==0]\n",
    "    x_1 = x[y_bool==1]\n",
    "    y_0 = y[y_bool==0]\n",
    "    y_1 = y[y_bool==1]\n",
    "\n",
    "    x_0,y_0 = shuffle(x_0,y_0,random_state=random_state)\n",
    "    x_1,y_1 = shuffle(x_1,y_1,random_state=random_state)\n",
    "\n",
    "    start0 = len(x_0)-num_per_class\n",
    "    x_train0,x_test0, y_train0,y_test0 = x_0[:start0],x_0[start0:], y_0[:start0],y_0[start0:]\n",
    "    start1 = len(x_1)-num_per_class\n",
    "    x_train1,x_test1, y_train1,y_test1 = x_1[:start1],x_1[start1:], y_1[:start1],y_1[start1:]\n",
    "\n",
    "    x_train = np.vstack([x_train0,x_train1])\n",
    "    x_test = np.vstack([x_test0,x_test1])\n",
    "    y_train = np.vstack([y_train0,y_train1])\n",
    "    y_test = np.vstack([y_test0,y_test1])\n",
    "\n",
    "    x_train,y_train = shuffle(x_train,y_train,random_state=random_state)\n",
    "    x_test,y_test = shuffle(x_test,y_test,random_state=random_state)\n",
    "\n",
    "    return x_train,x_test,y_train,y_test\n",
    "\n",
    "\n",
    "def plot_pca(x_train,y_train,x_test,y_test):\n",
    "    all_values = np.vstack([x_train,x_test])\n",
    "    pca = PCA(n_components=2)\n",
    "    plot_vectors = pca.fit_transform(all_values)\n",
    "    x_train_reduced = plot_vectors[:len(x_train)]\n",
    "    x_test_reduced = plot_vectors[len(x_train):]\n",
    "\n",
    "    x_train_reduced_0 = x_train_reduced[y_train==0]\n",
    "    x_train_reduced_1 = x_train_reduced[y_train==1]\n",
    "    assert(len(x_train_reduced_0)+len(x_train_reduced_1)==len(x_train_reduced))\n",
    "    x_test_reduced_0 = x_test_reduced[y_test==0]\n",
    "    x_test_reduced_1 = x_test_reduced[y_test==1]\n",
    "    assert(len(x_test_reduced_0)+len(x_test_reduced_1)==len(x_test_reduced))\n",
    "\n",
    "    plt.scatter(x_train_reduced_0[:,0],x_train_reduced_0[:,1],c=\"gray\",alpha=0.5)\n",
    "    plt.scatter(x_test_reduced_0[:,0],x_test_reduced_0[:,1],c=\"black\")\n",
    "    plt.scatter(x_train_reduced_1[:,0],x_train_reduced_1[:,1],c=\"cyan\",alpha=0.5)\n",
    "    plt.scatter(x_test_reduced_1[:,0],x_test_reduced_1[:,1],c=\"blue\")\n",
    "    plt.show()"
   ]
  },
  {
   "cell_type": "markdown",
   "metadata": {},
   "source": [
    "### Model"
   ]
  },
  {
   "cell_type": "code",
   "execution_count": 7,
   "metadata": {},
   "outputs": [],
   "source": [
    "def network(embedding_layer,input_len=40):\n",
    "    \"\"\" forward pass of the combined RNN/Siamese network\n",
    "    \"\"\"\n",
    "    x = Input(shape=(input_len),dtype=tf.int32)\n",
    "    input_e = embedding_layer(x)\n",
    "    h = LSTM(units=256,activation=\"tanh\",return_sequences=False)(input_e)\n",
    "    h1 = Dense(256,activation=\"relu\")(h)\n",
    "    h2 = Dense(1,activation=\"sigmoid\")(h1) # prediction for standard rnn model\n",
    "    seq_emb = K.l2_normalize(h1,axis=-1) # embedding for use in siamese network\n",
    "    \n",
    "    model = Model(inputs=[x],outputs=[h2,seq_emb])\n",
    "    return model"
   ]
  },
  {
   "cell_type": "code",
   "execution_count": 8,
   "metadata": {},
   "outputs": [],
   "source": [
    "def triplet_loss(anchor_emb,pos_emb,neg_emb,alpha):\n",
    "    \"\"\" \n",
    "    \"\"\"\n",
    "    anchor_pos_dist = tf.reduce_sum(tf.square(anchor_emb-pos_emb),axis=-1) # euclid dist.\n",
    "    anchor_neg_dist = tf.reduce_sum(tf.square(anchor_emb-neg_emb),axis=-1)\n",
    "    loss = tf.reduce_mean(tf.maximum(anchor_pos_dist-anchor_neg_dist+alpha,0.0))\n",
    "    return loss"
   ]
  },
  {
   "cell_type": "code",
   "execution_count": 9,
   "metadata": {},
   "outputs": [],
   "source": [
    "def combined_loss(y_true,y_pred,anchor_emb,pos_emb,neg_emb,triplet_loss_contrib,alpha=0.5):\n",
    "    \"\"\" getting the combination of triplet and cross_entropy losses\n",
    "    args:\n",
    "        triplet_loss_contrib: how much of the loss should be coming from the triplet model\n",
    "    \"\"\"\n",
    "    cross_entropy_loss = BinaryCrossentropy()(y_true,y_pred) # average over batch\n",
    "    total_triplet_loss = triplet_loss(anchor_emb,pos_emb,neg_emb,alpha)\n",
    "    total_loss = (triplet_loss_contrib*total_triplet_loss)+((1-triplet_loss_contrib)*cross_entropy_loss)\n",
    "    return total_loss"
   ]
  },
  {
   "cell_type": "code",
   "execution_count": 10,
   "metadata": {},
   "outputs": [],
   "source": [
    "embedding_layer = Embedding(input_dim=16407,output_dim=300,weights=[embedding_matrix],trainable=False,mask_zero=True)\n",
    "model = network(embedding_layer)"
   ]
  },
  {
   "cell_type": "code",
   "execution_count": 11,
   "metadata": {},
   "outputs": [],
   "source": [
    "# model.summary() # 640k params"
   ]
  },
  {
   "cell_type": "code",
   "execution_count": 12,
   "metadata": {},
   "outputs": [],
   "source": [
    "def get_random_triplets(indices,x_train,y_train):\n",
    "    \"\"\" returns the pos,neg pairs for each anchor(x_train)\n",
    "        -uses random selection for creating triplets\n",
    "    \"\"\"\n",
    "    indices_1_train = list(indices[y_train==1])\n",
    "    indices_0_train = list(indices[y_train==0])\n",
    "    all_negatives = [] # stores the sequences for the neg/pos pairs for each triplet\n",
    "    all_positives = []\n",
    "    \n",
    "    for index_i,index in enumerate(indices):\n",
    "        y_i = y_train[index_i]\n",
    "        if y_i == 0: # this example: y=0\n",
    "            pos_indices = [i for i in indices_0_train if i != index]\n",
    "            assert(len(pos_indices)==len(indices_0_train)-1)\n",
    "            neg_indices = indices_1_train\n",
    "        else: # this example: y=1\n",
    "            pos_indices = [i for i in indices_1_train if i != index]\n",
    "            assert(len(pos_indices)==len(indices_1_train)-1)\n",
    "            neg_indices = indices_0_train\n",
    "        \n",
    "        neg_ex = x_train[random.choice(neg_indices)]\n",
    "        pos_ex = x_train[random.choice(pos_indices)]\n",
    "        all_negatives.append(neg_ex)\n",
    "        all_positives.append(pos_ex)\n",
    "    \n",
    "    all_negatives = np.stack(all_negatives)\n",
    "    all_positives = np.stack(all_positives)\n",
    "    assert(all_negatives.shape==all_positives.shape)\n",
    "    return all_positives,all_negatives"
   ]
  },
  {
   "cell_type": "code",
   "execution_count": 13,
   "metadata": {},
   "outputs": [],
   "source": [
    "# using tf.function speeds up training\n",
    "@tf.function\n",
    "def train(model,optimizer,x_train_subset,y_train_subset,neg_subset,pos_subset):\n",
    "    with tf.GradientTape() as tape:\n",
    "        y_train_pred,anchor_emb = model(x_train_subset)\n",
    "        _,neg_emb = model(neg_subset) # only keeping siamese model predictions\n",
    "        _,pos_emb = model(pos_subset)\n",
    "        loss = combined_loss(y_train_subset,y_train_pred,anchor_emb,pos_emb,neg_emb,triplet_loss_contrib=0.25)\n",
    "        \n",
    "    gradients = tape.gradient(loss, model.trainable_variables)\n",
    "    optimizer.apply_gradients(zip(gradients, model.trainable_variables))\n",
    "    return loss"
   ]
  },
  {
   "cell_type": "code",
   "execution_count": null,
   "metadata": {},
   "outputs": [
    {
     "name": "stdout",
     "output_type": "stream",
     "text": [
      "epoch 0 loss: 0.6252, took: 11.8 min.\n",
      "---TEST: f1:0.5677,acc:0.5758,bal_acc:0.5758; TRAIN: f1:0.5979,acc:0.612,bal_acc:0.6002\n"
     ]
    },
    {
     "data": {
      "image/png": "[encoded data removed]",
      "text/plain": [
       "<Figure size 432x288 with 1 Axes>"
      ]
     },
     "metadata": {},
     "output_type": "display_data"
    }
   ],
   "source": [
    "batch_size=20\n",
    "optimizer = Adam(lr=0.001)\n",
    "epochs=10\n",
    "for epoch_i in range(epochs):\n",
    "    losses = []\n",
    "    start = time.time()\n",
    "    all_positives,all_negatives = get_random_triplets(indices,x_train,y_train)\n",
    "    \n",
    "    for i in range(0,len(x_train)-batch_size,batch_size):\n",
    "        x_train_subset = x_train[i:i+batch_size]\n",
    "        y_train_subset = y_train[i:i+batch_size]\n",
    "        neg_subset = all_negatives[i:i+batch_size]\n",
    "        pos_subset = all_positives[i:i+batch_size]\n",
    "        batch_loss = train(model,optimizer,x_train_subset,y_train_subset,neg_subset,pos_subset)\n",
    "        losses.append(float(batch_loss))\n",
    "        \n",
    "    # model.save_weights(\"model\")\n",
    "    took_time = round((time.time()-start)/60,2)\n",
    "    print(\"epoch {} loss: {}, took: {} min.\".format(epoch_i,round(sum(losses)/len(losses),4),took_time))\n",
    "    \n",
    "    y_train_pred,train_emb = model(x_train)\n",
    "    y_train_pred = y_train_pred.numpy()\n",
    "    y_train_pred[y_train_pred<0.5]=0\n",
    "    y_train_pred[y_train_pred>=0.5]=1\n",
    "    \n",
    "    y_test_pred,test_emb = model(x_test)\n",
    "    y_test_pred = y_test_pred.numpy()\n",
    "    y_test_pred[y_test_pred<0.5]=0\n",
    "    y_test_pred[y_test_pred>=0.5]=1\n",
    "    \n",
    "    model_f1,model_acc,model_bal_acc = round(f1_score(y_test,y_test_pred,average=\"macro\"),4),round(accuracy_score(y_test,y_test_pred),4),round(balanced_accuracy_score(y_test,y_test_pred),4)\n",
    "    train_model_f1,train_model_acc,train_model_bal_acc = round(f1_score(y_train,y_train_pred,average=\"macro\"),4),round(accuracy_score(y_train,y_train_pred),4),round(balanced_accuracy_score(y_train,y_train_pred),4)\n",
    "    print(\"---TEST: f1:{},acc:{},bal_acc:{}; TRAIN: f1:{},acc:{},bal_acc:{}\".format(model_f1,model_acc,model_bal_acc,train_model_f1,train_model_acc,train_model_bal_acc))\n",
    "    plot_pca(train_emb,y_train,test_emb,y_test)"
   ]
  },
  {
   "cell_type": "code",
   "execution_count": null,
   "metadata": {},
   "outputs": [],
   "source": []
  }
 ],
 "metadata": {
  "kernelspec": {
   "display_name": "Python 3",
   "language": "python",
   "name": "python3"
  },
  "language_info": {
   "codemirror_mode": {
    "name": "ipython",
    "version": 3
   },
   "file_extension": ".py",
   "mimetype": "text/x-python",
   "name": "python",
   "nbconvert_exporter": "python",
   "pygments_lexer": "ipython3",
   "version": "3.6.5"
  }
 },
 "nbformat": 4,
 "nbformat_minor": 2
}
