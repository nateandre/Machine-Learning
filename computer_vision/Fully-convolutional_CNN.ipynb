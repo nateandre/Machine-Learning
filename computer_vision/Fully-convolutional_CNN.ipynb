{
 "cells": [
  {
   "cell_type": "markdown",
   "metadata": {},
   "source": [
    "## Fully-convolutional CNN\n",
    "\n",
    "Testing with multiple input shapes."
   ]
  },
  {
   "cell_type": "code",
   "execution_count": 1,
   "metadata": {},
   "outputs": [],
   "source": [
    "import tensorflow as tf\n",
    "from tensorflow.keras.layers import Input,Dense,Reshape,Activation\n",
    "from tensorflow.keras.layers import Conv2D,Flatten,RepeatVector,GlobalAveragePooling2D\n",
    "from tensorflow.keras.optimizers import Adam\n",
    "from tensorflow.keras.models import Model,Sequential\n",
    "from tensorflow.keras.losses import SparseCategoricalCrossentropy\n",
    "import numpy as np\n",
    "import PIL\n",
    "import matplotlib.pyplot as plt\n",
    "\n",
    "import warnings\n",
    "warnings.filterwarnings('ignore')"
   ]
  },
  {
   "cell_type": "code",
   "execution_count": 2,
   "metadata": {},
   "outputs": [
    {
     "data": {
      "text/plain": [
       "((24600, 28, 28, 1), (24600,))"
      ]
     },
     "execution_count": 2,
     "metadata": {},
     "output_type": "execute_result"
    }
   ],
   "source": [
    "(x_train, y_train),(x_test, y_test) = tf.keras.datasets.mnist.load_data()\n",
    "x_train = x_train.astype('float32')\n",
    "y_train = y_train.astype('float32')\n",
    "x_train = x_train[y_train <= 3] # using numbers 0,..,3\n",
    "y_train = y_train[y_train <= 3]\n",
    "x_train = np.expand_dims(x_train,axis=-1)\n",
    "x_train,y_train = x_train[:24600],y_train[:24600]\n",
    "x_train.shape,y_train.shape"
   ]
  },
  {
   "cell_type": "code",
   "execution_count": 3,
   "metadata": {},
   "outputs": [],
   "source": [
    "x_train = x_train/255 # scaling the images"
   ]
  },
  {
   "cell_type": "code",
   "execution_count": 4,
   "metadata": {},
   "outputs": [],
   "source": [
    "x_subset = np.array([np.array(PIL.Image.fromarray(x_train[i,:,:,0]).resize(size=(32,32))) for i in [0,1,2,4]])"
   ]
  },
  {
   "cell_type": "code",
   "execution_count": 5,
   "metadata": {},
   "outputs": [
    {
     "data": {
      "image/png": "[encoded data removed]",
      "text/plain": [
       "<Figure size 432x288 with 4 Axes>"
      ]
     },
     "metadata": {},
     "output_type": "display_data"
    }
   ],
   "source": [
    "plt.subplot(1,4,1)\n",
    "plt.imshow(x_train[0][:,:,0],cmap=\"gray\")\n",
    "plt.subplot(1,4,2)\n",
    "plt.imshow(x_train[1][:,:,0],cmap=\"gray\")\n",
    "plt.subplot(1,4,3)\n",
    "plt.imshow(x_train[2][:,:,0],cmap=\"gray\")\n",
    "plt.subplot(1,4,4)\n",
    "plt.imshow(x_train[4][:,:,0],cmap=\"gray\")\n",
    "plt.show()"
   ]
  },
  {
   "cell_type": "code",
   "execution_count": 6,
   "metadata": {},
   "outputs": [
    {
     "data": {
      "image/png": "[encoded data removed]",
      "text/plain": [
       "<Figure size 432x288 with 4 Axes>"
      ]
     },
     "metadata": {},
     "output_type": "display_data"
    }
   ],
   "source": [
    "plt.subplot(1,4,1)\n",
    "plt.imshow(x_subset[0,:,:],cmap=\"gray\")\n",
    "plt.subplot(1,4,2)\n",
    "plt.imshow(x_subset[1,:,:],cmap=\"gray\")\n",
    "plt.subplot(1,4,3)\n",
    "plt.imshow(x_subset[2,:,:],cmap=\"gray\")\n",
    "plt.subplot(1,4,4)\n",
    "plt.imshow(x_subset[3,:,:],cmap=\"gray\")\n",
    "plt.show()"
   ]
  },
  {
   "cell_type": "code",
   "execution_count": null,
   "metadata": {},
   "outputs": [],
   "source": []
  },
  {
   "cell_type": "code",
   "execution_count": 7,
   "metadata": {},
   "outputs": [],
   "source": [
    "def get_model():\n",
    "    \"\"\" Fully-convolutional CNN\n",
    "    \"\"\"\n",
    "    x = Input(shape=(28,28,1))\n",
    "    h = Conv2D(filters=32,kernel_size=3,strides=2,padding='same',activation='relu')(x) # 14x14x32\n",
    "    h = Conv2D(filters=16,kernel_size=3,strides=2,padding='valid',activation='relu')(h) # 6x6x16\n",
    "    h = Conv2D(filters=4,kernel_size=3,strides=2,padding='same',activation='sigmoid')(h) # 3x3x4; 4-classes\n",
    "    h = GlobalAveragePooling2D()(h) # nx4\n",
    "    h = Activation('softmax')(h)\n",
    "    \n",
    "    model = Model(inputs=x,outputs=h)\n",
    "    model.compile(loss=SparseCategoricalCrossentropy(),optimizer=Adam(lr=0.01))\n",
    "    return model"
   ]
  },
  {
   "cell_type": "code",
   "execution_count": 8,
   "metadata": {},
   "outputs": [],
   "source": [
    "model = get_model()"
   ]
  },
  {
   "cell_type": "code",
   "execution_count": null,
   "metadata": {},
   "outputs": [],
   "source": []
  },
  {
   "cell_type": "code",
   "execution_count": 9,
   "metadata": {},
   "outputs": [
    {
     "name": "stdout",
     "output_type": "stream",
     "text": [
      "Epoch 1: 0.989809\n",
      "Epoch 2: 0.902887\n",
      "Epoch 3: 0.877308\n",
      "Epoch 4: 0.863671\n",
      "Epoch 5: 0.857593\n",
      "Epoch 6: 0.852044\n",
      "Epoch 7: 0.848448\n",
      "Epoch 8: 0.845271\n",
      "Epoch 9: 0.843592\n",
      "Epoch 10: 0.840858\n"
     ]
    }
   ],
   "source": [
    "batch_size=50\n",
    "epochs=10\n",
    "\n",
    "for epoch_i in range(epochs):\n",
    "    losses = []\n",
    "    for i in range(0,len(x_train),batch_size):\n",
    "        x_train_subset = x_train[i:i+batch_size]\n",
    "        y_train_subset = y_train[i:i+batch_size]\n",
    "        batch_loss = model.train_on_batch(x_train_subset,y_train_subset)\n",
    "        losses.append(float(batch_loss))\n",
    "        \n",
    "    print(\"Epoch {}: {}\".format(epoch_i+1,round(sum(losses)/len(losses),6)))"
   ]
  },
  {
   "cell_type": "code",
   "execution_count": 10,
   "metadata": {},
   "outputs": [
    {
     "data": {
      "text/plain": [
       "array([0, 1, 2, 3])"
      ]
     },
     "execution_count": 10,
     "metadata": {},
     "output_type": "execute_result"
    }
   ],
   "source": [
    "np.argmax(model(np.array([x_train[0],x_train[1],x_train[2],x_train[4]])),axis=1)"
   ]
  },
  {
   "cell_type": "code",
   "execution_count": null,
   "metadata": {},
   "outputs": [],
   "source": []
  },
  {
   "cell_type": "code",
   "execution_count": 11,
   "metadata": {},
   "outputs": [],
   "source": [
    "model_ = Sequential(model.layers)"
   ]
  },
  {
   "cell_type": "code",
   "execution_count": 12,
   "metadata": {},
   "outputs": [
    {
     "data": {
      "text/plain": [
       "array([0, 1, 2, 3])"
      ]
     },
     "execution_count": 12,
     "metadata": {},
     "output_type": "execute_result"
    }
   ],
   "source": [
    "np.argmax(model_(np.expand_dims(x_subset,axis=-1)),axis=-1)"
   ]
  },
  {
   "cell_type": "code",
   "execution_count": null,
   "metadata": {},
   "outputs": [],
   "source": []
  }
 ],
 "metadata": {
  "kernelspec": {
   "display_name": "Python 3",
   "language": "python",
   "name": "python3"
  },
  "language_info": {
   "codemirror_mode": {
    "name": "ipython",
    "version": 3
   },
   "file_extension": ".py",
   "mimetype": "text/x-python",
   "name": "python",
   "nbconvert_exporter": "python",
   "pygments_lexer": "ipython3",
   "version": "3.6.5"
  }
 },
 "nbformat": 4,
 "nbformat_minor": 2
}
