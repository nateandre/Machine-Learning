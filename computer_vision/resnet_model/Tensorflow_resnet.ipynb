{
 "cells": [
  {
   "cell_type": "markdown",
   "metadata": {},
   "source": [
    "### Simple Residual model in Tensorflow\n",
    "\n",
    "This notebook is simply for testing a resnet-50 inspired model built in Tensorflow on a numerical signs dataset."
   ]
  },
  {
   "cell_type": "code",
   "execution_count": 1,
   "metadata": {},
   "outputs": [
    {
     "name": "stderr",
     "output_type": "stream",
     "text": [
      "Using TensorFlow backend.\n"
     ]
    }
   ],
   "source": [
    "import numpy as np\n",
    "import tensorflow as tf\n",
    "from keras import backend as K\n",
    "from sklearn.utils import shuffle\n",
    "from sklearn.model_selection import train_test_split\n",
    "\n",
    "import warnings\n",
    "warnings.filterwarnings('ignore')"
   ]
  },
  {
   "cell_type": "code",
   "execution_count": 2,
   "metadata": {},
   "outputs": [
    {
     "name": "stdout",
     "output_type": "stream",
     "text": [
      "(2062, 64, 64, 1)\n",
      "(2062, 10)\n"
     ]
    }
   ],
   "source": [
    "# Using a signs dataset, with images of numerical signs from 0-9\n",
    "X = np.load(\"../../data/sign-digits/X.npy\")\n",
    "y = np.load(\"../../data/sign-digits/y.npy\")\n",
    "X.shape = (2062, 64, 64, 1)\n",
    "X = shuffle(X,random_state=0)\n",
    "y = shuffle(y,random_state=0)\n",
    "print(X.shape)\n",
    "print(y.shape)"
   ]
  },
  {
   "cell_type": "code",
   "execution_count": 3,
   "metadata": {},
   "outputs": [
    {
     "name": "stdout",
     "output_type": "stream",
     "text": [
      "(1958, 64, 64, 1)\n",
      "(104, 64, 64, 1)\n"
     ]
    }
   ],
   "source": [
    "X_train,X_test,y_train,y_test = train_test_split(X,y,test_size=0.05)\n",
    "print(X_train.shape)\n",
    "print(X_test.shape)"
   ]
  },
  {
   "cell_type": "code",
   "execution_count": 4,
   "metadata": {},
   "outputs": [],
   "source": [
    "# Placeholder values for input X,y data\n",
    "def get_placeholders(x_h,x_w,x_c,n_y):\n",
    "    \"\"\"\n",
    "    x_h: Height for x input \n",
    "    x_w: Width for x input\n",
    "    x_c: Channels for x input\n",
    "    n_y: shape of y input (None,10)\n",
    "    \"\"\"\n",
    "    X = tf.placeholder(tf.float32, name=\"X\", shape=(None,x_h,x_w,x_c))\n",
    "    y = tf.placeholder(tf.float32, name=\"y\", shape=(None,n_y))\n",
    "    return X,y"
   ]
  },
  {
   "cell_type": "code",
   "execution_count": 5,
   "metadata": {},
   "outputs": [],
   "source": [
    "# Block corresponding with no change in size\n",
    "def identity_block(the_input, ks, filters, s):\n",
    "    \"\"\"\n",
    "    the_input: activation from the previous layer\n",
    "    ks: kernel size for the middle layer\n",
    "    filters: list of number of filters to be used in each block\n",
    "    s - start: the number of the first layer\n",
    "    \"\"\"\n",
    "    F1,F2,F3 = filters\n",
    "    old_input = the_input\n",
    "    # Block 1\n",
    "    Z1 = tf.layers.conv2d(the_input,filters=F1,kernel_size=[1,1],strides=(1,1),padding=\"same\",name=\"Z\"+str(s),kernel_initializer=tf.contrib.layers.xavier_initializer(seed=0))\n",
    "    Bn1 = tf.layers.batch_normalization(Z1,name=\"Bn\"+str(s))\n",
    "    A1 = tf.nn.relu(Bn1,name=\"A\"+str(s))\n",
    "    # Block 2\n",
    "    Z2 = tf.layers.conv2d(A1,filters=F2,kernel_size=[ks,ks],strides=(1,1),padding=\"same\",name=\"Z\"+str(s+1),kernel_initializer=tf.contrib.layers.xavier_initializer(seed=0))\n",
    "    Bn2 = tf.layers.batch_normalization(Z2,name=\"Bn\"+str(s+1))\n",
    "    A2 = tf.nn.relu(Bn2,name=\"A\"+str(s+1))\n",
    "    # Block 3\n",
    "    Z3 = tf.layers.conv2d(A2,filters=F3,kernel_size=[1,1],strides=(1,1),padding=\"same\",name=\"Z\"+str(s+2),kernel_initializer=tf.contrib.layers.xavier_initializer(seed=0))\n",
    "    Bn3 = tf.layers.batch_normalization(Z3,name=\"Bn\"+str(s+2))\n",
    "    # Add old activation\n",
    "    res = tf.add(Bn3,old_input,name=\"resid_add\"+str(s+2))\n",
    "    A3 = tf.nn.relu(res,name=\"A\"+str(s+2))\n",
    "    \n",
    "    return A3"
   ]
  },
  {
   "cell_type": "code",
   "execution_count": 6,
   "metadata": {},
   "outputs": [],
   "source": [
    "# Block corresponding with a change in size\n",
    "def conv_block(the_input,ks, filters, s, stride):\n",
    "    \"\"\"\n",
    "    the_input: activation from the previous layer\n",
    "    ks: kernel size for the middle layer\n",
    "    filters: list of number of filters to be used in each block\n",
    "    s - start: the number of the first layer\n",
    "    stride: specifies stride to decrease dimension\n",
    "    \"\"\"\n",
    "    F1,F2,F3 = filters\n",
    "    old_input = the_input\n",
    "    # Block 1\n",
    "    Z1 = tf.layers.conv2d(the_input,filters=F1,kernel_size=[1,1],strides=(stride,stride),padding=\"same\",name=\"Z\"+str(s),kernel_initializer=tf.contrib.layers.xavier_initializer(seed=0))\n",
    "    Bn1 = tf.layers.batch_normalization(Z1,name=\"Bn\"+str(s))\n",
    "    A1 = tf.nn.relu(Bn1,name=\"A\"+str(s))\n",
    "    # Block 2\n",
    "    Z2 = tf.layers.conv2d(A1,filters=F2,kernel_size=[ks,ks],strides=(1,1),padding=\"same\",name=\"Z\"+str(s+1),kernel_initializer=tf.contrib.layers.xavier_initializer(seed=0))\n",
    "    Bn2 = tf.layers.batch_normalization(Z2,name=\"Bn\"+str(s+1))\n",
    "    A2 = tf.nn.relu(Bn2,name=\"A\"+str(s+1))\n",
    "    # Block 3\n",
    "    Z3 = tf.layers.conv2d(A2,filters=F3,kernel_size=[1,1],strides=(1,1),padding=\"same\",name=\"Z\"+str(s+2),kernel_initializer=tf.contrib.layers.xavier_initializer(seed=0))\n",
    "    Bn3 = tf.layers.batch_normalization(Z3,name=\"Bn\"+str(s+2))\n",
    "    # Resize earlier activation\n",
    "    R1 = tf.layers.conv2d(old_input,filters=F3,kernel_size=[1,1],strides=(stride,stride),padding=\"same\",name=\"resize_conv\"+str(s+2),kernel_initializer=tf.contrib.layers.xavier_initializer(seed=0))\n",
    "    R2 = tf.layers.batch_normalization(R1,name=\"resize_bn\"+str(s+2))\n",
    "    # Add old activation\n",
    "    res = tf.add(Bn3,R2,name=\"resid_add\"+str(s+2))\n",
    "    A3 = tf.nn.relu(res,name=\"A\"+str(s+2))\n",
    "    \n",
    "    return A3"
   ]
  },
  {
   "cell_type": "code",
   "execution_count": 7,
   "metadata": {},
   "outputs": [],
   "source": [
    "# Resnet-50 forward pass - input of size 64x64x1\n",
    "def forward_pass(X):\n",
    "    the_input = tf.reshape(X,[-1,64,64,1])\n",
    "    # Stage 1\n",
    "    Z1 = tf.layers.conv2d(the_input,filters=64,kernel_size=[7,7],strides=(2,2),padding=\"same\",name=\"Z1\",kernel_initializer=tf.contrib.layers.xavier_initializer(seed=0))\n",
    "    Bn1 = tf.layers.batch_normalization(Z1,name=\"Bn1\")\n",
    "    A1 = tf.nn.relu(Bn1,name=\"A1\")\n",
    "    P1 = tf.layers.max_pooling2d(A1,pool_size=[3,3],strides=2,padding=\"same\",name=\"P1\")\n",
    "    # Stage 2\n",
    "    C1 = conv_block(P1,3,[64,64,256],2,1)\n",
    "    C2 = identity_block(C1,3,[64,64,256],s=5)\n",
    "    C3 = identity_block(C2,3,[64,64,256],s=8)\n",
    "    # Stage 3\n",
    "    C4 = conv_block(C3,3,[128,128,512],11,2)\n",
    "    C5 = identity_block(C4,3,[128,128,512],s=14)\n",
    "    C6 = identity_block(C5,3,[128,128,512],s=17)\n",
    "    C7 = identity_block(C6,3,[128,128,512],s=20)\n",
    "    # Stage 4\n",
    "    C8 = conv_block(C7,3,[256,256,1024],23,2)\n",
    "    C9 = identity_block(C8,3,[256,256,1024],s=26)\n",
    "    C10 = identity_block(C9,3,[256,256,1024],s=29)\n",
    "    C11 = identity_block(C10,3,[256,256,1024],s=32)\n",
    "    C12 = identity_block(C11,3,[256,256,1024],s=35)\n",
    "    C13 = identity_block(C12,3,[256,256,1024],s=38)\n",
    "    # Stage 5\n",
    "    C14 = conv_block(C13,3,[512,512,2048],41,2)\n",
    "    C15 = identity_block(C14,3,[512,512,2048],s=44)\n",
    "    C16 = identity_block(C15,3,[512,512,2048],s=47)\n",
    "    # Flatten\n",
    "    AP = tf.layers.average_pooling2d(C16,(2,2),1,name=\"avg_pool\")\n",
    "    F = tf.contrib.layers.flatten(AP)\n",
    "    A = tf.contrib.layers.fully_connected(F,num_outputs=10,activation_fn=None) # not calling softmax here\n",
    "    return A"
   ]
  },
  {
   "cell_type": "code",
   "execution_count": 8,
   "metadata": {},
   "outputs": [
    {
     "name": "stdout",
     "output_type": "stream",
     "text": [
      "Z shape: (1, 10)\n",
      "[[-0.6870362   0.23646936  0.21486282  0.08896669  0.02412071  0.537437\n",
      "   0.59524524 -0.61844087  0.12239368 -0.19557017]]\n"
     ]
    }
   ],
   "source": [
    "# Testing forward prop\n",
    "tf.reset_default_graph()\n",
    "with tf.Session() as sess:\n",
    "    np.random.seed(1)\n",
    "    X = tf.placeholder(tf.float32,shape=(None,64,64,1))\n",
    "    Z = forward_pass(X)\n",
    "    init = tf.global_variables_initializer()\n",
    "    sess.run(init)\n",
    "    aZ = sess.run(Z,feed_dict={X:np.random.randn(1,64,64,1)})\n",
    "    print(\"Z shape:\", str(aZ.shape))\n",
    "    print(aZ)"
   ]
  },
  {
   "cell_type": "code",
   "execution_count": 9,
   "metadata": {},
   "outputs": [],
   "source": [
    "# Compute softmax loss\n",
    "def cost_function(Z,y):\n",
    "    cost = tf.reduce_mean(tf.nn.softmax_cross_entropy_with_logits_v2(logits=Z,labels=y))\n",
    "    return cost"
   ]
  },
  {
   "cell_type": "code",
   "execution_count": 10,
   "metadata": {},
   "outputs": [
    {
     "name": "stdout",
     "output_type": "stream",
     "text": [
      "2.4257596\n"
     ]
    }
   ],
   "source": [
    "# Testing cost\n",
    "tf.reset_default_graph()\n",
    "with tf.Session() as sess:\n",
    "    np.random.seed(1)\n",
    "    X,y = get_placeholders(64,64,1,10)\n",
    "    Z = forward_pass(X)\n",
    "    cost = cost_function(Z,y)\n",
    "    init = tf.global_variables_initializer()\n",
    "    sess.run(init)\n",
    "    aCost = sess.run(cost,feed_dict={X:X_train[:10],y:y_train[:10]})\n",
    "    print(aCost)"
   ]
  },
  {
   "cell_type": "code",
   "execution_count": 11,
   "metadata": {},
   "outputs": [],
   "source": [
    "# Creates shuffled mini batches\n",
    "def random_mini_batches(X, y, mini_batch_size, seed):\n",
    "    \"\"\"\n",
    "    Creates a list of random minibatches from (X, Y)\n",
    "    Returns:\n",
    "    mini_batches -- list of synchronous (mini_batch_X, mini_batch_Y)\n",
    "    \"\"\"\n",
    "    rounds = int(X.shape[0] / mini_batch_size) # Max number of minibatches\n",
    "    X_shuffle = shuffle(X, random_state=seed)\n",
    "    y_shuffle = shuffle(y, random_state=seed)\n",
    "    mini_batches = []\n",
    "    a = 0 #used to siphon off sections of X\n",
    "    b = 0 #used to siphon off sections of y\n",
    "    \n",
    "    for around in range(rounds):\n",
    "        x_mini = X_shuffle[a:a+mini_batch_size]\n",
    "        y_mini = y_shuffle[b:b+mini_batch_size]\n",
    "        mini_batch = (x_mini,y_mini)\n",
    "        mini_batches.append(mini_batch)\n",
    "        a += mini_batch_size\n",
    "        b += mini_batch_size\n",
    "    \n",
    "    return mini_batches"
   ]
  },
  {
   "cell_type": "code",
   "execution_count": 16,
   "metadata": {},
   "outputs": [],
   "source": [
    "# Building and training YOLO model\n",
    "def model(X_train,y_train,lr=0.001,minibatch_size=10,num_epochs=20,print_cost=True):\n",
    "    tf.reset_default_graph() # resetting graph\n",
    "    tf.set_random_seed(1)\n",
    "    seed=0\n",
    "    costs=[]\n",
    "    x_h = X_train[0].shape[0]\n",
    "    x_w = X_train[0].shape[1]\n",
    "    x_c = X_train[0].shape[2]\n",
    "    n_y = y_train[0].shape[0]\n",
    "    m = X_train.shape[0]\n",
    "    \n",
    "    X,y = get_placeholders(x_h,x_w,x_c,n_y)\n",
    "    Z = forward_pass(X)\n",
    "    cost = cost_function(Z,y)\n",
    "    optimizer = tf.train.AdamOptimizer(learning_rate=lr).minimize(cost)\n",
    "    \n",
    "    init = tf.global_variables_initializer()\n",
    "    saver = tf.train.Saver()\n",
    "    with tf.Session() as sess:\n",
    "        # Loading saved model\n",
    "        saver = tf.train.import_meta_graph(\"../../data/resnet/resnet50.ckpt.meta\")\n",
    "        saver.restore(sess, \"../../data/resnet/resnet50.ckpt\")\n",
    "        #sess.run(init) # DONT RUN INIT IF LOADING MODEL\n",
    "        \n",
    "        for epoch in range(num_epochs):\n",
    "            minibatch_cost = 0\n",
    "            seed += 1\n",
    "            minibatches = random_mini_batches(X_train, y_train, minibatch_size, seed)\n",
    "            \n",
    "            for minibatch in minibatches:\n",
    "                (mini_x,mini_y) = minibatch\n",
    "                _,temp_cost = sess.run([optimizer,cost], feed_dict={X:mini_x,y:mini_y})\n",
    "                minibatch_cost += temp_cost\n",
    "                # print(minibatch_cost)\n",
    "                \n",
    "            costs.append(minibatch_cost)\n",
    "            if print_cost and epoch % 1 == 0:\n",
    "                print(\"Cost at epoch {}: {}\".format(epoch+1,minibatch_cost))\n",
    "                \n",
    "        loc = saver.save(sess, \"../../data/resnet/resnet50.ckpt\")\n",
    "        return costs"
   ]
  },
  {
   "cell_type": "code",
   "execution_count": 14,
   "metadata": {},
   "outputs": [
    {
     "name": "stdout",
     "output_type": "stream",
     "text": [
      "Cost at epoch 1: 448.88707089424133\n",
      "Cost at epoch 2: 430.6102409362793\n",
      "Cost at epoch 3: 254.8358582854271\n",
      "Cost at epoch 4: 152.20977047085762\n",
      "Cost at epoch 5: 116.3449178636074\n"
     ]
    }
   ],
   "source": [
    "acosts = model(X_train,y_train,lr=0.00001,minibatch_size=10,num_epochs=5,print_cost=True)"
   ]
  },
  {
   "cell_type": "code",
   "execution_count": 17,
   "metadata": {},
   "outputs": [
    {
     "name": "stdout",
     "output_type": "stream",
     "text": [
      "INFO:tensorflow:Restoring parameters from ../../data/resnet/resnet50.ckpt\n",
      "Cost at epoch 1: 88.9946612790227\n",
      "Cost at epoch 2: 78.22859336435795\n",
      "Cost at epoch 3: 74.46127920597792\n",
      "Cost at epoch 4: 69.40716808661819\n",
      "Cost at epoch 5: 67.25051137059927\n",
      "Cost at epoch 6: 63.31647543981671\n",
      "Cost at epoch 7: 59.31081201694906\n",
      "Cost at epoch 8: 56.58870797045529\n",
      "Cost at epoch 9: 54.766188990324736\n",
      "Cost at epoch 10: 52.50651933439076\n",
      "Cost at epoch 11: 50.92173827253282\n",
      "Cost at epoch 12: 48.70613822340965\n",
      "Cost at epoch 13: 46.26168138626963\n",
      "Cost at epoch 14: 44.14310765080154\n",
      "Cost at epoch 15: 42.08724769484252\n"
     ]
    }
   ],
   "source": [
    "acosts2 = model(X_train,y_train,lr=0.000003,minibatch_size=10,num_epochs=15,print_cost=True)"
   ]
  },
  {
   "cell_type": "code",
   "execution_count": 18,
   "metadata": {},
   "outputs": [
    {
     "name": "stdout",
     "output_type": "stream",
     "text": [
      "INFO:tensorflow:Restoring parameters from ../../data/resnet/resnet50.ckpt\n",
      "Cost at epoch 1: 37.49996556900442\n",
      "Cost at epoch 2: 36.36143978172913\n",
      "Cost at epoch 3: 35.95404689805582\n",
      "Cost at epoch 4: 35.77175150765106\n",
      "Cost at epoch 5: 35.49880225490779\n"
     ]
    }
   ],
   "source": [
    "acosts3 = model(X_train,y_train,lr=0.000001,minibatch_size=10,num_epochs=5,print_cost=True)"
   ]
  },
  {
   "cell_type": "code",
   "execution_count": 19,
   "metadata": {},
   "outputs": [
    {
     "name": "stdout",
     "output_type": "stream",
     "text": [
      "INFO:tensorflow:Restoring parameters from ../../data/resnet/resnet50.ckpt\n",
      "Cost at epoch 1: 33.11560584139079\n",
      "Cost at epoch 2: 32.739244856871665\n",
      "Cost at epoch 3: 32.49668696755543\n",
      "Cost at epoch 4: 32.5791025813669\n",
      "Cost at epoch 5: 32.36903871875256\n"
     ]
    }
   ],
   "source": [
    "acosts4 = model(X_train,y_train,lr=0.0000003,minibatch_size=10,num_epochs=5,print_cost=True)"
   ]
  },
  {
   "cell_type": "code",
   "execution_count": 22,
   "metadata": {},
   "outputs": [
    {
     "data": {
      "image/png": "[encoded data removed]",
      "text/plain": [
       "<Figure size 432x288 with 1 Axes>"
      ]
     },
     "metadata": {},
     "output_type": "display_data"
    }
   ],
   "source": [
    "import matplotlib.pyplot as plt\n",
    "%matplotlib inline\n",
    "final_cost = acosts + acosts2 + acosts3 + acosts4\n",
    "x_iter = [i for i in range(len(final_cost))]\n",
    "plt.plot(x_iter,final_cost)\n",
    "plt.title(\"cost vs epoch\")\n",
    "plt.xlabel(\"epoch #\")\n",
    "plt.ylabel(\"cost\")\n",
    "plt.show()"
   ]
  },
  {
   "cell_type": "code",
   "execution_count": 26,
   "metadata": {},
   "outputs": [
    {
     "name": "stdout",
     "output_type": "stream",
     "text": [
      "INFO:tensorflow:Restoring parameters from ../../data/resnet/resnet50.ckpt\n"
     ]
    },
    {
     "data": {
      "image/png": "[encoded data removed]",
      "text/plain": [
       "<Figure size 432x288 with 1 Axes>"
      ]
     },
     "metadata": {},
     "output_type": "display_data"
    },
    {
     "name": "stdout",
     "output_type": "stream",
     "text": [
      "model encoding: [[  5.854834   -8.212554   -3.1507533  -1.6795822 -11.536126   -1.0138131\n",
      "    7.7193317   3.0066159 -10.73497    14.086089 ]]\n",
      "actual encoding: [0. 0. 0. 0. 0. 0. 0. 0. 0. 1.]\n"
     ]
    }
   ],
   "source": [
    "aimg = X_test[10]\n",
    "aimg.shape = (1,64,64,1)\n",
    "tf.reset_default_graph()\n",
    "X = tf.placeholder(tf.float32,shape=(None,64,64,1))\n",
    "Z = forward_pass(X)\n",
    "saver = tf.train.Saver()\n",
    "with tf.Session() as sess:\n",
    "    saver = tf.train.import_meta_graph(\"../../data/resnet/resnet50.ckpt.meta\")\n",
    "    saver.restore(sess, \"../../data/resnet/resnet50.ckpt\")\n",
    "    aZ = sess.run(Z,feed_dict={X:aimg})\n",
    "    \n",
    "aimg.shape = (64,64,)\n",
    "plt.imshow(aimg)\n",
    "plt.show()\n",
    "print(\"model encoding:\",aZ)\n",
    "print(\"actual encoding:\",y_test[10])"
   ]
  },
  {
   "cell_type": "code",
   "execution_count": null,
   "metadata": {},
   "outputs": [],
   "source": []
  }
 ],
 "metadata": {
  "kernelspec": {
   "display_name": "Python 3",
   "language": "python",
   "name": "python3"
  },
  "language_info": {
   "codemirror_mode": {
    "name": "ipython",
    "version": 3
   },
   "file_extension": ".py",
   "mimetype": "text/x-python",
   "name": "python",
   "nbconvert_exporter": "python",
   "pygments_lexer": "ipython3",
   "version": "3.6.5"
  }
 },
 "nbformat": 4,
 "nbformat_minor": 2
}
