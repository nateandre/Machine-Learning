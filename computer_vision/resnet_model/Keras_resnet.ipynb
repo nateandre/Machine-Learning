{
 "cells": [
  {
   "cell_type": "markdown",
   "metadata": {},
   "source": [
    "### Simple Residual model in Keras\n",
    "\n",
    "This notebook is simply for testing a resnet-50 inspired model built in Keras on a numerical signs dataset."
   ]
  },
  {
   "cell_type": "code",
   "execution_count": 1,
   "metadata": {},
   "outputs": [
    {
     "name": "stderr",
     "output_type": "stream",
     "text": [
      "Using TensorFlow backend.\n"
     ]
    }
   ],
   "source": [
    "import keras\n",
    "import numpy as np\n",
    "import matplotlib.pyplot as plt\n",
    "from keras import layers\n",
    "from keras.layers import Input, Dense, Activation, ZeroPadding2D, BatchNormalization, Flatten, Conv2D,ZeroPadding1D, Conv1D, Add\n",
    "from keras.layers import MaxPooling2D, Dropout, AveragePooling2D\n",
    "from keras.models import Model\n",
    "from sklearn.model_selection import train_test_split\n",
    "from sklearn.utils import shuffle\n",
    "\n",
    "import warnings\n",
    "warnings.filterwarnings('ignore')"
   ]
  },
  {
   "cell_type": "code",
   "execution_count": 2,
   "metadata": {},
   "outputs": [
    {
     "name": "stdout",
     "output_type": "stream",
     "text": [
      "(2062, 64, 64, 1)\n",
      "(2062, 10)\n"
     ]
    }
   ],
   "source": [
    "# Using a signs dataset, with images of numerical signs from 0-9\n",
    "X = np.load(\"../data/sign-digits/X.npy\")\n",
    "y = np.load(\"../data/sign-digits/y.npy\")\n",
    "X.shape = (2062, 64, 64, 1)\n",
    "X = shuffle(X,random_state=0)\n",
    "y = shuffle(y,random_state=0)\n",
    "print(X.shape)\n",
    "print(y.shape)"
   ]
  },
  {
   "cell_type": "code",
   "execution_count": 3,
   "metadata": {},
   "outputs": [
    {
     "name": "stdout",
     "output_type": "stream",
     "text": [
      "(1855, 64, 64, 1)\n",
      "(207, 64, 64, 1)\n"
     ]
    }
   ],
   "source": [
    "X_train,X_test,y_train,y_test = train_test_split(X,y,test_size=0.1)\n",
    "print(X_train.shape)\n",
    "print(X_test.shape)"
   ]
  },
  {
   "cell_type": "code",
   "execution_count": 4,
   "metadata": {},
   "outputs": [],
   "source": [
    "# Block corresponding with no change in size\n",
    "def identity(X, f, filters):\n",
    "    \"\"\"\n",
    "    filters: filters for each of the conv2D\n",
    "    f: size of filter to use in mid block\n",
    "    \"\"\"\n",
    "    F1,F2,F3 = filters\n",
    "    \n",
    "    X_earlier = X\n",
    "    # Block 1\n",
    "    X = Conv2D(F1, kernel_size=(1,1), strides=(1,1),padding=\"valid\",kernel_initializer=keras.initializers.glorot_normal())(X)\n",
    "    X = BatchNormalization(axis=3)(X)\n",
    "    X = Activation(\"relu\")(X)\n",
    "    # Block 2\n",
    "    X = Conv2D(F2, kernel_size=(f,f), strides=(1,1),padding=\"same\",kernel_initializer=keras.initializers.glorot_normal())(X)\n",
    "    X = BatchNormalization(axis=3)(X)\n",
    "    X = Activation(\"relu\")(X)\n",
    "    # Block 3\n",
    "    X = Conv2D(F3, kernel_size=(1,1), strides=(1,1),padding=\"valid\",kernel_initializer=keras.initializers.glorot_normal())(X)\n",
    "    X = BatchNormalization(axis=3)(X)\n",
    "    X = Add()([X,X_earlier]) # Add earlier activation\n",
    "    X = Activation(\"relu\")(X)\n",
    "    return X"
   ]
  },
  {
   "cell_type": "code",
   "execution_count": 5,
   "metadata": {},
   "outputs": [],
   "source": [
    "# Block corresponding with a change in size\n",
    "def conv_resid(X, f, filters,s):\n",
    "    \"\"\"\n",
    "    filters: filters for each of the conv2D\n",
    "    s: stride size to resize the output\n",
    "    \"\"\"\n",
    "    F1,F2,F3 = filters\n",
    "    X_earlier = X\n",
    "    # Block 1\n",
    "    X = Conv2D(F1, kernel_size=(1,1), strides=(s,s),padding=\"valid\",kernel_initializer=keras.initializers.glorot_normal())(X)\n",
    "    X = BatchNormalization(axis=3)(X)\n",
    "    X = Activation(\"relu\")(X)\n",
    "    # Block 2\n",
    "    X = Conv2D(F2, kernel_size=(f,f), strides=(1,1),padding=\"same\",kernel_initializer=keras.initializers.glorot_normal())(X)\n",
    "    X = BatchNormalization(axis=3)(X)\n",
    "    X = Activation(\"relu\")(X)\n",
    "    # Block 3\n",
    "    X = Conv2D(F3, kernel_size=(1,1), strides=(1,1),padding=\"valid\",kernel_initializer=keras.initializers.glorot_normal())(X)\n",
    "    X = BatchNormalization(axis=3)(X)\n",
    "    # Resize earlier activation (X_earlier)\n",
    "    X_earlier = Conv2D(F3, kernel_size=(1,1), strides=(s,s),padding=\"valid\",kernel_initializer=keras.initializers.glorot_normal())(X_earlier)\n",
    "    X_earlier = BatchNormalization(axis=3)(X_earlier)\n",
    "    # Add earlier activation\n",
    "    X = Add()([X,X_earlier])\n",
    "    X = Activation(\"relu\")(X)\n",
    "    return X"
   ]
  },
  {
   "cell_type": "code",
   "execution_count": 6,
   "metadata": {},
   "outputs": [],
   "source": [
    "# The Input shape for this model will be 64x64x1\n",
    "def model(input_shape):\n",
    "    X_input = Input(input_shape)\n",
    "    X = ZeroPadding2D(padding=(3,3))(X_input)\n",
    "    X = Conv2D(64,kernel_size=(7,7),padding=\"valid\",kernel_initializer=keras.initializers.glorot_uniform())(X)\n",
    "    X = BatchNormalization(axis=3)(X)\n",
    "    X = Activation((\"relu\"))(X)\n",
    "    X = MaxPooling2D((3,3),strides=(2,2))(X)\n",
    "    \n",
    "    # indentity block 1\n",
    "    X = conv_resid(X, 3, [64,64,256], 1)\n",
    "    X = identity(X, 3, [64,64,256])\n",
    "    X = identity(X, 3, [64,64,256])\n",
    "    \n",
    "    # Identity block 2\n",
    "    X = conv_resid(X, 3, [128,128,512], 2)\n",
    "    X = identity(X, 3, [128,128,512])\n",
    "    X = identity(X, 3, [128,128,512])\n",
    "    X = identity(X, 3, [128,128,512])\n",
    "    \n",
    "    # Identity block 3\n",
    "    X = conv_resid(X, 3, [256, 256, 1024], 2)\n",
    "    X = identity(X, 3, [256, 256, 1024])\n",
    "    X = identity(X, 3, [256, 256, 1024])\n",
    "    X = identity(X, 3, [256, 256, 1024])\n",
    "    X = identity(X, 3, [256, 256, 1024])\n",
    "    X = identity(X, 3, [256, 256, 1024])\n",
    "    \n",
    "    # Identity block 4\n",
    "    X = conv_resid(X, 3, [512, 512, 2048], 2)\n",
    "    X = identity(X, 3, [512, 512, 2048])\n",
    "    X = identity(X, 3, [512, 512, 2048])\n",
    "    \n",
    "    X = AveragePooling2D((2,2), name=\"avg_pool\")(X)\n",
    "    # Flatten final layer\n",
    "    X = Flatten()(X)\n",
    "    X = Dense(10, activation=\"softmax\",name=\"dense02\",kernel_initializer = keras.initializers.glorot_normal())(X)\n",
    "    \n",
    "    model = Model(inputs=X_input, outputs=X, name=\"resnet\")\n",
    "    return model"
   ]
  },
  {
   "cell_type": "code",
   "execution_count": 7,
   "metadata": {},
   "outputs": [],
   "source": [
    "resid_classi = model(X_train[0].shape)"
   ]
  },
  {
   "cell_type": "code",
   "execution_count": 8,
   "metadata": {},
   "outputs": [],
   "source": [
    "resid_classi.compile(optimizer=\"adam\", loss=\"categorical_crossentropy\", metrics=['accuracy'])"
   ]
  },
  {
   "cell_type": "code",
   "execution_count": 9,
   "metadata": {
    "scrolled": true
   },
   "outputs": [
    {
     "name": "stdout",
     "output_type": "stream",
     "text": [
      "Train on 1855 samples, validate on 207 samples\n",
      "Epoch 1/10\n",
      "1855/1855 [==============================] - 756s 408ms/step - loss: 2.0275 - acc: 0.4965 - val_loss: 1.0932 - val_acc: 0.7874\n",
      "Epoch 2/10\n",
      "1855/1855 [==============================] - 697s 376ms/step - loss: 0.3569 - acc: 0.8852 - val_loss: 0.5941 - val_acc: 0.8261\n",
      "Epoch 3/10\n",
      "1855/1855 [==============================] - 701s 378ms/step - loss: 0.1776 - acc: 0.9488 - val_loss: 0.4580 - val_acc: 0.8792\n",
      "Epoch 4/10\n",
      "1855/1855 [==============================] - 690s 372ms/step - loss: 0.0929 - acc: 0.9725 - val_loss: 0.4911 - val_acc: 0.8647\n",
      "Epoch 5/10\n",
      "1855/1855 [==============================] - 688s 371ms/step - loss: 0.1306 - acc: 0.9601 - val_loss: 0.9518 - val_acc: 0.8019\n",
      "Epoch 6/10\n",
      "1855/1855 [==============================] - 691s 372ms/step - loss: 0.1014 - acc: 0.9698 - val_loss: 0.5530 - val_acc: 0.8261\n",
      "Epoch 7/10\n",
      "1855/1855 [==============================] - 688s 371ms/step - loss: 0.0902 - acc: 0.9725 - val_loss: 0.0832 - val_acc: 0.9710\n",
      "Epoch 8/10\n",
      "1855/1855 [==============================] - 689s 371ms/step - loss: 0.0667 - acc: 0.9779 - val_loss: 0.1891 - val_acc: 0.9517\n",
      "Epoch 9/10\n",
      "1855/1855 [==============================] - 787s 424ms/step - loss: 0.1690 - acc: 0.9477 - val_loss: 1.6629 - val_acc: 0.7150\n",
      "Epoch 10/10\n",
      "1855/1855 [==============================] - 684s 369ms/step - loss: 0.1144 - acc: 0.9644 - val_loss: 0.2849 - val_acc: 0.9517\n"
     ]
    },
    {
     "data": {
      "text/plain": [
       "<keras.callbacks.History at 0x12a73ac50>"
      ]
     },
     "execution_count": 9,
     "metadata": {},
     "output_type": "execute_result"
    }
   ],
   "source": [
    "resid_classi.fit(X_train, y_train,epochs=10,batch_size=10, validation_data=[X_test,y_test])"
   ]
  },
  {
   "cell_type": "code",
   "execution_count": null,
   "metadata": {},
   "outputs": [],
   "source": []
  }
 ],
 "metadata": {
  "kernelspec": {
   "display_name": "Python 3",
   "language": "python",
   "name": "python3"
  },
  "language_info": {
   "codemirror_mode": {
    "name": "ipython",
    "version": 3
   },
   "file_extension": ".py",
   "mimetype": "text/x-python",
   "name": "python",
   "nbconvert_exporter": "python",
   "pygments_lexer": "ipython3",
   "version": "3.6.5"
  }
 },
 "nbformat": 4,
 "nbformat_minor": 2
}
