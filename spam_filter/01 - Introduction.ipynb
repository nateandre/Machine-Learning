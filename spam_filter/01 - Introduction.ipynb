{
 "cells": [
  {
   "cell_type": "markdown",
   "metadata": {},
   "source": [
    "> <h1> INTRODUCTION </h1>"
   ]
  },
  {
   "cell_type": "markdown",
   "metadata": {},
   "source": [
    "`Abstract:`\n",
    "\n",
    "The overall purpose of my project analysis is to build a spam classifier that will be able to predict whether an email is spam or not. The problem at hand is how to determine whether an email is spam based solely on its contents. To tackle this problem, I build a dataset consisting of all of the relevant attributes from every email. I began with all of the relevant attributes which weren't the subject-line or the main message. Then, I used a natural language processor to analyze the subject-line and main message to further gather insights. With all of this critical information included in my dataset, I then built a model to predict whether an email is spam or not."
   ]
  },
  {
   "cell_type": "markdown",
   "metadata": {},
   "source": [
    "`Dataset:` \n",
    "\n",
    "The data set I am using consists of around 4,500 emails in .eml format, meaning they contain all of the attributes of any particular email. This means that they contain more than just the subject-line, main message, and from attributes. Generally, this data is very messy and needs a lot of cleaning. "
   ]
  },
  {
   "cell_type": "markdown",
   "metadata": {},
   "source": [
    "`Notebooks:`\n",
    "\n",
    "02 - Import and Tidy: In this notebook, I pull and clean all of the data from the emails to build a comprehensive dataset.\n",
    "03 - EDA: In this notebook, I use visuals to determine whether the variables in my dataset seem associated with whether an email is spam or ham.\n",
    "04 - Modeling: In this notebook, I model my dataset and determine which model is the best at predicting whether an email is spam or ham."
   ]
  },
  {
   "cell_type": "markdown",
   "metadata": {},
   "source": [
    "`Citations:`\n",
    "\n",
    "1. My dataset: http://csmining.org/index.php/spam-email-datasets-.html \n",
    "2. Description of email attributes for reference: https://people.dsv.su.se/~jpalme/ietf/ietf-mail-attributes.html\n",
    "3. The paper my spam scores were based off of: http://www.iosrjournals.org/iosr-jce/papers/Vol16-issue5/Version-4/S01654116119.pdf\n",
    "4. Stop words: https://www.ranks.nl/stopwords"
   ]
  },
  {
   "cell_type": "code",
   "execution_count": 1,
   "metadata": {},
   "outputs": [
    {
     "name": "stdout",
     "output_type": "stream",
     "text": [
      "[b'Return-Path: ler@lerami.lerctr.org\\n', b'Delivery-Date: Fri Sep 13 23:14:55 2002\\n', b'Return-Path: <bengreen@mindupmerchants.com>\\n', b'Received: from mindupmerchants.com (pDepriver@24-205-211-91.rno-cres.charterpipeline.net [24.205.211.91])\\n', b'\\tby lerami.lerctr.org (8.12.2/8.12.2/20020902/$Revision: 1.30 $) with ESMTP id g8E4EZE9029281\\n', b'\\tfor <ler@lerctr.org>; Fri, 13 Sep 2002 23:14:48 -0500 (CDT)\\n', b'Message-Id: <200209140414.g8E4EZE9029281@lerami.lerctr.org>\\n', b'Received: from 192.168.0.0 by mindupmerchants.com\\n', b'\\twith SMTP (MDaemon.PRO.v6.0.7.R)\\n', b'\\tfor <ler@lerctr.org>; Fri, 13 Sep 2002 21:13:21 -0700\\n', b'From: \"Ben Green\" <bengreen@mindupmerchants.com>\\n', b'To: ler@lerctr.org\\n', b'Subject: One of a kind Money maker! Try it for free!\\n', b'Date: Fri, 13 Sep 2002 21:13:19 -0700\\n', b'X-M5MailerProjectID: 4fb0caa2-c329-4c20-b331-229e681acee3\\n', b'Reply-To: bengreen@mindupmerchants.com\\n', b'MIME-Version: 1.0\\n', b'Content-Type: multipart/mixed;\\n', b'\\tboundary=\"----000000000000000000000\"\\n', b'X-Return-Path: bengreen@mindupmerchants.com\\n', b'X-MDaemon-Deliver-To: ler@lerctr.org\\n', b'X-Virus-Scanned: by amavisd-milter (http://amavis.org/)\\n', b'X-Status: \\n', b'X-Keywords: \\n', b'\\n', b'------000000000000000000000\\n', b'Content-Type: text/html;\\n', b'\\tcharset=\"iso-8859-1\"\\n', b'Content-Transfer-Encoding: 7bit\\n', b'\\n', b'<body lang=EN-US>\\n', b'\\n', b'<div class=Section1>\\n', b'\\n', b'\\n', b\"<p class=MsoBodyText style='text-align:justify'><b>CONSANTLY</b> being\\n\", b'bombarded by so-called \\x93FREE\\x94 money-making systems that teases you with limited\\n', b'information, and when it\\x92s all said and done, blind-sides you by demanding your\\n', b'money/credit card information upfront in some slick way,<b> after-the-fact</b>!\\n', b'Yes, I too was as skeptical about such offers and the Internet in general with\\n', b'all its hype, as you probably are. Fortunate for me, my main business\\n', b'slowed-down (<i>I have been self-employed all my life</i>), so I looked for\\n', b'something to fit my lifestyle and some other way to assist me in paying my\\n', b'bills, without working myself to death or loosing more money; then, this\\n', b'proposal to try something new without any upfront investment (<i>great! because\\n', b'I had none</i>) interested me to click on the link provided. And I don\\x92t regret\\n', b'at all that I did! I am very happy, and happy enough to recommend it to you as\\n', b'a system that is true to its word. I mean absolutely no upfront money. You join\\n', b'only if (<i>when</i>) you make money. You also get to track the results of your\\n', b'time and efforts instantly and updated daily! I especially liked this idea of\\n', b'personal control with real-time, staying informed statistics.</p>\\n', b'\\n', b\"<p class=MsoBodyText style='text-align:justify'><b>This system is quite simply\\n\", b'the most logical, opened, and fair of any others that I\\x92ve seen before. Why?\\n', b'Because from the start, you get all the specific facts you need to seriously\\n', b'consider if this is right for you.\\xa0 No teasing. No grand testimonies! No\\n', b'kidding! Just the facts! Unlike in other programs that give you \\x93no idea\\x94 of\\n', b'their overall plan before first forking over your money/credit card; or worst\\n', b'yet, joining and finding-out too late, after wasting valuable time trying to\\n', b'figure them out, this system is straightforward and informative, providing you\\n', b'with the two things you really must know: \\x93<u>What\\x92s it all about</u>?\\x94 and \\x93<u>How\\n', b'does it work</u>?\\x94. These are the ultimate deal makers or deal breakers that\\n', b'need to be immediately disclosed, well before discovering that maybe you don\\x92t\\n', b'want to do that; by then you are \\x93hooked\\x94 and now locked into a frustrating\\n', b'battle to try to get your money back! </b></p>\\n', b'\\n', b\"<p class=MsoBodyText style='text-align:justify'>I call this my \\x93Platinum\\n\", b'Choice\\x94 because it stands alone as a true, superior deal that is totally\\n', b'different from previously misleading, \\x93hook-first\\x94 programs that promise lofty\\n', b'mega-money jackpots, but really just want your money upfront to line their own\\n', b'pockets! You\\x92ve seen the headlines: \\x93<u>Join free and Make $10,000 every week\\n', b'for life</u>\\x94 yeah, right!</p>\\n', b'\\n', b\"<p class=MsoBodyText style='text-align:justify'>I did not make millions yet,\\n\", b'but the whole thing was launched just a few weeks ago and I am more than happy\\n', b'with my earnings, so far. I must tell you, I wouldn\\x92t be able to do anything\\n', b'without corporate help \\x96 which was unusually thorough, timely, and motivating. </p>\\n', b'\\n', b\"<p class=MsoBodyText style='text-align:justify'>You have to see this in action\\n\", b'for yourself and make up your own mind; just go to my site and fill out the\\n', b'form as soon as you can. You will get your own site in a few minutes. Then you\\n', b'are ready to try whether you can make some decent money with this system and\\n', b'the Internet\\x92s explosive potential - fully loaded with hi-tech software, free\\n', b'corporate help, on-time member\\x92s support and even protective safeguards! </p>\\n', b'\\n', b\"<p class=MsoBodyText style='text-align:justify'>Get it now, and you can call me\\n\", b'at any time with questions. It really could help you like it is helping me to\\n', b'finally be able to pay my bills, and keep my free time free.\\xa0 Good luck!</p>\\n', b'\\n', b\"<p class=MsoBodyText style='text-align:justify'><a\\n\", b'href=\"http://www.mindupmerchants.com/default.asp?ID=5581\">http://www.mindupmerchants.com/default.asp?ID=5581</a></p>\\n', b'\\n', b\"<p class=MsoBodyText style='text-align:justify'>Ben Green, (775) 322-3323 </p>\\n\", b'\\n', b'<p class=MsoBodyText>P.S.Free POP3 email is ofered for members now!</p>\\n', b'</div>\\n', b'\\n', b'</body>\\n', b'\\n', b'------000000000000000000000--\\n']\n"
     ]
    }
   ],
   "source": [
    "# Example email contents:\n",
    "\n",
    "with open('/data/thenateandre/CSDMC2010_SPAM/CSDMC2010_SPAM/TRAINING/TRAIN_00000.eml', 'rb') as fp:\n",
    "    read_lines = fp.readlines()\n",
    "    print(read_lines)"
   ]
  },
  {
   "cell_type": "code",
   "execution_count": null,
   "metadata": {},
   "outputs": [],
   "source": []
  }
 ],
 "metadata": {
  "kernelspec": {
   "display_name": "Python 3",
   "language": "python",
   "name": "python3"
  },
  "language_info": {
   "codemirror_mode": {
    "name": "ipython",
    "version": 3
   },
   "file_extension": ".py",
   "mimetype": "text/x-python",
   "name": "python",
   "nbconvert_exporter": "python",
   "pygments_lexer": "ipython3",
   "version": "3.6.3"
  }
 },
 "nbformat": 4,
 "nbformat_minor": 2
}
