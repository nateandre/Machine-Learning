{
 "cells": [
  {
   "cell_type": "markdown",
   "metadata": {},
   "source": [
    "> <h1> MODELING </h1>"
   ]
  },
  {
   "cell_type": "markdown",
   "metadata": {},
   "source": [
    "This notebook is focused on making sure that my dataset is encoded properly so that it can be modeled with sklearn. Then I modeled my dataset and computed the associated accuracy scores."
   ]
  },
  {
   "cell_type": "code",
   "execution_count": 1,
   "metadata": {},
   "outputs": [],
   "source": [
    "import pandas as pd\n",
    "import numpy as np\n",
    "import seaborn as sns; sns.set()\n",
    "import matplotlib.pyplot as plt"
   ]
  },
  {
   "cell_type": "code",
   "execution_count": 2,
   "metadata": {},
   "outputs": [
    {
     "name": "stderr",
     "output_type": "stream",
     "text": [
      "/opt/conda/lib/python3.6/site-packages/sklearn/cross_validation.py:41: DeprecationWarning: This module was deprecated in version 0.18 in favor of the model_selection module into which all the refactored classes and functions are moved. Also note that the interface of the new CV iterators are different from that of this module. This module will be removed in 0.20.\n",
      "  \"This module will be removed in 0.20.\", DeprecationWarning)\n"
     ]
    }
   ],
   "source": [
    "from sklearn.cross_validation import train_test_split\n",
    "from sklearn.metrics import accuracy_score\n",
    "from sklearn.cross_validation import cross_val_score \n",
    "from sklearn.cross_validation import LeaveOneOut\n",
    "from sklearn.metrics import confusion_matrix"
   ]
  },
  {
   "cell_type": "code",
   "execution_count": 3,
   "metadata": {},
   "outputs": [],
   "source": [
    "email_data_frame = pd.read_csv(\"/data/thenateandre/email_data_frame.csv\")"
   ]
  },
  {
   "cell_type": "code",
   "execution_count": 4,
   "metadata": {},
   "outputs": [],
   "source": [
    "# Removing unnecessary columns from the dataframe.\n",
    "\n",
    "email_data_frame = email_data_frame.drop(email_data_frame.columns.values[0], axis=1)\n",
    "email_data_frame = email_data_frame.drop(['email'], axis=1)"
   ]
  },
  {
   "cell_type": "code",
   "execution_count": 5,
   "metadata": {},
   "outputs": [
    {
     "data": {
      "text/html": [
       "<div>\n",
       "<style scoped>\n",
       "    .dataframe tbody tr th:only-of-type {\n",
       "        vertical-align: middle;\n",
       "    }\n",
       "\n",
       "    .dataframe tbody tr th {\n",
       "        vertical-align: top;\n",
       "    }\n",
       "\n",
       "    .dataframe thead th {\n",
       "        text-align: right;\n",
       "    }\n",
       "</style>\n",
       "<table border=\"1\" class=\"dataframe\">\n",
       "  <thead>\n",
       "    <tr style=\"text-align: right;\">\n",
       "      <th></th>\n",
       "      <th>MIME</th>\n",
       "      <th>Subscribe</th>\n",
       "      <th>Unsubscribe</th>\n",
       "      <th>Mailer</th>\n",
       "      <th>Priority</th>\n",
       "      <th>content</th>\n",
       "      <th>day</th>\n",
       "      <th>from</th>\n",
       "      <th>hour</th>\n",
       "      <th>html_use</th>\n",
       "      <th>label</th>\n",
       "      <th>main_message_extra_score</th>\n",
       "      <th>main_message_nwas_score</th>\n",
       "      <th>re</th>\n",
       "      <th>receive_count</th>\n",
       "      <th>subject_line_extra_score</th>\n",
       "      <th>subject_line_nwas_score</th>\n",
       "    </tr>\n",
       "  </thead>\n",
       "  <tbody>\n",
       "    <tr>\n",
       "      <th>0</th>\n",
       "      <td>1</td>\n",
       "      <td>0</td>\n",
       "      <td>0</td>\n",
       "      <td>0</td>\n",
       "      <td>3</td>\n",
       "      <td>multipart/mixed</td>\n",
       "      <td>5</td>\n",
       "      <td>com</td>\n",
       "      <td>1</td>\n",
       "      <td>0</td>\n",
       "      <td>0</td>\n",
       "      <td>0.670096</td>\n",
       "      <td>0.591313</td>\n",
       "      <td>0</td>\n",
       "      <td>2</td>\n",
       "      <td>0.670096</td>\n",
       "      <td>0.591313</td>\n",
       "    </tr>\n",
       "    <tr>\n",
       "      <th>1</th>\n",
       "      <td>1</td>\n",
       "      <td>0</td>\n",
       "      <td>0</td>\n",
       "      <td>1</td>\n",
       "      <td>1</td>\n",
       "      <td>text/plain</td>\n",
       "      <td>1</td>\n",
       "      <td>com</td>\n",
       "      <td>0</td>\n",
       "      <td>0</td>\n",
       "      <td>0</td>\n",
       "      <td>0.789154</td>\n",
       "      <td>0.674667</td>\n",
       "      <td>0</td>\n",
       "      <td>8</td>\n",
       "      <td>0.687633</td>\n",
       "      <td>0.567793</td>\n",
       "    </tr>\n",
       "    <tr>\n",
       "      <th>2</th>\n",
       "      <td>1</td>\n",
       "      <td>1</td>\n",
       "      <td>1</td>\n",
       "      <td>0</td>\n",
       "      <td>3</td>\n",
       "      <td>multipart/signed</td>\n",
       "      <td>6</td>\n",
       "      <td>org</td>\n",
       "      <td>3</td>\n",
       "      <td>0</td>\n",
       "      <td>1</td>\n",
       "      <td>0.463395</td>\n",
       "      <td>0.377856</td>\n",
       "      <td>1</td>\n",
       "      <td>11</td>\n",
       "      <td>0.572255</td>\n",
       "      <td>0.465104</td>\n",
       "    </tr>\n",
       "    <tr>\n",
       "      <th>3</th>\n",
       "      <td>1</td>\n",
       "      <td>0</td>\n",
       "      <td>0</td>\n",
       "      <td>1</td>\n",
       "      <td>3</td>\n",
       "      <td>text/plain</td>\n",
       "      <td>2</td>\n",
       "      <td>com</td>\n",
       "      <td>0</td>\n",
       "      <td>0</td>\n",
       "      <td>0</td>\n",
       "      <td>0.842464</td>\n",
       "      <td>0.821000</td>\n",
       "      <td>0</td>\n",
       "      <td>7</td>\n",
       "      <td>0.817109</td>\n",
       "      <td>0.811058</td>\n",
       "    </tr>\n",
       "    <tr>\n",
       "      <th>4</th>\n",
       "      <td>0</td>\n",
       "      <td>0</td>\n",
       "      <td>0</td>\n",
       "      <td>0</td>\n",
       "      <td>3</td>\n",
       "      <td>none</td>\n",
       "      <td>2</td>\n",
       "      <td>com</td>\n",
       "      <td>5</td>\n",
       "      <td>0</td>\n",
       "      <td>0</td>\n",
       "      <td>0.753900</td>\n",
       "      <td>0.619219</td>\n",
       "      <td>0</td>\n",
       "      <td>4</td>\n",
       "      <td>0.786136</td>\n",
       "      <td>0.786136</td>\n",
       "    </tr>\n",
       "  </tbody>\n",
       "</table>\n",
       "</div>"
      ],
      "text/plain": [
       "   MIME  Subscribe  Unsubscribe  Mailer  Priority           content  day from  \\\n",
       "0     1          0            0       0         3   multipart/mixed    5  com   \n",
       "1     1          0            0       1         1        text/plain    1  com   \n",
       "2     1          1            1       0         3  multipart/signed    6  org   \n",
       "3     1          0            0       1         3        text/plain    2  com   \n",
       "4     0          0            0       0         3              none    2  com   \n",
       "\n",
       "   hour  html_use  label  main_message_extra_score  main_message_nwas_score  \\\n",
       "0     1         0      0                  0.670096                 0.591313   \n",
       "1     0         0      0                  0.789154                 0.674667   \n",
       "2     3         0      1                  0.463395                 0.377856   \n",
       "3     0         0      0                  0.842464                 0.821000   \n",
       "4     5         0      0                  0.753900                 0.619219   \n",
       "\n",
       "   re  receive_count  subject_line_extra_score  subject_line_nwas_score  \n",
       "0   0              2                  0.670096                 0.591313  \n",
       "1   0              8                  0.687633                 0.567793  \n",
       "2   1             11                  0.572255                 0.465104  \n",
       "3   0              7                  0.817109                 0.811058  \n",
       "4   0              4                  0.786136                 0.786136  "
      ]
     },
     "execution_count": 5,
     "metadata": {},
     "output_type": "execute_result"
    }
   ],
   "source": [
    "email_data_frame.head()"
   ]
  },
  {
   "cell_type": "code",
   "execution_count": 6,
   "metadata": {},
   "outputs": [],
   "source": [
    "# Saving the label data as a separate pandas series and then dropping that column.\n",
    "\n",
    "email_y = email_data_frame['label']\n",
    "email_data_frame = email_data_frame.drop(['label'], axis=1)"
   ]
  },
  {
   "cell_type": "code",
   "execution_count": 7,
   "metadata": {},
   "outputs": [
    {
     "data": {
      "text/html": [
       "<div>\n",
       "<style scoped>\n",
       "    .dataframe tbody tr th:only-of-type {\n",
       "        vertical-align: middle;\n",
       "    }\n",
       "\n",
       "    .dataframe tbody tr th {\n",
       "        vertical-align: top;\n",
       "    }\n",
       "\n",
       "    .dataframe thead th {\n",
       "        text-align: right;\n",
       "    }\n",
       "</style>\n",
       "<table border=\"1\" class=\"dataframe\">\n",
       "  <thead>\n",
       "    <tr style=\"text-align: right;\">\n",
       "      <th></th>\n",
       "      <th>MIME</th>\n",
       "      <th>Subscribe</th>\n",
       "      <th>Unsubscribe</th>\n",
       "      <th>Mailer</th>\n",
       "      <th>Priority</th>\n",
       "      <th>day</th>\n",
       "      <th>hour</th>\n",
       "      <th>html_use</th>\n",
       "      <th>main_message_extra_score</th>\n",
       "      <th>main_message_nwas_score</th>\n",
       "      <th>...</th>\n",
       "      <th>from_th</th>\n",
       "      <th>from_tm</th>\n",
       "      <th>from_to</th>\n",
       "      <th>from_tr</th>\n",
       "      <th>from_tw</th>\n",
       "      <th>from_uk</th>\n",
       "      <th>from_us</th>\n",
       "      <th>from_uy</th>\n",
       "      <th>from_yu</th>\n",
       "      <th>from_za</th>\n",
       "    </tr>\n",
       "  </thead>\n",
       "  <tbody>\n",
       "    <tr>\n",
       "      <th>0</th>\n",
       "      <td>1</td>\n",
       "      <td>0</td>\n",
       "      <td>0</td>\n",
       "      <td>0</td>\n",
       "      <td>3</td>\n",
       "      <td>5</td>\n",
       "      <td>1</td>\n",
       "      <td>0</td>\n",
       "      <td>0.670096</td>\n",
       "      <td>0.591313</td>\n",
       "      <td>...</td>\n",
       "      <td>0</td>\n",
       "      <td>0</td>\n",
       "      <td>0</td>\n",
       "      <td>0</td>\n",
       "      <td>0</td>\n",
       "      <td>0</td>\n",
       "      <td>0</td>\n",
       "      <td>0</td>\n",
       "      <td>0</td>\n",
       "      <td>0</td>\n",
       "    </tr>\n",
       "    <tr>\n",
       "      <th>1</th>\n",
       "      <td>1</td>\n",
       "      <td>0</td>\n",
       "      <td>0</td>\n",
       "      <td>1</td>\n",
       "      <td>1</td>\n",
       "      <td>1</td>\n",
       "      <td>0</td>\n",
       "      <td>0</td>\n",
       "      <td>0.789154</td>\n",
       "      <td>0.674667</td>\n",
       "      <td>...</td>\n",
       "      <td>0</td>\n",
       "      <td>0</td>\n",
       "      <td>0</td>\n",
       "      <td>0</td>\n",
       "      <td>0</td>\n",
       "      <td>0</td>\n",
       "      <td>0</td>\n",
       "      <td>0</td>\n",
       "      <td>0</td>\n",
       "      <td>0</td>\n",
       "    </tr>\n",
       "    <tr>\n",
       "      <th>2</th>\n",
       "      <td>1</td>\n",
       "      <td>1</td>\n",
       "      <td>1</td>\n",
       "      <td>0</td>\n",
       "      <td>3</td>\n",
       "      <td>6</td>\n",
       "      <td>3</td>\n",
       "      <td>0</td>\n",
       "      <td>0.463395</td>\n",
       "      <td>0.377856</td>\n",
       "      <td>...</td>\n",
       "      <td>0</td>\n",
       "      <td>0</td>\n",
       "      <td>0</td>\n",
       "      <td>0</td>\n",
       "      <td>0</td>\n",
       "      <td>0</td>\n",
       "      <td>0</td>\n",
       "      <td>0</td>\n",
       "      <td>0</td>\n",
       "      <td>0</td>\n",
       "    </tr>\n",
       "    <tr>\n",
       "      <th>3</th>\n",
       "      <td>1</td>\n",
       "      <td>0</td>\n",
       "      <td>0</td>\n",
       "      <td>1</td>\n",
       "      <td>3</td>\n",
       "      <td>2</td>\n",
       "      <td>0</td>\n",
       "      <td>0</td>\n",
       "      <td>0.842464</td>\n",
       "      <td>0.821000</td>\n",
       "      <td>...</td>\n",
       "      <td>0</td>\n",
       "      <td>0</td>\n",
       "      <td>0</td>\n",
       "      <td>0</td>\n",
       "      <td>0</td>\n",
       "      <td>0</td>\n",
       "      <td>0</td>\n",
       "      <td>0</td>\n",
       "      <td>0</td>\n",
       "      <td>0</td>\n",
       "    </tr>\n",
       "    <tr>\n",
       "      <th>4</th>\n",
       "      <td>0</td>\n",
       "      <td>0</td>\n",
       "      <td>0</td>\n",
       "      <td>0</td>\n",
       "      <td>3</td>\n",
       "      <td>2</td>\n",
       "      <td>5</td>\n",
       "      <td>0</td>\n",
       "      <td>0.753900</td>\n",
       "      <td>0.619219</td>\n",
       "      <td>...</td>\n",
       "      <td>0</td>\n",
       "      <td>0</td>\n",
       "      <td>0</td>\n",
       "      <td>0</td>\n",
       "      <td>0</td>\n",
       "      <td>0</td>\n",
       "      <td>0</td>\n",
       "      <td>0</td>\n",
       "      <td>0</td>\n",
       "      <td>0</td>\n",
       "    </tr>\n",
       "  </tbody>\n",
       "</table>\n",
       "<p>5 rows × 91 columns</p>\n",
       "</div>"
      ],
      "text/plain": [
       "   MIME  Subscribe  Unsubscribe  Mailer  Priority  day  hour  html_use  \\\n",
       "0     1          0            0       0         3    5     1         0   \n",
       "1     1          0            0       1         1    1     0         0   \n",
       "2     1          1            1       0         3    6     3         0   \n",
       "3     1          0            0       1         3    2     0         0   \n",
       "4     0          0            0       0         3    2     5         0   \n",
       "\n",
       "   main_message_extra_score  main_message_nwas_score   ...     from_th  \\\n",
       "0                  0.670096                 0.591313   ...           0   \n",
       "1                  0.789154                 0.674667   ...           0   \n",
       "2                  0.463395                 0.377856   ...           0   \n",
       "3                  0.842464                 0.821000   ...           0   \n",
       "4                  0.753900                 0.619219   ...           0   \n",
       "\n",
       "   from_tm  from_to  from_tr  from_tw  from_uk  from_us  from_uy  from_yu  \\\n",
       "0        0        0        0        0        0        0        0        0   \n",
       "1        0        0        0        0        0        0        0        0   \n",
       "2        0        0        0        0        0        0        0        0   \n",
       "3        0        0        0        0        0        0        0        0   \n",
       "4        0        0        0        0        0        0        0        0   \n",
       "\n",
       "   from_za  \n",
       "0        0  \n",
       "1        0  \n",
       "2        0  \n",
       "3        0  \n",
       "4        0  \n",
       "\n",
       "[5 rows x 91 columns]"
      ]
     },
     "execution_count": 7,
     "metadata": {},
     "output_type": "execute_result"
    }
   ],
   "source": [
    "# Using pandas one hot encoding.\n",
    "\n",
    "email_data_frame = pd.get_dummies(email_data_frame, columns=['content', 'from'], drop_first=True)\n",
    "email_data_frame.head()"
   ]
  },
  {
   "cell_type": "code",
   "execution_count": 8,
   "metadata": {},
   "outputs": [
    {
     "data": {
      "text/plain": [
       "Index(['MIME', 'Subscribe', 'Unsubscribe', 'Mailer', 'Priority', 'day', 'hour',\n",
       "       'html_use', 'main_message_extra_score', 'main_message_nwas_score', 're',\n",
       "       'receive_count', 'subject_line_extra_score', 'subject_line_nwas_score',\n",
       "       'content_multipart/mixed', 'content_multipart/related',\n",
       "       'content_multipart/report', 'content_multipart/signed', 'content_none',\n",
       "       'content_text/html', 'content_text/plain', 'from_at', 'from_au',\n",
       "       'from_be', 'from_br', 'from_bz', 'from_ca', 'from_ch', 'from_cn',\n",
       "       'from_co', 'from_com', 'from_cu', 'from_cy', 'from_cz', 'from_de',\n",
       "       'from_dk', 'from_do', 'from_ec', 'from_edu', 'from_es', 'from_eu',\n",
       "       'from_fi', 'from_fm', 'from_fr', 'from_gov', 'from_gr', 'from_gs',\n",
       "       'from_hr', 'from_hu', 'from_ie', 'from_il', 'from_in', 'from_info',\n",
       "       'from_it', 'from_jp', 'from_kr', 'from_lt', 'from_lv', 'from_ma',\n",
       "       'from_mg', 'from_ms', 'from_mx', 'from_my', 'from_name', 'from_net',\n",
       "       'from_nl', 'from_no', 'from_nu', 'from_nz', 'from_org', 'from_pe',\n",
       "       'from_ph', 'from_pk', 'from_pl', 'from_pt', 'from_ro', 'from_rs',\n",
       "       'from_ru', 'from_sa', 'from_se', 'from_sk', 'from_th', 'from_tm',\n",
       "       'from_to', 'from_tr', 'from_tw', 'from_uk', 'from_us', 'from_uy',\n",
       "       'from_yu', 'from_za'],\n",
       "      dtype='object')"
      ]
     },
     "execution_count": 8,
     "metadata": {},
     "output_type": "execute_result"
    }
   ],
   "source": [
    "# All of the columns after one hot encoding.\n",
    "\n",
    "email_data_frame.columns"
   ]
  },
  {
   "cell_type": "code",
   "execution_count": 9,
   "metadata": {},
   "outputs": [],
   "source": [
    "# Saving the y_values as a numpy array.\n",
    "email_y = np.array(email_y)\n",
    "\n",
    "# Saving the x_values as a matrix.\n",
    "email_x = email_data_frame.as_matrix()"
   ]
  },
  {
   "cell_type": "code",
   "execution_count": 10,
   "metadata": {},
   "outputs": [],
   "source": [
    "# Ensuring that no information was lost throughout encoding.\n",
    "\n",
    "assert len(email_x) == len(email_y)"
   ]
  },
  {
   "cell_type": "markdown",
   "metadata": {},
   "source": [
    "> <h3>KNeighbors Classification</h3>"
   ]
  },
  {
   "cell_type": "code",
   "execution_count": 11,
   "metadata": {},
   "outputs": [],
   "source": [
    "from sklearn.neighbors import KNeighborsClassifier"
   ]
  },
  {
   "cell_type": "code",
   "execution_count": 12,
   "metadata": {},
   "outputs": [],
   "source": [
    "KN_model = KNeighborsClassifier(n_neighbors=1)"
   ]
  },
  {
   "cell_type": "code",
   "execution_count": 13,
   "metadata": {},
   "outputs": [],
   "source": [
    "X_train, X_test, y_train, y_test = train_test_split(email_x, email_y, random_state=0, train_size=0.8)"
   ]
  },
  {
   "cell_type": "code",
   "execution_count": 14,
   "metadata": {},
   "outputs": [
    {
     "data": {
      "text/plain": [
       "KNeighborsClassifier(algorithm='auto', leaf_size=30, metric='minkowski',\n",
       "           metric_params=None, n_jobs=1, n_neighbors=1, p=2,\n",
       "           weights='uniform')"
      ]
     },
     "execution_count": 14,
     "metadata": {},
     "output_type": "execute_result"
    }
   ],
   "source": [
    "KN_model.fit(X_train, y_train)"
   ]
  },
  {
   "cell_type": "code",
   "execution_count": 15,
   "metadata": {},
   "outputs": [],
   "source": [
    "# This is the KNeighbors model.\n",
    "KN_model_predict = KN_model.predict(X_test)"
   ]
  },
  {
   "cell_type": "code",
   "execution_count": 16,
   "metadata": {},
   "outputs": [
    {
     "data": {
      "text/plain": [
       "0.9699074074074074"
      ]
     },
     "execution_count": 16,
     "metadata": {},
     "output_type": "execute_result"
    }
   ],
   "source": [
    "accuracy_score(y_test, KN_model_predict)"
   ]
  },
  {
   "cell_type": "code",
   "execution_count": 17,
   "metadata": {},
   "outputs": [
    {
     "data": {
      "text/plain": [
       "0.9703470603470602"
      ]
     },
     "execution_count": 17,
     "metadata": {},
     "output_type": "execute_result"
    }
   ],
   "source": [
    "KN_model_cv_scores = cross_val_score(KN_model, email_x, email_y, cv=30) # ensuring the testing of all of the data\n",
    "KN_model_cv_scores.mean()"
   ]
  },
  {
   "cell_type": "code",
   "execution_count": 18,
   "metadata": {},
   "outputs": [
    {
     "data": {
      "text/plain": [
       "0.9708265802269044"
      ]
     },
     "execution_count": 18,
     "metadata": {},
     "output_type": "execute_result"
    }
   ],
   "source": [
    "KN_model_one_out_scores = cross_val_score(KN_model, email_x, email_y, cv=LeaveOneOut(len(email_x)))\n",
    "KN_model_one_out_scores.mean()"
   ]
  },
  {
   "cell_type": "code",
   "execution_count": 19,
   "metadata": {},
   "outputs": [
    {
     "data": {
      "text/plain": [
       "Text(0.5,1,'Confusion Matrix of Ham vs Spam')"
      ]
     },
     "execution_count": 19,
     "metadata": {},
     "output_type": "execute_result"
    },
    {
     "data": {
      "image/png": "[encoded data removed]",
      "text/plain": [
       "<matplotlib.figure.Figure at 0x7f1eeff5f2b0>"
      ]
     },
     "metadata": {},
     "output_type": "display_data"
    }
   ],
   "source": [
    "mat = confusion_matrix(y_test, KN_model_predict)\n",
    "sns.heatmap(mat.T, square=True, fmt='d', annot=True, cbar=False, xticklabels=['spam', 'ham'], yticklabels=['spam', 'ham'])\n",
    "plt.ylabel('Predicted values')\n",
    "plt.xlabel('Actual Values')\n",
    "plt.title('Confusion Matrix of Ham vs Spam')"
   ]
  },
  {
   "cell_type": "markdown",
   "metadata": {},
   "source": [
    "> <h3>Gaussian Generative Model</h3>"
   ]
  },
  {
   "cell_type": "code",
   "execution_count": 20,
   "metadata": {},
   "outputs": [],
   "source": [
    "from sklearn.naive_bayes import GaussianNB"
   ]
  },
  {
   "cell_type": "code",
   "execution_count": 21,
   "metadata": {},
   "outputs": [],
   "source": [
    "GNB_model = GaussianNB()"
   ]
  },
  {
   "cell_type": "code",
   "execution_count": 22,
   "metadata": {},
   "outputs": [],
   "source": [
    "X_train, X_test, y_train, y_test = train_test_split(email_x, email_y, random_state=0, train_size=0.8)"
   ]
  },
  {
   "cell_type": "code",
   "execution_count": 23,
   "metadata": {},
   "outputs": [
    {
     "data": {
      "text/plain": [
       "GaussianNB(priors=None)"
      ]
     },
     "execution_count": 23,
     "metadata": {},
     "output_type": "execute_result"
    }
   ],
   "source": [
    "GNB_model.fit(X_train, y_train)"
   ]
  },
  {
   "cell_type": "code",
   "execution_count": 24,
   "metadata": {},
   "outputs": [],
   "source": [
    "GNB_model_predict = GNB_model.predict(X_test)"
   ]
  },
  {
   "cell_type": "code",
   "execution_count": 25,
   "metadata": {},
   "outputs": [
    {
     "data": {
      "text/plain": [
       "0.9155092592592593"
      ]
     },
     "execution_count": 25,
     "metadata": {},
     "output_type": "execute_result"
    }
   ],
   "source": [
    "accuracy_score(y_test, GNB_model_predict)"
   ]
  },
  {
   "cell_type": "code",
   "execution_count": 26,
   "metadata": {},
   "outputs": [
    {
     "data": {
      "text/plain": [
       "0.9390993824183478"
      ]
     },
     "execution_count": 26,
     "metadata": {},
     "output_type": "execute_result"
    }
   ],
   "source": [
    "GNB_model_cv_scores = cross_val_score(GNB_model, email_x, email_y, cv=30)\n",
    "GNB_model_cv_scores.mean()"
   ]
  },
  {
   "cell_type": "code",
   "execution_count": 27,
   "metadata": {},
   "outputs": [
    {
     "data": {
      "text/plain": [
       "0.9416531604538088"
      ]
     },
     "execution_count": 27,
     "metadata": {},
     "output_type": "execute_result"
    }
   ],
   "source": [
    "GNB_model_one_out_scores = cross_val_score(GNB_model, email_x, email_y, cv=LeaveOneOut(len(email_x)))\n",
    "GNB_model_one_out_scores.mean()"
   ]
  },
  {
   "cell_type": "code",
   "execution_count": 28,
   "metadata": {},
   "outputs": [
    {
     "data": {
      "text/plain": [
       "Text(0.5,1,'Confusion Matrix of Ham vs Spam')"
      ]
     },
     "execution_count": 28,
     "metadata": {},
     "output_type": "execute_result"
    },
    {
     "data": {
      "image/png": "[encoded data removed]",
      "text/plain": [
       "<matplotlib.figure.Figure at 0x7f1ef0058978>"
      ]
     },
     "metadata": {},
     "output_type": "display_data"
    }
   ],
   "source": [
    "mat = confusion_matrix(y_test, GNB_model_predict)\n",
    "sns.heatmap(mat.T, square=True, fmt='d', annot=True, cbar=False, xticklabels=['spam', 'ham'], yticklabels=['spam', 'ham'])\n",
    "plt.ylabel('Predicted values')\n",
    "plt.xlabel('Actual Values')\n",
    "plt.title('Confusion Matrix of Ham vs Spam')"
   ]
  },
  {
   "cell_type": "markdown",
   "metadata": {},
   "source": [
    "> <h3>Support Vector Machines</h3>"
   ]
  },
  {
   "cell_type": "code",
   "execution_count": 29,
   "metadata": {},
   "outputs": [],
   "source": [
    "from sklearn.svm import SVC"
   ]
  },
  {
   "cell_type": "code",
   "execution_count": 30,
   "metadata": {},
   "outputs": [],
   "source": [
    "SVC_model = SVC(kernel='linear', C=1E10)"
   ]
  },
  {
   "cell_type": "code",
   "execution_count": 31,
   "metadata": {},
   "outputs": [],
   "source": [
    "X_train, X_test, y_train, y_test = train_test_split(email_x, email_y, random_state=0, train_size=0.8)"
   ]
  },
  {
   "cell_type": "code",
   "execution_count": 32,
   "metadata": {},
   "outputs": [
    {
     "data": {
      "text/plain": [
       "SVC(C=10000000000.0, cache_size=200, class_weight=None, coef0=0.0,\n",
       "  decision_function_shape='ovr', degree=3, gamma='auto', kernel='linear',\n",
       "  max_iter=-1, probability=False, random_state=None, shrinking=True,\n",
       "  tol=0.001, verbose=False)"
      ]
     },
     "execution_count": 32,
     "metadata": {},
     "output_type": "execute_result"
    }
   ],
   "source": [
    "SVC_model.fit(X_train, y_train)"
   ]
  },
  {
   "cell_type": "code",
   "execution_count": 33,
   "metadata": {},
   "outputs": [],
   "source": [
    "SVC_model_predict = SVC_model.predict(X_test)"
   ]
  },
  {
   "cell_type": "code",
   "execution_count": 34,
   "metadata": {},
   "outputs": [
    {
     "data": {
      "text/plain": [
       "0.9918981481481481"
      ]
     },
     "execution_count": 34,
     "metadata": {},
     "output_type": "execute_result"
    }
   ],
   "source": [
    "accuracy_score(y_test, SVC_model_predict)"
   ]
  },
  {
   "cell_type": "markdown",
   "metadata": {},
   "source": [
    "> <h3>Random Forests</h3>"
   ]
  },
  {
   "cell_type": "code",
   "execution_count": 35,
   "metadata": {},
   "outputs": [],
   "source": [
    "from sklearn.tree import DecisionTreeClassifier"
   ]
  },
  {
   "cell_type": "code",
   "execution_count": 36,
   "metadata": {},
   "outputs": [],
   "source": [
    "RF_model = DecisionTreeClassifier()"
   ]
  },
  {
   "cell_type": "code",
   "execution_count": 37,
   "metadata": {},
   "outputs": [],
   "source": [
    "X_train, X_test, y_train, y_test = train_test_split(email_x, email_y, random_state=0, train_size=0.8)"
   ]
  },
  {
   "cell_type": "code",
   "execution_count": 38,
   "metadata": {},
   "outputs": [
    {
     "data": {
      "text/plain": [
       "DecisionTreeClassifier(class_weight=None, criterion='gini', max_depth=None,\n",
       "            max_features=None, max_leaf_nodes=None,\n",
       "            min_impurity_decrease=0.0, min_impurity_split=None,\n",
       "            min_samples_leaf=1, min_samples_split=2,\n",
       "            min_weight_fraction_leaf=0.0, presort=False, random_state=None,\n",
       "            splitter='best')"
      ]
     },
     "execution_count": 38,
     "metadata": {},
     "output_type": "execute_result"
    }
   ],
   "source": [
    "RF_model.fit(X_train, y_train)"
   ]
  },
  {
   "cell_type": "code",
   "execution_count": 39,
   "metadata": {},
   "outputs": [],
   "source": [
    "RF_model_predict = RF_model.predict(X_test)"
   ]
  },
  {
   "cell_type": "code",
   "execution_count": 40,
   "metadata": {},
   "outputs": [
    {
     "data": {
      "text/plain": [
       "0.9884259259259259"
      ]
     },
     "execution_count": 40,
     "metadata": {},
     "output_type": "execute_result"
    }
   ],
   "source": [
    "accuracy_score(y_test, RF_model_predict)"
   ]
  },
  {
   "cell_type": "code",
   "execution_count": 41,
   "metadata": {},
   "outputs": [
    {
     "data": {
      "text/plain": [
       "0.9884335954594577"
      ]
     },
     "execution_count": 41,
     "metadata": {},
     "output_type": "execute_result"
    }
   ],
   "source": [
    "RF_model_cv_scores = cross_val_score(RF_model, email_x, email_y, cv=30) # ensuring the testing of all of the data\n",
    "RF_model_cv_scores.mean()"
   ]
  },
  {
   "cell_type": "code",
   "execution_count": 42,
   "metadata": {},
   "outputs": [
    {
     "data": {
      "text/plain": [
       "0.986107895346145"
      ]
     },
     "execution_count": 42,
     "metadata": {},
     "output_type": "execute_result"
    }
   ],
   "source": [
    "RF_model_one_out_scores = cross_val_score(RF_model, email_x, email_y, cv=LeaveOneOut(len(email_x)))\n",
    "RF_model_one_out_scores.mean()"
   ]
  },
  {
   "cell_type": "code",
   "execution_count": 43,
   "metadata": {},
   "outputs": [
    {
     "data": {
      "text/plain": [
       "Text(0.5,1,'Confusion Matrix of Ham vs Spam')"
      ]
     },
     "execution_count": 43,
     "metadata": {},
     "output_type": "execute_result"
    },
    {
     "data": {
      "image/png": "[encoded data removed]",
      "text/plain": [
       "<matplotlib.figure.Figure at 0x7f1f4ea567f0>"
      ]
     },
     "metadata": {},
     "output_type": "display_data"
    }
   ],
   "source": [
    "mat = confusion_matrix(y_test, RF_model_predict)\n",
    "sns.heatmap(mat.T, square=True, fmt='d', annot=True, cbar=False, xticklabels=['spam', 'ham'], yticklabels=['spam', 'ham'])\n",
    "plt.ylabel('Predicted values')\n",
    "plt.xlabel('Actual Values')\n",
    "plt.title('Confusion Matrix of Ham vs Spam')"
   ]
  },
  {
   "cell_type": "markdown",
   "metadata": {},
   "source": [
    "> <h3>MLP Classifier (Neural Network)</h3>"
   ]
  },
  {
   "cell_type": "code",
   "execution_count": 44,
   "metadata": {},
   "outputs": [],
   "source": [
    "from sklearn.neural_network import MLPClassifier"
   ]
  },
  {
   "cell_type": "code",
   "execution_count": 45,
   "metadata": {},
   "outputs": [],
   "source": [
    "clf_model = MLPClassifier(solver='lbfgs', alpha=1e-5, hidden_layer_sizes=(5, 2), random_state=1)"
   ]
  },
  {
   "cell_type": "code",
   "execution_count": 46,
   "metadata": {},
   "outputs": [],
   "source": [
    "X_train, X_test, y_train, y_test = train_test_split(email_x, email_y, random_state=0, train_size=0.8)"
   ]
  },
  {
   "cell_type": "code",
   "execution_count": 47,
   "metadata": {},
   "outputs": [
    {
     "data": {
      "text/plain": [
       "MLPClassifier(activation='relu', alpha=1e-05, batch_size='auto', beta_1=0.9,\n",
       "       beta_2=0.999, early_stopping=False, epsilon=1e-08,\n",
       "       hidden_layer_sizes=(5, 2), learning_rate='constant',\n",
       "       learning_rate_init=0.001, max_iter=200, momentum=0.9,\n",
       "       nesterovs_momentum=True, power_t=0.5, random_state=1, shuffle=True,\n",
       "       solver='lbfgs', tol=0.0001, validation_fraction=0.1, verbose=False,\n",
       "       warm_start=False)"
      ]
     },
     "execution_count": 47,
     "metadata": {},
     "output_type": "execute_result"
    }
   ],
   "source": [
    "clf_model.fit(X_train, y_train)"
   ]
  },
  {
   "cell_type": "code",
   "execution_count": 48,
   "metadata": {},
   "outputs": [],
   "source": [
    "clf_model_predict = clf_model.predict(X_test)"
   ]
  },
  {
   "cell_type": "code",
   "execution_count": 49,
   "metadata": {},
   "outputs": [
    {
     "data": {
      "text/plain": [
       "0.9895833333333334"
      ]
     },
     "execution_count": 49,
     "metadata": {},
     "output_type": "execute_result"
    }
   ],
   "source": [
    "accuracy_score(y_test, clf_model_predict)"
   ]
  },
  {
   "cell_type": "code",
   "execution_count": 50,
   "metadata": {},
   "outputs": [
    {
     "data": {
      "text/plain": [
       "0.9909703132116926"
      ]
     },
     "execution_count": 50,
     "metadata": {},
     "output_type": "execute_result"
    }
   ],
   "source": [
    "clf_model_cv_scores = cross_val_score(clf_model, email_x, email_y, cv=30) # ensuring the testing of all of the data\n",
    "clf_model_cv_scores.mean()"
   ]
  },
  {
   "cell_type": "code",
   "execution_count": 51,
   "metadata": {},
   "outputs": [
    {
     "data": {
      "text/plain": [
       "Text(0.5,1,'Confusion Matrix of Ham vs Spam')"
      ]
     },
     "execution_count": 51,
     "metadata": {},
     "output_type": "execute_result"
    },
    {
     "data": {
      "image/png": "[encoded data removed]",
      "text/plain": [
       "<matplotlib.figure.Figure at 0x7f1f4e9fedd8>"
      ]
     },
     "metadata": {},
     "output_type": "display_data"
    }
   ],
   "source": [
    "mat = confusion_matrix(y_test, clf_model_predict)\n",
    "sns.heatmap(mat.T, square=True, fmt='d', annot=True, cbar=False, xticklabels=['spam', 'ham'], yticklabels=['spam', 'ham'])\n",
    "plt.ylabel('Predicted values')\n",
    "plt.xlabel('Actual Values')\n",
    "plt.title('Confusion Matrix of Ham vs Spam')"
   ]
  },
  {
   "cell_type": "markdown",
   "metadata": {},
   "source": [
    "> <h3> Overall Model Comparison</h3>"
   ]
  },
  {
   "cell_type": "code",
   "execution_count": 52,
   "metadata": {},
   "outputs": [
    {
     "name": "stdout",
     "output_type": "stream",
     "text": [
      "KNeighbors Classification: 0.9703470603470602\n",
      "Gaussian Generative Model: 0.9390993824183478\n",
      "Random Forests: 0.9884335954594577\n",
      "MLP Classifier (Neural Network): 0.9909703132116926\n"
     ]
    }
   ],
   "source": [
    "# Model comparisons not including SVM because it is the least effecient model \n",
    "# Accuracy scores (using cross val score with cv=30):\n",
    "\n",
    "print(\"KNeighbors Classification: \" + str(KN_model_cv_scores.mean()))\n",
    "print(\"Gaussian Generative Model: \" + str(GNB_model_cv_scores.mean()))\n",
    "print(\"Random Forests: \" + str(RF_model_cv_scores.mean()))\n",
    "print(\"MLP Classifier (Neural Network): \" + str(clf_model_cv_scores.mean()))"
   ]
  },
  {
   "cell_type": "markdown",
   "metadata": {},
   "source": [
    "The best models for my dataset are the MLP Classifier (Neural Network) and Random Forests."
   ]
  },
  {
   "cell_type": "code",
   "execution_count": null,
   "metadata": {},
   "outputs": [],
   "source": []
  }
 ],
 "metadata": {
  "kernelspec": {
   "display_name": "Python 3",
   "language": "python",
   "name": "python3"
  },
  "language_info": {
   "codemirror_mode": {
    "name": "ipython",
    "version": 3
   },
   "file_extension": ".py",
   "mimetype": "text/x-python",
   "name": "python",
   "nbconvert_exporter": "python",
   "pygments_lexer": "ipython3",
   "version": "3.6.5"
  }
 },
 "nbformat": 4,
 "nbformat_minor": 2
}
