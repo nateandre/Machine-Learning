{
 "cells": [
  {
   "cell_type": "markdown",
   "metadata": {},
   "source": [
    "## Label propagation implementation\n",
    "\n",
    "Based on the paper: <i>Learning from Labeled and Unlabeled data with Label Propagation</i>."
   ]
  },
  {
   "cell_type": "code",
   "execution_count": 1,
   "metadata": {},
   "outputs": [],
   "source": [
    "import numpy as np\n",
    "import matplotlib.pyplot as plt\n",
    "from sklearn.utils import shuffle\n",
    "import networkx as nx\n",
    "\n",
    "import warnings\n",
    "warnings.filterwarnings(\"ignore\")"
   ]
  },
  {
   "cell_type": "markdown",
   "metadata": {},
   "source": [
    "### Cleaning data"
   ]
  },
  {
   "cell_type": "code",
   "execution_count": 2,
   "metadata": {},
   "outputs": [],
   "source": [
    "import tensorflow_hub as hub\n",
    "nnlm_embed = hub.load(\"../other/nnlm-en-dim128_2\")"
   ]
  },
  {
   "cell_type": "code",
   "execution_count": 3,
   "metadata": {},
   "outputs": [],
   "source": [
    "all_text = []\n",
    "all_labels = []\n",
    "with open(\"../data/sentiment/amazon_electronics_reviews/reviews.txt\") as infile:\n",
    "    lines = infile.readlines()\n",
    "    for line in lines:\n",
    "        all_labels.append(int(line[0]))\n",
    "        all_text.append(line[2:])\n",
    "        \n",
    "all_text = all_text[:5000]\n",
    "all_labels = all_labels[:5000]\n",
    "\n",
    "data_x = nnlm_embed(all_text)\n",
    "data_y = np.array(all_labels)\n",
    "data = np.hstack([data_x,np.expand_dims(data_y,-1)])"
   ]
  },
  {
   "cell_type": "code",
   "execution_count": 4,
   "metadata": {},
   "outputs": [
    {
     "name": "stdout",
     "output_type": "stream",
     "text": [
      "(100, 128) (1000, 128) (1000, 128)\n"
     ]
    }
   ],
   "source": [
    "np.random.seed(11)\n",
    "data = shuffle(data)\n",
    "labeled_data = data[:100]\n",
    "x_lab,y_lab = labeled_data[:,:-1],labeled_data[:,-1].astype(\"int64\")\n",
    "unlabeled_data = data[100:1100]\n",
    "x_unl = unlabeled_data[:,:-1]\n",
    "test_data = data[1100:2100]\n",
    "x_test,y_test = test_data[:,:-1],test_data[:,-1]\n",
    "print(x_lab.shape,x_unl.shape,x_test.shape)"
   ]
  },
  {
   "cell_type": "markdown",
   "metadata": {},
   "source": [
    "### Modeling\n",
    "\n",
    "Note that it can be shown that the algorithm is equivalent to:\n",
    "\n",
    "$$ Y_U \\leftarrow T_{uu}Y_U + T_{ul}Y_L $$ \n",
    "\n",
    "Distance between two nodes i and j:\n",
    "\n",
    "$$ w_{ij} = exp \\bigg(-\\frac{d_{ij}^2}{\\sigma^2} \\bigg) $$"
   ]
  },
  {
   "cell_type": "code",
   "execution_count": 5,
   "metadata": {},
   "outputs": [],
   "source": [
    "def distance_measure(x1,x2,sigma=1.5):\n",
    "    \"\"\" returns distance between datapoints\n",
    "    \"\"\"\n",
    "    return np.exp(-(np.sum((x1-x2)**2))/(sigma**2))"
   ]
  },
  {
   "cell_type": "code",
   "execution_count": 6,
   "metadata": {},
   "outputs": [],
   "source": [
    "all_x_data = np.vstack([x_lab,x_unl])\n",
    "T = np.zeros((len(all_x_data),len(all_x_data))).astype(\"float32\")\n",
    "\n",
    "for i in range(len(all_x_data)):\n",
    "    for j in range(i+1,len(all_x_data)):\n",
    "        dist = distance_measure(all_x_data[i],all_x_data[j])\n",
    "        T[i,j]=dist\n",
    "        T[j,i]=dist\n",
    "        \n",
    "T = T/np.expand_dims(np.sum(T,axis=-1),axis=-1)"
   ]
  },
  {
   "cell_type": "code",
   "execution_count": 7,
   "metadata": {},
   "outputs": [],
   "source": [
    "Y = np.zeros((len(all_x_data),2))\n",
    "for i in range(len(y_lab)):\n",
    "    Y[i,y_lab[i]]=1"
   ]
  },
  {
   "cell_type": "code",
   "execution_count": 8,
   "metadata": {},
   "outputs": [],
   "source": [
    "for i in range(1000): # propagation algorithm\n",
    "    Y = np.matmul(T,Y) # propagate Y <- T*Y\n",
    "    Y = Y/np.maximum(np.expand_dims(np.sum(Y,axis=-1),axis=-1),0.0000001) # row normalize Y\n",
    "    for i in range(len(y_lab)): # clamp labeled data\n",
    "        Y[i]=[0,0]\n",
    "        Y[i,y_lab[i]]=1"
   ]
  },
  {
   "cell_type": "code",
   "execution_count": 9,
   "metadata": {},
   "outputs": [
    {
     "data": {
      "text/plain": [
       "621"
      ]
     },
     "execution_count": 9,
     "metadata": {},
     "output_type": "execute_result"
    }
   ],
   "source": [
    "y_unl = np.argmax(Y,axis=-1)\n",
    "np.sum(y_unl)"
   ]
  },
  {
   "cell_type": "code",
   "execution_count": null,
   "metadata": {},
   "outputs": [],
   "source": []
  },
  {
   "cell_type": "markdown",
   "metadata": {},
   "source": [
    "### Trivial example\n",
    "\n",
    "All nodes assumed to be equidistant."
   ]
  },
  {
   "cell_type": "code",
   "execution_count": 65,
   "metadata": {},
   "outputs": [
    {
     "data": {
      "image/png": "[encoded data removed]",
      "text/plain": [
       "<Figure size 432x288 with 1 Axes>"
      ]
     },
     "metadata": {},
     "output_type": "display_data"
    }
   ],
   "source": [
    "G = nx.Graph()\n",
    "G.add_nodes_from([1,2,3,4])\n",
    "G.add_edges_from([(1,2),(2,3),(3,4)])\n",
    "options = {'node_color':'cyan','node_size':1000,'width': 2}\n",
    "nx.draw(G,with_labels=True,**options)"
   ]
  },
  {
   "cell_type": "code",
   "execution_count": 67,
   "metadata": {},
   "outputs": [
    {
     "name": "stdout",
     "output_type": "stream",
     "text": [
      "[[1.         0.        ]\n",
      " [0.66666667 0.33333333]\n",
      " [0.33333333 0.66666667]\n",
      " [0.         1.        ]]\n"
     ]
    }
   ],
   "source": [
    "T = np.array([[0,1,0,0],[0.5,0,0.5,0],[0,0.5,0,0.5],[0,0,1,0]])\n",
    "Y = np.array([[1.0,0],[0,0],[0,0],[0,1]])\n",
    "\n",
    "for i in range(50):\n",
    "    Y = np.matmul(T,Y) # propagate Y <- T*Y\n",
    "    Y = Y/np.expand_dims(np.sum(Y,axis=-1),axis=-1) # row normalize Y\n",
    "    Y[0,:],Y[-1,:]=[1.0,0],[0,1.0] # clamp labeled data (set back to original labels)\n",
    "    \n",
    "print(Y)"
   ]
  },
  {
   "cell_type": "code",
   "execution_count": null,
   "metadata": {},
   "outputs": [],
   "source": []
  }
 ],
 "metadata": {
  "kernelspec": {
   "display_name": "Python 3",
   "language": "python",
   "name": "python3"
  },
  "language_info": {
   "codemirror_mode": {
    "name": "ipython",
    "version": 3
   },
   "file_extension": ".py",
   "mimetype": "text/x-python",
   "name": "python",
   "nbconvert_exporter": "python",
   "pygments_lexer": "ipython3",
   "version": "3.6.5"
  }
 },
 "nbformat": 4,
 "nbformat_minor": 2
}
