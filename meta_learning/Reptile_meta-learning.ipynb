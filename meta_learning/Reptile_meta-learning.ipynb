{
 "cells": [
  {
   "cell_type": "markdown",
   "metadata": {},
   "source": [
    "## Reptile Meta-Learning\n",
    "\n",
    "Based on the following paper: <i>On First-Order Meta-Learning Algorithms</i>."
   ]
  },
  {
   "cell_type": "code",
   "execution_count": 1,
   "metadata": {},
   "outputs": [],
   "source": [
    "import numpy as np\n",
    "import tensorflow as tf\n",
    "import tensorflow_hub as hub\n",
    "import matplotlib.pyplot as plt\n",
    "from tensorflow.keras import backend as K\n",
    "from tensorflow.keras.layers import Input,Dense,Dropout,Activation\n",
    "from tensorflow.keras.models import Model,Sequential\n",
    "from tensorflow.keras.optimizers import Adam\n",
    "from tensorflow.keras.losses import BinaryCrossentropy,MeanSquaredError\n",
    "from sklearn.model_selection import train_test_split\n",
    "from sklearn.metrics import balanced_accuracy_score,mean_squared_error\n",
    "from sklearn.utils import shuffle"
   ]
  },
  {
   "cell_type": "markdown",
   "metadata": {},
   "source": [
    "### Gather data"
   ]
  },
  {
   "cell_type": "code",
   "execution_count": 2,
   "metadata": {},
   "outputs": [],
   "source": [
    "universal_embed = hub.load(\"../other/universal-sentence-encoder_4\")"
   ]
  },
  {
   "cell_type": "code",
   "execution_count": 3,
   "metadata": {},
   "outputs": [],
   "source": [
    "def get_data(file_name,data_dir=\"../data/sentiment/\"):\n",
    "    \"\"\" Gather and process data\n",
    "    \"\"\"\n",
    "    all_text = []\n",
    "    all_labels = []\n",
    "    with open(data_dir+file_name) as infile:\n",
    "        lines = infile.readlines()\n",
    "        for line in lines:\n",
    "            all_labels.append(int(line[0]))\n",
    "            all_text.append(line[2:])\n",
    "    all_text = all_text[:2000]\n",
    "    all_labels = all_labels[:2000]\n",
    "    data_x = universal_embed(all_text).numpy()\n",
    "    data_y = np.array(all_labels)\n",
    "    return data_x,data_y"
   ]
  },
  {
   "cell_type": "code",
   "execution_count": 4,
   "metadata": {},
   "outputs": [],
   "source": [
    "data_files = [\"amazon_electronics_reviews/reviews.txt\",\"amazon_kitchen_reviews/reviews.txt\",\"amazon_toys_reviews/reviews.txt\",\"imdb_reviews/reviews.txt\",\"yelp_reviews/reviews.txt\"]\n",
    "all_data = [get_data(fn) for fn in data_files]\n",
    "\n",
    "t_x,t_y = all_data[0] # task we are optimizing for\n",
    "train_x,train_y = t_x[:100],t_y[:100]\n",
    "test_x,test_y = t_x[500:],t_y[500:]\n",
    "\n",
    "all_data = all_data[1:] # all training data\n",
    "all_train_data = [(df[0][:1000],df[1][:1000]) for df in all_data]\n",
    "all_test_data = [(df[0][1000:],df[1][1000:]) for df in all_data]"
   ]
  },
  {
   "cell_type": "markdown",
   "metadata": {},
   "source": [
    "### Modeling"
   ]
  },
  {
   "cell_type": "code",
   "execution_count": 5,
   "metadata": {},
   "outputs": [],
   "source": [
    "def get_model():\n",
    "    \"\"\" Model instantiation\n",
    "    \"\"\"\n",
    "    x = Input(shape=(512))\n",
    "    h = Dense(100,activation=\"relu\")(x)\n",
    "    o = Dense(1,activation=None)(h)\n",
    "    \n",
    "    model = Model(inputs=x,outputs=o)\n",
    "    return model"
   ]
  },
  {
   "cell_type": "code",
   "execution_count": 6,
   "metadata": {
    "scrolled": true
   },
   "outputs": [],
   "source": [
    "n_epochs = 1000\n",
    "batch_size = 50\n",
    "optimizer = Adam(0.001)\n",
    "meta_model = get_model()\n",
    "n_tasks = len(all_test_data)\n",
    "n_inner_epochs=3\n",
    "\n",
    "for epoch_i in range(n_epochs):\n",
    "    all_train_data = [shuffle(df[0],df[1]) for df in all_train_data]\n",
    "    all_test_data = [shuffle(df[0],df[1]) for df in all_test_data]\n",
    "    \n",
    "    losses = []\n",
    "    for i in range(0,len(all_train_data[0]),batch_size*n_inner_epochs):\n",
    "        task_train_x = [df[0][i:i+batch_size*n_inner_epochs] for df in all_train_data]\n",
    "        task_train_y = [df[1][i:i+batch_size*n_inner_epochs] for df in all_train_data]\n",
    "            \n",
    "        task_losses = []\n",
    "        for t_i in range(n_tasks):\n",
    "            model_copy = get_model()\n",
    "            model_copy.set_weights(meta_model.get_weights())\n",
    "            \n",
    "            for j in range(0,batch_size*n_inner_epochs,batch_size): # K>1 steps for task T\n",
    "                with tf.GradientTape() as tape:\n",
    "                    task_train_pred = model_copy(task_train_x[t_i][j:j+batch_size])\n",
    "                    task_train_loss = BinaryCrossentropy()(task_train_y[t_i][j:j+batch_size],task_train_pred)\n",
    "                gradients = tape.gradient(task_train_loss, model_copy.trainable_variables)\n",
    "                optimizer.apply_gradients(zip(gradients,model_copy.trainable_variables))\n",
    "            task_losses.append(float(task_train_loss))\n",
    "            \n",
    "            new_weights = [] # update the meta model parameters\n",
    "            for i in range(1,len(meta_model.layers)): # first layer is input\n",
    "                new_weights.append(meta_model.layers[i].kernel-0.001*(meta_model.layers[i].kernel-model_copy.layers[i].kernel))\n",
    "                new_weights.append(meta_model.layers[i].bias-0.001*(meta_model.layers[i].bias-model_copy.layers[i].bias))\n",
    "            meta_model.set_weights(new_weights)\n",
    "            \n",
    "        losses.append(sum(task_losses)/len(task_losses))\n",
    "    \n",
    "    if sum(losses)/len(losses)<0.7:\n",
    "        break"
   ]
  },
  {
   "cell_type": "markdown",
   "metadata": {},
   "source": [
    "### Validation"
   ]
  },
  {
   "cell_type": "code",
   "execution_count": 7,
   "metadata": {
    "scrolled": true
   },
   "outputs": [],
   "source": [
    "# meta-learner\n",
    "model = get_model()\n",
    "model.set_weights(meta_model.get_weights())\n",
    "model.compile(loss=BinaryCrossentropy(),optimizer=Adam(lr=0.001))\n",
    "\n",
    "epoch_acc_meta = []\n",
    "for _ in range(50):\n",
    "    model.train_on_batch(train_x,train_y)\n",
    "    test_pred = model(test_x).numpy()\n",
    "    test_pred[test_pred<0.5]=0\n",
    "    test_pred[test_pred>=0.5]=1\n",
    "    epoch_acc_meta.append(balanced_accuracy_score(test_y,test_pred))"
   ]
  },
  {
   "cell_type": "code",
   "execution_count": 8,
   "metadata": {},
   "outputs": [],
   "source": [
    "# Normal learner\n",
    "model = get_model()\n",
    "model.compile(loss=BinaryCrossentropy(),optimizer=Adam(lr=0.001))\n",
    "\n",
    "epoch_acc = []\n",
    "for _ in range(50):\n",
    "    model.train_on_batch(train_x,train_y)\n",
    "    test_pred = model(test_x).numpy()\n",
    "    test_pred[test_pred<0.5]=0\n",
    "    test_pred[test_pred>=0.5]=1\n",
    "    epoch_acc.append(balanced_accuracy_score(test_y,test_pred))"
   ]
  },
  {
   "cell_type": "code",
   "execution_count": 9,
   "metadata": {},
   "outputs": [
    {
     "data": {
      "image/png": "[encoded data removed]",
      "text/plain": [
       "<Figure size 432x288 with 1 Axes>"
      ]
     },
     "metadata": {},
     "output_type": "display_data"
    }
   ],
   "source": [
    "plt.plot([_ for _ in range(len(epoch_acc))],epoch_acc,label=\"norm\")\n",
    "plt.plot([_ for _ in range(len(epoch_acc_meta))],epoch_acc_meta,label=\"meta\")\n",
    "plt.title(\"Modeling performance by model\")\n",
    "plt.xlabel(\"Epoch\")\n",
    "plt.ylabel(\"Accuracy\")\n",
    "plt.legend()\n",
    "\n",
    "plt.show()"
   ]
  },
  {
   "cell_type": "code",
   "execution_count": null,
   "metadata": {},
   "outputs": [],
   "source": []
  }
 ],
 "metadata": {
  "kernelspec": {
   "display_name": "Python 3",
   "language": "python",
   "name": "python3"
  },
  "language_info": {
   "codemirror_mode": {
    "name": "ipython",
    "version": 3
   },
   "file_extension": ".py",
   "mimetype": "text/x-python",
   "name": "python",
   "nbconvert_exporter": "python",
   "pygments_lexer": "ipython3",
   "version": "3.6.5"
  }
 },
 "nbformat": 4,
 "nbformat_minor": 2
}
