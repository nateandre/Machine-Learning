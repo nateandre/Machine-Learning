{
 "cells": [
  {
   "cell_type": "markdown",
   "metadata": {},
   "source": [
    "## Model-Agnostic Meta-Learning\n",
    "\n",
    "Based on the paper: <i>Model-Agnostic Meta-Learning for Fast Adaptation of Deep Networks</i>. Data from this [notebook](https://github.com/hereismari/tensorflow-maml/blob/master/maml.ipynb): sinusoid dataset of sine waves with different amplitude and phase, representing different \"tasks\". These are shuffled prior to batching, representing the task sampling step."
   ]
  },
  {
   "cell_type": "code",
   "execution_count": 1,
   "metadata": {},
   "outputs": [],
   "source": [
    "import numpy as np\n",
    "import tensorflow as tf\n",
    "import tensorflow_hub as hub\n",
    "import matplotlib.pyplot as plt\n",
    "from tensorflow.keras import backend as K\n",
    "from tensorflow.keras.layers import Input,Dense,Dropout,Activation\n",
    "from tensorflow.keras.models import Model,Sequential\n",
    "from tensorflow.keras.optimizers import Adam\n",
    "from tensorflow.keras.losses import BinaryCrossentropy,MeanSquaredError\n",
    "from sklearn.model_selection import train_test_split\n",
    "from sklearn.metrics import balanced_accuracy_score,mean_squared_error\n",
    "from sklearn.utils import shuffle"
   ]
  },
  {
   "cell_type": "markdown",
   "metadata": {},
   "source": [
    "### Gather data"
   ]
  },
  {
   "cell_type": "code",
   "execution_count": 2,
   "metadata": {},
   "outputs": [
    {
     "name": "stdout",
     "output_type": "stream",
     "text": [
      "(10000, 1) (10000, 1)\n",
      "(100, 1) (100, 1)\n"
     ]
    }
   ],
   "source": [
    "sin_x = np.load(\"../data/other/sin_x.npy\")\n",
    "sin_y = np.load(\"../data/other/sin_y.npy\")\n",
    "\n",
    "sin_x_test = np.load(\"../data/other/sin_x_test.npy\")\n",
    "sin_y_test = np.load(\"../data/other/sin_y_test.npy\")\n",
    "\n",
    "train_x,test_x = sin_x[:10000],sin_x[10000:]\n",
    "train_y,test_y = sin_y[:10000],sin_y[10000:]\n",
    "\n",
    "train_x,train_y = shuffle(train_x,train_y)\n",
    "test_x,test_y = shuffle(test_x,test_y)\n",
    "print(train_x.shape,train_y.shape)\n",
    "print(sin_x_test.shape,sin_y_test.shape)"
   ]
  },
  {
   "cell_type": "code",
   "execution_count": 3,
   "metadata": {},
   "outputs": [
    {
     "data": {
      "image/png": "[encoded data removed]",
      "text/plain": [
       "<Figure size 432x288 with 1 Axes>"
      ]
     },
     "metadata": {},
     "output_type": "display_data"
    }
   ],
   "source": [
    "plt.scatter(train_x[:1000],train_y[:1000])\n",
    "plt.show()"
   ]
  },
  {
   "cell_type": "markdown",
   "metadata": {},
   "source": [
    "### Modeling"
   ]
  },
  {
   "cell_type": "code",
   "execution_count": 4,
   "metadata": {},
   "outputs": [],
   "source": [
    "def get_model():\n",
    "    \"\"\" Model instantiation\n",
    "    \"\"\"\n",
    "    x = Input(shape=(1))\n",
    "    h = Dense(50,activation=\"relu\")(x)\n",
    "    h = Dense(50,activation=\"relu\")(h)\n",
    "    o = Dense(1,activation=None)(h)\n",
    "    \n",
    "    model = Model(inputs=x,outputs=o)\n",
    "    return model"
   ]
  },
  {
   "cell_type": "code",
   "execution_count": 5,
   "metadata": {
    "scrolled": true
   },
   "outputs": [
    {
     "name": "stdout",
     "output_type": "stream",
     "text": [
      "Epoch 1: 6.141565322875977\n",
      "Epoch 10: 5.5814290046691895\n",
      "Epoch 20: 5.013033390045166\n",
      "Epoch 30: 4.59114408493042\n",
      "Epoch 40: 4.133002281188965\n",
      "Epoch 50: 3.6128015518188477\n",
      "Epoch 60: 3.2390520572662354\n",
      "Epoch 70: 2.9024481773376465\n",
      "Epoch 80: 2.571303129196167\n",
      "Epoch 90: 2.3460581302642822\n",
      "Epoch 100: 2.1538503170013428\n"
     ]
    }
   ],
   "source": [
    "n_epochs = 100\n",
    "batch_size = 25\n",
    "meta_optimizer = Adam(0.01)\n",
    "meta_model = get_model()\n",
    "\n",
    "for epoch_i in range(n_epochs):\n",
    "    \n",
    "    losses = []\n",
    "    for i in range(0,len(train_x[0]),batch_size):\n",
    "        task_train_x,task_train_y = train_x[i:i+batch_size],train_y[i:i+batch_size]\n",
    "        task_test_x,task_test_y = train_x[i:i+batch_size],train_y[i:i+batch_size]\n",
    "    \n",
    "        with tf.GradientTape() as meta_tape: # optimization step\n",
    "                \n",
    "            with tf.GradientTape() as tape:\n",
    "                task_train_pred = meta_model(task_train_x) # this cannot be done with model_copy\n",
    "                task_train_loss = MeanSquaredError()(task_train_y,task_train_pred)\n",
    "            gradients = tape.gradient(task_train_loss, meta_model.trainable_variables)\n",
    "\n",
    "            model_copy = get_model()\n",
    "            model_copy.set_weights(meta_model.get_weights())\n",
    "            k=0 # gradient descent this way does not break gradient flow from model_copy -> meta_model\n",
    "            for i in range(1,len(model_copy.layers)): # first layer is input\n",
    "                model_copy.layers[i].kernel = meta_model.layers[i].kernel-0.01*gradients[k]\n",
    "                model_copy.layers[i].bias = meta_model.layers[i].bias-0.01*gradients[k+1]\n",
    "                k+=2\n",
    "\n",
    "            task_test_pred = model_copy(task_test_x)\n",
    "            task_test_loss = MeanSquaredError()(task_test_y,task_test_pred)\n",
    "        \n",
    "        gradients = meta_tape.gradient(task_test_loss,meta_model.trainable_variables)\n",
    "        meta_optimizer.apply_gradients(zip(gradients,meta_model.trainable_variables))\n",
    "        losses.append(float(task_test_loss))\n",
    "    \n",
    "    if (epoch_i+1)%10==0 or epoch_i==0:\n",
    "        print(\"Epoch {}: {}\".format(epoch_i+1,sum(losses)/len(losses)))"
   ]
  },
  {
   "cell_type": "code",
   "execution_count": null,
   "metadata": {},
   "outputs": [],
   "source": []
  }
 ],
 "metadata": {
  "kernelspec": {
   "display_name": "Python 3",
   "language": "python",
   "name": "python3"
  },
  "language_info": {
   "codemirror_mode": {
    "name": "ipython",
    "version": 3
   },
   "file_extension": ".py",
   "mimetype": "text/x-python",
   "name": "python",
   "nbconvert_exporter": "python",
   "pygments_lexer": "ipython3",
   "version": "3.6.5"
  }
 },
 "nbformat": 4,
 "nbformat_minor": 2
}
